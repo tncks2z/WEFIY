{
  "cells": [
    {
      "cell_type": "code",
      "execution_count": 53,
      "metadata": {
        "id": "06HDiFQ0cKkc"
      },
      "outputs": [],
      "source": [
        "import pandas as pd\n",
        "import numpy as np\n",
        "\n",
        "df = pd.read_csv(\"D:\\\\문서파일들\\\\2022-1\\\\국비지원 교육 211213-220519\\\\final project\\\\Data\\\\reviews_imdb\\\\오징어게임_imdb.csv\")"
      ]
    },
    {
      "cell_type": "code",
      "execution_count": 54,
      "metadata": {
        "colab": {
          "base_uri": "https://localhost:8080/",
          "height": 237
        },
        "id": "X_PKit713vdq",
        "outputId": "e5c6d2c8-d7af-4584-de20-be7b7f9d0968"
      },
      "outputs": [
        {
          "data": {
            "text/plain": [
              "5172"
            ]
          },
          "execution_count": 54,
          "metadata": {},
          "output_type": "execute_result"
        }
      ],
      "source": [
        "df.head()\n",
        "len(df)"
      ]
    },
    {
      "cell_type": "code",
      "execution_count": 55,
      "metadata": {
        "id": "7BPRLR5l3tJ6"
      },
      "outputs": [],
      "source": [
        "reviews = df.review.to_list()\n",
        "sentences = \",\".join(reviews)"
      ]
    },
    {
      "cell_type": "code",
      "execution_count": null,
      "metadata": {},
      "outputs": [],
      "source": [
        "sentences"
      ]
    },
    {
      "cell_type": "markdown",
      "metadata": {
        "id": "eAvj4QvycKkg"
      },
      "source": [
        "# 필요 함수들"
      ]
    },
    {
      "cell_type": "code",
      "execution_count": null,
      "metadata": {
        "id": "XqAn9_AudeEC"
      },
      "outputs": [],
      "source": [
        "pip install contextualized_topic_models"
      ]
    },
    {
      "cell_type": "code",
      "execution_count": 4,
      "metadata": {
        "id": "Uzcta1LzcKki"
      },
      "outputs": [],
      "source": [
        "import re\n",
        "import pandas as pd\n",
        "import numpy as np\n",
        "import string\n",
        "from tensorflow.keras.preprocessing.text import text_to_word_sequence\n",
        "import nltk\n",
        "from nltk.tokenize import word_tokenize\n",
        "from nltk.stem import WordNetLemmatizer\n",
        "from collections import Counter\n",
        "# from contextualized_topic_models.models.ctm import CombinedTM\n",
        "# from contextualized_topic_models.utils.data_preparation import TopicModelDataPreparation, bert_embeddings_from_list\n",
        "from contextualized_topic_models.utils.preprocessing import WhiteSpacePreprocessing\n",
        "from sklearn.feature_extraction.text import CountVectorizer, TfidfVectorizer\n",
        "# from konlpy.tag import Okt\n",
        "from tqdm import tqdm"
      ]
    },
    {
      "cell_type": "code",
      "execution_count": 5,
      "metadata": {
        "id": "FFx6w8wQcKkj"
      },
      "outputs": [],
      "source": [
        "def get_wordnet_pos(pos_tag):\n",
        "    if pos_tag.startswith('V'):\n",
        "        return 'v'\n",
        "    elif pos_tag.startswith('N'):\n",
        "        return 'n'\n",
        "    elif pos_tag.startswith('J'):\n",
        "        return 'a'\n",
        "    elif pos_tag.startswith('R'):\n",
        "        return 'r'\n",
        "    else:\n",
        "        return None"
      ]
    },
    {
      "cell_type": "code",
      "execution_count": null,
      "metadata": {
        "id": "Za3iZ_T5cKkj"
      },
      "outputs": [],
      "source": [
        "from nltk.corpus import stopwords\n",
        "import nltk\n",
        "nltk.download('averaged_perceptron_tagger')\n",
        "nltk.download('stopwords')\n",
        "nltk.download('wordnet')\n",
        "nltk.download('omw-1.4')\n",
        "stop_words = set(stopwords.words('english'))\n",
        "stop_words.update(('\\r', '\\n', '\\r\\n', '\\n\\r'))"
      ]
    },
    {
      "cell_type": "code",
      "execution_count": 93,
      "metadata": {
        "id": "Q6PzBOOfcKkk"
      },
      "outputs": [
        {
          "name": "stderr",
          "output_type": "stream",
          "text": [
            "<>:12: DeprecationWarning: invalid escape sequence \\?\n",
            "<>:12: DeprecationWarning: invalid escape sequence \\?\n",
            "<>:12: DeprecationWarning: invalid escape sequence \\?\n",
            "<ipython-input-93-fa2cb045d783>:12: DeprecationWarning: invalid escape sequence \\?\n",
            "  text = re.sub('[-=+,#/\\?:^$.@*\\\"※~&%ㆍ!』\\\\‘|\\(\\)\\[\\]\\<\\>`…》]','', text)\n"
          ]
        }
      ],
      "source": [
        "class CustomTokenizer:\n",
        "    def __init__(self, tagger):\n",
        "        self.tagger = tagger\n",
        "    def __call__(self, a):\n",
        "        a = ''.join(a)\n",
        "        word_tokens = self.tagger(a)\n",
        "        \n",
        "        words = []\n",
        "\n",
        "        for i in word_tokens:\n",
        "            text = re.sub('[^a-zA-Z0-9\\']','',i).strip()\n",
        "            text = re.sub('[-=+,#/\\?:^$.@*\\\"※~&%ㆍ!』\\\\‘|\\(\\)\\[\\]\\<\\>`…》]','', text)\n",
        "            if(text != ''):\n",
        "                words.append(text)\n",
        "        \n",
        "        tag_words = nltk.pos_tag(words)\n",
        "        pos_words = [word for word in tag_words if word[1][0] in {'N'}] #'V','N','J','R'\n",
        "\n",
        "        temp_list = []\n",
        "        for token, pos_tag in pos_words:\n",
        "            tag = get_wordnet_pos(pos_tag)\n",
        "            if tag != None:\n",
        "                temp_list.append((token, get_wordnet_pos(pos_tag)))\n",
        "        lemma = WordNetLemmatizer()\n",
        "        token_final = [lemma.lemmatize(token, pos=tag) for token, tag in temp_list]\n",
        "        long_words = [i for i in token_final if len(i) > 2]\n",
        "        results = [w for w in long_words if w not in stop_words]\n",
        "        return results"
      ]
    },
    {
      "cell_type": "markdown",
      "metadata": {
        "id": "VUITwIWzcKkl"
      },
      "source": [
        "# 작업"
      ]
    },
    {
      "cell_type": "code",
      "execution_count": null,
      "metadata": {
        "colab": {
          "base_uri": "https://localhost:8080/"
        },
        "id": "WUf7tKGGcKkl",
        "outputId": "7916a4e6-62cf-4545-8f50-57a2d8fa8732"
      },
      "outputs": [],
      "source": [
        "ngram_range = (1,2)\n",
        "stop_words = set(stopwords.words('english'))\n",
        "stop_words.update(('\\r', '\\n', '\\r\\n', '\\n\\r'))\n",
        "\n",
        "custom_tokenizer = CustomTokenizer(text_to_word_sequence)\n",
        "custom_tokenizer(sentences)\n",
        "\n",
        "tfidf = TfidfVectorizer(tokenizer=custom_tokenizer,ngram_range = ngram_range, stop_words=stop_words,\n",
        "                        max_df=10, min_df=2,max_features=10000).fit(reviews)\n",
        "candidates = tfidf.get_feature_names()"
      ]
    },
    {
      "cell_type": "markdown",
      "metadata": {},
      "source": [
        "# LDA"
      ]
    },
    {
      "cell_type": "code",
      "execution_count": 94,
      "metadata": {},
      "outputs": [
        {
          "data": {
            "text/plain": [
              "['character',\n",
              " 'room',\n",
              " 'man',\n",
              " 'hair',\n",
              " 'board',\n",
              " 'plane',\n",
              " 'beginning',\n",
              " 'expectation']"
            ]
          },
          "execution_count": 94,
          "metadata": {},
          "output_type": "execute_result"
        }
      ],
      "source": [
        "lda_tokens = []\n",
        "custom_tokenizer = CustomTokenizer(text_to_word_sequence)\n",
        "for sentences in reviews:\n",
        "    lda_tokens.append(custom_tokenizer(sentences))\n",
        "lda_tokens[0]"
      ]
    },
    {
      "cell_type": "code",
      "execution_count": 95,
      "metadata": {},
      "outputs": [
        {
          "name": "stderr",
          "output_type": "stream",
          "text": [
            "2022-04-20 16:37:59,970 : INFO : adding document #0 to Dictionary(0 unique tokens: [])\n",
            "2022-04-20 16:38:00,044 : INFO : built Dictionary(5523 unique tokens: ['beginning', 'board', 'character', 'expectation', 'hair']...) from 5172 documents (total 56848 corpus positions)\n",
            "2022-04-20 16:38:00,045 : INFO : Dictionary lifecycle event {'msg': \"built Dictionary(5523 unique tokens: ['beginning', 'board', 'character', 'expectation', 'hair']...) from 5172 documents (total 56848 corpus positions)\", 'datetime': '2022-04-20T16:38:00.045778', 'gensim': '4.1.2', 'python': '3.7.11 (default, Jul 27 2021, 09:42:29) [MSC v.1916 64 bit (AMD64)]', 'platform': 'Windows-10-10.0.19041-SP0', 'event': 'created'}\n",
            "2022-04-20 16:38:00,054 : INFO : discarding 2871 tokens: [('fluent', 1), ('blessing', 1), ('cheery', 1), ('flak', 1), ('apocalyptic', 1), ('blog', 1), ('denial', 1), ('detector', 1), ('enforcement', 1), ('grinding', 1)]...\n",
            "2022-04-20 16:38:00,058 : INFO : keeping 2652 tokens which were in no less than 2 and no more than 2586 (=50.0%) documents\n",
            "2022-04-20 16:38:00,062 : INFO : resulting dictionary: Dictionary(2652 unique tokens: ['beginning', 'board', 'character', 'expectation', 'hair']...)\n"
          ]
        }
      ],
      "source": [
        "from gensim.models.ldamodel import LdaModel\n",
        "from gensim.models.callbacks import CoherenceMetric\n",
        "from gensim import corpora\n",
        "from gensim.models.callbacks import PerplexityMetric\n",
        "\n",
        "import logging\n",
        "logging.basicConfig(format='%(asctime)s : %(levelname)s : %(message)s', level=logging.INFO)\n",
        "\n",
        "# 사전 생성\n",
        "dictionary = corpora.Dictionary(lda_tokens)\n",
        "\n",
        "# 빈도수, 비중 필터\n",
        "dictionary.filter_extremes(no_below=2, no_above=0.5)\n",
        "\n",
        "# count vectorize\n",
        "corpus = [dictionary.doc2bow(text) for text in lda_tokens]"
      ]
    },
    {
      "cell_type": "code",
      "execution_count": null,
      "metadata": {},
      "outputs": [],
      "source": [
        "num_topics = 5\n",
        "chunksize = 2000\n",
        "passes = 20\n",
        "iterations = 400\n",
        "eval_every = 1\n",
        "\n",
        "temp = dictionary[0]\n",
        "id2word = dictionary.id2token\n",
        "\n",
        "model = LdaModel(\n",
        "    corpus=corpus,\n",
        "    id2word=id2word,\n",
        "    chunksize=chunksize,\n",
        "    alpha='auto',\n",
        "    eta='auto',\n",
        "    iterations=iterations,\n",
        "    num_topics=num_topics,\n",
        "    passes=passes,\n",
        "    eval_every=eval_every,\n",
        ")"
      ]
    },
    {
      "cell_type": "code",
      "execution_count": 99,
      "metadata": {},
      "outputs": [
        {
          "name": "stderr",
          "output_type": "stream",
          "text": [
            "2022-04-20 16:42:13,481 : INFO : CorpusAccumulator accumulated stats from 1000 documents\n",
            "2022-04-20 16:42:13,488 : INFO : CorpusAccumulator accumulated stats from 2000 documents\n",
            "2022-04-20 16:42:13,492 : INFO : CorpusAccumulator accumulated stats from 3000 documents\n",
            "2022-04-20 16:42:13,494 : INFO : CorpusAccumulator accumulated stats from 4000 documents\n",
            "2022-04-20 16:42:13,496 : INFO : CorpusAccumulator accumulated stats from 5000 documents\n"
          ]
        },
        {
          "name": "stdout",
          "output_type": "stream",
          "text": [
            "Average topic coherence: -4.4327.\n",
            "[([(0.08924175, 'game'),\n",
            "   (0.02360342, 'people'),\n",
            "   (0.019195765, 'character'),\n",
            "   (0.016937379, 'money'),\n",
            "   (0.013684687, 'life'),\n",
            "   (0.01256094, 'series'),\n",
            "   (0.011858495, 'man'),\n",
            "   (0.011610137, 'player'),\n",
            "   (0.010875908, 'end'),\n",
            "   (0.0098921675, 'episode'),\n",
            "   (0.008943619, 'plot'),\n",
            "   (0.008873306, 'death'),\n",
            "   (0.007738446, 'time'),\n",
            "   (0.0074856626, 'show'),\n",
            "   (0.007401669, 'way'),\n",
            "   (0.0071771536, 'world'),\n",
            "   (0.007062261, 'squid'),\n",
            "   (0.0063025164, 'story'),\n",
            "   (0.0060500945, 'season'),\n",
            "   (0.006005639, 'brother')],\n",
            "  -1.6929294334420302),\n",
            " ([(0.10637078, 'show'),\n",
            "   (0.035787344, 'character'),\n",
            "   (0.024710445, 'story'),\n",
            "   (0.022646077, 'episode'),\n",
            "   (0.021990197, 'game'),\n",
            "   (0.01895585, 'time'),\n",
            "   (0.018561194, 'actor'),\n",
            "   (0.016230859, 'acting'),\n",
            "   (0.0151940035, 'vip'),\n",
            "   (0.014633809, 'thing'),\n",
            "   (0.013652033, 'season'),\n",
            "   (0.011905081, 'way'),\n",
            "   (0.011005229, 'people'),\n",
            "   (0.010668829, 'plot'),\n",
            "   (0.0104632545, 'watch'),\n",
            "   (0.008875238, 'scene'),\n",
            "   (0.008646326, 'movie'),\n",
            "   (0.00764852, 'nothing'),\n",
            "   (0.00672131, 'lot'),\n",
            "   (0.0066127162, 'hype')],\n",
            "  -1.845943297741631),\n",
            " ([(0.05062283, 'movie'),\n",
            "   (0.03826663, 'hype'),\n",
            "   (0.034333933, 'drama'),\n",
            "   (0.033088896, 'plot'),\n",
            "   (0.021127777, 'idea'),\n",
            "   (0.018939098, 'film'),\n",
            "   (0.016300915, 'review'),\n",
            "   (0.015808629, 'lot'),\n",
            "   (0.015357872, 'series'),\n",
            "   (0.014615367, 'violence'),\n",
            "   (0.014599, 'start'),\n",
            "   (0.01339701, 'thriller'),\n",
            "   (0.0116074, 'hole'),\n",
            "   (0.011493494, 'seat'),\n",
            "   (0.011100425, 'edge'),\n",
            "   (0.009140987, 'korea'),\n",
            "   (0.0090969615, 'end'),\n",
            "   (0.008129995, 'character'),\n",
            "   (0.007889875, 'episode'),\n",
            "   (0.0067300703, 'fun')],\n",
            "  -2.529906263590746),\n",
            " ([(0.2121518, 'series'),\n",
            "   (0.057264853, 'episode'),\n",
            "   (0.015765755, 'masterpiece'),\n",
            "   (0.014365481, 'something'),\n",
            "   (0.013781606, 'time'),\n",
            "   (0.0134876035, 'people'),\n",
            "   (0.013120975, 'season'),\n",
            "   (0.011448126, 'story'),\n",
            "   (0.01014826, 'life'),\n",
            "   (0.009610735, 'way'),\n",
            "   (0.009529887, 'netflix'),\n",
            "   (0.009242164, 'moment'),\n",
            "   (0.00826716, 'day'),\n",
            "   (0.007697753, 'horror'),\n",
            "   (0.007045156, 'end'),\n",
            "   (0.0069302763, 'thriller'),\n",
            "   (0.0068282057, 'web'),\n",
            "   (0.0066548055, 'watching'),\n",
            "   (0.0058005536, 'movie'),\n",
            "   (0.0057198405, 'fan')],\n",
            "  -3.0085895700789598),\n",
            " ([(0.03654758, 'wow'),\n",
            "   (0.036520086, 'game'),\n",
            "   (0.035802796, 'vip'),\n",
            "   (0.029887648, 'binge'),\n",
            "   (0.021406632, 'hunger'),\n",
            "   (0.020998761, 'serie'),\n",
            "   (0.017352166, 'perfect'),\n",
            "   (0.0173205, 'kaiji'),\n",
            "   (0.016088353, 'bit'),\n",
            "   (0.010248117, 'anime'),\n",
            "   (0.010241205, 'lame'),\n",
            "   (0.010210993, 'excellent'),\n",
            "   (0.008018382, 'worthy'),\n",
            "   (0.0070455433, 'master'),\n",
            "   (0.006734376, \"what's\"),\n",
            "   (0.0064676534, 'act'),\n",
            "   (0.005899234, 'jerk'),\n",
            "   (0.005488226, 'rip'),\n",
            "   (0.0054847156, 'substance'),\n",
            "   (0.005455607, 'society')],\n",
            "  -13.086298902971569)]\n"
          ]
        }
      ],
      "source": [
        "top_topics = model.top_topics(corpus) #, num_words=20)\n",
        "\n",
        "# Average topic coherence is the sum of topic coherences of all topics, divided by the number of topics.\n",
        "avg_topic_coherence = sum([t[1] for t in top_topics]) / num_topics\n",
        "print('Average topic coherence: %.4f.' % avg_topic_coherence)\n",
        "\n",
        "from pprint import pprint\n",
        "pprint(top_topics)"
      ]
    },
    {
      "cell_type": "code",
      "execution_count": 98,
      "metadata": {},
      "outputs": [
        {
          "data": {
            "text/html": [
              "\n",
              "<link rel=\"stylesheet\" type=\"text/css\" href=\"https://cdn.jsdelivr.net/gh/bmabey/pyLDAvis@3.3.1/pyLDAvis/js/ldavis.v1.0.0.css\">\n",
              "\n",
              "\n",
              "<div id=\"ldavis_el2494016331397763282475897395\"></div>\n",
              "<script type=\"text/javascript\">\n",
              "\n",
              "var ldavis_el2494016331397763282475897395_data = {\"mdsDat\": {\"x\": [0.011286598771470235, 0.07856294033829746, 0.15355159350359046, 0.03562611397905973, -0.27902724659241795], \"y\": [-0.11661876461540226, -0.07077888445928573, -0.025552525945222684, 0.22316417796714874, -0.010214002947238128], \"topics\": [1, 2, 3, 4, 5], \"cluster\": [1, 1, 1, 1, 1], \"Freq\": [40.88604391946725, 39.065270847446826, 10.81104541695039, 7.294328187392413, 1.9433116287431267]}, \"tinfo\": {\"Term\": [\"series\", \"game\", \"show\", \"vip\", \"episode\", \"movie\", \"plot\", \"hype\", \"drama\", \"hunger\", \"bit\", \"actor\", \"idea\", \"film\", \"money\", \"review\", \"lot\", \"violence\", \"character\", \"binge\", \"something\", \"player\", \"time\", \"masterpiece\", \"season\", \"life\", \"acting\", \"start\", \"thriller\", \"people\", \"player\", \"brother\", \"debt\", \"glass\", \"daughter\", \"police\", \"rule\", \"winner\", \"contestant\", \"jung\", \"byeok\", \"loser\", \"hun\", \"childhood\", \"participant\", \"boring\", \"hwang\", \"bridge\", \"woo\", \"order\", \"ali\", \"sang\", \"relationship\", \"thought\", \"island\", \"reveal\", \"money\", \"system\", \"jae\", \"hyuk\", \"man\", \"chance\", \"prize\", \"death\", \"game\", \"squid\", \"royale\", \"life\", \"cop\", \"people\", \"front\", \"guy\", \"friend\", \"world\", \"number\", \"light\", \"end\", \"character\", \"point\", \"person\", \"plot\", \"way\", \"series\", \"episode\", \"time\", \"twist\", \"hunger\", \"lot\", \"season\", \"thing\", \"story\", \"show\", \"battle\", \"something\", \"scene\", \"borderland\", \"alice\", \"voice\", \"dub\", \"actor\", \"direction\", \"please\", \"language\", \"cringe\", \"translation\", \"garbage\", \"subtitle\", \"okay\", \"american\", \"waste\", \"connection\", \"rollercoaster\", \"awesome\", \"joke\", \"weekend\", \"dont\", \"actress\", \"notch\", \"gem\", \"brutal\", \"speaker\", \"directing\", \"casting\", \"hostel\", \"cheesy\", \"show\", \"costume\", \"acting\", \"music\", \"dubbing\", \"watch\", \"version\", \"star\", \"vip\", \"dialogue\", \"performance\", \"vip's\", \"design\", \"story\", \"rating\", \"thing\", \"character\", \"time\", \"storyline\", \"season\", \"scene\", \"concept\", \"episode\", \"way\", \"nothing\", \"i've\", \"plot\", \"bit\", \"netflix\", \"game\", \"movie\", \"hype\", \"people\", \"part\", \"lot\", \"twist\", \"everyone\", \"everything\", \"end\", \"something\", \"masterpiece\", \"web\", \"thank\", \"webseries\", \"noise\", \"lord\", \"exciting\", \"superb\", \"adrenaline\", \"jaw\", \"kingdom\", \"complexity\", \"spoil\", \"blockbuster\", \"sci\", \"payoff\", \"omg\", \"psychology\", \"understanding\", \"bachman\", \"suspence\", \"crazy\", \"dream\", \"bandwagon\", \"fly\", \"watching\", \"management\", \"argument\", \"madness\", \"speechless\", \"series\", \"meh\", \"reviewer\", \"horror\", \"ppl\", \"trash\", \"crap\", \"episode\", \"fan\", \"depth\", \"need\", \"thriller\", \"piece\", \"something\", \"moment\", \"hollywood\", \"hour\", \"day\", \"netflix\", \"entertainment\", \"season\", \"mind\", \"time\", \"life\", \"people\", \"expectation\", \"way\", \"story\", \"one\", \"end\", \"concept\", \"watch\", \"everything\", \"movie\", \"point\", \"nothing\", \"brilliant\", \"decent\", \"blowing\", \"shallow\", \"slow\", \"kudos\", \"bang\", \"stomach\", \"sync\", \"tarantino\", \"enough\", \"filmmaker\", \"seat\", \"laugh\", \"anticipation\", \"horrifying\", \"keep\", \"kung\", \"thumb\", \"mediocre\", \"brilliance\", \"honest\", \"psycho\", \"heartbreaking\", \"dish\", \"storm\", \"hustle\", \"apart\", \"tragedy\", \"cup\", \"combination\", \"edge\", \"drama\", \"hype\", \"hole\", \"thriller\", \"scenario\", \"blah\", \"movie\", \"start\", \"review\", \"film\", \"idea\", \"violence\", \"word\", \"plot\", \"korea\", \"art\", \"serie\", \"execution\", \"commentary\", \"history\", \"lot\", \"humanity\", \"blood\", \"fun\", \"message\", \"gore\", \"series\", \"end\", \"mind\", \"bit\", \"character\", \"episode\", \"twist\", \"wow\", \"perfect\", \"excellent\", \"substance\", \"rubbish\", \"recommend\", \"capital\", \"fine\", \"disney\", \"kaiji\", \"composition\", \"classic\", \"lame\", \"uncle\", \"ripoff\", \"reminds\", \"emperor\", \"jerk\", \"worse\", \"bias\", \"pressure\", \"load\", \"obsession\", \"bait\", \"phenomenal\", \"asun\", \"iraq\", \"jamila\", \"kalash\", \"timeless\", \"binge\", \"serie\", \"worthy\", \"rip\", \"momentum\", \"what's\", \"error\", \"master\", \"anime\", \"hunger\", \"vip\", \"act\", \"bit\", \"average\", \"game\", \"mode\", \"reality\", \"entertaining\", \"eye\", \"society\", \"book\", \"adult\", \"survival\", \"drama\"], \"Freq\": [1606.0, 2471.0, 2405.0, 405.0, 1059.0, 484.0, 552.0, 292.0, 233.0, 137.0, 195.0, 399.0, 246.0, 186.0, 383.0, 142.0, 343.0, 153.0, 1208.0, 60.0, 278.0, 256.0, 650.0, 92.0, 497.0, 411.0, 375.0, 113.0, 98.0, 831.0, 255.83556687968183, 132.3374627124052, 88.5523656321529, 76.01249716540157, 74.77940088162087, 73.34115966013849, 66.8173248971397, 81.31003875046916, 52.87546765681897, 60.62158350968386, 44.884722173478806, 42.982317763642314, 101.46598421574032, 40.16346932487092, 39.560517133584774, 38.57577012714275, 37.75822766039556, 35.65255096265759, 35.474731320396685, 35.473033109208004, 37.34556747209442, 33.84069814911884, 34.077026553904446, 33.42247388216477, 32.2881945065397, 32.44236489057038, 373.22417416125995, 30.892003251529825, 29.590814342685306, 28.929958793467414, 261.30826022236346, 71.61834749668884, 60.30944613654813, 195.5280344373131, 1966.4895643278796, 155.62068716908857, 67.11179266503736, 301.5493803821003, 61.3450522593447, 520.1139625572098, 52.93847590941155, 129.59625228213125, 77.36190808923817, 158.15240708801488, 59.001012894777894, 68.79408376513905, 239.65642670504806, 422.98892423366686, 131.02721325685613, 77.93992068962352, 197.07741870707437, 163.09972211606535, 276.7870191106266, 217.97918671701865, 170.5207818774468, 110.16463236793635, 85.54706027457637, 119.01837696796835, 133.3170586492598, 126.31515434918512, 138.8793108273177, 164.95056708982747, 86.53729183618665, 98.65102729717017, 92.20236018409679, 91.19342204593082, 85.12470918252974, 73.38750800763796, 39.82232820887356, 390.79159785679354, 38.27551208159257, 35.25562655868189, 58.86032346137199, 28.90054705766845, 44.07667244963584, 27.249949219686187, 105.37279496602531, 20.886901404906517, 20.64906280305473, 50.99712967077944, 21.633268428366772, 19.94629110804821, 19.14920850036956, 23.66823262383691, 18.11423827014539, 18.389165928875254, 17.24093338578193, 16.845330259773203, 16.200141948177016, 15.692769189423291, 15.61951021367462, 14.983317199378364, 14.765741301280944, 14.766477837204276, 14.332411849375612, 2239.554551014349, 39.56569997511407, 341.7281972958224, 80.94545974249641, 36.595528788752304, 220.29574266020157, 70.51936114010715, 79.00789721443824, 319.8980078386624, 83.0699479798957, 89.85390217727152, 68.07598348583862, 65.21519952650644, 520.2593285262858, 77.74721732750908, 308.10355049349096, 753.4748867935391, 399.1007623106877, 85.46375590866184, 287.4330141755467, 186.86127654127512, 137.99732157482438, 476.795659851776, 250.65227785276858, 161.03368480955226, 86.5812120347125, 224.6239561843495, 117.03466113878883, 117.80741355065067, 462.986608860415, 182.0417187997067, 139.22563309768194, 231.70660327277673, 119.27623040109904, 141.51198766578622, 121.85630716191028, 105.6167905670099, 102.89457340265164, 111.45876311362025, 95.89787919861513, 91.86094865651553, 39.78531121423143, 16.791613644305983, 11.941426804610972, 9.576558908140779, 9.569473313046855, 8.593761906915176, 18.47225493898509, 7.0452168338492545, 7.032510108509938, 6.06662601443271, 6.056389683247336, 6.229798193697923, 5.680760215208057, 5.6738720074559215, 5.652562653380371, 5.279438851459889, 5.078286227422119, 5.070827902622649, 4.905490567360902, 4.692430263649203, 4.691993773084112, 7.181920116718225, 4.520949840892899, 11.624143271206398, 38.77497562644463, 4.171963254999583, 3.950375275476969, 3.9183836033527224, 3.917018171328592, 1236.1263901421266, 19.740964452411077, 9.933561387201093, 44.85182779745747, 11.347540522806906, 20.56675169361599, 10.968621265737802, 333.6601330405428, 33.327296624846056, 18.613717223881533, 19.826079773450317, 40.38003724012187, 24.52503942043995, 83.70209821595705, 53.850511860917685, 20.92858371863349, 27.56882820121849, 48.16953865730646, 55.52696121823508, 27.745448495392008, 76.45084426924451, 30.995467028226507, 80.30008464687454, 59.12998157534682, 78.58704469586131, 21.032536982133813, 55.99803187502514, 66.70380035389408, 32.184056273482454, 41.0493960304192, 30.63568213378468, 30.620493483072146, 28.4693431698126, 33.79758044549703, 27.9344194037212, 27.953346882708455, 25.94145087969048, 16.09310579727518, 13.226331861197195, 7.9568778845597725, 6.548586300470843, 6.51651936631997, 6.016114646083225, 5.827222385820527, 5.824179397749551, 5.511851843512545, 5.482519433910339, 5.283450165716475, 45.18412118320593, 4.61475799931412, 4.585179368087282, 4.423608097277603, 14.754021711470678, 4.236794075671892, 4.086079439396688, 11.674288953135651, 3.892494780774578, 3.730012764550364, 3.578480974537645, 3.5409086072389577, 3.5398399687751687, 3.5400994625691595, 3.5361336010668203, 3.377352918279819, 3.1900203667471394, 3.1889347948258946, 6.146256962193218, 43.63885989602508, 134.97624156085723, 150.4367628149588, 45.63191868539745, 52.66737300868237, 22.21118594392232, 7.23270484661578, 199.01241937355562, 57.392730283557995, 64.08343039689935, 74.45486370996647, 83.05916899965173, 57.457073760603386, 22.74296058058816, 130.08165588877466, 35.93576236537807, 13.797943143020223, 19.132282467341636, 19.427982739339708, 16.875052588432577, 10.621486475695486, 62.14811744341862, 20.813188986644725, 22.358124419184797, 26.457778541868183, 20.244330993471873, 20.86692022013623, 60.37606498754409, 35.76268595437944, 20.917502745862905, 24.06121102178941, 31.961273037634584, 31.01729411102809, 23.86971283972251, 38.27802626085912, 18.173752492278734, 10.694460793570784, 5.744404775823178, 4.930862217302557, 3.9598310024304526, 3.246859471316099, 3.60863346907314, 3.0069803718828374, 18.140588258248414, 2.9999078551212097, 2.903379450301372, 10.7261033745103, 2.668201137187246, 2.6657825866496525, 3.1467008021432514, 2.6590136689421993, 6.178549960164913, 2.4023383481005527, 2.3932569566334707, 2.296342773738368, 2.169106482898412, 2.1605518175012235, 2.159630778442896, 2.0634366983646433, 2.0632728280317876, 2.0632728280317876, 2.0632728280317876, 2.0632728280317876, 2.061957719839688, 31.30276264010668, 21.993006159166548, 8.398034621538015, 5.748081616416629, 3.54400539957054, 7.053233710376374, 4.734079796137033, 7.379134248808412, 10.73334293171539, 22.42018880519921, 37.49798006641845, 6.7738825883711575, 16.850101583660603, 4.743359441444311, 38.24923190237162, 3.814796247521342, 5.4995561622332705, 4.067951282462535, 5.456979138250228, 5.713918065981483, 4.292942810926789, 4.162136731689996, 4.302588725936372, 4.550808874082922], \"Total\": [1606.0, 2471.0, 2405.0, 405.0, 1059.0, 484.0, 552.0, 292.0, 233.0, 137.0, 195.0, 399.0, 246.0, 186.0, 383.0, 142.0, 343.0, 153.0, 1208.0, 60.0, 278.0, 256.0, 650.0, 92.0, 497.0, 411.0, 375.0, 113.0, 98.0, 831.0, 256.69836835475377, 133.19941554591648, 89.43252358116553, 76.8719499904764, 75.63980406057966, 74.2020803740045, 67.68038532894137, 82.48991618029147, 53.741377438169714, 61.704602708685016, 45.74365518797979, 43.843483466154794, 103.5673253399691, 41.02832712927047, 40.42317095151755, 39.43990744821832, 38.624578431104176, 36.511547830567636, 36.33583582688602, 36.336434730078516, 38.28096312151094, 34.69977600802691, 34.944235434168704, 34.28636543437194, 33.14859881130157, 33.30712091566962, 383.5436710575706, 31.755869387882925, 30.45302924950082, 29.798512326672622, 277.1328836277398, 74.75447204880905, 63.30897619049284, 216.2612090750376, 2471.5444165894, 174.3993949838962, 74.21876382003529, 411.5795186474658, 67.65641484322245, 831.6463208697973, 58.23515842042779, 171.6507442268954, 92.59560588696054, 229.52140876894345, 67.35825300504378, 82.93406562526835, 428.5912973755002, 1208.808461769374, 232.0096140154195, 108.60312060528449, 552.4607168614823, 487.74695035047785, 1606.5295160202327, 1059.596938425825, 650.2947230179715, 256.284851780523, 137.23885785631083, 343.7506254437156, 497.55963212728557, 439.26320911452814, 745.2167518661087, 2405.10166754825, 144.8820902848631, 278.61167514222376, 304.3216136955837, 92.05905133544127, 85.98902243547614, 74.25866399402074, 40.68614666057881, 399.61855293559375, 39.147757739393874, 36.1195105157276, 60.34837489546455, 29.764448088687146, 45.4334599923678, 28.11224455789407, 109.56373354208365, 21.75115069939042, 21.513425904767818, 53.15336674672029, 22.559920633623335, 20.812672597382498, 20.00713095116338, 24.783055144705866, 18.988711969712703, 19.279583032109354, 18.110264028259188, 17.70959014460997, 17.064287015496987, 16.564967754841902, 16.488484544095133, 15.84557868336385, 15.637820811987233, 15.638853225898526, 15.198541214743857, 2405.10166754825, 42.27641094229584, 375.2848193693108, 87.78565365351976, 39.41841335254474, 257.05518030538923, 78.89476858005236, 91.54621029941116, 405.7744660221816, 97.16193690291426, 107.29893420352252, 79.54221312189306, 75.89517873237618, 745.2167518661087, 93.06809280202206, 439.26320911452814, 1208.808461769374, 650.2947230179715, 111.44161740809064, 497.55963212728557, 304.3216136955837, 210.0383584127584, 1059.596938425825, 487.74695035047785, 272.635027810461, 117.12145264939858, 552.4607168614823, 195.4273854577398, 200.55792211702536, 2471.5444165894, 484.07936779554495, 292.4439481249886, 831.6463208697973, 217.67089778184354, 343.7506254437156, 256.284851780523, 206.66118824382545, 192.165536797863, 428.5912973755002, 278.61167514222376, 92.76331153922926, 40.68144789226397, 17.689673464239053, 12.837085831304563, 10.47573624413163, 10.474287047226273, 9.490636911980332, 20.50919247416526, 7.942978680691332, 7.943632163258143, 6.963160133564641, 6.959558676098658, 7.168869042608015, 6.574629831037881, 6.573550237350846, 6.569023634452145, 6.18692670644961, 5.977318619111605, 5.976380439504649, 5.800398662304724, 5.588308185963314, 5.588184232707966, 8.60193889683795, 5.416460575888734, 13.96431702391651, 47.06749173346411, 5.066858177724284, 4.852983650686262, 4.814539361294123, 4.814358628676561, 1606.5295160202327, 26.989641401267118, 13.028155528685458, 73.26819735189314, 15.729031739266647, 31.415130858949553, 15.56312322261608, 1059.596938425825, 67.07149509697449, 33.5256014473007, 36.75204301701449, 98.13382534185969, 49.234861326729714, 278.61167514222376, 168.80665109750365, 43.163216061141696, 67.31558672674112, 159.64804947158277, 200.55792211702536, 69.07573006158711, 497.55963212728557, 100.77494356942705, 650.2947230179715, 411.5795186474658, 831.6463208697973, 54.83667211227712, 487.74695035047785, 745.2167518661087, 157.39863971295156, 428.5912973755002, 210.0383584127584, 257.05518030538923, 192.165536797863, 484.07936779554495, 232.0096140154195, 272.635027810461, 26.858787317056322, 17.010895724515667, 14.14738288149254, 8.87636683549135, 7.477686292552119, 7.446649983940755, 6.937699311963539, 6.747936353530756, 6.747682791972711, 6.4311626012798735, 6.400946070010265, 6.209418738709369, 53.34504417473118, 5.540672094222985, 5.5100570723589, 5.3498634534832075, 17.952291034618373, 5.15854441633153, 5.003031643205115, 14.389862789745596, 4.811395020907936, 4.650770332391001, 4.495655144602696, 4.459718783027158, 4.459119559510412, 4.4595915701500095, 4.459551300949624, 4.303211019410938, 4.11208782874141, 4.111366791536671, 8.086310132280655, 61.13021652204717, 233.20868827322266, 292.4439481249886, 81.16984965660986, 98.13382534185969, 36.631594474406114, 10.143708310990505, 484.07936779554495, 113.1596168413939, 142.9225764960838, 186.1785765504895, 246.4995105879364, 153.26291754475696, 49.1859056332636, 552.4607168614823, 97.25162094447373, 25.61845667942826, 41.90374488194091, 44.29793701151934, 38.01672045635133, 18.08091637091751, 343.7506254437156, 59.970940096250715, 69.84990533013523, 117.89968217263085, 78.88467992667186, 85.54577319175034, 1606.5295160202327, 428.5912973755002, 100.77494356942705, 195.4273854577398, 1208.808461769374, 1059.596938425825, 256.284851780523, 39.26828232361983, 19.166404657301648, 11.679265204891408, 6.739688198541089, 5.917911123400412, 4.946809730198875, 4.232708125025412, 4.764832858860761, 3.9983645214480146, 24.18922313437116, 4.000615314906764, 3.892129429437392, 14.54688956286994, 3.651657312228178, 3.6523476692013865, 4.320632744802799, 3.6542206340688264, 8.560665123933719, 3.3932715800686966, 3.401787026741098, 3.287584953175896, 3.1565664362941543, 3.160251549681008, 3.159908828068042, 3.0464801535812653, 3.0467431552213635, 3.0467431552213635, 3.0467431552213635, 3.0467431552213635, 3.046957854531383, 60.60679798367434, 41.90374488194091, 15.90496507984128, 10.741985672673035, 5.95254711592599, 15.498265285947294, 9.872284801869231, 19.289264660545573, 37.171753539685994, 137.23885785631083, 405.7744660221816, 28.45739140329567, 195.4273854577398, 13.684707414267095, 2471.5444165894, 8.872545574484699, 48.80412077621039, 14.502038645387834, 56.30656059133952, 95.07246266530207, 24.68853637027124, 23.936037158534454, 53.68654672427914, 233.20868827322266], \"Category\": [\"Default\", \"Default\", \"Default\", \"Default\", \"Default\", \"Default\", \"Default\", \"Default\", \"Default\", \"Default\", \"Default\", \"Default\", \"Default\", \"Default\", \"Default\", \"Default\", \"Default\", \"Default\", \"Default\", \"Default\", \"Default\", \"Default\", \"Default\", \"Default\", \"Default\", \"Default\", \"Default\", \"Default\", \"Default\", \"Default\", \"Topic1\", \"Topic1\", \"Topic1\", \"Topic1\", \"Topic1\", \"Topic1\", \"Topic1\", \"Topic1\", \"Topic1\", \"Topic1\", \"Topic1\", \"Topic1\", \"Topic1\", \"Topic1\", \"Topic1\", \"Topic1\", \"Topic1\", \"Topic1\", \"Topic1\", \"Topic1\", \"Topic1\", \"Topic1\", \"Topic1\", \"Topic1\", \"Topic1\", \"Topic1\", \"Topic1\", \"Topic1\", \"Topic1\", \"Topic1\", \"Topic1\", \"Topic1\", \"Topic1\", \"Topic1\", \"Topic1\", \"Topic1\", \"Topic1\", \"Topic1\", \"Topic1\", \"Topic1\", \"Topic1\", \"Topic1\", \"Topic1\", \"Topic1\", \"Topic1\", \"Topic1\", \"Topic1\", \"Topic1\", \"Topic1\", \"Topic1\", \"Topic1\", \"Topic1\", \"Topic1\", \"Topic1\", \"Topic1\", \"Topic1\", \"Topic1\", \"Topic1\", \"Topic1\", \"Topic1\", \"Topic1\", \"Topic1\", \"Topic1\", \"Topic1\", \"Topic1\", \"Topic2\", \"Topic2\", \"Topic2\", \"Topic2\", \"Topic2\", \"Topic2\", \"Topic2\", \"Topic2\", \"Topic2\", \"Topic2\", \"Topic2\", \"Topic2\", \"Topic2\", \"Topic2\", \"Topic2\", \"Topic2\", \"Topic2\", \"Topic2\", \"Topic2\", \"Topic2\", \"Topic2\", \"Topic2\", \"Topic2\", \"Topic2\", \"Topic2\", \"Topic2\", \"Topic2\", \"Topic2\", \"Topic2\", \"Topic2\", \"Topic2\", \"Topic2\", \"Topic2\", \"Topic2\", \"Topic2\", \"Topic2\", \"Topic2\", \"Topic2\", \"Topic2\", \"Topic2\", \"Topic2\", \"Topic2\", \"Topic2\", \"Topic2\", \"Topic2\", \"Topic2\", \"Topic2\", \"Topic2\", \"Topic2\", \"Topic2\", \"Topic2\", \"Topic2\", \"Topic2\", \"Topic2\", \"Topic2\", \"Topic2\", \"Topic2\", \"Topic2\", \"Topic2\", \"Topic2\", \"Topic2\", \"Topic2\", \"Topic2\", \"Topic2\", \"Topic2\", \"Topic2\", \"Topic2\", \"Topic2\", \"Topic2\", \"Topic2\", \"Topic3\", \"Topic3\", \"Topic3\", \"Topic3\", \"Topic3\", \"Topic3\", \"Topic3\", \"Topic3\", \"Topic3\", \"Topic3\", \"Topic3\", \"Topic3\", \"Topic3\", \"Topic3\", \"Topic3\", \"Topic3\", \"Topic3\", \"Topic3\", \"Topic3\", \"Topic3\", \"Topic3\", \"Topic3\", \"Topic3\", \"Topic3\", \"Topic3\", \"Topic3\", \"Topic3\", \"Topic3\", \"Topic3\", \"Topic3\", \"Topic3\", \"Topic3\", \"Topic3\", \"Topic3\", \"Topic3\", \"Topic3\", \"Topic3\", \"Topic3\", \"Topic3\", \"Topic3\", \"Topic3\", \"Topic3\", \"Topic3\", \"Topic3\", \"Topic3\", \"Topic3\", \"Topic3\", \"Topic3\", \"Topic3\", \"Topic3\", \"Topic3\", \"Topic3\", \"Topic3\", \"Topic3\", \"Topic3\", \"Topic3\", \"Topic3\", \"Topic3\", \"Topic3\", \"Topic3\", \"Topic3\", \"Topic3\", \"Topic3\", \"Topic3\", \"Topic3\", \"Topic3\", \"Topic4\", \"Topic4\", \"Topic4\", \"Topic4\", \"Topic4\", \"Topic4\", \"Topic4\", \"Topic4\", \"Topic4\", \"Topic4\", \"Topic4\", \"Topic4\", \"Topic4\", \"Topic4\", \"Topic4\", \"Topic4\", \"Topic4\", \"Topic4\", \"Topic4\", \"Topic4\", \"Topic4\", \"Topic4\", \"Topic4\", \"Topic4\", \"Topic4\", \"Topic4\", \"Topic4\", \"Topic4\", \"Topic4\", \"Topic4\", \"Topic4\", \"Topic4\", \"Topic4\", \"Topic4\", \"Topic4\", \"Topic4\", \"Topic4\", \"Topic4\", \"Topic4\", \"Topic4\", \"Topic4\", \"Topic4\", \"Topic4\", \"Topic4\", \"Topic4\", \"Topic4\", \"Topic4\", \"Topic4\", \"Topic4\", \"Topic4\", \"Topic4\", \"Topic4\", \"Topic4\", \"Topic4\", \"Topic4\", \"Topic4\", \"Topic4\", \"Topic4\", \"Topic4\", \"Topic4\", \"Topic4\", \"Topic4\", \"Topic4\", \"Topic4\", \"Topic4\", \"Topic5\", \"Topic5\", \"Topic5\", \"Topic5\", \"Topic5\", \"Topic5\", \"Topic5\", \"Topic5\", \"Topic5\", \"Topic5\", \"Topic5\", \"Topic5\", \"Topic5\", \"Topic5\", \"Topic5\", \"Topic5\", \"Topic5\", \"Topic5\", \"Topic5\", \"Topic5\", \"Topic5\", \"Topic5\", \"Topic5\", \"Topic5\", \"Topic5\", \"Topic5\", \"Topic5\", \"Topic5\", \"Topic5\", \"Topic5\", \"Topic5\", \"Topic5\", \"Topic5\", \"Topic5\", \"Topic5\", \"Topic5\", \"Topic5\", \"Topic5\", \"Topic5\", \"Topic5\", \"Topic5\", \"Topic5\", \"Topic5\", \"Topic5\", \"Topic5\", \"Topic5\", \"Topic5\", \"Topic5\", \"Topic5\", \"Topic5\", \"Topic5\", \"Topic5\", \"Topic5\", \"Topic5\"], \"logprob\": [30.0, 29.0, 28.0, 27.0, 26.0, 25.0, 24.0, 23.0, 22.0, 21.0, 20.0, 19.0, 18.0, 17.0, 16.0, 15.0, 14.0, 13.0, 12.0, 11.0, 10.0, 9.0, 8.0, 7.0, 6.0, 5.0, 4.0, 3.0, 2.0, 1.0, -4.4559, -5.1151, -5.5168, -5.6695, -5.6859, -5.7053, -5.7984, -5.6021, -6.0325, -5.8958, -6.1963, -6.2396, -5.3807, -6.3075, -6.3226, -6.3478, -6.3692, -6.4266, -6.4316, -6.4316, -6.3802, -6.4787, -6.4718, -6.4912, -6.5257, -6.5209, -4.0782, -6.5699, -6.6129, -6.6355, -4.4347, -5.7291, -5.9009, -4.7247, -2.4164, -4.953, -5.7941, -4.2915, -5.8839, -3.7464, -6.0313, -5.136, -5.6519, -4.9369, -5.9229, -5.7693, -4.5212, -3.9531, -5.125, -5.6445, -4.7168, -4.906, -4.3772, -4.616, -4.8616, -5.2984, -5.5513, -5.2211, -5.1077, -5.1616, -5.0668, -4.8948, -5.5398, -5.4088, -5.4764, -5.4419, -5.5107, -5.6591, -6.2704, -3.9867, -6.31, -6.3922, -5.8797, -6.591, -6.1689, -6.6498, -5.2974, -6.9157, -6.9272, -6.0231, -6.8806, -6.9618, -7.0026, -6.7907, -7.0582, -7.0431, -7.1076, -7.1308, -7.1698, -7.2017, -7.2063, -7.2479, -7.2625, -7.2625, -7.2923, -2.2408, -6.2769, -4.1208, -5.5611, -6.3549, -4.5599, -5.699, -5.5853, -4.1869, -5.5352, -5.4567, -5.7342, -5.7772, -3.7005, -5.6014, -4.2244, -3.3302, -3.9656, -5.5068, -4.2939, -4.7245, -5.0276, -3.7878, -4.4308, -4.8732, -5.4938, -4.5404, -5.1924, -5.1858, -3.8172, -4.7506, -5.0188, -4.5094, -5.1734, -5.0025, -5.152, -5.295, -5.3212, -5.2412, -5.3916, -4.1499, -4.9867, -5.8493, -6.1902, -6.4109, -6.4116, -6.5192, -5.7539, -6.7178, -6.7196, -6.8674, -6.8691, -6.8408, -6.9331, -6.9343, -6.9381, -7.0064, -7.0452, -7.0467, -7.0798, -7.1242, -7.1243, -6.6986, -7.1615, -6.2171, -5.0124, -7.2418, -7.2964, -7.3045, -7.3049, -1.5505, -5.6875, -6.3743, -4.8668, -6.2412, -5.6465, -6.2752, -2.8601, -5.1638, -5.7463, -5.6832, -4.9719, -5.4705, -4.2429, -4.684, -5.6291, -5.3535, -4.7955, -4.6533, -5.3471, -4.3335, -5.2364, -4.2844, -4.5905, -4.306, -5.6241, -4.6449, -4.4699, -5.1987, -4.9554, -5.248, -5.2485, -5.3214, -5.1498, -5.3403, -5.3397, -5.0209, -5.4983, -5.6945, -6.2027, -6.3975, -6.4024, -6.4823, -6.5142, -6.5147, -6.5698, -6.5752, -6.6121, -4.466, -6.7475, -6.7539, -6.7898, -5.5852, -6.8329, -6.8691, -5.8193, -6.9177, -6.9603, -7.0018, -7.0123, -7.0126, -7.0126, -7.0137, -7.0596, -7.1167, -7.117, -6.4609, -4.5008, -3.3716, -3.2632, -4.4561, -4.3127, -5.1761, -6.2981, -2.9834, -4.2268, -4.1165, -3.9665, -3.8572, -4.2257, -5.1525, -3.4086, -4.695, -5.6522, -5.3253, -5.31, -5.4509, -5.9138, -4.1472, -5.2411, -5.1695, -5.0012, -5.2688, -5.2386, -4.1761, -4.6998, -5.2361, -5.0961, -4.8122, -4.8422, -5.1041, -3.3091, -4.054, -4.5843, -5.2058, -5.3585, -5.5778, -5.7763, -5.6707, -5.8531, -4.0559, -5.8554, -5.8881, -4.5813, -5.9726, -5.9735, -5.8077, -5.9761, -5.1329, -6.0776, -6.0814, -6.1227, -6.1797, -6.1837, -6.1841, -6.2296, -6.2297, -6.2297, -6.2297, -6.2297, -6.2304, -3.5103, -3.8633, -4.826, -5.2052, -5.6888, -5.0005, -5.3992, -4.9554, -4.5807, -3.8441, -3.3297, -5.0409, -4.1297, -5.3973, -3.3099, -5.6151, -5.2493, -5.5509, -5.2571, -5.2111, -5.497, -5.528, -5.4948, -5.4387], \"loglift\": [30.0, 29.0, 28.0, 27.0, 26.0, 25.0, 24.0, 23.0, 22.0, 21.0, 20.0, 19.0, 18.0, 17.0, 16.0, 15.0, 14.0, 13.0, 12.0, 11.0, 10.0, 9.0, 8.0, 7.0, 6.0, 5.0, 4.0, 3.0, 2.0, 1.0, 0.891, 0.8879, 0.8845, 0.8831, 0.8829, 0.8827, 0.8815, 0.88, 0.8781, 0.8767, 0.8754, 0.8745, 0.8739, 0.8731, 0.8728, 0.8722, 0.8717, 0.8706, 0.8704, 0.8703, 0.8696, 0.8693, 0.8693, 0.8689, 0.8681, 0.8681, 0.8671, 0.8668, 0.8657, 0.8648, 0.8356, 0.8515, 0.8458, 0.7936, 0.6658, 0.7805, 0.7937, 0.5833, 0.7965, 0.425, 0.799, 0.6133, 0.7146, 0.5219, 0.7619, 0.7075, 0.3131, -0.1557, 0.323, 0.5626, -0.1364, -0.2011, -0.8642, -0.6869, -0.4442, 0.0501, 0.4217, -0.1663, -0.4226, -0.3519, -0.7857, -1.7853, 0.379, -0.1438, -0.2997, 0.9305, 0.9298, 0.9281, 0.9185, 0.9176, 0.9174, 0.9157, 0.915, 0.9105, 0.9096, 0.9088, 0.9009, 0.8994, 0.8989, 0.8985, 0.898, 0.8974, 0.8961, 0.8939, 0.8928, 0.8927, 0.8907, 0.8899, 0.888, 0.8858, 0.8858, 0.884, 0.8826, 0.8825, 0.8813, 0.8686, 0.8737, 0.8463, 0.8588, 0.8656, 0.7856, 0.8277, 0.7926, 0.7021, 0.7832, 0.7625, 0.7843, 0.7883, 0.5806, 0.7601, 0.5853, 0.4672, 0.4517, 0.6745, 0.3912, 0.4522, 0.5199, 0.1414, 0.2742, 0.4134, 0.6378, 0.04, 0.4272, 0.4079, -0.735, -0.0381, 0.1978, -0.338, 0.3384, 0.0524, 0.1965, 0.2687, 0.3153, -0.4069, -0.1266, 2.2148, 2.2023, 2.1725, 2.1523, 2.1349, 2.1343, 2.1253, 2.12, 2.1047, 2.1028, 2.0868, 2.0856, 2.0842, 2.0785, 2.0774, 2.0743, 2.066, 2.0616, 2.0603, 2.057, 2.0499, 2.0498, 2.0442, 2.0439, 2.0412, 2.0308, 2.0303, 2.0188, 2.0186, 2.0183, 1.9625, 1.9118, 1.9534, 1.7338, 1.8981, 1.801, 1.8747, 1.0691, 1.5252, 1.6362, 1.6074, 1.3366, 1.5277, 1.022, 1.0821, 1.5007, 1.3319, 1.0264, 0.9404, 1.3125, 0.3515, 1.0456, 0.1329, 0.2843, -0.1346, 1.2663, 0.0601, -0.1888, 0.6373, -0.1211, 0.2995, 0.097, 0.3151, -0.4373, 0.1077, -0.053, 2.5833, 2.5626, 2.5508, 2.5087, 2.4854, 2.4846, 2.4755, 2.4714, 2.4709, 2.4638, 2.4632, 2.4566, 2.452, 2.4352, 2.4343, 2.428, 2.4219, 2.4212, 2.4156, 2.4089, 2.4061, 2.3975, 2.3899, 2.3874, 2.3872, 2.3872, 2.3861, 2.3758, 2.3642, 2.364, 2.3437, 2.281, 2.0712, 1.9533, 2.0421, 1.9957, 2.1178, 2.2798, 1.7292, 1.9392, 1.816, 1.7016, 1.5303, 1.637, 1.8467, 1.1719, 1.6225, 1.9993, 1.8341, 1.7938, 1.8059, 2.0861, 0.9077, 1.5598, 1.4789, 1.1238, 1.258, 1.2072, -0.6632, 0.1345, 1.0458, 0.5235, -1.0148, -0.913, 0.2444, 3.9152, 3.8876, 3.8527, 3.781, 3.7583, 3.7182, 3.6756, 3.6628, 3.6558, 3.653, 3.6529, 3.6477, 3.6361, 3.627, 3.6259, 3.6237, 3.6228, 3.6147, 3.5954, 3.5891, 3.5819, 3.5656, 3.5605, 3.5602, 3.5512, 3.551, 3.551, 3.551, 3.551, 3.5503, 3.2801, 3.2961, 3.3021, 3.3155, 3.4222, 3.1535, 3.2058, 2.9799, 2.6986, 2.129, 1.5593, 2.5054, 1.4899, 2.8812, -0.2277, 3.0967, 1.7576, 2.6696, 1.6069, 1.129, 2.1914, 2.1914, 1.4168, 0.0041]}, \"token.table\": {\"Topic\": [2, 5, 1, 2, 3, 4, 1, 2, 2, 3, 1, 2, 3, 5, 1, 2, 2, 1, 2, 5, 4, 4, 3, 1, 3, 4, 5, 2, 5, 2, 3, 5, 3, 4, 1, 2, 4, 5, 2, 5, 1, 2, 4, 5, 1, 4, 3, 1, 2, 3, 4, 4, 1, 2, 5, 2, 1, 1, 4, 4, 1, 2, 1, 5, 2, 1, 3, 5, 1, 2, 4, 2, 1, 5, 3, 4, 1, 2, 4, 3, 5, 1, 2, 3, 4, 2, 1, 1, 2, 1, 2, 2, 3, 3, 2, 4, 1, 1, 2, 3, 1, 2, 3, 1, 4, 1, 2, 3, 1, 2, 1, 2, 4, 2, 2, 4, 5, 2, 1, 2, 3, 4, 5, 3, 5, 2, 2, 4, 1, 2, 4, 5, 1, 2, 3, 4, 5, 4, 2, 3, 5, 1, 2, 3, 4, 1, 2, 3, 4, 1, 3, 5, 1, 2, 3, 1, 2, 3, 4, 5, 3, 2, 4, 1, 2, 3, 1, 2, 3, 5, 1, 2, 3, 4, 1, 2, 3, 4, 4, 5, 2, 3, 1, 2, 3, 4, 1, 2, 3, 4, 1, 2, 3, 4, 1, 2, 3, 4, 5, 2, 2, 1, 2, 3, 4, 1, 2, 4, 2, 3, 4, 1, 2, 4, 1, 3, 4, 4, 4, 1, 3, 4, 2, 1, 2, 3, 4, 5, 1, 2, 3, 4, 1, 2, 1, 2, 5, 4, 1, 1, 2, 4, 1, 1, 2, 3, 1, 2, 3, 4, 5, 1, 1, 5, 3, 1, 5, 1, 2, 1, 1, 5, 5, 1, 4, 3, 1, 2, 3, 4, 4, 4, 1, 5, 2, 4, 4, 1, 2, 3, 1, 2, 3, 5, 3, 1, 1, 2, 3, 4, 3, 1, 2, 3, 3, 1, 5, 3, 4, 5, 3, 4, 1, 2, 3, 4, 1, 2, 3, 4, 1, 5, 1, 2, 3, 2, 5, 1, 2, 3, 1, 2, 3, 4, 1, 2, 3, 1, 2, 3, 1, 2, 3, 4, 3, 2, 1, 2, 3, 4, 1, 2, 3, 5, 2, 3, 1, 2, 3, 1, 1, 2, 3, 4, 5, 1, 3, 1, 2, 3, 4, 5, 1, 2, 1, 2, 3, 5, 1, 2, 3, 1, 2, 1, 2, 3, 4, 1, 2, 3, 1, 3, 4, 5, 1, 2, 4, 3, 1, 2, 3, 4, 5, 1, 2, 5, 5, 1, 5, 1, 1, 2, 4, 5, 1, 3, 2, 5, 5, 2, 1, 2, 4, 5, 1, 1, 1, 2, 4, 1, 2, 3, 4, 3, 1, 2, 3, 1, 4, 4, 5, 1, 2, 3, 4, 4, 1, 2, 4, 1, 2, 3, 4, 5, 1, 2, 3, 2, 3, 3, 1, 2, 1, 2, 3, 4, 1, 2, 3, 4, 4, 4, 1, 2, 3, 4, 1, 2, 3, 4, 5, 1, 2, 1, 3, 1, 3, 5, 3, 4, 1, 4, 3, 1, 2, 3, 1, 1, 2, 3, 4, 4, 1, 2, 3, 5, 4, 2, 5, 1, 2, 3, 4, 1, 2, 4, 5, 3, 1, 2, 4, 5, 1, 2, 4, 1, 2, 5, 1, 2, 2, 1, 2, 1, 2, 3, 4, 1, 2, 3, 1, 2, 3, 4, 3, 3, 2, 1, 5, 1, 2, 1, 1, 2, 4, 1, 2, 3, 4, 5, 2, 5, 5], \"Freq\": [0.7379453619760796, 0.24598178732535989, 0.026646428216322775, 0.9113078449982389, 0.026646428216322775, 0.03730499950285189, 0.020019090558313878, 0.9784330510375908, 0.938694210833882, 0.8812814790774111, 0.45955811010587116, 0.1671120400384986, 0.1671120400384986, 0.1671120400384986, 0.966537855449328, 0.9884982709715269, 0.976134628346012, 0.10760859037035866, 0.5918472470369727, 0.29592362351848633, 0.90743161719366, 0.6971538198957918, 0.8242352103193998, 0.3513092186863482, 0.1171030728954494, 0.5464810068454306, 0.6564386619109968, 0.5845941573920346, 0.3653713483700216, 0.9496614005465478, 0.862009715382788, 0.6329296536137068, 0.9231120452085261, 0.8648400183117554, 0.6004882993401258, 0.32440172493087255, 0.07592380796254464, 0.5879262823563632, 0.47849417829022634, 0.5114937767930006, 0.18932863433308872, 0.5986878437019292, 0.12280776281065214, 0.0869888319908786, 0.19716655277173536, 0.6900829347010738, 0.9125989073445419, 0.443808761851331, 0.17179694007148297, 0.0715820583631179, 0.31496105679771874, 0.9188978702913644, 0.6480740599619521, 0.16201851499048803, 0.16201851499048803, 0.9884959564531863, 0.9888461338608391, 0.9859894235943795, 0.8313597163853694, 0.9680258342672471, 0.9909953392738198, 0.9658938210322345, 0.9837429871984694, 0.7087660928621174, 0.9592129351233959, 0.9631530800323145, 0.026754252223119848, 0.013377126111559924, 0.3499313690945218, 0.6229274726434396, 0.02647234943504657, 0.9211410359843502, 0.9749361672478027, 0.7707862891994449, 0.1236657985708447, 0.7419947914250682, 0.315650583636685, 0.23673793772751378, 0.44717166015197046, 0.8621236315753629, 0.7498846461997101, 0.11902587788689087, 0.6570228459356375, 0.14759208857974468, 0.07617656184761015, 0.9751807356631907, 0.9862047183471864, 0.901614431408358, 0.08868338669590406, 0.04730770553654262, 0.9461541107308524, 0.2570178198028571, 0.706799004457857, 0.8947450176632886, 0.9743167390032105, 0.7296843488096364, 0.9915414368330827, 0.2630786917786676, 0.4322007079220968, 0.300661362032763, 0.9063114038726777, 0.069360566622909, 0.0277442266491636, 0.9951636880650809, 0.9405736334590077, 0.3281074619135777, 0.11931180433221007, 0.5667310705779979, 0.13176067527638738, 0.856444389296518, 0.020584192367412678, 0.8542439832476262, 0.12350515420447607, 0.9466363015033578, 0.9706813926091379, 0.8970380692010822, 0.7503067776605683, 0.9336301500930668, 0.13721615706919735, 0.2615682994131574, 0.004288004908412417, 0.5788806626356763, 0.021440024542062085, 0.8137700213812471, 0.11625286019732102, 0.9831356194455343, 0.9386476231066105, 0.05073770935711409, 0.13086817706779635, 0.1472266992012709, 0.71977497387288, 0.82096849107319, 0.5599740392995652, 0.2589879931760489, 0.09566223171367573, 0.0839961058949348, 0.0023332251637481886, 0.7811345300073714, 0.27582328924989746, 0.4137349338748462, 0.27582328924989746, 0.13029178254034673, 0.40535221234774543, 0.40535221234774543, 0.05790745890682077, 0.20573860879955783, 0.45017117613481233, 0.3152141988029923, 0.029256407673331618, 0.30388102249967264, 0.2025873483331151, 0.5064683708327877, 0.4113012255582035, 0.5129168224608185, 0.07258256921615355, 0.2601923364260393, 0.5359962130376409, 0.145707708398582, 0.05724231401372864, 0.9418400735855433, 0.9483030573679428, 0.5417859525548331, 0.4289138791059095, 0.32824749034998546, 0.2917755469777648, 0.38295540540831635, 0.40847815527090847, 0.3907182354765211, 0.08879959897193662, 0.08879959897193662, 0.13418517042131628, 0.32800819436321754, 0.4920122915448263, 0.04472839014043876, 0.38135429604998405, 0.1235373071711216, 0.09668137082957343, 0.397467857854913, 0.8052283491255178, 0.8394838011078467, 0.14322218527226394, 0.8593331116335837, 0.8315729376402651, 0.03239894562234799, 0.07559753978547865, 0.05399824270391332, 0.9101031307817067, 0.03434351436912101, 0.017171757184560505, 0.03434351436912101, 0.19508110264727418, 0.398643992366169, 0.17811752850403295, 0.22052646386213604, 0.795454043554263, 0.1873322594942135, 0.0012138159362476036, 0.00040460531208253456, 0.015375001859136313, 0.9604355833059319, 0.9376307363717892, 0.9886571110712761, 0.5844824137356885, 0.16365507584599281, 0.2454826137689892, 0.7573517993499659, 0.23885710594883539, 0.8969175400079573, 0.3318415879435613, 0.05530693132392688, 0.6083762445631957, 0.34495567157576834, 0.08623891789394209, 0.5667128890173336, 0.2316787513199843, 0.4865253777719671, 0.27801450158398117, 0.8600725716643948, 0.7476826342914726, 0.2729697293348685, 0.6141818910034542, 0.10918789173394741, 0.9591496117604991, 0.014855400489330504, 0.4902282161479066, 0.41595121370125415, 0.07427700244665253, 0.014855400489330504, 0.5669412543046932, 0.05002422832100235, 0.0333494855473349, 0.3501695982470164, 0.9752110491263376, 0.019311109883689854, 0.626644678798202, 0.21131041494357974, 0.1603044527158191, 0.8969512244759319, 0.9838295081403088, 0.006838917381683048, 0.4753047580269718, 0.5129188036262285, 0.9732029465793877, 0.10245774560124209, 0.7428186556090051, 0.15368661840186312, 0.2312377816249894, 0.36916908996270237, 0.06085204779604984, 0.3367146644714758, 0.6564386619109968, 0.9653500041482909, 0.9851236720725166, 0.6564386619109968, 0.8812089804934894, 0.23362670669226906, 0.7008801200768072, 0.04035015030072348, 0.9684036072173635, 0.9885810348376841, 0.20670362054312347, 0.7441330339552444, 0.6564386619109968, 0.16710959031440265, 0.8355479515720132, 0.861677727484407, 0.25706512402784387, 0.19536949426116135, 0.17480428433893386, 0.3701737786000952, 0.9400200110245562, 0.7754125344615289, 0.2062296539087861, 0.756175397665549, 0.9776568151536772, 0.01657045449413012, 0.9024175975353749, 0.7337585723226305, 0.12148320733818387, 0.14335018465905697, 0.8319862227877695, 0.1326354847922531, 0.03617331403425084, 0.6335998434894414, 0.9547189183294466, 0.9807614860984775, 0.346181188314622, 0.413090157484675, 0.06109079793787447, 0.18036330819753416, 0.8308167614450286, 0.9417864693047023, 0.0324753954932656, 0.021650263662177066, 0.7894438446265236, 0.5702653882135535, 0.3628961561358977, 0.9917714069650644, 0.8339203907177876, 0.13898673178629792, 0.7410250363334221, 0.2593587627166977, 0.13944405948309826, 0.5197460398915481, 0.07606039608168996, 0.2535346536056332, 0.19846203125106557, 0.28776994531404504, 0.30761614843915164, 0.20838513281361884, 0.4508289043341784, 0.4508289043341784, 0.32581654598568927, 0.34951229478464846, 0.31989260878594944, 0.3359906206620384, 0.6719812413240768, 0.9725098551919843, 0.013036325136621773, 0.013036325136621773, 0.14253860955532965, 0.3759714049140579, 0.0702364163026262, 0.411089613065371, 0.034174148908666414, 0.9227020205339932, 0.045565531878221883, 0.29930308894413055, 0.1360468586109684, 0.5441874344438736, 0.03988872598775733, 0.5883587083194206, 0.27922108191430134, 0.09473572422092366, 0.9545868440131708, 0.9599318708781108, 0.24208187968379455, 0.5905330701377413, 0.10270140350221586, 0.06602233082285305, 0.875913453331132, 0.029691981468851936, 0.08907594440655581, 0.6328610139284253, 0.9654661626977064, 0.8081556865362105, 0.5273234899066941, 0.2668383924829055, 0.2033054418917375, 0.9632205322287097, 0.3491509465641546, 0.5466968768570315, 0.07350546243455885, 0.018376365608639714, 0.009188182804319857, 0.9895314755978671, 0.9133777459000418, 0.6252657974319487, 0.2789647403927155, 0.09499230384062296, 0.0012024342258306704, 0.9391432729217009, 0.15843587008753257, 0.8387781357575255, 0.7182114064980617, 0.22098812507632667, 0.06445486981392862, 0.6564953320470235, 0.4265270467736456, 0.060932435253377944, 0.5077702937781495, 0.9972794203592731, 0.9690053796482063, 0.3565864395194519, 0.40726877610089685, 0.0018100834493373194, 0.2353108484138515, 0.5646317742302424, 0.3146421337313564, 0.12068465403394492, 0.9837999100841164, 0.6993437474310078, 0.2543068172476392, 0.6083492984927875, 0.9477329063016856, 0.03159109687672285, 0.8897479613849474, 0.8364954787608659, 0.02148964204364298, 0.8380960397020762, 0.08595856817457193, 0.03223446306546447, 0.02148964204364298, 0.7376426299139115, 0.14343051137214946, 0.10245036526582105, 0.8086019511890928, 0.9729787925694484, 0.6943427449622139, 0.9607555117423952, 0.020990385658785006, 0.5037692558108401, 0.4477948940540801, 0.027987180878380005, 0.1535136724148242, 0.7675683620741209, 0.37237063257082526, 0.5585559488562379, 0.8213894929274279, 0.9609529918091969, 0.9027366740095637, 0.013473681701635279, 0.08084209020981167, 0.8448927156457559, 0.9899470825168245, 0.9798334142599354, 0.16379303402127637, 0.2183907120283685, 0.6005744580780134, 0.3023117513172384, 0.6144814945252564, 0.032859972969265044, 0.04928995945389757, 0.9127487861746398, 0.26730464332760817, 0.5768152829701019, 0.15274551047291896, 0.1499670704891738, 0.8435647715016026, 0.453420095352584, 0.5250127419872025, 0.17242135749002413, 0.020541172552963165, 0.7693602810746203, 0.037347586459933024, 0.9012696464968892, 0.06860416847500682, 0.931353559903123, 0.936118436390157, 0.6731707395159086, 0.11570122085429678, 0.08414634243948857, 0.06310975682961642, 0.06310975682961642, 0.3553332786555451, 0.344565603544771, 0.3014949031016746, 0.9703742000795295, 0.8308479505814416, 0.8369521000229091, 0.8944985159748107, 0.10321136722786277, 0.021846890149344222, 0.8629521608990967, 0.043693780298688444, 0.07646411552270477, 0.22092687036083156, 0.19441564591753177, 0.07953367332989936, 0.5037132644226959, 0.8891607279106286, 0.8969431251897021, 0.1865229138394004, 0.6977835625646633, 0.08990672825352393, 0.02549593786293962, 0.08075977547097771, 0.7627312127814561, 0.09870639224230608, 0.044866541928320944, 0.8902488992441512, 0.03650843094410973, 0.9583463122828804, 0.048758623785878766, 0.8776552281458178, 0.8195721774762893, 0.09313320198594197, 0.07450656158875357, 0.894725171485527, 0.889194140414813, 0.9761974903394917, 0.932957285018098, 0.9610126514978765, 0.28684396367725007, 0.7011741334332778, 0.009106157577055556, 0.9624817207051535, 0.020380332602268236, 0.030570498903402354, 0.4076066520453647, 0.5400788139601083, 0.7995152310165006, 0.2629576927925867, 0.6135679498493689, 0.12302114282694114, 0.6563924069463694, 0.7295564017459744, 0.9684492443981021, 0.022010210099956868, 0.031831794828100154, 0.1591589741405008, 0.6684676913901033, 0.12732717931240062, 0.4292099171518795, 0.47603281720481183, 0.09364580010586462, 0.8215447791209772, 0.8366267928576554, 0.03802533493657418, 0.8999329268322557, 0.012675111645524727, 0.05070044658209891, 0.26751415578414056, 0.35886045288116414, 0.37190992389502464, 0.11829231264979617, 0.7886154176653077, 0.09118365766755121, 0.138291349564831, 0.8548919791280462, 0.9830502741858905, 0.03762696744178309, 0.9594876697654687, 0.01167064595405512, 0.8558473699640421, 0.12059667485856956, 0.01167064595405512, 0.1274765189098469, 0.04249217296994896, 0.8285973729140048, 0.3341896856205332, 0.5146111109862198, 0.11481363432361877, 0.03690438246116318, 0.9832491730857604, 0.934791599720924, 0.9479315937126376, 0.51618680235483, 0.4516634520604763, 0.9819382022763232, 0.01212269385526325, 0.9632364084522423, 0.22364130249054284, 0.30496541248710385, 0.4676136324802259, 0.6883889430944404, 0.20913081815527304, 0.05228270453881826, 0.04792581249391674, 0.5894016888443424, 0.44011413824932805, 0.5029875865706607, 0.9677021186420227], \"Term\": [\"act\", \"act\", \"acting\", \"acting\", \"acting\", \"acting\", \"actor\", \"actor\", \"actress\", \"adrenaline\", \"adult\", \"adult\", \"adult\", \"adult\", \"ali\", \"alice\", \"american\", \"anime\", \"anime\", \"anime\", \"anticipation\", \"apart\", \"argument\", \"art\", \"art\", \"art\", \"asun\", \"average\", \"average\", \"awesome\", \"bachman\", \"bait\", \"bandwagon\", \"bang\", \"battle\", \"battle\", \"battle\", \"bias\", \"binge\", \"binge\", \"bit\", \"bit\", \"bit\", \"bit\", \"blah\", \"blah\", \"blockbuster\", \"blood\", \"blood\", \"blood\", \"blood\", \"blowing\", \"book\", \"book\", \"book\", \"borderland\", \"boring\", \"bridge\", \"brilliance\", \"brilliant\", \"brother\", \"brutal\", \"byeok\", \"capital\", \"casting\", \"chance\", \"chance\", \"chance\", \"character\", \"character\", \"character\", \"cheesy\", \"childhood\", \"classic\", \"combination\", \"combination\", \"commentary\", \"commentary\", \"commentary\", \"complexity\", \"composition\", \"concept\", \"concept\", \"concept\", \"concept\", \"connection\", \"contestant\", \"cop\", \"cop\", \"costume\", \"costume\", \"crap\", \"crap\", \"crazy\", \"cringe\", \"cup\", \"daughter\", \"day\", \"day\", \"day\", \"death\", \"death\", \"death\", \"debt\", \"decent\", \"depth\", \"depth\", \"depth\", \"design\", \"design\", \"dialogue\", \"dialogue\", \"dialogue\", \"directing\", \"direction\", \"dish\", \"disney\", \"dont\", \"drama\", \"drama\", \"drama\", \"drama\", \"drama\", \"dream\", \"dream\", \"dub\", \"dubbing\", \"dubbing\", \"edge\", \"edge\", \"edge\", \"emperor\", \"end\", \"end\", \"end\", \"end\", \"end\", \"enough\", \"entertaining\", \"entertaining\", \"entertaining\", \"entertainment\", \"entertainment\", \"entertainment\", \"entertainment\", \"episode\", \"episode\", \"episode\", \"episode\", \"error\", \"error\", \"error\", \"everyone\", \"everyone\", \"everyone\", \"everything\", \"everything\", \"everything\", \"everything\", \"excellent\", \"exciting\", \"execution\", \"execution\", \"expectation\", \"expectation\", \"expectation\", \"eye\", \"eye\", \"eye\", \"eye\", \"fan\", \"fan\", \"fan\", \"fan\", \"film\", \"film\", \"film\", \"film\", \"filmmaker\", \"fine\", \"fly\", \"fly\", \"friend\", \"friend\", \"friend\", \"friend\", \"front\", \"front\", \"front\", \"front\", \"fun\", \"fun\", \"fun\", \"fun\", \"game\", \"game\", \"game\", \"game\", \"game\", \"garbage\", \"gem\", \"glass\", \"gore\", \"gore\", \"gore\", \"guy\", \"guy\", \"heartbreaking\", \"history\", \"history\", \"history\", \"hole\", \"hole\", \"hole\", \"hollywood\", \"hollywood\", \"hollywood\", \"honest\", \"horrifying\", \"horror\", \"horror\", \"horror\", \"hostel\", \"hour\", \"hour\", \"hour\", \"hour\", \"hour\", \"humanity\", \"humanity\", \"humanity\", \"humanity\", \"hun\", \"hun\", \"hunger\", \"hunger\", \"hunger\", \"hustle\", \"hwang\", \"hype\", \"hype\", \"hype\", \"hyuk\", \"i've\", \"i've\", \"i've\", \"idea\", \"idea\", \"idea\", \"idea\", \"iraq\", \"island\", \"jae\", \"jamila\", \"jaw\", \"jerk\", \"jerk\", \"joke\", \"joke\", \"jung\", \"kaiji\", \"kaiji\", \"kalash\", \"keep\", \"keep\", \"kingdom\", \"korea\", \"korea\", \"korea\", \"korea\", \"kudos\", \"kung\", \"lame\", \"lame\", \"language\", \"language\", \"laugh\", \"life\", \"life\", \"life\", \"light\", \"light\", \"light\", \"load\", \"lord\", \"loser\", \"lot\", \"lot\", \"lot\", \"lot\", \"madness\", \"man\", \"man\", \"man\", \"management\", \"master\", \"master\", \"masterpiece\", \"mediocre\", \"mediocre\", \"meh\", \"meh\", \"message\", \"message\", \"message\", \"message\", \"mind\", \"mind\", \"mind\", \"mind\", \"mode\", \"mode\", \"moment\", \"moment\", \"moment\", \"momentum\", \"momentum\", \"money\", \"money\", \"money\", \"movie\", \"movie\", \"movie\", \"movie\", \"music\", \"music\", \"music\", \"need\", \"need\", \"need\", \"netflix\", \"netflix\", \"netflix\", \"netflix\", \"noise\", \"notch\", \"nothing\", \"nothing\", \"nothing\", \"nothing\", \"number\", \"number\", \"number\", \"obsession\", \"okay\", \"omg\", \"one\", \"one\", \"one\", \"order\", \"part\", \"part\", \"part\", \"part\", \"part\", \"participant\", \"payoff\", \"people\", \"people\", \"people\", \"people\", \"perfect\", \"performance\", \"performance\", \"person\", \"person\", \"person\", \"phenomenal\", \"piece\", \"piece\", \"piece\", \"player\", \"please\", \"plot\", \"plot\", \"plot\", \"plot\", \"point\", \"point\", \"point\", \"police\", \"ppl\", \"ppl\", \"pressure\", \"prize\", \"prize\", \"psycho\", \"psychology\", \"rating\", \"rating\", \"rating\", \"rating\", \"rating\", \"reality\", \"reality\", \"reality\", \"recommend\", \"relationship\", \"reminds\", \"reveal\", \"review\", \"review\", \"review\", \"review\", \"reviewer\", \"reviewer\", \"rip\", \"rip\", \"ripoff\", \"rollercoaster\", \"royale\", \"royale\", \"royale\", \"rubbish\", \"rule\", \"sang\", \"scenario\", \"scenario\", \"scenario\", \"scene\", \"scene\", \"scene\", \"scene\", \"sci\", \"season\", \"season\", \"season\", \"seat\", \"seat\", \"serie\", \"serie\", \"series\", \"series\", \"series\", \"series\", \"shallow\", \"show\", \"show\", \"slow\", \"society\", \"society\", \"society\", \"society\", \"society\", \"something\", \"something\", \"something\", \"speaker\", \"speechless\", \"spoil\", \"squid\", \"squid\", \"star\", \"star\", \"star\", \"star\", \"start\", \"start\", \"start\", \"start\", \"stomach\", \"storm\", \"story\", \"story\", \"story\", \"story\", \"storyline\", \"storyline\", \"storyline\", \"storyline\", \"substance\", \"subtitle\", \"subtitle\", \"superb\", \"superb\", \"survival\", \"survival\", \"survival\", \"suspence\", \"sync\", \"system\", \"tarantino\", \"thank\", \"thing\", \"thing\", \"thing\", \"thought\", \"thriller\", \"thriller\", \"thriller\", \"thriller\", \"thumb\", \"time\", \"time\", \"time\", \"timeless\", \"tragedy\", \"translation\", \"translation\", \"trash\", \"trash\", \"trash\", \"trash\", \"twist\", \"twist\", \"twist\", \"uncle\", \"understanding\", \"version\", \"version\", \"version\", \"version\", \"violence\", \"violence\", \"violence\", \"vip\", \"vip\", \"vip\", \"vip's\", \"vip's\", \"voice\", \"waste\", \"waste\", \"watch\", \"watch\", \"watch\", \"watch\", \"watching\", \"watching\", \"watching\", \"way\", \"way\", \"way\", \"way\", \"web\", \"webseries\", \"weekend\", \"what's\", \"what's\", \"winner\", \"winner\", \"woo\", \"word\", \"word\", \"word\", \"world\", \"world\", \"world\", \"world\", \"worse\", \"worthy\", \"worthy\", \"wow\"]}, \"R\": 30, \"lambda.step\": 0.01, \"plot.opts\": {\"xlab\": \"PC1\", \"ylab\": \"PC2\"}, \"topic.order\": [2, 3, 1, 4, 5]};\n",
              "\n",
              "function LDAvis_load_lib(url, callback){\n",
              "  var s = document.createElement('script');\n",
              "  s.src = url;\n",
              "  s.async = true;\n",
              "  s.onreadystatechange = s.onload = callback;\n",
              "  s.onerror = function(){console.warn(\"failed to load library \" + url);};\n",
              "  document.getElementsByTagName(\"head\")[0].appendChild(s);\n",
              "}\n",
              "\n",
              "if(typeof(LDAvis) !== \"undefined\"){\n",
              "   // already loaded: just create the visualization\n",
              "   !function(LDAvis){\n",
              "       new LDAvis(\"#\" + \"ldavis_el2494016331397763282475897395\", ldavis_el2494016331397763282475897395_data);\n",
              "   }(LDAvis);\n",
              "}else if(typeof define === \"function\" && define.amd){\n",
              "   // require.js is available: use it to load d3/LDAvis\n",
              "   require.config({paths: {d3: \"https://d3js.org/d3.v5\"}});\n",
              "   require([\"d3\"], function(d3){\n",
              "      window.d3 = d3;\n",
              "      LDAvis_load_lib(\"https://cdn.jsdelivr.net/gh/bmabey/pyLDAvis@3.3.1/pyLDAvis/js/ldavis.v3.0.0.js\", function(){\n",
              "        new LDAvis(\"#\" + \"ldavis_el2494016331397763282475897395\", ldavis_el2494016331397763282475897395_data);\n",
              "      });\n",
              "    });\n",
              "}else{\n",
              "    // require.js not available: dynamically load d3 & LDAvis\n",
              "    LDAvis_load_lib(\"https://d3js.org/d3.v5.js\", function(){\n",
              "         LDAvis_load_lib(\"https://cdn.jsdelivr.net/gh/bmabey/pyLDAvis@3.3.1/pyLDAvis/js/ldavis.v3.0.0.js\", function(){\n",
              "                 new LDAvis(\"#\" + \"ldavis_el2494016331397763282475897395\", ldavis_el2494016331397763282475897395_data);\n",
              "            })\n",
              "         });\n",
              "}\n",
              "</script>"
            ],
            "text/plain": [
              "<IPython.core.display.HTML object>"
            ]
          },
          "execution_count": 98,
          "metadata": {},
          "output_type": "execute_result"
        }
      ],
      "source": [
        "# 시각화\n",
        "import pyLDAvis.gensim_models as gensimvis\n",
        "import pyLDAvis\n",
        "from gensim.models.coherencemodel import CoherenceModel\n",
        "import matplotlib.pyplot as plt\n",
        "\n",
        "pyLDAvis.enable_notebook()\n",
        "vis = pyLDAvis.gensim_models.prepare(model, corpus, dictionary, sort_topics=True)\n",
        "pyLDAvis.display(vis)"
      ]
    },
    {
      "cell_type": "markdown",
      "metadata": {
        "id": "EcJtDtpicKkm"
      },
      "source": [
        "# 임베딩"
      ]
    },
    {
      "cell_type": "code",
      "execution_count": null,
      "metadata": {
        "id": "AGKQ1FmHcKkm"
      },
      "outputs": [],
      "source": [
        "from sentence_transformers import SentenceTransformer\n",
        "\n",
        "model = SentenceTransformer('distilbert-base-nli-stsb-mean-tokens')\n",
        "# doc_embedding = model.encode([sentence])\n",
        "doc_embedding = model.encode([sentences])\n",
        "candidate_embeddings = model.encode(candidates)"
      ]
    },
    {
      "cell_type": "code",
      "execution_count": null,
      "metadata": {
        "id": "-o5zGKSdcKkn",
        "outputId": "9dafb8bb-31c3-4165-cbb7-5bdf3edb624e"
      },
      "outputs": [
        {
          "data": {
            "text/plain": [
              "((61, 768), (1, 768))"
            ]
          },
          "execution_count": 39,
          "metadata": {},
          "output_type": "execute_result"
        }
      ],
      "source": [
        "candidate_embeddings.shape, doc_embedding.shape"
      ]
    },
    {
      "cell_type": "markdown",
      "metadata": {
        "id": "rsW6mgMi4N71"
      },
      "source": [
        "# 코사인 유사도 함수"
      ]
    },
    {
      "cell_type": "code",
      "execution_count": null,
      "metadata": {
        "id": "wIJ9WZpmlqlu"
      },
      "outputs": [],
      "source": [
        "from sklearn.metrics.pairwise import cosine_similarity\n",
        "top_n = 1000\n",
        "diversity = 0.7\n",
        "\n",
        "def mmr(doc_embedding, candidate_embeddings, words, top_n, diversity):\n",
        "    word_doc_distances = cosine_similarity(candidate_embeddings,doc_embedding)\n",
        "    word_distances = cosine_similarity(candidate_embeddings) \n",
        "\n",
        "    keywords_idx = [np.argmax(word_doc_distances)]\n",
        "    candidates_idx = [i for i in range(len(candidates)) if i != keywords_idx[0]]\n",
        "    \n",
        "    for _ in range(top_n-1):\n",
        "        try:\n",
        "        # 후보 키워드들의 문서유사도 값\n",
        "            candidate_similarities = word_doc_distances[candidates_idx, :]\n",
        "            # 후보 키워드와 가장 유사한 키워드\n",
        "            target_similarities = np.max(word_distances[candidates_idx][:,keywords_idx], axis=1) \n",
        "\n",
        "            mmr = (1-diversity) * candidate_similarities - diversity * target_similarities.reshape(-1,1)\n",
        "            mmr_idx = candidates_idx[np.argmax(mmr)]\n",
        "\n",
        "            keywords_idx.append(mmr_idx)\n",
        "            candidates_idx.remove(mmr_idx)\n",
        "        except:\n",
        "            break\n",
        "\n",
        "    # 본 단어 임베딩벡터에서 추출키워드에 해당하는 벡터만\n",
        "    keywords_vector = candidate_embeddings[keywords_idx][:] \n",
        "    keywords = [words[idx] for idx in keywords_idx]\n",
        "    \n",
        "    return keywords_vector, keywords\n"
      ]
    },
    {
      "cell_type": "code",
      "execution_count": null,
      "metadata": {
        "id": "zrZeLhwA0Kmx"
      },
      "outputs": [],
      "source": [
        "keywords_vector, keywords = mmr(doc_embedding,candidate_embeddings,candidates,top_n=500,diversity=0.6)"
      ]
    },
    {
      "cell_type": "code",
      "execution_count": null,
      "metadata": {
        "colab": {
          "base_uri": "https://localhost:8080/"
        },
        "id": "hHYkd2i803dm",
        "outputId": "5414c49a-9476-4b02-b487-11778f36a142"
      },
      "outputs": [
        {
          "data": {
            "text/plain": [
              "(61, 768)"
            ]
          },
          "execution_count": 44,
          "metadata": {},
          "output_type": "execute_result"
        }
      ],
      "source": [
        "keywords_vector.shape"
      ]
    },
    {
      "cell_type": "code",
      "execution_count": null,
      "metadata": {},
      "outputs": [
        {
          "data": {
            "text/plain": [
              "['seo favorite',\n",
              " 'fight scene make',\n",
              " 'kdrama ive watch',\n",
              " 'supernatural phenomenon',\n",
              " 'disappoint drama',\n",
              " 'father also',\n",
              " 'power money',\n",
              " 'prison playbook',\n",
              " 'korean film making',\n",
              " 'teach lot']"
            ]
          },
          "execution_count": 119,
          "metadata": {},
          "output_type": "execute_result"
        }
      ],
      "source": [
        "keywords[:10]"
      ]
    },
    {
      "cell_type": "markdown",
      "metadata": {},
      "source": [
        "# KMEANS"
      ]
    },
    {
      "cell_type": "code",
      "execution_count": null,
      "metadata": {
        "colab": {
          "base_uri": "https://localhost:8080/"
        },
        "id": "EkI_LLo9cKko",
        "outputId": "146fd432-4eaa-416f-9f19-35cd06f3f5a0"
      },
      "outputs": [
        {
          "name": "stdout",
          "output_type": "stream",
          "text": [
            "Top terms per cluster:\n",
            "[\n",
            "\"way\",\"perfect\",\"really\",\"able\",\"good\",\"also\",\"anything\",\"seem\",\"let\",\"find\",\"make\",\"take\",\"first\",\"south\",\"add\",\"soo\",\"adopt\",\"pas\",\"bit\",\"try\",],\n",
            "\n",
            "[\n",
            "\"kill husband\",\"prison daughter\",\"husband\",\"eun soo\",\"mother law\",\"prison\",\"mother daughter\",\"romance\",\"eun\",\"kill\",\"accuse kill\",\"emotional drama\",\"father\",\"daughter adopt\",\"mother\",\"law\",\"daughter\",\"good story\",\"heart\",\"soo\",],\n",
            "\n",
            "[\n",
            "\"really\",\"take\",\"lot\",\"bit\",\"let\",\"seem\",\"also\",\"way\",\"deeply\",\"accuse\",\"first\",\"good\",\"anything\",\"scene\",\"find\",\"make\",\"series\",\"plot\",\"drama\",\"story\",],\n",
            "\n",
            "[\n",
            "\"mother daughter\",\"daughter\",\"mother\",\"mother law\",\"daughter adopt\",\"prison daughter\",\"eun\",\"eun soo\",\"emotional\",\"emotional drama\",\"reporter\",\"romance\",\"story\",\"drama\",\"adopt\",\"good story\",\"character\",\"spoiler\",\"plot twist\",\"mystery\",],\n",
            "\n",
            "[\n",
            "\"prison daughter\",\"reporter\",\"kill husband\",\"mother daughter\",\"daughter adopt\",\"husband\",\"mother law\",\"mother\",\"daughter\",\"prison\",\"viewer\",\"eun soo\",\"friend\",\"father\",\"character\",\"romance\",\"twist\",\"accuse kill\",\"sometimes\",\"lot plot\",],\n",
            "\n",
            "[\n",
            "\"lot plot\",\"plot\",\"plot twist\",\"mystery\",\"emotional drama\",\"emotional\",\"twist\",\"kill husband\",\"lot\",\"story\",\"drama\",\"deeply\",\"accuse kill\",\"accuse\",\"kill\",\"sometimes\",\"scene\",\"good story\",\"husband\",\"character\",],\n",
            "\n"
          ]
        }
      ],
      "source": [
        "from sklearn.cluster import KMeans\n",
        "from sklearn.metrics import adjusted_rand_score\n",
        "\n",
        "X = keywords_vector\n",
        "\n",
        "true_k = 6\n",
        "model = KMeans(n_clusters=true_k, init='k-means++', max_iter=100, n_init=1)\n",
        "model.fit(X.T)\n",
        "\n",
        "print(\"Top terms per cluster:\")\n",
        "order_centroids = model.cluster_centers_.argsort()[:, ::-1]\n",
        "terms = keywords # = candidates\n",
        "for i in range(true_k):\n",
        "    print(\"[\"),\n",
        "    for ind in order_centroids[i, :20]:\n",
        "        print(f'\"{terms[ind]}\"', end=\",\")\n",
        "    print(\"],\\n\")"
      ]
    },
    {
      "cell_type": "code",
      "execution_count": null,
      "metadata": {
        "colab": {
          "base_uri": "https://localhost:8080/",
          "height": 347
        },
        "id": "Hcp43g99G8uQ",
        "outputId": "c6909ead-a4ce-4b14-9c95-a35121a3178f"
      },
      "outputs": [
        {
          "data": {
            "image/png": "[encoded data removed]",
            "text/plain": [
              "<Figure size 432x288 with 1 Axes>"
            ]
          },
          "metadata": {
            "needs_background": "light"
          },
          "output_type": "display_data"
        }
      ],
      "source": [
        "x = list(range(1,11))\n",
        "y = []\n",
        "for i in x:\n",
        "    model = KMeans(n_clusters=i, init='k-means++', max_iter=100, n_init=1)\n",
        "    model.fit(X.T)\n",
        "    y.append(model.inertia_)\n",
        "\n",
        "import matplotlib.pyplot as plt\n",
        "\n",
        "plt.plot(x,y,label='linear')\n",
        "plt.show();"
      ]
    },
    {
      "cell_type": "code",
      "execution_count": null,
      "metadata": {
        "id": "_489sUqS-4Ls"
      },
      "outputs": [],
      "source": []
    },
    {
      "cell_type": "code",
      "execution_count": null,
      "metadata": {},
      "outputs": [],
      "source": []
    },
    {
      "cell_type": "code",
      "execution_count": null,
      "metadata": {},
      "outputs": [],
      "source": []
    }
  ],
  "metadata": {
    "accelerator": "GPU",
    "colab": {
      "collapsed_sections": [
        "FJI_C1zmcKkn"
      ],
      "name": "keyword&Kmeans.ipynb",
      "provenance": []
    },
    "interpreter": {
      "hash": "5d1185015da4ffa7ac966b843cf1b2aa0b72f05a29a69f5fe9173c667b919a88"
    },
    "kernelspec": {
      "display_name": "Python 3.7.11 ('jaeyeong')",
      "language": "python",
      "name": "python3"
    },
    "language_info": {
      "codemirror_mode": {
        "name": "ipython",
        "version": 3
      },
      "file_extension": ".py",
      "mimetype": "text/x-python",
      "name": "python",
      "nbconvert_exporter": "python",
      "pygments_lexer": "ipython3",
      "version": "3.7.11"
    },
    "orig_nbformat": 4
  },
  "nbformat": 4,
  "nbformat_minor": 0
}
