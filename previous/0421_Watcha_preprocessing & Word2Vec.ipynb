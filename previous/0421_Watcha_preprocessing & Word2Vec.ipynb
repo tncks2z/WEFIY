{
 "cells": [
  {
   "cell_type": "code",
   "execution_count": 2,
   "id": "7bb04327",
   "metadata": {
    "ExecuteTime": {
     "end_time": "2022-04-21T07:50:01.555001Z",
     "start_time": "2022-04-21T07:50:01.549744Z"
    }
   },
   "outputs": [],
   "source": [
    "import pandas as pd\n",
    "from gensim.models.word2vec import Word2Vec\n",
    "import warnings\n",
    "warnings.filterwarnings('ignore')"
   ]
  },
  {
   "cell_type": "code",
   "execution_count": 3,
   "id": "ebbda2d3",
   "metadata": {
    "ExecuteTime": {
     "end_time": "2022-04-21T07:50:08.092267Z",
     "start_time": "2022-04-21T07:50:08.056153Z"
    }
   },
   "outputs": [],
   "source": [
    "import re\n",
    "from konlpy.tag import Mecab\n",
    "from tqdm import tqdm"
   ]
  },
  {
   "cell_type": "markdown",
   "id": "c0ec667c",
   "metadata": {},
   "source": [
    "### CSV to DataFrame"
   ]
  },
  {
   "cell_type": "code",
   "execution_count": 4,
   "id": "71bead1d",
   "metadata": {
    "ExecuteTime": {
     "end_time": "2022-04-21T07:50:48.167633Z",
     "start_time": "2022-04-21T07:50:47.852957Z"
    }
   },
   "outputs": [],
   "source": [
    "df = pd.read_csv(\"/Users/suchan/study/파이널 프로젝트/contents_Watcha.csv\")"
   ]
  },
  {
   "cell_type": "markdown",
   "id": "7227c7b2",
   "metadata": {},
   "source": [
    "### 전처리 함수 및 실행"
   ]
  },
  {
   "cell_type": "markdown",
   "id": "431e7f6e",
   "metadata": {},
   "source": [
    "#### 함수"
   ]
  },
  {
   "cell_type": "code",
   "execution_count": 30,
   "id": "00571c1c",
   "metadata": {
    "ExecuteTime": {
     "end_time": "2022-04-21T08:10:06.464395Z",
     "start_time": "2022-04-21T08:10:06.448481Z"
    }
   },
   "outputs": [],
   "source": [
    "def clean_text(text):\n",
    "    text = text.replace(\".\", \"\").strip()\n",
    "    text = text.replace(\"·\", \" \").strip()\n",
    "    pattern = '[^ ㄱ-ㅣ가-힣|0-9]+'\n",
    "    text = re.sub(pattern, '', text)\n",
    "    return text\n",
    "\n",
    "def get_nouns(tokenizer, sentence):\n",
    "    tagged = tokenizer.pos(sentence)\n",
    "    stop_words = ['드라마','정도','사람','생각','의','가','이','은','들','는','좀','잘','걍','과','도','를','으로','자','에','와','한','하다', '무척', '부탁', '인간']\n",
    "    nouns = [word for word, tag in tagged if tag in ['NNG', 'NNP'] and len(word) >1 and word not in stop_words]\n",
    "    return nouns\n",
    "\n",
    "def tokenize(df):\n",
    "    tokenizer = Mecab()\n",
    "    processed_data = []\n",
    "    for sent in tqdm(df['reviews']):\n",
    "        sentence = clean_text(str(sent).replace(\"\\n\", \"\").strip())\n",
    "        processed_data.append(get_nouns(tokenizer, sentence))\n",
    "    return processed_data"
   ]
  },
  {
   "cell_type": "markdown",
   "id": "68468329",
   "metadata": {},
   "source": [
    "#### 실행 및 DataFrame에 추가"
   ]
  },
  {
   "cell_type": "code",
   "execution_count": 31,
   "id": "1f883199",
   "metadata": {
    "ExecuteTime": {
     "end_time": "2022-04-21T08:10:16.282875Z",
     "start_time": "2022-04-21T08:10:07.259529Z"
    }
   },
   "outputs": [
    {
     "name": "stderr",
     "output_type": "stream",
     "text": [
      "100%|██████████| 91249/91249 [00:09<00:00, 10128.74it/s]\n"
     ]
    }
   ],
   "source": [
    "preprocessed_data = tokenize(df)"
   ]
  },
  {
   "cell_type": "code",
   "execution_count": 32,
   "id": "80e169e0",
   "metadata": {
    "ExecuteTime": {
     "end_time": "2022-04-21T08:10:16.426001Z",
     "start_time": "2022-04-21T08:10:16.408933Z"
    }
   },
   "outputs": [],
   "source": [
    "df['preprocessed_reviews'] = preprocessed_data"
   ]
  },
  {
   "cell_type": "code",
   "execution_count": 33,
   "id": "1b271f18",
   "metadata": {
    "ExecuteTime": {
     "end_time": "2022-04-21T08:10:16.552430Z",
     "start_time": "2022-04-21T08:10:16.548880Z"
    }
   },
   "outputs": [
    {
     "data": {
      "text/plain": [
       "0                      [캐스팅, 라인업, 노희경, 극본, 몰입, 차승원]\n",
       "1                             [침묵, 순간, 노희경, 극본, 경지]\n",
       "2                            [세상, 노희경, 작가, 배우, 스토리]\n",
       "3                                  [배우, 한수, 위험, 고통]\n",
       "4                                     [특별, 저마다, 사정]\n",
       "                            ...                    \n",
       "91244                                         [주인공]\n",
       "91245    [신박, 이야기, 시작, 안정, 신인, 작가, 박수, 승연, 보결, 재발견]\n",
       "91246        [진짜, 세상, 대리, 감정, 승연, 영화, 아일랜드, 투명, 눈길]\n",
       "91247                                      [승연, 연기]\n",
       "91248                         [소재, 중간, 도달, 스토리, 예상]\n",
       "Name: preprocessed_reviews, Length: 91249, dtype: object"
      ]
     },
     "execution_count": 33,
     "metadata": {},
     "output_type": "execute_result"
    }
   ],
   "source": [
    "df['preprocessed_reviews']"
   ]
  },
  {
   "cell_type": "markdown",
   "id": "2a115c3c",
   "metadata": {},
   "source": [
    "### Word2Vec"
   ]
  },
  {
   "cell_type": "code",
   "execution_count": 41,
   "id": "21aa103c",
   "metadata": {
    "ExecuteTime": {
     "end_time": "2022-04-21T09:25:53.266556Z",
     "start_time": "2022-04-21T09:25:52.936102Z"
    }
   },
   "outputs": [],
   "source": [
    "model = Word2Vec(sentences = preprocessed_data, vector_size = 200, window = 3, min_count = 5, workers = -1, sg = 0)"
   ]
  },
  {
   "cell_type": "code",
   "execution_count": 42,
   "id": "aca2216e",
   "metadata": {
    "ExecuteTime": {
     "end_time": "2022-04-21T09:25:53.800192Z",
     "start_time": "2022-04-21T09:25:53.790223Z"
    },
    "scrolled": true
   },
   "outputs": [
    {
     "data": {
      "text/plain": [
       "(10909, 200)"
      ]
     },
     "execution_count": 42,
     "metadata": {},
     "output_type": "execute_result"
    }
   ],
   "source": [
    "model.wv.vectors.shape"
   ]
  },
  {
   "cell_type": "code",
   "execution_count": 43,
   "id": "28b55c48",
   "metadata": {
    "ExecuteTime": {
     "end_time": "2022-04-21T09:25:58.145749Z",
     "start_time": "2022-04-21T09:25:58.130704Z"
    }
   },
   "outputs": [
    {
     "name": "stdout",
     "output_type": "stream",
     "text": [
      "[('해자', 0.24927730858325958), ('첫눈', 0.2415984570980072), ('사필귀정', 0.24116162955760956), ('화풀이', 0.2329683005809784), ('신원호', 0.23137734830379486), ('이때', 0.22117801010608673), ('연녀', 0.22106102108955383), ('평화', 0.21906854212284088), ('박동훈', 0.21629111468791962), ('다인', 0.2136673480272293)]\n"
     ]
    }
   ],
   "source": [
    "print(model.wv.most_similar(\"이야기\"))"
   ]
  },
  {
   "cell_type": "code",
   "execution_count": null,
   "id": "5989e137",
   "metadata": {},
   "outputs": [],
   "source": []
  }
 ],
 "metadata": {
  "hide_input": false,
  "kernelspec": {
   "display_name": "study",
   "language": "python",
   "name": "study"
  },
  "language_info": {
   "codemirror_mode": {
    "name": "ipython",
    "version": 3
   },
   "file_extension": ".py",
   "mimetype": "text/x-python",
   "name": "python",
   "nbconvert_exporter": "python",
   "pygments_lexer": "ipython3",
   "version": "3.9.10"
  },
  "toc": {
   "base_numbering": 1,
   "nav_menu": {},
   "number_sections": true,
   "sideBar": true,
   "skip_h1_title": false,
   "title_cell": "Table of Contents",
   "title_sidebar": "Contents",
   "toc_cell": false,
   "toc_position": {},
   "toc_section_display": true,
   "toc_window_display": false
  },
  "varInspector": {
   "cols": {
    "lenName": 16,
    "lenType": 16,
    "lenVar": 40
   },
   "kernels_config": {
    "python": {
     "delete_cmd_postfix": "",
     "delete_cmd_prefix": "del ",
     "library": "var_list.py",
     "varRefreshCmd": "print(var_dic_list())"
    },
    "r": {
     "delete_cmd_postfix": ") ",
     "delete_cmd_prefix": "rm(",
     "library": "var_list.r",
     "varRefreshCmd": "cat(var_dic_list()) "
    }
   },
   "types_to_exclude": [
    "module",
    "function",
    "builtin_function_or_method",
    "instance",
    "_Feature"
   ],
   "window_display": false
  }
 },
 "nbformat": 4,
 "nbformat_minor": 5
}
