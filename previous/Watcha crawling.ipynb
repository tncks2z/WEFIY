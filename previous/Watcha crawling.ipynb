{
 "cells": [
  {
   "cell_type": "code",
   "execution_count": 1,
   "id": "c9d30512",
   "metadata": {
    "ExecuteTime": {
     "end_time": "2022-04-14T06:16:29.829818Z",
     "start_time": "2022-04-14T06:16:29.594712Z"
    }
   },
   "outputs": [],
   "source": [
    "import pandas as pd\n",
    "import numpy as np"
   ]
  },
  {
   "cell_type": "code",
   "execution_count": 2,
   "id": "13759c9f",
   "metadata": {
    "ExecuteTime": {
     "end_time": "2022-04-14T06:16:29.832501Z",
     "start_time": "2022-04-14T06:16:29.831033Z"
    }
   },
   "outputs": [],
   "source": [
    "import warnings\n",
    "warnings.filterwarnings('ignore')"
   ]
  },
  {
   "cell_type": "code",
   "execution_count": 3,
   "id": "3313cccb",
   "metadata": {
    "ExecuteTime": {
     "end_time": "2022-04-14T06:16:29.988827Z",
     "start_time": "2022-04-14T06:16:29.833412Z"
    }
   },
   "outputs": [],
   "source": [
    "import pandas as pd\n",
    "import time\n",
    "import re\n",
    "from bs4 import BeautifulSoup\n",
    "from tqdm.auto import tqdm\n",
    "from selenium.webdriver import Chrome\n",
    "from selenium.webdriver.common.by import By\n",
    "from selenium.webdriver.common.keys import Keys\n",
    "from selenium.webdriver.support.ui import WebDriverWait\n",
    "from selenium.webdriver.support import expected_conditions as EC\n",
    "from selenium import webdriver\n",
    "from selenium.common.exceptions import TimeoutException\n",
    "from selenium.webdriver.chrome.service import Service\n",
    "from webdriver_manager.chrome import ChromeDriverManager"
   ]
  },
  {
   "cell_type": "code",
   "execution_count": 20,
   "id": "1b880d3c",
   "metadata": {
    "ExecuteTime": {
     "end_time": "2022-04-14T07:03:45.613191Z",
     "start_time": "2022-04-14T07:03:45.606225Z"
    }
   },
   "outputs": [],
   "source": [
    "chrome_driver_path = '/opt/homebrew/Caskroom/chromedriver/100.0.4896.60/chromedriver'\n",
    "options = webdriver.ChromeOptions()\n",
    "options.add_argument(\"headless\")"
   ]
  },
  {
   "cell_type": "code",
   "execution_count": 10,
   "id": "417e76ef",
   "metadata": {
    "ExecuteTime": {
     "end_time": "2022-04-14T06:28:59.495587Z",
     "start_time": "2022-04-14T06:28:59.485106Z"
    }
   },
   "outputs": [],
   "source": [
    "# 스크롤 다운\n",
    "def scroll_down(second):\n",
    "    driver.execute_script(\"window.scrollTo(0, document.documentElement.scrollHeight);\")\n",
    "    time.sleep(second)\n",
    "    new = driver.execute_script(\"return document.documentElement.scrollHeight\")\n",
    "    \n",
    "    return new"
   ]
  },
  {
   "cell_type": "markdown",
   "id": "30555c3c",
   "metadata": {},
   "source": [
    "# 한국 TV 프로그램 인기 순위"
   ]
  },
  {
   "cell_type": "code",
   "execution_count": 21,
   "id": "49df464c",
   "metadata": {
    "ExecuteTime": {
     "end_time": "2022-04-14T12:44:58.849476Z",
     "start_time": "2022-04-14T07:04:49.621289Z"
    },
    "scrolled": false
   },
   "outputs": [
    {
     "name": "stdout",
     "output_type": "stream",
     "text": [
      "1번째 작품 done\n",
      "2번째 작품 done\n",
      "3번째 작품 done\n",
      "4번째 작품 done\n",
      "5번째 작품 done\n",
      "6번째 작품 done\n",
      "7번째 작품 done\n",
      "8번째 작품 done\n",
      "9번째 작품 done\n",
      "10번째 작품 done\n",
      "11번째 작품 done\n",
      "12번째 작품 done\n",
      "13번째 작품 done\n",
      "14번째 작품 done\n",
      "15번째 작품 done\n",
      "16번째 작품 done\n",
      "17번째 작품 done\n",
      "18번째 작품 done\n",
      "19번째 작품 done\n",
      "20번째 작품 done\n",
      "21번째 작품 done\n",
      "22번째 작품 done\n",
      "23번째 작품 done\n",
      "24번째 작품 done\n",
      "25번째 작품 done\n",
      "26번째 작품 done\n",
      "27번째 작품 done\n",
      "28번째 작품 done\n",
      "29번째 작품 done\n",
      "30번째 작품 done\n"
     ]
    }
   ],
   "source": [
    "driver = webdriver.Chrome(chrome_driver_path, options=options)\n",
    "pedia = 'https://pedia.watcha.com/ko-KR/?domain=tv'\n",
    "driver.get(pedia)\n",
    "time.sleep(1)\n",
    "\n",
    "#한국 TV프로그램 인기순위 리스트 갖고오기\n",
    "#팝업닫기\n",
    "driver.find_element_by_xpath('/html/body/div/div/div[2]/div/div/div/button').click()\n",
    "#next버튼\n",
    "for i in range(5):\n",
    "    driver.find_element_by_xpath('/html/body/div[1]/div/div[1]/section/div/section/div[1]/div[2]/div/div[5]/div/img').click()\n",
    "    time.sleep(2)\n",
    "\n",
    "dramas_title = []\n",
    "dramas_url = []\n",
    "for i in range(1,31):\n",
    "    li = driver.find_element_by_xpath(f'/html/body/div/div/div[1]/section/div/section/div[1]/div[2]/div/div[1]/div/div/ul/li[{i}]/a')\n",
    "    title = li.get_attribute('title')\n",
    "    href = li.get_attribute('href')\n",
    "    dramas_title.append(title)\n",
    "    dramas_url.append(href)\n",
    "\n",
    "#작품별로 이동하여 댓글 수집\n",
    "content_dic = {'title' : [], 'review' : []}\n",
    "for i, url in enumerate(dramas_url):\n",
    "    driver.get(url + str('/comments'))\n",
    "    time.sleep(2)\n",
    "    \n",
    "    #팝업닫기\n",
    "    driver.find_element_by_xpath('/html/body/div/div/div[2]/div/div/div/button').click()\n",
    "    \n",
    "    #스크롤 끝까지 내리기\n",
    "    last_height = driver.execute_script(\"return document.documentElement.scrollHeight\")\n",
    "    while True:\n",
    "        new_height = scroll_down(2)\n",
    "        if new_height == last_height:\n",
    "            new_height = scroll_down(2)\n",
    "            if new_height == last_height:\n",
    "                break\n",
    "        last_height = new_height\n",
    "    time.sleep(2)\n",
    "    \n",
    "    # 댓글 가져오기\n",
    "    for j in range(1,8000):\n",
    "        try:\n",
    "            review = driver.find_element_by_xpath(f'/html/body/div[1]/div/div[1]/section/section/div/div/div/ul/div[{j}]/div[2]').text\n",
    "            if review == '스포일러가 있어요!! 보기':\n",
    "                rev_url = driver.find_element_by_xpath(f'/html/body/div/div/div[1]/section/section/div/div/div/ul/div[{j}]/div[2]/a').get_attribute('href')\n",
    "                # 새탭열기\n",
    "                driver.execute_script('window.open(\"\");')\n",
    "                # 새탭으로 스위치\n",
    "                driver.switch_to.window(driver.window_handles[-1])\n",
    "                driver.get(rev_url)\n",
    "                time.sleep(1)\n",
    "\n",
    "                driver.find_element_by_xpath('/html/body/div/div/div[2]/div/div/div/button').click()\n",
    "                driver.find_element_by_xpath('/html/body/div/div/div[1]/section/div/section/section/div/div/section[1]/div[2]/span/button').click()\n",
    "\n",
    "                review = driver.find_element_by_xpath('/html/body/div/div/div[1]/section/div/section/section/div/div/section[1]/div[2]/div/span').text\n",
    "                content_dic['title'].append(dramas_title[i])\n",
    "                content_dic['review'].append(review)\n",
    "                driver.close()\n",
    "\n",
    "                driver.switch_to.window(driver.window_handles[-1])\n",
    "            else:\n",
    "                content_dic['title'].append(dramas_title[i])\n",
    "                content_dic['review'].append(review)\n",
    "        except:\n",
    "            break\n",
    "    print(f\"{i+1}번째 작품 done\")"
   ]
  },
  {
   "cell_type": "code",
   "execution_count": 22,
   "id": "919e8627",
   "metadata": {
    "ExecuteTime": {
     "end_time": "2022-04-14T15:13:01.000753Z",
     "start_time": "2022-04-14T15:13:00.976472Z"
    },
    "scrolled": true
   },
   "outputs": [
    {
     "data": {
      "text/plain": [
       "title     0\n",
       "review    0\n",
       "dtype: int64"
      ]
     },
     "execution_count": 22,
     "metadata": {},
     "output_type": "execute_result"
    }
   ],
   "source": [
    "df_content_dic = pd.DataFrame(content_dic)"
   ]
  },
  {
   "cell_type": "code",
   "execution_count": 23,
   "id": "e291f80e",
   "metadata": {
    "ExecuteTime": {
     "end_time": "2022-04-14T15:13:22.048971Z",
     "start_time": "2022-04-14T15:13:21.950748Z"
    }
   },
   "outputs": [],
   "source": [
    "df_content_dic.to_csv(\"df_contents.csv\")"
   ]
  },
  {
   "cell_type": "code",
   "execution_count": 24,
   "id": "a388bbf1",
   "metadata": {
    "ExecuteTime": {
     "end_time": "2022-04-14T15:13:46.449951Z",
     "start_time": "2022-04-14T15:13:46.439988Z"
    }
   },
   "outputs": [
    {
     "data": {
      "text/plain": [
       "25676"
      ]
     },
     "execution_count": 24,
     "metadata": {},
     "output_type": "execute_result"
    }
   ],
   "source": [
    "len(df_content_dic)"
   ]
  },
  {
   "cell_type": "code",
   "execution_count": null,
   "id": "3778c698",
   "metadata": {},
   "outputs": [],
   "source": []
  }
 ],
 "metadata": {
  "kernelspec": {
   "display_name": "study",
   "language": "python",
   "name": "study"
  },
  "language_info": {
   "codemirror_mode": {
    "name": "ipython",
    "version": 3
   },
   "file_extension": ".py",
   "mimetype": "text/x-python",
   "name": "python",
   "nbconvert_exporter": "python",
   "pygments_lexer": "ipython3",
   "version": "3.9.10"
  },
  "toc": {
   "base_numbering": 1,
   "nav_menu": {},
   "number_sections": true,
   "sideBar": true,
   "skip_h1_title": false,
   "title_cell": "Table of Contents",
   "title_sidebar": "Contents",
   "toc_cell": false,
   "toc_position": {},
   "toc_section_display": true,
   "toc_window_display": false
  }
 },
 "nbformat": 4,
 "nbformat_minor": 5
}
