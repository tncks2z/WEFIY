{
 "cells": [
  {
   "cell_type": "code",
   "execution_count": 93,
   "id": "fc6284a5",
   "metadata": {
    "ExecuteTime": {
     "end_time": "2022-04-27T07:02:14.894756Z",
     "start_time": "2022-04-27T07:02:14.891269Z"
    }
   },
   "outputs": [],
   "source": [
    "import pandas as pd\n",
    "import numpy as np\n",
    "import warnings\n",
    "warnings.filterwarnings('ignore')"
   ]
  },
  {
   "cell_type": "markdown",
   "id": "1b1d0f00",
   "metadata": {},
   "source": [
    "### CSV to DataFrame"
   ]
  },
  {
   "cell_type": "code",
   "execution_count": 94,
   "id": "c3b540f5",
   "metadata": {
    "ExecuteTime": {
     "end_time": "2022-04-27T07:02:16.521646Z",
     "start_time": "2022-04-27T07:02:16.240977Z"
    }
   },
   "outputs": [],
   "source": [
    "df = pd.read_csv(\"/Users/suchan/study/파이널 프로젝트/0425_KOR_final_drama_reviews.csv\")"
   ]
  },
  {
   "cell_type": "markdown",
   "id": "0402fa33",
   "metadata": {},
   "source": [
    "### 전처리 함수"
   ]
  },
  {
   "cell_type": "code",
   "execution_count": 95,
   "id": "aee1f60f",
   "metadata": {
    "ExecuteTime": {
     "end_time": "2022-04-27T07:02:17.633144Z",
     "start_time": "2022-04-27T07:02:17.631577Z"
    }
   },
   "outputs": [],
   "source": [
    "import re\n",
    "from konlpy.tag import Mecab\n",
    "from tqdm import tqdm"
   ]
  },
  {
   "cell_type": "code",
   "execution_count": 96,
   "id": "ae15adf4",
   "metadata": {
    "ExecuteTime": {
     "end_time": "2022-04-27T07:02:18.729813Z",
     "start_time": "2022-04-27T07:02:18.728095Z"
    }
   },
   "outputs": [],
   "source": [
    "def clean_text(text):\n",
    "    text = text.replace(\".\", \"\").strip()\n",
    "    text = text.replace(\"·\", \" \").strip()\n",
    "    pattern = '[^ ㄱ-ㅣ가-힣|0-9]+'\n",
    "    text = re.sub(pattern, '', text)\n",
    "    return text\n",
    "\n",
    "def get_nouns(tokenizer, sentence):\n",
    "    tagged = tokenizer.pos(sentence)\n",
    "    stop_words = ['드라마', '정도', '사람', '생각', '여자', '남자', '에피소드', '시리즈', '자신', '최고', '완벽', '시즌', '느낌', '기대',\n",
    "                  '넷플릭스', '장르', '부분', '내용', '시간']\n",
    "    nouns = [word for word, tag in tagged if tag in ['NNG', 'NNP'] and len(word) >1 and word not in stop_words]\n",
    "    return nouns\n",
    "\n",
    "def tokenize(df):\n",
    "    tokenizer = Mecab()\n",
    "    processed_data = []\n",
    "    for sent in tqdm(df['reviews']):\n",
    "        sentence = clean_text(str(sent).replace(\"\\n\", \"\").strip())\n",
    "        processed_data.append(get_nouns(tokenizer, sentence))\n",
    "    return processed_data"
   ]
  },
  {
   "cell_type": "markdown",
   "id": "2d25130a",
   "metadata": {},
   "source": [
    "### 전처리 실행"
   ]
  },
  {
   "cell_type": "code",
   "execution_count": 98,
   "id": "e626709d",
   "metadata": {
    "ExecuteTime": {
     "end_time": "2022-04-27T07:02:28.974899Z",
     "start_time": "2022-04-27T07:02:20.926904Z"
    },
    "scrolled": true
   },
   "outputs": [
    {
     "name": "stderr",
     "output_type": "stream",
     "text": [
      "100%|██████████| 63011/63011 [00:08<00:00, 7835.56it/s]\n"
     ]
    }
   ],
   "source": [
    "preprocessed_data = tokenize(df)"
   ]
  },
  {
   "cell_type": "code",
   "execution_count": 99,
   "id": "2887cdc5",
   "metadata": {
    "ExecuteTime": {
     "end_time": "2022-04-27T07:02:30.082553Z",
     "start_time": "2022-04-27T07:02:30.076529Z"
    }
   },
   "outputs": [],
   "source": [
    "df['preprocessed_reviews'] = preprocessed_data"
   ]
  },
  {
   "cell_type": "code",
   "execution_count": 100,
   "id": "0a5d081f",
   "metadata": {
    "ExecuteTime": {
     "end_time": "2022-04-27T07:02:31.208378Z",
     "start_time": "2022-04-27T07:02:31.204839Z"
    }
   },
   "outputs": [
    {
     "data": {
      "text/plain": [
       "0                             [캐스팅, 라인업, 노희경, 극본, 몰입, 차승원]\n",
       "1                                    [침묵, 순간, 노희경, 극본, 경지]\n",
       "2                                   [세상, 노희경, 작가, 배우, 스토리]\n",
       "3                                         [배우, 한수, 위험, 고통]\n",
       "4                                            [특별, 저마다, 사정]\n",
       "                               ...                        \n",
       "63006    [종교, 재료, 집단, 자살, 사건, 쇼킹, 무당, 소재, 순간, 답지, 문제, 기...\n",
       "63007    [김단, 천재인, 캐릭터, 이용, 단편, 매력, 연계, 주요, 갈등, 맥락, 상대,...\n",
       "63008                      [흥미, 중반, 완성도, 후반, 마지막, 아빠, 피해자]\n",
       "63009                                 [대본, 연출, 연기, 모두, 부족]\n",
       "63010                               [국판, 데스노트, 천재, 심리, 싸움]\n",
       "Name: preprocessed_reviews, Length: 63011, dtype: object"
      ]
     },
     "execution_count": 100,
     "metadata": {},
     "output_type": "execute_result"
    }
   ],
   "source": [
    "df['preprocessed_reviews']"
   ]
  },
  {
   "cell_type": "markdown",
   "id": "a7c51209",
   "metadata": {},
   "source": [
    "### LDA"
   ]
  },
  {
   "cell_type": "code",
   "execution_count": 101,
   "id": "adebafc6",
   "metadata": {
    "ExecuteTime": {
     "end_time": "2022-04-27T07:02:32.323602Z",
     "start_time": "2022-04-27T07:02:32.322345Z"
    }
   },
   "outputs": [],
   "source": [
    "import gensim\n",
    "from gensim import corpora\n",
    "from gensim.models.ldamodel import LdaModel"
   ]
  },
  {
   "cell_type": "code",
   "execution_count": 102,
   "id": "dcb3e386",
   "metadata": {
    "ExecuteTime": {
     "end_time": "2022-04-27T07:02:33.954822Z",
     "start_time": "2022-04-27T07:02:33.439596Z"
    }
   },
   "outputs": [],
   "source": [
    "dictionary = corpora.Dictionary(df['preprocessed_reviews'])\n",
    "dictionary.filter_extremes(no_below=20, no_above=0.5)"
   ]
  },
  {
   "cell_type": "code",
   "execution_count": 103,
   "id": "a22ba25a",
   "metadata": {
    "ExecuteTime": {
     "end_time": "2022-04-27T07:02:35.492462Z",
     "start_time": "2022-04-27T07:02:35.052333Z"
    }
   },
   "outputs": [],
   "source": [
    "corpus = [dictionary.doc2bow(text) for text in df['preprocessed_reviews']]"
   ]
  },
  {
   "cell_type": "code",
   "execution_count": 104,
   "id": "e6a40359",
   "metadata": {
    "ExecuteTime": {
     "end_time": "2022-04-27T07:02:36.600732Z",
     "start_time": "2022-04-27T07:02:36.598919Z"
    }
   },
   "outputs": [],
   "source": [
    "temp = dictionary[0]\n",
    "id2word = dictionary.id2token"
   ]
  },
  {
   "cell_type": "markdown",
   "id": "49693be1",
   "metadata": {
    "heading_collapsed": true
   },
   "source": [
    "#### 토픽 갯수 몇개로 할지 판단"
   ]
  },
  {
   "cell_type": "code",
   "execution_count": 105,
   "id": "ba9b736d",
   "metadata": {
    "ExecuteTime": {
     "end_time": "2022-04-27T07:02:37.693646Z",
     "start_time": "2022-04-27T07:02:37.692275Z"
    },
    "hidden": true
   },
   "outputs": [],
   "source": [
    "from gensim.models.coherencemodel import CoherenceModel\n",
    "import matplotlib.pyplot as plt"
   ]
  },
  {
   "cell_type": "code",
   "execution_count": 107,
   "id": "52dae714",
   "metadata": {
    "ExecuteTime": {
     "end_time": "2022-04-27T07:46:18.639889Z",
     "start_time": "2022-04-27T07:06:14.021715Z"
    },
    "hidden": true
   },
   "outputs": [
    {
     "name": "stdout",
     "output_type": "stream",
     "text": [
      "토픽 갯수: 3\n",
      "토픽 갯수: 4\n",
      "토픽 갯수: 5\n",
      "토픽 갯수: 6\n",
      "토픽 갯수: 7\n",
      "토픽 갯수: 8\n",
      "토픽 갯수: 9\n"
     ]
    }
   ],
   "source": [
    "num_topics = 4\n",
    "chunksize = 2000\n",
    "passes = 40\n",
    "iterations = 250\n",
    "eval_every = 1\n",
    "random_state = None\n",
    "\n",
    "coherence = []\n",
    "for k in range(3,10):\n",
    "    print('토픽 갯수: '+str(k))\n",
    "    Lda = gensim.models.ldamodel.LdaModel\n",
    "    lda = Lda(corpus, num_topics=k, id2word=id2word, passes=passes,\n",
    "              iterations=iterations, chunksize=chunksize, eval_every=eval_every, random_state=random_state)\n",
    "\n",
    "    cm = gensim.models.coherencemodel.CoherenceModel(lda, texts=preprocessed_data,\n",
    "                                                     dictionary=dictionary, coherence='c_v')\n",
    "    coherence.append((k, cm.get_coherence()))"
   ]
  },
  {
   "cell_type": "code",
   "execution_count": 108,
   "id": "f2d026be",
   "metadata": {
    "ExecuteTime": {
     "end_time": "2022-04-27T07:46:19.828384Z",
     "start_time": "2022-04-27T07:46:19.771629Z"
    },
    "hidden": true
   },
   "outputs": [
    {
     "data": {
      "image/png": "[encoded data removed]",
      "text/plain": [
       "<Figure size 432x288 with 1 Axes>"
      ]
     },
     "metadata": {
      "needs_background": "light"
     },
     "output_type": "display_data"
    }
   ],
   "source": [
    "x_val = [x[0] for x in coherence]\n",
    "y_val = [x[1] for x in coherence]\n",
    "\n",
    "plt.plot(x_val,y_val)\n",
    "plt.scatter(x_val,y_val)\n",
    "plt.title('Number of Topics vs. Coherence')\n",
    "plt.xlabel('Number of Topics')\n",
    "plt.ylabel('Coherence')\n",
    "plt.xticks(x_val)\n",
    "plt.show()"
   ]
  },
  {
   "cell_type": "markdown",
   "id": "74a9a099",
   "metadata": {},
   "source": [
    "#### LDA 실행"
   ]
  },
  {
   "cell_type": "code",
   "execution_count": 111,
   "id": "e0d854f3",
   "metadata": {
    "ExecuteTime": {
     "end_time": "2022-04-27T08:14:46.043863Z",
     "start_time": "2022-04-27T08:08:59.401938Z"
    },
    "scrolled": false
   },
   "outputs": [
    {
     "data": {
      "text/plain": [
       "[(0,\n",
       "  [('인간', 0.028131735),\n",
       "   ('현실', 0.022720514),\n",
       "   ('사회', 0.017361032),\n",
       "   ('세상', 0.013433115),\n",
       "   ('지옥', 0.013176562),\n",
       "   ('경찰', 0.013078987),\n",
       "   ('세계', 0.011024164),\n",
       "   ('문제', 0.009883308),\n",
       "   ('폭력', 0.0080259275),\n",
       "   ('사건', 0.007512863),\n",
       "   ('이유', 0.0073538497),\n",
       "   ('게임', 0.006671157),\n",
       "   ('오징어', 0.0064946064),\n",
       "   ('존재', 0.0064307284),\n",
       "   ('범죄', 0.0064226245),\n",
       "   ('종교', 0.0063693183),\n",
       "   ('정의', 0.0058202897),\n",
       "   ('모습', 0.005625828),\n",
       "   ('상황', 0.0050816764),\n",
       "   ('정치', 0.0050568036)]),\n",
       " (1,\n",
       "  [('캐릭터', 0.020735301),\n",
       "   ('작품', 0.018252427),\n",
       "   ('한국', 0.015060596),\n",
       "   ('전개', 0.014242265),\n",
       "   ('소재', 0.013837546),\n",
       "   ('장면', 0.013822277),\n",
       "   ('결말', 0.013721775),\n",
       "   ('부분', 0.01358833),\n",
       "   ('연출', 0.013270726),\n",
       "   ('마지막', 0.013071832),\n",
       "   ('설정', 0.012877828),\n",
       "   ('영화', 0.012422448),\n",
       "   ('이야기', 0.012010449),\n",
       "   ('인물', 0.0099126315),\n",
       "   ('스토리', 0.0098557025),\n",
       "   ('초반', 0.009445295),\n",
       "   ('게임', 0.008908606),\n",
       "   ('주인공', 0.008758819),\n",
       "   ('감독', 0.008447431),\n",
       "   ('대사', 0.008299787)]),\n",
       " (2,\n",
       "  [('연기', 0.09163261),\n",
       "   ('배우', 0.0768215),\n",
       "   ('캐릭터', 0.030748429),\n",
       "   ('작가', 0.017119471),\n",
       "   ('스토리', 0.015394639),\n",
       "   ('연출', 0.014830145),\n",
       "   ('매력', 0.01441127),\n",
       "   ('연기력', 0.010575293),\n",
       "   ('대사', 0.009691064),\n",
       "   ('얼굴', 0.008349555),\n",
       "   ('오랜만', 0.008173137),\n",
       "   ('역할', 0.008142106),\n",
       "   ('주연', 0.0076965545),\n",
       "   ('조연', 0.0076316586),\n",
       "   ('로맨스', 0.007315081),\n",
       "   ('작품', 0.0069788685),\n",
       "   ('마지막', 0.0069586574),\n",
       "   ('캐스팅', 0.006919321),\n",
       "   ('여주', 0.0068944423),\n",
       "   ('신혜선', 0.0067394916)]),\n",
       " (3,\n",
       "  [('사랑', 0.035109635),\n",
       "   ('마음', 0.023488333),\n",
       "   ('이야기', 0.01921582),\n",
       "   ('행복', 0.017252801),\n",
       "   ('인생', 0.012649811),\n",
       "   ('엄마', 0.010855897),\n",
       "   ('마지막', 0.01022239),\n",
       "   ('기억', 0.00864319),\n",
       "   ('엔딩', 0.0085205715),\n",
       "   ('모습', 0.008293245),\n",
       "   ('눈물', 0.008289167),\n",
       "   ('가족', 0.008218494),\n",
       "   ('순간', 0.007934077),\n",
       "   ('현실', 0.007832141),\n",
       "   ('시간', 0.007819703),\n",
       "   ('세상', 0.0076156957),\n",
       "   ('주인공', 0.0065882066),\n",
       "   ('장면', 0.0065248194),\n",
       "   ('시작', 0.006429796),\n",
       "   ('아이', 0.0062928945)])]"
      ]
     },
     "execution_count": 111,
     "metadata": {},
     "output_type": "execute_result"
    }
   ],
   "source": [
    "num_topics = 4\n",
    "chunksize = 2000\n",
    "passes = 40\n",
    "iterations = 250\n",
    "eval_every = 1\n",
    "random_state = None\n",
    "\n",
    "Lda = gensim.models.ldamodel.LdaModel\n",
    "lda = Lda(corpus, num_topics=num_topics, id2word=id2word, passes=passes,\n",
    "          iterations=iterations, chunksize=chunksize, eval_every=eval_every, random_state=None)\n",
    "lda.show_topics(4, num_words=20, formatted=False)"
   ]
  },
  {
   "cell_type": "markdown",
   "id": "18596c90",
   "metadata": {},
   "source": [
    "#### 시각화"
   ]
  },
  {
   "cell_type": "code",
   "execution_count": 24,
   "id": "08a030f0",
   "metadata": {
    "ExecuteTime": {
     "end_time": "2022-04-26T07:23:35.610498Z",
     "start_time": "2022-04-26T07:23:35.522578Z"
    },
    "hide_input": true
   },
   "outputs": [],
   "source": [
    "import pyLDAvis.gensim_models as gensimvis\n",
    "import pyLDAvis"
   ]
  },
  {
   "cell_type": "code",
   "execution_count": 112,
   "id": "2d46f237",
   "metadata": {
    "ExecuteTime": {
     "end_time": "2022-04-27T08:26:45.921875Z",
     "start_time": "2022-04-27T08:26:41.795943Z"
    },
    "scrolled": false
   },
   "outputs": [
    {
     "data": {
      "text/html": [
       "\n",
       "<link rel=\"stylesheet\" type=\"text/css\" href=\"https://cdn.jsdelivr.net/gh/bmabey/pyLDAvis@3.3.1/pyLDAvis/js/ldavis.v1.0.0.css\">\n",
       "\n",
       "\n",
       "<div id=\"ldavis_el30197113948375202839288214\"></div>\n",
       "<script type=\"text/javascript\">\n",
       "\n",
       "var ldavis_el30197113948375202839288214_data = {\"mdsDat\": {\"x\": [-0.08800161262301666, 0.12850212860639196, 0.274383536939791, -0.31488405292316657], \"y\": [-0.04523620151803363, -0.28542606039874846, 0.2321819037279239, 0.09848035818885831], \"topics\": [1, 2, 3, 4], \"cluster\": [1, 1, 1, 1], \"Freq\": [34.43906972209746, 24.10343640273383, 22.026595872538476, 19.430898002630226]}, \"tinfo\": {\"Term\": [\"\\uc5f0\\uae30\", \"\\ubc30\\uc6b0\", \"\\uc0ac\\ub791\", \"\\uce90\\ub9ad\\ud130\", \"\\uc778\\uac04\", \"\\ub9c8\\uc74c\", \"\\ud604\\uc2e4\", \"\\ud589\\ubcf5\", \"\\uc0ac\\ud68c\", \"\\ud55c\\uad6d\", \"\\uc774\\uc57c\\uae30\", \"\\uc804\\uac1c\", \"\\uc18c\\uc7ac\", \"\\uc5f0\\ucd9c\", \"\\uacb0\\ub9d0\", \"\\ubd80\\ubd84\", \"\\uc2a4\\ud1a0\\ub9ac\", \"\\uc124\\uc815\", \"\\uc601\\ud654\", \"\\uc791\\uac00\", \"\\uc9c0\\uc625\", \"\\uacbd\\ucc30\", \"\\ub9e4\\ub825\", \"\\uc138\\uc0c1\", \"\\uc5c4\\ub9c8\", \"\\uc138\\uacc4\", \"\\uc778\\uc0dd\", \"\\uc7a5\\uba74\", \"\\ucd08\\ubc18\", \"\\uc5f0\\uae30\\ub825\", \"\\uc804\\uac1c\", \"\\uc18c\\uc7ac\", \"\\ubd80\\ubd84\", \"\\uacb0\\ub9d0\", \"\\uc124\\uc815\", \"\\uc601\\ud654\", \"\\ucd08\\ubc18\", \"\\uac10\\ub3c5\", \"\\uc6d0\\uc791\", \"\\ud765\\ubbf8\", \"\\uc911\\uac04\", \"\\uc790\\uadf9\", \"\\ud6c4\\ubc18\\ubd80\", \"\\ubc18\\uc804\", \"\\uc804\\uccb4\", \"\\ud074\\ub9ac\\uc170\", \"\\uc694\\uc18c\", \"\\ub5a1\\ubc25\", \"\\uc544\\uc26c\\uc6c0\", \"\\uc608\\uc0c1\", \"\\uae34\\uc7a5\\uac10\", \"\\uc6f9\\ud230\", \"\\uc9c4\\ud589\", \"\\ubc30\\uacbd\", \"\\uc2e0\\ud30c\", \"\\uac01\\ubcf8\", \"\\uc2dc\\uccad\", \"\\ud68c\\ucc28\", \"\\uba54\\uc2dc\\uc9c0\", \"\\uc911\\ubc18\", \"\\ud55c\\uad6d\", \"\\uc5f0\\uc0c1\\ud638\", \"\\uc2dc\\uccad\\uc790\", \"\\uc778\\ubb3c\", \"\\uc791\\ud488\", \"\\uc7a5\\uba74\", \"\\uc7ac\\ubbf8\", \"\\uce90\\ub9ad\\ud130\", \"\\uc5f0\\ucd9c\", \"\\uac8c\\uc784\", \"\\ub0b4\\uc6a9\", \"\\ub9c8\\uc9c0\\ub9c9\", \"\\uc8fc\\uc778\\uacf5\", \"\\uc774\\uc57c\\uae30\", \"\\uc2a4\\ud1a0\\ub9ac\", \"\\uc11c\\uc0ac\", \"\\ub300\\uc0ac\", \"\\ubab0\\uc785\", \"\\ub2e4\\uc74c\", \"\\uc0ac\\ub791\", \"\\ub9c8\\uc74c\", \"\\ud589\\ubcf5\", \"\\uc5c4\\ub9c8\", \"\\uae30\\uc5b5\", \"\\ub208\\ubb3c\", \"\\uac00\\uc871\", \"\\uc5b4\\ub978\", \"\\uc11c\\ub85c\", \"\\uc8fd\\uc74c\", \"\\uce5c\\uad6c\", \"\\ubd80\\ubaa8\", \"\\ub098\\ubb34\", \"\\uc131\\uc7a5\", \"\\uc138\\ud3ec\", \"\\ud574\\ud53c\", \"\\uc5f0\\uc560\", \"\\uc544\\ube60\", \"\\uc0c1\\ucc98\", \"\\uc751\\uc6d0\", \"\\uac00\\uc2b4\", \"\\uc0dd\\ud65c\", \"\\ub098\\uc774\", \"\\ub3d9\\ud654\", \"\\uccad\\ucd98\", \"\\uc2dc\\uc808\", \"\\uc774\\ub3c4\\ud604\", \"\\uc704\\ub85c\", \"\\uc544\\ubc84\\uc9c0\", \"\\uc758\\uc0ac\", \"\\uc720\\ubbf8\", \"\\uaddc\\ub9ac\", \"\\ub099\\uc6d0\", \"\\uc778\\uc0dd\", \"\\uc21c\\uac04\", \"\\uc774\\uc57c\\uae30\", \"\\uc544\\uc774\", \"\\ud310\\ud0c0\\uc9c0\", \"\\uc5d4\\ub529\", \"\\ubaa8\\uc2b5\", \"\\uc2dc\\uac04\", \"\\ub9c8\\uc9c0\\ub9c9\", \"\\uc138\\uc0c1\", \"\\uc2dc\\uc791\", \"\\ud604\\uc2e4\", \"\\uc8fc\\uc778\\uacf5\", \"\\uac10\\uc815\", \"\\uc7a5\\uba74\", \"\\uc778\\uac04\", \"\\uc0ac\\ud68c\", \"\\uc9c0\\uc625\", \"\\uacbd\\ucc30\", \"\\uc138\\uacc4\", \"\\ud3ed\\ub825\", \"\\ubc94\\uc8c4\", \"\\uc885\\uad50\", \"\\uc624\\uc9d5\\uc5b4\", \"\\uc815\\uc758\", \"\\uad70\\ub300\", \"\\ud53c\\ud574\\uc790\", \"\\ub300\\ud55c\\ubbfc\\uad6d\", \"\\uad8c\\ub825\", \"\\ube44\\ud310\", \"\\uce90\\uc2ac\", \"\\uad34\\ubb3c\", \"\\ubc94\\uc8c4\\uc790\", \"\\uc0b4\\uc778\", \"\\ud654\\uc0b4\\ucd09\", \"\\uac00\\ud574\\uc790\", \"\\ub0a8\\uc131\", \"\\uc9d1\\ub2e8\", \"\\uc2a4\\uce74\\uc774\", \"\\uc9c8\\ubb38\", \"\\uc2dc\\uc5f0\", \"\\uc9c4\\ub9ac\", \"\\ub300\\ud1b5\\ub839\", \"\\uc4f0\\ub808\\uae30\", \"\\ud604\\uc0c1\", \"\\uc720\\uc544\\uc778\", \"\\ucc9c\\uc0ac\", \"\\ud604\\uc2e4\", \"\\ubb38\\uc81c\", \"\\uc138\\uc0c1\", \"\\uc815\\uce58\", \"\\uc874\\uc7ac\", \"\\uc0ac\\uac74\", \"\\uc774\\uc720\", \"\\uc120\\ud0dd\", \"\\uc5ec\\uc131\", \"\\uac8c\\uc784\", \"\\uc0c1\\ud669\", \"\\ubaa8\\uc2b5\", \"\\ud544\\uc694\", \"\\ud589\\ub3d9\", \"\\uacb0\\uad6d\", \"\\uc758\\ubbf8\", \"\\uc791\\ud488\", \"\\uc5f0\\uae30\", \"\\ubc30\\uc6b0\", \"\\uc5f0\\uae30\\ub825\", \"\\uc624\\ub79c\\ub9cc\", \"\\uc8fc\\uc5f0\", \"\\uc870\\uc5f0\", \"\\uc5ec\\uc8fc\", \"\\uce90\\uc2a4\\ud305\", \"\\ucf00\\ubbf8\", \"\\ub0a8\\uc8fc\", \"\\uc0ac\\uadf9\", \"\\uc11c\\ud604\\uc9c4\", \"\\uc2e0\\ud61c\\uc120\", \"\\ub77c\\uc778\", \"\\uc8fc\\ud589\", \"\\ub7ec\\ube0c\", \"\\uc911\\uc804\", \"\\uc774\\uc885\\uc11d\", \"\\ucc30\\ub5a1\", \"\\uc6a9\\ub450\\uc0ac\\ubbf8\", \"\\uc5ec\\uc9c4\\uad6c\", \"\\ub9d0\\ud22c\", \"\\uc8fc\\uc9c0\\ud6c8\", \"\\ubbf8\\ub4dc\", \"\\uc774\\ubbfc\\uae30\", \"\\uc7a5\\ud601\", \"\\ub85c\\ucf54\", \"\\uae40\\ud61c\\uc218\", \"\\ubc30\\ub450\\ub098\", \"\\ub300\\ubcf8\", \"\\uc11c\\uc608\\uc9c0\", \"\\ub3d9\\ubc31\", \"\\ub2e8\\uc624\", \"\\ub178\\ud76c\\uacbd\", \"\\uc5bc\\uad74\", \"\\uc5ed\\ud560\", \"\\uc791\\uac00\", \"\\ub9e4\\ub825\", \"\\uce90\\ub9ad\\ud130\", \"\\uc2a4\\ud1a0\\ub9ac\", \"\\uc5f0\\ucd9c\", \"\\ub85c\\ub9e8\\uc2a4\", \"\\ub300\\uc0ac\", \"\\ubaa9\\uc18c\\ub9ac\", \"\\ucc98\\uc74c\", \"\\ub9c8\\uc9c0\\ub9c9\", \"\\uc791\\ud488\", \"\\ubab0\\uc785\", \"\\ub0b4\\uc6a9\"], \"Freq\": [11944.0, 10013.0, 5677.0, 8798.0, 4157.0, 3798.0, 4623.0, 2790.0, 2565.0, 3486.0, 5882.0, 3290.0, 3197.0, 4999.0, 3170.0, 3139.0, 4283.0, 2975.0, 2870.0, 3477.0, 1947.0, 1933.0, 2930.0, 3216.0, 1756.0, 1629.0, 2311.0, 4248.0, 2182.0, 1379.0, 3290.1652577987566, 3196.6693690195616, 3139.096862180569, 3169.9246618133407, 2974.960978696885, 2869.761644943136, 2181.997019513695, 1951.4763527288467, 1659.6589547450317, 1529.3885556854805, 1344.1458296542087, 1314.6158071063223, 1178.6706453824916, 1126.7033005965454, 991.8917574835007, 924.0556884850402, 936.9866644870826, 921.4625009512001, 902.2884469384383, 872.66026278661, 876.4129943521126, 925.7998991659363, 856.2307534328897, 809.6868776051315, 732.4115349844155, 756.303854235209, 753.4511973438803, 680.754273292566, 695.3402270434826, 653.91075903624, 3479.211275344959, 1004.6933215298802, 872.9314039622112, 2289.9584325472442, 4216.569402147535, 3193.1420057392743, 1903.2083826256028, 4790.148577194513, 3065.7259847608193, 2058.0143418244643, 1702.0353998476194, 3019.778608761948, 2023.411327584849, 2774.5839386121265, 2276.8070366805687, 1335.5564472669612, 1917.3683956961809, 1384.671027587218, 1195.6509354618927, 5676.6551325044475, 3797.6802363643774, 2789.496388495207, 1755.2214518372564, 1397.4628444122827, 1340.222997113663, 1328.796409966086, 950.8336256775668, 943.5180139097273, 995.5636910227729, 925.6689029756017, 821.8076344745841, 826.6294211535433, 796.1124196198474, 1015.0501299225986, 687.825313663746, 670.3461016717955, 646.2530544314468, 628.1913250131562, 634.1045130895857, 597.226085467606, 615.4759265299075, 603.0461400224661, 615.89502737697, 529.2483271101692, 535.9988510476614, 595.129113080579, 504.643572530009, 519.8015237268844, 507.3450846190909, 634.3807514813709, 607.3643506634162, 551.3706253660059, 2045.267998720168, 1282.810736100901, 3106.884588268167, 1017.4583504730598, 844.1830194990189, 1377.6373754011981, 1340.8823854579682, 1264.3183488464122, 1652.7937017280597, 1231.3337230851992, 1039.5931091960103, 1266.3293402458626, 1065.2055052360936, 872.364003430665, 1054.956827502384, 4156.531937754764, 2565.134514983404, 1946.8689969010466, 1932.4519659832256, 1628.8469440925924, 1185.8502276469092, 948.9583234409298, 941.0822165158902, 959.5938267733251, 859.9619066828327, 670.0995955020752, 593.8508525822681, 518.5433290025254, 498.79929247104775, 484.8169562747565, 514.9490132463625, 463.66934704318265, 476.7288341891607, 457.2491371828678, 579.4524671645316, 401.40345633904184, 393.8828179608182, 372.7353119331194, 377.5298887556146, 352.69411704420475, 401.0737543596859, 344.5211269720615, 339.58650249118176, 323.8908787658981, 315.90888466510125, 411.52256188219343, 338.24027674429783, 3357.010967654322, 1460.2826789918772, 1984.775229770477, 747.1549799089375, 950.1556947987618, 1110.0436789302157, 1086.5491103771062, 727.5274605523429, 734.5803445677427, 985.6796382201122, 750.830001095356, 831.2297414731142, 726.6035106606963, 593.4140249806547, 643.0737343591403, 596.2953395656855, 684.8119271075831, 11943.460168857528, 10012.969048836654, 1378.3912026405008, 1065.2925164414096, 1003.1744202782103, 994.7158352375764, 898.626532532195, 901.8692642684948, 871.381261567339, 858.5743314992147, 774.6552115498212, 868.5573834389942, 878.43015324493, 651.8656149185387, 648.6742308350905, 555.8975800741475, 554.9828513789602, 671.8337824153515, 504.78123443874597, 511.7759258161045, 494.2060760836059, 466.3150143074705, 472.2323153943194, 450.89150860309945, 455.8141158261651, 417.1571021408241, 376.4332847335757, 416.87657158351834, 369.4790463238598, 370.6636233223318, 463.75251758220594, 430.05085587018294, 439.0568457347765, 443.8035902815562, 1088.2869179467184, 1061.2479480126462, 2231.3640878819924, 1878.375194604367, 4007.7721908950825, 2006.5482830945657, 1932.9717093495387, 953.4528978226973, 1263.1402426169045, 537.2695498999899, 740.56832105216, 906.9963820309032, 909.6307108449976, 627.8367949173054, 622.3620183422082], \"Total\": [11944.0, 10013.0, 5677.0, 8798.0, 4157.0, 3798.0, 4623.0, 2790.0, 2565.0, 3486.0, 5882.0, 3290.0, 3197.0, 4999.0, 3170.0, 3139.0, 4283.0, 2975.0, 2870.0, 3477.0, 1947.0, 1933.0, 2930.0, 3216.0, 1756.0, 1629.0, 2311.0, 4248.0, 2182.0, 1379.0, 3290.9772899920945, 3197.482535121091, 3139.919174423863, 3170.7641768868716, 2975.787710547927, 2870.579801466449, 2182.8262867391327, 1952.2913515114449, 1660.4852783733359, 1530.195571242869, 1344.964402913472, 1315.489862323303, 1179.4900450211185, 1127.5144792323279, 992.7147033279442, 924.8525564144065, 937.7980211704356, 922.2630841760599, 903.1027827449865, 873.4610225643955, 877.2181955266267, 926.6565643849517, 857.0403143628232, 810.5018305106354, 733.200777748139, 757.1208065227141, 754.2789916293823, 681.5774040912002, 696.1822078709439, 654.7246476548688, 3486.599014523684, 1006.639863665987, 892.1663257718084, 2702.790710274073, 5811.288534598644, 4248.648894546147, 2513.2748665439494, 8798.494620426518, 4999.259607696626, 3044.198676156652, 2324.968439183298, 5579.862550336454, 3427.722524070154, 5882.014130695063, 4283.911505421516, 1767.7544629295767, 3510.8146949225847, 2013.0745939841436, 1662.0670953889305, 5677.441825236592, 3798.483022310958, 2790.273730466923, 1756.0066814827846, 1398.2625480714673, 1341.0157220083686, 1329.6015144400878, 951.6164564628978, 944.3054588714961, 996.4077431746832, 926.4549975979002, 822.5919533983638, 827.4533261744731, 796.9194357679013, 1016.1642580500438, 688.6196177666875, 671.133432489603, 647.0458911899611, 628.9700957303756, 634.9182824086494, 598.0103435225577, 616.2872979104632, 603.8420790745656, 616.7511235093773, 530.0327592488434, 536.8013026595233, 596.0436392068932, 505.4234988561465, 520.6065518064356, 508.1381445427751, 635.3868661364421, 608.6894041938087, 552.4703702080286, 2311.5175802028753, 1445.4569708134475, 5882.014130695063, 1312.7127685403602, 1014.8823038557886, 2305.5206479023523, 2393.61881797667, 2336.7694368091225, 5579.862550336454, 3216.6109543440352, 2492.8320960162123, 4623.850931641526, 3427.722524070154, 1860.7821878587138, 4248.648894546147, 4157.299395753156, 2565.899161809898, 1947.6543123580966, 1933.2489350115632, 1629.6653869350441, 1186.6170703053226, 949.7419537695042, 941.9051981200665, 960.4435610237261, 860.7271104787787, 670.8533024132859, 594.6113517347985, 519.3150474508118, 499.575021393954, 485.57996043178986, 515.7881466485571, 464.4364430952021, 477.5226625052757, 458.0308557125502, 580.5010284578884, 402.1722355280621, 394.6696540616673, 373.4916033147181, 378.34427269630874, 353.46387669235446, 401.99262892819866, 345.3133441845909, 340.4097513775901, 324.68042899787883, 316.6924372830073, 412.6284772791718, 339.11763892100345, 4623.850931641526, 1931.0115545702656, 3216.6109543440352, 929.368128425009, 1404.1283872918245, 1828.6781235872288, 2156.2109526020254, 1353.5928964261989, 1421.3716275473985, 3044.198676156652, 1785.9486075565005, 2393.61881797667, 1776.0404531582822, 979.0572074284423, 1538.5600697555092, 1250.0249493340311, 5811.288534598644, 11944.277981721647, 10013.787411770452, 1379.206788742376, 1066.1190358269046, 1003.9912316126805, 995.5303638803323, 899.4452200025298, 902.693068118927, 872.1998572350658, 859.3947822090136, 775.4700500674583, 869.5552773440182, 879.4454712323304, 652.6865997492727, 649.499211584463, 556.7130003927107, 555.8060950342168, 672.8788956415424, 505.5882566111266, 512.6077391117625, 495.03764341912034, 467.13952047435856, 473.0673586176189, 451.76258704531926, 456.73439199208616, 418.0263456934944, 377.24185218137325, 417.77323081201916, 370.2764971439786, 371.47593463915297, 464.99792446070353, 431.0347543944619, 440.37293462286596, 445.5920823578984, 1371.36990881942, 1349.213382220451, 3477.8557768043793, 2930.7718961579435, 8798.494620426518, 4283.911505421516, 4999.259607696626, 1705.4595325595258, 3510.8146949225847, 662.4218128041946, 2127.0918908294134, 5579.862550336454, 5811.288534598644, 2013.0745939841436, 2324.968439183298], \"Category\": [\"Default\", \"Default\", \"Default\", \"Default\", \"Default\", \"Default\", \"Default\", \"Default\", \"Default\", \"Default\", \"Default\", \"Default\", \"Default\", \"Default\", \"Default\", \"Default\", \"Default\", \"Default\", \"Default\", \"Default\", \"Default\", \"Default\", \"Default\", \"Default\", \"Default\", \"Default\", \"Default\", \"Default\", \"Default\", \"Default\", \"Topic1\", \"Topic1\", \"Topic1\", \"Topic1\", \"Topic1\", \"Topic1\", \"Topic1\", \"Topic1\", \"Topic1\", \"Topic1\", \"Topic1\", \"Topic1\", \"Topic1\", \"Topic1\", \"Topic1\", \"Topic1\", \"Topic1\", \"Topic1\", \"Topic1\", \"Topic1\", \"Topic1\", \"Topic1\", \"Topic1\", \"Topic1\", \"Topic1\", \"Topic1\", \"Topic1\", \"Topic1\", \"Topic1\", \"Topic1\", \"Topic1\", \"Topic1\", \"Topic1\", \"Topic1\", \"Topic1\", \"Topic1\", \"Topic1\", \"Topic1\", \"Topic1\", \"Topic1\", \"Topic1\", \"Topic1\", \"Topic1\", \"Topic1\", \"Topic1\", \"Topic1\", \"Topic1\", \"Topic1\", \"Topic1\", \"Topic2\", \"Topic2\", \"Topic2\", \"Topic2\", \"Topic2\", \"Topic2\", \"Topic2\", \"Topic2\", \"Topic2\", \"Topic2\", \"Topic2\", \"Topic2\", \"Topic2\", \"Topic2\", \"Topic2\", \"Topic2\", \"Topic2\", \"Topic2\", \"Topic2\", \"Topic2\", \"Topic2\", \"Topic2\", \"Topic2\", \"Topic2\", \"Topic2\", \"Topic2\", \"Topic2\", \"Topic2\", \"Topic2\", \"Topic2\", \"Topic2\", \"Topic2\", \"Topic2\", \"Topic2\", \"Topic2\", \"Topic2\", \"Topic2\", \"Topic2\", \"Topic2\", \"Topic2\", \"Topic2\", \"Topic2\", \"Topic2\", \"Topic2\", \"Topic2\", \"Topic2\", \"Topic2\", \"Topic2\", \"Topic3\", \"Topic3\", \"Topic3\", \"Topic3\", \"Topic3\", \"Topic3\", \"Topic3\", \"Topic3\", \"Topic3\", \"Topic3\", \"Topic3\", \"Topic3\", \"Topic3\", \"Topic3\", \"Topic3\", \"Topic3\", \"Topic3\", \"Topic3\", \"Topic3\", \"Topic3\", \"Topic3\", \"Topic3\", \"Topic3\", \"Topic3\", \"Topic3\", \"Topic3\", \"Topic3\", \"Topic3\", \"Topic3\", \"Topic3\", \"Topic3\", \"Topic3\", \"Topic3\", \"Topic3\", \"Topic3\", \"Topic3\", \"Topic3\", \"Topic3\", \"Topic3\", \"Topic3\", \"Topic3\", \"Topic3\", \"Topic3\", \"Topic3\", \"Topic3\", \"Topic3\", \"Topic3\", \"Topic3\", \"Topic3\", \"Topic4\", \"Topic4\", \"Topic4\", \"Topic4\", \"Topic4\", \"Topic4\", \"Topic4\", \"Topic4\", \"Topic4\", \"Topic4\", \"Topic4\", \"Topic4\", \"Topic4\", \"Topic4\", \"Topic4\", \"Topic4\", \"Topic4\", \"Topic4\", \"Topic4\", \"Topic4\", \"Topic4\", \"Topic4\", \"Topic4\", \"Topic4\", \"Topic4\", \"Topic4\", \"Topic4\", \"Topic4\", \"Topic4\", \"Topic4\", \"Topic4\", \"Topic4\", \"Topic4\", \"Topic4\", \"Topic4\", \"Topic4\", \"Topic4\", \"Topic4\", \"Topic4\", \"Topic4\", \"Topic4\", \"Topic4\", \"Topic4\", \"Topic4\", \"Topic4\", \"Topic4\", \"Topic4\", \"Topic4\", \"Topic4\"], \"logprob\": [30.0, 29.0, 28.0, 27.0, 26.0, 25.0, 24.0, 23.0, 22.0, 21.0, 20.0, 19.0, 18.0, 17.0, 16.0, 15.0, 14.0, 13.0, 12.0, 11.0, 10.0, 9.0, 8.0, 7.0, 6.0, 5.0, 4.0, 3.0, 2.0, 1.0, -4.2515, -4.2804, -4.2985, -4.2888, -4.3522, -4.3883, -4.6622, -4.7739, -4.9359, -5.0176, -5.1467, -5.1689, -5.2781, -5.3232, -5.4506, -5.5215, -5.5076, -5.5243, -5.5453, -5.5787, -5.5744, -5.5196, -5.5977, -5.6536, -5.7539, -5.7218, -5.7256, -5.827, -5.8058, -5.8673, -4.1957, -5.4378, -5.5784, -4.6139, -4.0035, -4.2815, -4.7989, -3.8759, -4.3222, -4.7207, -4.9107, -4.3373, -4.7377, -4.422, -4.6197, -5.1531, -4.7915, -5.117, -5.2638, -3.3493, -3.7513, -4.0598, -4.523, -4.751, -4.7928, -4.8014, -5.1361, -5.1438, -5.0901, -5.1629, -5.2819, -5.276, -5.3137, -5.0707, -5.4599, -5.4856, -5.5222, -5.5506, -5.5412, -5.6011, -5.571, -5.5914, -5.5703, -5.7219, -5.7093, -5.6046, -5.7695, -5.74, -5.7642, -5.5407, -5.5843, -5.681, -4.3701, -4.8366, -3.952, -5.0683, -5.255, -4.7653, -4.7923, -4.8511, -4.5832, -4.8775, -5.0468, -4.8495, -5.0225, -5.2222, -5.0321, -3.5709, -4.0535, -4.3293, -4.3367, -4.5077, -4.8251, -5.0479, -5.0563, -5.0368, -5.1464, -5.3959, -5.5167, -5.6523, -5.6911, -5.7195, -5.6592, -5.7641, -5.7363, -5.7781, -5.5412, -5.9083, -5.9272, -5.9824, -5.9696, -6.0377, -5.9091, -6.0611, -6.0756, -6.1229, -6.1478, -5.8834, -6.0795, -3.7845, -4.6169, -4.31, -5.287, -5.0467, -4.8911, -4.9125, -5.3136, -5.304, -5.01, -5.2821, -5.1804, -5.3149, -5.5174, -5.437, -5.5126, -5.3741, -2.39, -2.5663, -4.5492, -4.8069, -4.867, -4.8755, -4.977, -4.9734, -5.0078, -5.0226, -5.1255, -5.0111, -4.9998, -5.2981, -5.303, -5.4573, -5.459, -5.2679, -5.5538, -5.54, -5.575, -5.633, -5.6204, -5.6667, -5.6558, -5.7444, -5.8472, -5.7451, -5.8658, -5.8626, -5.6386, -5.714, -5.6933, -5.6825, -4.7855, -4.8107, -4.0675, -4.2397, -3.4819, -4.1737, -4.2111, -4.9178, -4.6366, -5.4914, -5.1705, -4.9678, -4.9649, -5.3356, -5.3444], \"loglift\": [30.0, 29.0, 28.0, 27.0, 26.0, 25.0, 24.0, 23.0, 22.0, 21.0, 20.0, 19.0, 18.0, 17.0, 16.0, 15.0, 14.0, 13.0, 12.0, 11.0, 10.0, 9.0, 8.0, 7.0, 6.0, 5.0, 4.0, 3.0, 2.0, 1.0, 1.0657, 1.0657, 1.0657, 1.0657, 1.0657, 1.0657, 1.0656, 1.0656, 1.0655, 1.0655, 1.0654, 1.0653, 1.0653, 1.0653, 1.0651, 1.0651, 1.0651, 1.0651, 1.0651, 1.0651, 1.0651, 1.0651, 1.065, 1.065, 1.0649, 1.0649, 1.0649, 1.0648, 1.0648, 1.0647, 1.0639, 1.064, 1.0442, 0.9002, 0.7452, 0.7804, 0.7879, 0.458, 0.577, 0.6745, 0.7541, 0.452, 0.5389, 0.3146, 0.4339, 0.7856, 0.4611, 0.6918, 0.7366, 1.4227, 1.4226, 1.4225, 1.4224, 1.4222, 1.4222, 1.4222, 1.422, 1.422, 1.422, 1.422, 1.4219, 1.4218, 1.4218, 1.4217, 1.4217, 1.4216, 1.4216, 1.4216, 1.4215, 1.4215, 1.4215, 1.4215, 1.4214, 1.4213, 1.4213, 1.4213, 1.4213, 1.4213, 1.4213, 1.4212, 1.4206, 1.4208, 1.3004, 1.3034, 0.7845, 1.168, 1.2387, 0.9079, 0.8433, 0.8086, 0.2061, 0.4626, 0.5482, 0.1277, 0.2541, 0.6653, 0.0297, 1.5127, 1.5126, 1.5125, 1.5125, 1.5124, 1.5123, 1.5121, 1.512, 1.512, 1.512, 1.5118, 1.5116, 1.5114, 1.5114, 1.5113, 1.5113, 1.5113, 1.5113, 1.5112, 1.5111, 1.511, 1.5109, 1.5109, 1.5108, 1.5107, 1.5106, 1.5106, 1.5105, 1.5105, 1.5104, 1.5102, 1.5103, 1.1927, 1.2335, 1.0301, 1.2947, 1.1224, 1.0137, 0.8276, 0.8921, 0.8528, 0.3853, 0.6464, 0.4553, 0.6192, 1.0122, 0.6406, 0.7727, -0.6255, 1.6382, 1.6382, 1.6377, 1.6375, 1.6375, 1.6375, 1.6374, 1.6374, 1.6374, 1.6374, 1.6373, 1.6372, 1.6372, 1.637, 1.637, 1.6368, 1.6368, 1.6368, 1.6367, 1.6367, 1.6366, 1.6365, 1.6365, 1.6364, 1.6363, 1.6362, 1.6362, 1.6362, 1.6361, 1.6361, 1.6356, 1.636, 1.6353, 1.6343, 1.4071, 1.3982, 1.1945, 1.1934, 0.852, 0.8799, 0.6881, 1.0568, 0.6161, 1.4289, 0.5832, -0.1785, -0.2162, 0.4732, 0.3204]}, \"token.table\": {\"Topic\": [2, 2, 3, 1, 1, 1, 2, 3, 1, 3, 1, 2, 3, 1, 3, 3, 3, 3, 2, 2, 1, 4, 2, 2, 2, 3, 4, 1, 4, 2, 3, 4, 2, 1, 2, 4, 2, 4, 4, 1, 2, 4, 3, 3, 4, 2, 1, 4, 4, 2, 4, 4, 2, 1, 2, 4, 4, 1, 4, 1, 2, 3, 4, 2, 4, 1, 4, 1, 3, 4, 1, 1, 4, 4, 3, 3, 2, 1, 3, 1, 3, 4, 2, 3, 3, 2, 1, 2, 3, 2, 2, 1, 2, 2, 4, 4, 2, 3, 1, 2, 3, 2, 3, 2, 1, 1, 2, 3, 1, 4, 1, 2, 3, 1, 2, 3, 4, 2, 1, 1, 3, 1, 4, 3, 2, 2, 1, 2, 3, 2, 2, 4, 2, 1, 2, 4, 1, 2, 3, 4, 4, 3, 4, 4, 4, 1, 3, 2, 1, 4, 1, 1, 4, 3, 1, 4, 1, 1, 2, 2, 3, 2, 1, 2, 3, 2, 2, 4, 1, 2, 1, 2, 3, 4, 3, 1, 2, 2, 4, 1, 1, 2, 4, 1, 3, 4, 1, 2, 4, 1, 4, 1, 1, 3, 3, 4, 4, 2, 3, 3, 4, 1, 2, 4, 4, 4, 2, 1, 1, 4, 3, 3, 1, 3, 3, 4, 1, 2, 4, 3, 2, 1, 2, 1, 4, 4, 3, 4, 1, 1, 2, 3, 3, 1, 2, 3, 1, 3, 2, 1, 2, 3, 2, 3, 2, 3, 3, 1, 1, 1], \"Freq\": [0.9983104915600517, 0.9995475979580686, 0.9970852400426824, 0.998519646385282, 0.9993385456989065, 0.40681816761751904, 0.46862013495703647, 0.12414134309068282, 0.6760399760104544, 0.3238947601294014, 0.13974105023677458, 0.44197169377212425, 0.4179232339639351, 0.9997589928344587, 0.9993539709300004, 0.9990602737970056, 0.9987280342658875, 0.9988489788934012, 0.9972245217640247, 0.9990970593661336, 0.9986112970149971, 0.9981491614230135, 0.9994521429062725, 0.9986054647336665, 0.9973385537264651, 0.9983032542411718, 0.9995406276403043, 0.7320529480382405, 0.2675305133253734, 0.0022442050467063788, 0.0022442050467063788, 0.9964270407376322, 0.9992425726322974, 0.7195858719049673, 0.13477193587517783, 0.14620348400744737, 0.0022708025888475572, 0.9968823365040775, 0.99871880088379, 0.5460271095402461, 0.09399527707265583, 0.3597455604326191, 0.9987962995303986, 0.9993933404156913, 0.9975993713177129, 0.9987821286727403, 0.9986304513346229, 0.9989480406836353, 0.9987192675719666, 0.4403505246899124, 0.5587936751391299, 0.9967080742123592, 0.9998728381019157, 0.541231969919743, 0.2962438563832236, 0.16254880686000228, 0.997560642111373, 0.358949804786618, 0.6407868188110918, 0.9983018700311814, 0.5602395794722025, 0.3471730727378078, 0.09232881958490437, 0.18870151553561354, 0.8106617107409957, 0.6880023244736798, 0.3119606207721812, 0.24339574710861608, 0.7560804059118713, 0.9983119738836568, 0.9995437049884467, 0.9993808397566243, 0.9965525839370728, 0.9999213672371827, 0.9992187838322194, 0.9989054707842898, 0.9992803802712654, 0.9997072617564968, 0.9988056335124, 0.39263334030131797, 0.606995832499252, 0.9993938514228662, 0.9999221788174688, 0.9996495724293141, 0.9977493749608932, 0.9984576441122385, 0.45018092715445873, 0.12934302757796015, 0.4205048212599484, 0.9979112048636606, 0.9996765253566774, 0.7557610675104393, 0.2443778302129564, 0.0021505472334307353, 0.9978539163118612, 0.9993614237547792, 0.4624728761895738, 0.5378278815750953, 0.9997352934333539, 0.9988462625873651, 0.9995917033396067, 0.3827009288572911, 0.6171091338600511, 0.9988542619553674, 0.9998490890518428, 0.11207528364461285, 0.8876085735557919, 0.9990900544262101, 0.5315235847235258, 0.4684970727009733, 0.4587530045171357, 0.5409177217440854, 0.9975307285338907, 0.31249597646183935, 0.4171961688322374, 0.07501508035733499, 0.19536012905894196, 0.9985072639437472, 0.9983043520453626, 0.9785170934856483, 0.021296477406904143, 0.9983622797675871, 0.9983563833351659, 0.9979043116335069, 0.9988349132289424, 0.9983835904003073, 0.9987788956406107, 0.7747315516179742, 0.22472547465811446, 0.9993522007120504, 0.2063629938064107, 0.7933672694748228, 0.9994267211546516, 0.16482177262031378, 0.5976957965020853, 0.2376903457787683, 0.3278523300792848, 0.15478006999451216, 0.517106142936211, 0.9995050059829896, 0.9979039100704472, 0.2127165382303527, 0.7863841361059379, 0.9998930046903126, 0.9991250124693221, 0.9983709529841039, 0.0009934039333175165, 0.9983111666998938, 0.613290815159855, 0.38665725561121966, 0.9997980193875282, 0.9994721887382656, 0.9989503650255747, 0.9995381706518461, 0.9991490479267171, 0.9988144168232506, 0.9997077490660976, 0.9992914695582096, 0.999162091083804, 0.9978172886309798, 0.9984768931041407, 0.9985536998475367, 0.3663926869971724, 0.15679687041800391, 0.47679048351597114, 0.9977601670825181, 0.998249055709609, 0.9983920808133518, 0.4717771733187056, 0.5282204243247633, 0.22446783299005554, 0.27177303746316644, 0.5041250711987404, 0.9986938278979541, 0.9999279831148409, 0.8472724104367614, 0.1524350362881859, 0.8847001716597441, 0.11507591474889581, 0.999627619841602, 0.32778817557739176, 0.03076608314629905, 0.6414872102747026, 0.7256566207121303, 0.11787403016073257, 0.15659177729381993, 0.7515330353842019, 0.24831423499227467, 0.9975447822749264, 0.757179417712019, 0.24271121639744173, 0.9997030395818693, 0.9992800516346254, 0.9991552369270973, 0.8037719146512303, 0.19583197920552065, 0.9994672549431189, 0.3226200709991426, 0.6765763078348465, 0.9990389710961642, 0.9990127088947895, 0.5901877954805527, 0.31070192891091875, 0.09889948723079948, 0.9977437491761472, 0.99923139000701, 0.9995907868265013, 0.9992829528340059, 0.9988932024211027, 0.9985496829894116, 0.9996640510823995, 0.9990925801453436, 0.9987861546937886, 0.9986876263093832, 0.9986837634089893, 0.9988364907542165, 0.3577654558700163, 0.2938283967395009, 0.34836294717435223, 0.9967042737011277, 0.9980515180791713, 0.9996214601481792, 0.9995088832171235, 0.5444113120078033, 0.4555324715088258, 0.9992322217336052, 0.9984719566479411, 0.9986243322271693, 0.9990781704516103, 0.16750710831603627, 0.8316235259925565, 0.9994799751994434, 0.9989718465128274, 0.3355779418988741, 0.2550617578526677, 0.40933752308805615, 0.9978205080389142, 0.0020076871389112963, 0.9991002031445212, 0.2471765675834498, 0.1460588808447658, 0.6056847296569658, 0.9995435105692265, 0.9978135338849645, 0.27379775401854356, 0.7260182150396925, 0.9974142535769903, 0.9991528415001227, 0.9995845280566911, 0.9992186807586315], \"Term\": [\"\\uac00\\uc2b4\", \"\\uac00\\uc871\", \"\\uac00\\ud574\\uc790\", \"\\uac01\\ubcf8\", \"\\uac10\\ub3c5\", \"\\uac10\\uc815\", \"\\uac10\\uc815\", \"\\uac10\\uc815\", \"\\uac8c\\uc784\", \"\\uac8c\\uc784\", \"\\uacb0\\uad6d\", \"\\uacb0\\uad6d\", \"\\uacb0\\uad6d\", \"\\uacb0\\ub9d0\", \"\\uacbd\\ucc30\", \"\\uad34\\ubb3c\", \"\\uad70\\ub300\", \"\\uad8c\\ub825\", \"\\uaddc\\ub9ac\", \"\\uae30\\uc5b5\", \"\\uae34\\uc7a5\\uac10\", \"\\uae40\\ud61c\\uc218\", \"\\ub098\\ubb34\", \"\\ub098\\uc774\", \"\\ub099\\uc6d0\", \"\\ub0a8\\uc131\", \"\\ub0a8\\uc8fc\", \"\\ub0b4\\uc6a9\", \"\\ub0b4\\uc6a9\", \"\\ub178\\ud76c\\uacbd\", \"\\ub178\\ud76c\\uacbd\", \"\\ub178\\ud76c\\uacbd\", \"\\ub208\\ubb3c\", \"\\ub2e4\\uc74c\", \"\\ub2e4\\uc74c\", \"\\ub2e4\\uc74c\", \"\\ub2e8\\uc624\", \"\\ub2e8\\uc624\", \"\\ub300\\ubcf8\", \"\\ub300\\uc0ac\", \"\\ub300\\uc0ac\", \"\\ub300\\uc0ac\", \"\\ub300\\ud1b5\\ub839\", \"\\ub300\\ud55c\\ubbfc\\uad6d\", \"\\ub3d9\\ubc31\", \"\\ub3d9\\ud654\", \"\\ub5a1\\ubc25\", \"\\ub77c\\uc778\", \"\\ub7ec\\ube0c\", \"\\ub85c\\ub9e8\\uc2a4\", \"\\ub85c\\ub9e8\\uc2a4\", \"\\ub85c\\ucf54\", \"\\ub9c8\\uc74c\", \"\\ub9c8\\uc9c0\\ub9c9\", \"\\ub9c8\\uc9c0\\ub9c9\", \"\\ub9c8\\uc9c0\\ub9c9\", \"\\ub9d0\\ud22c\", \"\\ub9e4\\ub825\", \"\\ub9e4\\ub825\", \"\\uba54\\uc2dc\\uc9c0\", \"\\ubaa8\\uc2b5\", \"\\ubaa8\\uc2b5\", \"\\ubaa8\\uc2b5\", \"\\ubaa9\\uc18c\\ub9ac\", \"\\ubaa9\\uc18c\\ub9ac\", \"\\ubab0\\uc785\", \"\\ubab0\\uc785\", \"\\ubb38\\uc81c\", \"\\ubb38\\uc81c\", \"\\ubbf8\\ub4dc\", \"\\ubc18\\uc804\", \"\\ubc30\\uacbd\", \"\\ubc30\\ub450\\ub098\", \"\\ubc30\\uc6b0\", \"\\ubc94\\uc8c4\", \"\\ubc94\\uc8c4\\uc790\", \"\\ubd80\\ubaa8\", \"\\ubd80\\ubd84\", \"\\ube44\\ud310\", \"\\uc0ac\\uac74\", \"\\uc0ac\\uac74\", \"\\uc0ac\\uadf9\", \"\\uc0ac\\ub791\", \"\\uc0ac\\ud68c\", \"\\uc0b4\\uc778\", \"\\uc0c1\\ucc98\", \"\\uc0c1\\ud669\", \"\\uc0c1\\ud669\", \"\\uc0c1\\ud669\", \"\\uc0dd\\ud65c\", \"\\uc11c\\ub85c\", \"\\uc11c\\uc0ac\", \"\\uc11c\\uc0ac\", \"\\uc11c\\uc608\\uc9c0\", \"\\uc11c\\uc608\\uc9c0\", \"\\uc11c\\ud604\\uc9c4\", \"\\uc120\\ud0dd\", \"\\uc120\\ud0dd\", \"\\uc124\\uc815\", \"\\uc131\\uc7a5\", \"\\uc138\\uacc4\", \"\\uc138\\uc0c1\", \"\\uc138\\uc0c1\", \"\\uc138\\ud3ec\", \"\\uc18c\\uc7ac\", \"\\uc21c\\uac04\", \"\\uc21c\\uac04\", \"\\uc2a4\\uce74\\uc774\", \"\\uc2a4\\ud1a0\\ub9ac\", \"\\uc2a4\\ud1a0\\ub9ac\", \"\\uc2dc\\uac04\", \"\\uc2dc\\uac04\", \"\\uc2dc\\uc5f0\", \"\\uc2dc\\uc791\", \"\\uc2dc\\uc791\", \"\\uc2dc\\uc791\", \"\\uc2dc\\uc791\", \"\\uc2dc\\uc808\", \"\\uc2dc\\uccad\", \"\\uc2dc\\uccad\\uc790\", \"\\uc2dc\\uccad\\uc790\", \"\\uc2e0\\ud30c\", \"\\uc2e0\\ud61c\\uc120\", \"\\uc4f0\\ub808\\uae30\", \"\\uc544\\ubc84\\uc9c0\", \"\\uc544\\ube60\", \"\\uc544\\uc26c\\uc6c0\", \"\\uc544\\uc774\", \"\\uc544\\uc774\", \"\\uc5b4\\ub978\", \"\\uc5bc\\uad74\", \"\\uc5bc\\uad74\", \"\\uc5c4\\ub9c8\", \"\\uc5d4\\ub529\", \"\\uc5d4\\ub529\", \"\\uc5d4\\ub529\", \"\\uc5ec\\uc131\", \"\\uc5ec\\uc131\", \"\\uc5ec\\uc131\", \"\\uc5ec\\uc8fc\", \"\\uc5ec\\uc9c4\\uad6c\", \"\\uc5ed\\ud560\", \"\\uc5ed\\ud560\", \"\\uc5f0\\uae30\", \"\\uc5f0\\uae30\\ub825\", \"\\uc5f0\\uc0c1\\ud638\", \"\\uc5f0\\uc0c1\\ud638\", \"\\uc5f0\\uc560\", \"\\uc5f0\\ucd9c\", \"\\uc5f0\\ucd9c\", \"\\uc601\\ud654\", \"\\uc608\\uc0c1\", \"\\uc624\\ub79c\\ub9cc\", \"\\uc624\\uc9d5\\uc5b4\", \"\\uc694\\uc18c\", \"\\uc6a9\\ub450\\uc0ac\\ubbf8\", \"\\uc6d0\\uc791\", \"\\uc6f9\\ud230\", \"\\uc704\\ub85c\", \"\\uc720\\ubbf8\", \"\\uc720\\uc544\\uc778\", \"\\uc751\\uc6d0\", \"\\uc758\\ubbf8\", \"\\uc758\\ubbf8\", \"\\uc758\\ubbf8\", \"\\uc758\\uc0ac\", \"\\uc774\\ub3c4\\ud604\", \"\\uc774\\ubbfc\\uae30\", \"\\uc774\\uc57c\\uae30\", \"\\uc774\\uc57c\\uae30\", \"\\uc774\\uc720\", \"\\uc774\\uc720\", \"\\uc774\\uc720\", \"\\uc774\\uc885\\uc11d\", \"\\uc778\\uac04\", \"\\uc778\\ubb3c\", \"\\uc778\\ubb3c\", \"\\uc778\\uc0dd\", \"\\uc778\\uc0dd\", \"\\uc790\\uadf9\", \"\\uc791\\uac00\", \"\\uc791\\uac00\", \"\\uc791\\uac00\", \"\\uc791\\ud488\", \"\\uc791\\ud488\", \"\\uc791\\ud488\", \"\\uc7a5\\uba74\", \"\\uc7a5\\uba74\", \"\\uc7a5\\ud601\", \"\\uc7ac\\ubbf8\", \"\\uc7ac\\ubbf8\", \"\\uc804\\uac1c\", \"\\uc804\\uccb4\", \"\\uc815\\uc758\", \"\\uc815\\uce58\", \"\\uc815\\uce58\", \"\\uc870\\uc5f0\", \"\\uc874\\uc7ac\", \"\\uc874\\uc7ac\", \"\\uc885\\uad50\", \"\\uc8fc\\uc5f0\", \"\\uc8fc\\uc778\\uacf5\", \"\\uc8fc\\uc778\\uacf5\", \"\\uc8fc\\uc778\\uacf5\", \"\\uc8fc\\uc9c0\\ud6c8\", \"\\uc8fc\\ud589\", \"\\uc8fd\\uc74c\", \"\\uc911\\uac04\", \"\\uc911\\ubc18\", \"\\uc911\\uc804\", \"\\uc9c0\\uc625\", \"\\uc9c4\\ub9ac\", \"\\uc9c4\\ud589\", \"\\uc9c8\\ubb38\", \"\\uc9d1\\ub2e8\", \"\\ucc30\\ub5a1\", \"\\ucc98\\uc74c\", \"\\ucc98\\uc74c\", \"\\ucc98\\uc74c\", \"\\ucc9c\\uc0ac\", \"\\uccad\\ucd98\", \"\\ucd08\\ubc18\", \"\\uce5c\\uad6c\", \"\\uce90\\ub9ad\\ud130\", \"\\uce90\\ub9ad\\ud130\", \"\\uce90\\uc2a4\\ud305\", \"\\uce90\\uc2ac\", \"\\ucf00\\ubbf8\", \"\\ud074\\ub9ac\\uc170\", \"\\ud310\\ud0c0\\uc9c0\", \"\\ud310\\ud0c0\\uc9c0\", \"\\ud3ed\\ub825\", \"\\ud53c\\ud574\\uc790\", \"\\ud544\\uc694\", \"\\ud544\\uc694\", \"\\ud544\\uc694\", \"\\ud55c\\uad6d\", \"\\ud55c\\uad6d\", \"\\ud574\\ud53c\", \"\\ud589\\ub3d9\", \"\\ud589\\ub3d9\", \"\\ud589\\ub3d9\", \"\\ud589\\ubcf5\", \"\\ud604\\uc0c1\", \"\\ud604\\uc2e4\", \"\\ud604\\uc2e4\", \"\\ud654\\uc0b4\\ucd09\", \"\\ud68c\\ucc28\", \"\\ud6c4\\ubc18\\ubd80\", \"\\ud765\\ubbf8\"]}, \"R\": 30, \"lambda.step\": 0.01, \"plot.opts\": {\"xlab\": \"PC1\", \"ylab\": \"PC2\"}, \"topic.order\": [2, 4, 1, 3]};\n",
       "\n",
       "function LDAvis_load_lib(url, callback){\n",
       "  var s = document.createElement('script');\n",
       "  s.src = url;\n",
       "  s.async = true;\n",
       "  s.onreadystatechange = s.onload = callback;\n",
       "  s.onerror = function(){console.warn(\"failed to load library \" + url);};\n",
       "  document.getElementsByTagName(\"head\")[0].appendChild(s);\n",
       "}\n",
       "\n",
       "if(typeof(LDAvis) !== \"undefined\"){\n",
       "   // already loaded: just create the visualization\n",
       "   !function(LDAvis){\n",
       "       new LDAvis(\"#\" + \"ldavis_el30197113948375202839288214\", ldavis_el30197113948375202839288214_data);\n",
       "   }(LDAvis);\n",
       "}else if(typeof define === \"function\" && define.amd){\n",
       "   // require.js is available: use it to load d3/LDAvis\n",
       "   require.config({paths: {d3: \"https://d3js.org/d3.v5\"}});\n",
       "   require([\"d3\"], function(d3){\n",
       "      window.d3 = d3;\n",
       "      LDAvis_load_lib(\"https://cdn.jsdelivr.net/gh/bmabey/pyLDAvis@3.3.1/pyLDAvis/js/ldavis.v3.0.0.js\", function(){\n",
       "        new LDAvis(\"#\" + \"ldavis_el30197113948375202839288214\", ldavis_el30197113948375202839288214_data);\n",
       "      });\n",
       "    });\n",
       "}else{\n",
       "    // require.js not available: dynamically load d3 & LDAvis\n",
       "    LDAvis_load_lib(\"https://d3js.org/d3.v5.js\", function(){\n",
       "         LDAvis_load_lib(\"https://cdn.jsdelivr.net/gh/bmabey/pyLDAvis@3.3.1/pyLDAvis/js/ldavis.v3.0.0.js\", function(){\n",
       "                 new LDAvis(\"#\" + \"ldavis_el30197113948375202839288214\", ldavis_el30197113948375202839288214_data);\n",
       "            })\n",
       "         });\n",
       "}\n",
       "</script>"
      ],
      "text/plain": [
       "<IPython.core.display.HTML object>"
      ]
     },
     "execution_count": 112,
     "metadata": {},
     "output_type": "execute_result"
    }
   ],
   "source": [
    "pyLDAvis.enable_notebook()\n",
    "vis = gensimvis.prepare(lda, corpus, dictionary)\n",
    "pyLDAvis.display(vis)"
   ]
  },
  {
   "cell_type": "markdown",
   "id": "226bad8f",
   "metadata": {},
   "source": [
    "#### 문서별 토픽 비중 보기"
   ]
  },
  {
   "cell_type": "code",
   "execution_count": 113,
   "id": "a4ef34ce",
   "metadata": {
    "ExecuteTime": {
     "end_time": "2022-04-27T08:27:13.608972Z",
     "start_time": "2022-04-27T08:27:13.596669Z"
    }
   },
   "outputs": [
    {
     "name": "stdout",
     "output_type": "stream",
     "text": [
      "1번째 문서의 topic 비율은 [(0, 0.04167105), (1, 0.04235725), (2, 0.87430066), (3, 0.041671038)]\n",
      "2번째 문서의 topic 비율은 [(0, 0.20786202), (1, 0.041981585), (2, 0.5417774), (3, 0.20837902)]\n",
      "3번째 문서의 topic 비율은 [(0, 0.20616612), (1, 0.042307526), (2, 0.70765615), (3, 0.043870218)]\n",
      "4번째 문서의 topic 비율은 [(0, 0.4482781), (1, 0.050009847), (2, 0.44996583), (3, 0.051746268)]\n",
      "5번째 문서의 topic 비율은 [(0, 0.3124023), (1, 0.06371095), (2, 0.062523164), (3, 0.5613636)]\n"
     ]
    }
   ],
   "source": [
    "for i, topic_list in enumerate(lda[corpus]):\n",
    "    if i==5:\n",
    "        break\n",
    "    print(f'{i+1}번째 문서의 topic 비율은',topic_list)"
   ]
  },
  {
   "cell_type": "code",
   "execution_count": 114,
   "id": "53dbe905",
   "metadata": {
    "ExecuteTime": {
     "end_time": "2022-04-27T08:27:33.010575Z",
     "start_time": "2022-04-27T08:27:32.997700Z"
    }
   },
   "outputs": [],
   "source": [
    "def make_topictable_per_doc(lda, corpus):\n",
    "    topic_table = pd.DataFrame()\n",
    "\n",
    "    # 몇 번째 문서인지를 의미하는 문서 번호와 해당 문서의 토픽 비중을 한 줄씩 꺼내온다.\n",
    "    for i, topic_list in enumerate(lda[corpus]):\n",
    "        doc = topic_list[0] if lda.per_word_topics else topic_list            \n",
    "        doc = sorted(doc, key=lambda x: (x[1]), reverse=True)\n",
    "        # 각 문서에 대해서 비중이 높은 토픽순으로 토픽을 정렬한다.\n",
    "        # EX) 정렬 전 0번 문서 : (2번 토픽, 48.5%), (8번 토픽, 25%), (10번 토픽, 5%), (12번 토픽, 21.5%), \n",
    "        # Ex) 정렬 후 0번 문서 : (2번 토픽, 48.5%), (8번 토픽, 25%), (12번 토픽, 21.5%), (10번 토픽, 5%)\n",
    "        # 48 > 25 > 21 > 5 순으로 정렬이 된 것.\n",
    "\n",
    "        # 모든 문서에 대해서 각각 아래를 수행\n",
    "        for j, (topic_num, prop_topic) in enumerate(doc): #  몇 번 토픽인지와 비중을 나눠서 저장한다.\n",
    "            if j == 0:  # 정렬을 한 상태이므로 가장 앞에 있는 것이 가장 비중이 높은 토픽\n",
    "                topic_table = topic_table.append(pd.Series([int(topic_num), round(prop_topic,4), topic_list]), ignore_index=True)\n",
    "                # 가장 비중이 높은 토픽과, 가장 비중이 높은 토픽의 비중과, 전체 토픽의 비중을 저장한다.\n",
    "            else:\n",
    "                break\n",
    "    return(topic_table)"
   ]
  },
  {
   "cell_type": "code",
   "execution_count": null,
   "id": "ff97b20f",
   "metadata": {
    "ExecuteTime": {
     "start_time": "2022-04-27T08:27:38.439Z"
    }
   },
   "outputs": [],
   "source": [
    "topictable = make_topictable_per_doc(lda, corpus)\n",
    "topictable = topictable.reset_index() # 문서 번호을 의미하는 열(column)로 사용하기 위해서 인덱스 열을 하나 더 만든다.\n",
    "topictable.columns = ['문서 번호', '가장 비중이 높은 토픽', '가장 높은 토픽의 비중', '각 토픽의 비중']"
   ]
  },
  {
   "cell_type": "code",
   "execution_count": null,
   "id": "220bd242",
   "metadata": {
    "ExecuteTime": {
     "start_time": "2022-04-27T08:27:42.167Z"
    }
   },
   "outputs": [],
   "source": [
    "topictable[:30]"
   ]
  },
  {
   "cell_type": "markdown",
   "id": "128a5e04",
   "metadata": {},
   "source": [
    "#### unseen_doc"
   ]
  },
  {
   "cell_type": "code",
   "execution_count": 89,
   "id": "a4ebd367",
   "metadata": {
    "ExecuteTime": {
     "end_time": "2022-04-27T05:34:48.989082Z",
     "start_time": "2022-04-27T05:34:48.963270Z"
    }
   },
   "outputs": [
    {
     "ename": "ValueError",
     "evalue": "too many values to unpack (expected 2)",
     "output_type": "error",
     "traceback": [
      "\u001b[0;31m---------------------------------------------------------------------------\u001b[0m",
      "\u001b[0;31mValueError\u001b[0m                                Traceback (most recent call last)",
      "\u001b[0;32m<ipython-input-89-f7805d728427>\u001b[0m in \u001b[0;36m<module>\u001b[0;34m\u001b[0m\n\u001b[1;32m      3\u001b[0m review = ['캐스팅', '라인업', '노희경', '극본', '몰입', '차승원', '침묵', '순간',\n\u001b[1;32m      4\u001b[0m           '노희경', '극본', '경지', '세상', '노희경', '작가', '배우','스토리', '배우', '한수', '위험', '고통']\n\u001b[0;32m----> 5\u001b[0;31m \u001b[0mvector\u001b[0m \u001b[0;34m=\u001b[0m \u001b[0mlda\u001b[0m\u001b[0;34m[\u001b[0m\u001b[0mreview\u001b[0m\u001b[0;34m]\u001b[0m\u001b[0;34m\u001b[0m\u001b[0;34m\u001b[0m\u001b[0m\n\u001b[0m\u001b[1;32m      6\u001b[0m \u001b[0;31m#     vec_dict['review_num'].append(i)\u001b[0m\u001b[0;34m\u001b[0m\u001b[0;34m\u001b[0m\u001b[0m\n\u001b[1;32m      7\u001b[0m \u001b[0;31m#     vec_dict['vec'].append(vector)\u001b[0m\u001b[0;34m\u001b[0m\u001b[0;34m\u001b[0m\u001b[0m\n",
      "\u001b[0;32m/opt/homebrew/Caskroom/miniforge/base/envs/study/lib/python3.9/site-packages/gensim/models/ldamodel.py\u001b[0m in \u001b[0;36m__getitem__\u001b[0;34m(self, bow, eps)\u001b[0m\n\u001b[1;32m   1546\u001b[0m \u001b[0;34m\u001b[0m\u001b[0m\n\u001b[1;32m   1547\u001b[0m         \"\"\"\n\u001b[0;32m-> 1548\u001b[0;31m         \u001b[0;32mreturn\u001b[0m \u001b[0mself\u001b[0m\u001b[0;34m.\u001b[0m\u001b[0mget_document_topics\u001b[0m\u001b[0;34m(\u001b[0m\u001b[0mbow\u001b[0m\u001b[0;34m,\u001b[0m \u001b[0meps\u001b[0m\u001b[0;34m,\u001b[0m \u001b[0mself\u001b[0m\u001b[0;34m.\u001b[0m\u001b[0mminimum_phi_value\u001b[0m\u001b[0;34m,\u001b[0m \u001b[0mself\u001b[0m\u001b[0;34m.\u001b[0m\u001b[0mper_word_topics\u001b[0m\u001b[0;34m)\u001b[0m\u001b[0;34m\u001b[0m\u001b[0;34m\u001b[0m\u001b[0m\n\u001b[0m\u001b[1;32m   1549\u001b[0m \u001b[0;34m\u001b[0m\u001b[0m\n\u001b[1;32m   1550\u001b[0m     \u001b[0;32mdef\u001b[0m \u001b[0msave\u001b[0m\u001b[0;34m(\u001b[0m\u001b[0mself\u001b[0m\u001b[0;34m,\u001b[0m \u001b[0mfname\u001b[0m\u001b[0;34m,\u001b[0m \u001b[0mignore\u001b[0m\u001b[0;34m=\u001b[0m\u001b[0;34m(\u001b[0m\u001b[0;34m'state'\u001b[0m\u001b[0;34m,\u001b[0m \u001b[0;34m'dispatcher'\u001b[0m\u001b[0;34m)\u001b[0m\u001b[0;34m,\u001b[0m \u001b[0mseparately\u001b[0m\u001b[0;34m=\u001b[0m\u001b[0;32mNone\u001b[0m\u001b[0;34m,\u001b[0m \u001b[0;34m*\u001b[0m\u001b[0margs\u001b[0m\u001b[0;34m,\u001b[0m \u001b[0;34m**\u001b[0m\u001b[0mkwargs\u001b[0m\u001b[0;34m)\u001b[0m\u001b[0;34m:\u001b[0m\u001b[0;34m\u001b[0m\u001b[0;34m\u001b[0m\u001b[0m\n",
      "\u001b[0;32m/opt/homebrew/Caskroom/miniforge/base/envs/study/lib/python3.9/site-packages/gensim/models/ldamodel.py\u001b[0m in \u001b[0;36mget_document_topics\u001b[0;34m(self, bow, minimum_probability, minimum_phi_value, per_word_topics)\u001b[0m\n\u001b[1;32m   1351\u001b[0m             \u001b[0;32mreturn\u001b[0m \u001b[0mself\u001b[0m\u001b[0;34m.\u001b[0m\u001b[0m_apply\u001b[0m\u001b[0;34m(\u001b[0m\u001b[0mcorpus\u001b[0m\u001b[0;34m,\u001b[0m \u001b[0;34m**\u001b[0m\u001b[0mkwargs\u001b[0m\u001b[0;34m)\u001b[0m\u001b[0;34m\u001b[0m\u001b[0;34m\u001b[0m\u001b[0m\n\u001b[1;32m   1352\u001b[0m \u001b[0;34m\u001b[0m\u001b[0m\n\u001b[0;32m-> 1353\u001b[0;31m         \u001b[0mgamma\u001b[0m\u001b[0;34m,\u001b[0m \u001b[0mphis\u001b[0m \u001b[0;34m=\u001b[0m \u001b[0mself\u001b[0m\u001b[0;34m.\u001b[0m\u001b[0minference\u001b[0m\u001b[0;34m(\u001b[0m\u001b[0;34m[\u001b[0m\u001b[0mbow\u001b[0m\u001b[0;34m]\u001b[0m\u001b[0;34m,\u001b[0m \u001b[0mcollect_sstats\u001b[0m\u001b[0;34m=\u001b[0m\u001b[0mper_word_topics\u001b[0m\u001b[0;34m)\u001b[0m\u001b[0;34m\u001b[0m\u001b[0;34m\u001b[0m\u001b[0m\n\u001b[0m\u001b[1;32m   1354\u001b[0m         \u001b[0mtopic_dist\u001b[0m \u001b[0;34m=\u001b[0m \u001b[0mgamma\u001b[0m\u001b[0;34m[\u001b[0m\u001b[0;36m0\u001b[0m\u001b[0;34m]\u001b[0m \u001b[0;34m/\u001b[0m \u001b[0msum\u001b[0m\u001b[0;34m(\u001b[0m\u001b[0mgamma\u001b[0m\u001b[0;34m[\u001b[0m\u001b[0;36m0\u001b[0m\u001b[0;34m]\u001b[0m\u001b[0;34m)\u001b[0m  \u001b[0;31m# normalize distribution\u001b[0m\u001b[0;34m\u001b[0m\u001b[0;34m\u001b[0m\u001b[0m\n\u001b[1;32m   1355\u001b[0m \u001b[0;34m\u001b[0m\u001b[0m\n",
      "\u001b[0;32m/opt/homebrew/Caskroom/miniforge/base/envs/study/lib/python3.9/site-packages/gensim/models/ldamodel.py\u001b[0m in \u001b[0;36minference\u001b[0;34m(self, chunk, collect_sstats)\u001b[0m\n\u001b[1;32m    696\u001b[0m             \u001b[0;32mif\u001b[0m \u001b[0mlen\u001b[0m\u001b[0;34m(\u001b[0m\u001b[0mdoc\u001b[0m\u001b[0;34m)\u001b[0m \u001b[0;34m>\u001b[0m \u001b[0;36m0\u001b[0m \u001b[0;32mand\u001b[0m \u001b[0;32mnot\u001b[0m \u001b[0misinstance\u001b[0m\u001b[0;34m(\u001b[0m\u001b[0mdoc\u001b[0m\u001b[0;34m[\u001b[0m\u001b[0;36m0\u001b[0m\u001b[0;34m]\u001b[0m\u001b[0;34m[\u001b[0m\u001b[0;36m0\u001b[0m\u001b[0;34m]\u001b[0m\u001b[0;34m,\u001b[0m \u001b[0minteger_types\u001b[0m\u001b[0;34m)\u001b[0m\u001b[0;34m:\u001b[0m\u001b[0;34m\u001b[0m\u001b[0;34m\u001b[0m\u001b[0m\n\u001b[1;32m    697\u001b[0m                 \u001b[0;31m# make sure the term IDs are ints, otherwise np will get upset\u001b[0m\u001b[0;34m\u001b[0m\u001b[0;34m\u001b[0m\u001b[0m\n\u001b[0;32m--> 698\u001b[0;31m                 \u001b[0mids\u001b[0m \u001b[0;34m=\u001b[0m \u001b[0;34m[\u001b[0m\u001b[0mint\u001b[0m\u001b[0;34m(\u001b[0m\u001b[0midx\u001b[0m\u001b[0;34m)\u001b[0m \u001b[0;32mfor\u001b[0m \u001b[0midx\u001b[0m\u001b[0;34m,\u001b[0m \u001b[0m_\u001b[0m \u001b[0;32min\u001b[0m \u001b[0mdoc\u001b[0m\u001b[0;34m]\u001b[0m\u001b[0;34m\u001b[0m\u001b[0;34m\u001b[0m\u001b[0m\n\u001b[0m\u001b[1;32m    699\u001b[0m             \u001b[0;32melse\u001b[0m\u001b[0;34m:\u001b[0m\u001b[0;34m\u001b[0m\u001b[0;34m\u001b[0m\u001b[0m\n\u001b[1;32m    700\u001b[0m                 \u001b[0mids\u001b[0m \u001b[0;34m=\u001b[0m \u001b[0;34m[\u001b[0m\u001b[0midx\u001b[0m \u001b[0;32mfor\u001b[0m \u001b[0midx\u001b[0m\u001b[0;34m,\u001b[0m \u001b[0m_\u001b[0m \u001b[0;32min\u001b[0m \u001b[0mdoc\u001b[0m\u001b[0;34m]\u001b[0m\u001b[0;34m\u001b[0m\u001b[0;34m\u001b[0m\u001b[0m\n",
      "\u001b[0;32m/opt/homebrew/Caskroom/miniforge/base/envs/study/lib/python3.9/site-packages/gensim/models/ldamodel.py\u001b[0m in \u001b[0;36m<listcomp>\u001b[0;34m(.0)\u001b[0m\n\u001b[1;32m    696\u001b[0m             \u001b[0;32mif\u001b[0m \u001b[0mlen\u001b[0m\u001b[0;34m(\u001b[0m\u001b[0mdoc\u001b[0m\u001b[0;34m)\u001b[0m \u001b[0;34m>\u001b[0m \u001b[0;36m0\u001b[0m \u001b[0;32mand\u001b[0m \u001b[0;32mnot\u001b[0m \u001b[0misinstance\u001b[0m\u001b[0;34m(\u001b[0m\u001b[0mdoc\u001b[0m\u001b[0;34m[\u001b[0m\u001b[0;36m0\u001b[0m\u001b[0;34m]\u001b[0m\u001b[0;34m[\u001b[0m\u001b[0;36m0\u001b[0m\u001b[0;34m]\u001b[0m\u001b[0;34m,\u001b[0m \u001b[0minteger_types\u001b[0m\u001b[0;34m)\u001b[0m\u001b[0;34m:\u001b[0m\u001b[0;34m\u001b[0m\u001b[0;34m\u001b[0m\u001b[0m\n\u001b[1;32m    697\u001b[0m                 \u001b[0;31m# make sure the term IDs are ints, otherwise np will get upset\u001b[0m\u001b[0;34m\u001b[0m\u001b[0;34m\u001b[0m\u001b[0m\n\u001b[0;32m--> 698\u001b[0;31m                 \u001b[0mids\u001b[0m \u001b[0;34m=\u001b[0m \u001b[0;34m[\u001b[0m\u001b[0mint\u001b[0m\u001b[0;34m(\u001b[0m\u001b[0midx\u001b[0m\u001b[0;34m)\u001b[0m \u001b[0;32mfor\u001b[0m \u001b[0midx\u001b[0m\u001b[0;34m,\u001b[0m \u001b[0m_\u001b[0m \u001b[0;32min\u001b[0m \u001b[0mdoc\u001b[0m\u001b[0;34m]\u001b[0m\u001b[0;34m\u001b[0m\u001b[0;34m\u001b[0m\u001b[0m\n\u001b[0m\u001b[1;32m    699\u001b[0m             \u001b[0;32melse\u001b[0m\u001b[0;34m:\u001b[0m\u001b[0;34m\u001b[0m\u001b[0;34m\u001b[0m\u001b[0m\n\u001b[1;32m    700\u001b[0m                 \u001b[0mids\u001b[0m \u001b[0;34m=\u001b[0m \u001b[0;34m[\u001b[0m\u001b[0midx\u001b[0m \u001b[0;32mfor\u001b[0m \u001b[0midx\u001b[0m\u001b[0;34m,\u001b[0m \u001b[0m_\u001b[0m \u001b[0;32min\u001b[0m \u001b[0mdoc\u001b[0m\u001b[0;34m]\u001b[0m\u001b[0;34m\u001b[0m\u001b[0;34m\u001b[0m\u001b[0m\n",
      "\u001b[0;31mValueError\u001b[0m: too many values to unpack (expected 2)"
     ]
    }
   ],
   "source": [
    "for i in tqdm(range(len(corpus))):\n",
    "    review = corpus[i]\n",
    "    vector = lda[review]\n",
    "    vec_dict['review_num'].append(i)\n",
    "    vec_dict['vec'].append(vector)"
   ]
  },
  {
   "cell_type": "code",
   "execution_count": 88,
   "id": "b5d0d47c",
   "metadata": {
    "ExecuteTime": {
     "end_time": "2022-04-27T05:28:07.363634Z",
     "start_time": "2022-04-27T05:28:07.342364Z"
    },
    "scrolled": false
   },
   "outputs": [
    {
     "data": {
      "text/plain": [
       "[[(0, 0.035952475), (1, 0.58964294), (2, 0.33844653), (3, 0.035958026)],\n",
       " [(0, 0.3663324), (1, 0.37435037), (2, 0.2145099), (3, 0.044807304)],\n",
       " [(0, 0.20840017), (1, 0.3978236), (2, 0.35210657), (3, 0.0416696)],\n",
       " [(0, 0.45017752), (1, 0.25023583), (2, 0.24956174), (3, 0.050024893)],\n",
       " [(0, 0.79438496), (1, 0.06490525), (2, 0.07818313), (3, 0.062526666)],\n",
       " [(0, 0.27144465), (1, 0.32383448), (2, 0.35154337), (3, 0.053177495)],\n",
       " [(0, 0.58966476), (1, 0.018051755), (2, 0.23141775), (3, 0.16086574)],\n",
       " [(0, 0.61601776), (1, 0.05140504), (2, 0.050522055), (3, 0.2820552)],\n",
       " [(0, 0.09945148), (1, 0.25133044), (2, 0.63241756), (3, 0.016800508)],\n",
       " [(0, 0.0768523), (1, 0.47920716), (2, 0.33585683), (3, 0.10808371)]]"
      ]
     },
     "execution_count": 88,
     "metadata": {},
     "output_type": "execute_result"
    }
   ],
   "source": [
    "vec[:10]"
   ]
  }
 ],
 "metadata": {
  "hide_input": false,
  "kernelspec": {
   "display_name": "study",
   "language": "python",
   "name": "study"
  },
  "language_info": {
   "codemirror_mode": {
    "name": "ipython",
    "version": 3
   },
   "file_extension": ".py",
   "mimetype": "text/x-python",
   "name": "python",
   "nbconvert_exporter": "python",
   "pygments_lexer": "ipython3",
   "version": "3.9.10"
  },
  "toc": {
   "base_numbering": 1,
   "nav_menu": {},
   "number_sections": true,
   "sideBar": true,
   "skip_h1_title": false,
   "title_cell": "Table of Contents",
   "title_sidebar": "Contents",
   "toc_cell": false,
   "toc_position": {},
   "toc_section_display": true,
   "toc_window_display": false
  },
  "varInspector": {
   "cols": {
    "lenName": 16,
    "lenType": 16,
    "lenVar": 40
   },
   "kernels_config": {
    "python": {
     "delete_cmd_postfix": "",
     "delete_cmd_prefix": "del ",
     "library": "var_list.py",
     "varRefreshCmd": "print(var_dic_list())"
    },
    "r": {
     "delete_cmd_postfix": ") ",
     "delete_cmd_prefix": "rm(",
     "library": "var_list.r",
     "varRefreshCmd": "cat(var_dic_list()) "
    }
   },
   "position": {
    "height": "637.7310180664062px",
    "left": "853.826171875px",
    "right": "20px",
    "top": "73.00000762939453px",
    "width": "525.2581787109375px"
   },
   "types_to_exclude": [
    "module",
    "function",
    "builtin_function_or_method",
    "instance",
    "_Feature"
   ],
   "window_display": false
  }
 },
 "nbformat": 4,
 "nbformat_minor": 5
}
