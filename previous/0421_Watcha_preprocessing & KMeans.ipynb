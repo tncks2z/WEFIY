{
 "cells": [
  {
   "cell_type": "code",
   "execution_count": 2,
   "metadata": {
    "ExecuteTime": {
     "end_time": "2022-04-21T05:46:31.581598Z",
     "start_time": "2022-04-21T05:46:31.574873Z"
    }
   },
   "outputs": [],
   "source": [
    "import warnings\n",
    "warnings.filterwarnings('ignore')"
   ]
  },
  {
   "cell_type": "code",
   "execution_count": 3,
   "metadata": {
    "ExecuteTime": {
     "end_time": "2022-04-21T05:46:32.910519Z",
     "start_time": "2022-04-21T05:46:32.421981Z"
    },
    "id": "06HDiFQ0cKkc"
   },
   "outputs": [],
   "source": [
    "import pandas as pd\n",
    "import numpy as np\n",
    "\n",
    "df = pd.read_csv(\"/Users/suchan/study/파이널 프로젝트/contents_Watcha.csv\")"
   ]
  },
  {
   "cell_type": "code",
   "execution_count": 43,
   "metadata": {
    "ExecuteTime": {
     "end_time": "2022-04-21T05:55:41.875424Z",
     "start_time": "2022-04-21T05:55:41.843195Z"
    }
   },
   "outputs": [
    {
     "data": {
      "text/plain": [
       "Unnamed: 0    0\n",
       "title         0\n",
       "reviews       0\n",
       "dtype: int64"
      ]
     },
     "execution_count": 43,
     "metadata": {},
     "output_type": "execute_result"
    }
   ],
   "source": [
    "df.isna().sum()"
   ]
  },
  {
   "cell_type": "code",
   "execution_count": 5,
   "metadata": {
    "ExecuteTime": {
     "end_time": "2022-04-21T05:46:36.242792Z",
     "start_time": "2022-04-21T05:46:36.235080Z"
    },
    "scrolled": true
   },
   "outputs": [
    {
     "data": {
      "text/plain": [
       "array(['우리들의 블루스', '파친코', '돼지의 왕', '그린마더스클럽', '사내 맞선', '스물다섯 스물하나',\n",
       "       '시맨틱 에러', '소년비행', '악의 마음을 읽는 자들', '나의 아저씨', '소년심판', '비밀의 숲',\n",
       "       '비밀의 숲 2', '멜로가 체질', '괴물', '모범택시', '미스터 션샤인', '트레이서 시즌 1',\n",
       "       '트레이서 시즌 2', '이렇게 된 이상 청와대로 간다', '술꾼도시여자들', '라이프 온 마스', '블랙독',\n",
       "       '해피니스', '태종 이방원', '도시남녀의 사랑법', '검색어를 입력하세요 WWW', '옷소매 붉은 끝동',\n",
       "       '악의 꽃', '런 온', '손 the guest', '서른, 아홉', '슬기로운 의사생활',\n",
       "       '슬기로운 의사생활 시즌 2', 'D.P.', '사랑의 불시착', '스토브리그', '왓쳐', '그림자 미녀',\n",
       "       '동백꽃 필 무렵', '백일의 낭군님', '어느 날 우리 집 현관으로 멸망이 들어왔다', '카이로스',\n",
       "       '보좌관 – 세상을 움직이는 사람들', '보좌관 2 - 세상을 움직이는 사람들', '기름진 멜로', '새빛남고 학생회',\n",
       "       '좋좋소', '키마이라', '며느라기 시즌 1', '며느라기 2…ing', '김비서가 왜 그럴까', '부부의 세계',\n",
       "       '그녀의 사생활', '로스쿨', '구경이', '무브 투 헤븐: 나는 유품정리사입니다', '마우스', '검법남녀',\n",
       "       '검법남녀 시즌2', '엉클', '하늘에서 내리는 1억개의 별', '우수무당 가두심', '오징어 게임',\n",
       "       '킹덤 시즌 1', '킹덤 시즌 2', 'SKY 캐슬', '호텔 델루나', '갯마을 차차차', '아는 와이프',\n",
       "       '원 더 우먼', '보이스', '보이스2', '보이스3', '오월의 청춘', '이 구역의 미친 X', '라켓소년단',\n",
       "       '언프레임드', '마녀식당으로 오세요', '연애미수', '홈타운', '트웬티 트웬티', '지옥', '인간수업',\n",
       "       '사이코지만 괜찮아', '어쩌다 발견한 하루', '낭만닥터 김사부 2', '365 : 운명을 거스르는 1년',\n",
       "       '에이틴', '에이틴2', '미스티', '방법', '연애플레이리스트 시즌 3', '연애플레이리스트 시즌 4',\n",
       "       '대박부동산', '산후조리원', '의사요한', '아름다운 세상', '녹두꽃', '안녕? 나야!',\n",
       "       '커피 한잔 할까요?', '바람이 분다', '백수세끼', '트랩', '일의 기쁨과 슬픔', '뷰티 인사이드',\n",
       "       '라이브', '로맨스는 별책부록', '유미의 세포들', '18 어게인', '서른이지만 열일곱입니다',\n",
       "       '60일, 지정생존자', '하이에나', '으라차차 와이키키', '왕이 된 남자', '한 번 다녀왔습니다', '나빌레라',\n",
       "       '사의 찬미', '엑스엑스', '특별근로감독관 조장풍', '추리의 여왕 2', '달리와 감자탕', '단, 하나의 사랑',\n",
       "       '이리와 안아줘', '라이브온', '이런 꽃 같은 엔딩', '한 사람만', '내 뒤에 테리우스',\n",
       "       '신의 퀴즈 : 리부트', '미치지 않고서야', '자백', '월간 집', '시를 잊은 그대에게', '은주의 방',\n",
       "       '타임즈', '땐뽀걸즈', '인서울 시즌 1', '언더커버', '본 대로 말하라', '소녀의 세계', '미스터 기간제',\n",
       "       '블루버스데이', '꽃 피면 달 생각하고', '우아한 친구들', '검은 태양', '뫼비우스: 검은 태양',\n",
       "       '사당보다 먼 의정부보다 가까운 시즌3', '나쁜 형사', '보쌈 - 운명을 훔치다', '어른연습생',\n",
       "       '모두 그곳에 있다', '퍼퓸', '봄이 오나 봄', '거짓말의 거짓말', '마이 퍽킹 로맨스',\n",
       "       '나의 흑역사 오답노트', '작은 신의 아이들', '절정', '출사표', '대리인간'], dtype=object)"
      ]
     },
     "execution_count": 5,
     "metadata": {},
     "output_type": "execute_result"
    }
   ],
   "source": [
    "df.title.unique()"
   ]
  },
  {
   "cell_type": "markdown",
   "metadata": {
    "id": "eAvj4QvycKkg"
   },
   "source": [
    "# 필요 함수들"
   ]
  },
  {
   "cell_type": "code",
   "execution_count": 6,
   "metadata": {
    "ExecuteTime": {
     "end_time": "2022-04-21T05:46:40.234997Z",
     "start_time": "2022-04-21T05:46:38.054625Z"
    },
    "id": "Uzcta1LzcKki"
   },
   "outputs": [],
   "source": [
    "import re\n",
    "import pandas as pd\n",
    "import numpy as np\n",
    "import string\n",
    "from tensorflow.keras.preprocessing.text import text_to_word_sequence\n",
    "import nltk\n",
    "from nltk.tokenize import word_tokenize\n",
    "from nltk.stem import WordNetLemmatizer\n",
    "from collections import Counter\n",
    "from contextualized_topic_models.utils.preprocessing import WhiteSpacePreprocessing\n",
    "from sklearn.feature_extraction.text import CountVectorizer, TfidfVectorizer\n",
    "from konlpy.tag import Mecab, Okt\n",
    "from tqdm import tqdm"
   ]
  },
  {
   "cell_type": "code",
   "execution_count": 49,
   "metadata": {
    "ExecuteTime": {
     "end_time": "2022-04-21T06:02:13.565830Z",
     "start_time": "2022-04-21T06:02:13.554986Z"
    },
    "id": "Q6PzBOOfcKkk"
   },
   "outputs": [],
   "source": [
    "mecab = Mecab()\n",
    "class CustomTokenizer:\n",
    "    def __init__(self, tagger):\n",
    "        self.tagger = tagger\n",
    "    def __call__(self, a):\n",
    "#         a = ','.join(a)\n",
    "        word_tokens = self.tagger.pos(a)\n",
    "        \n",
    "        results = []\n",
    "        for word,pos in word_tokens:\n",
    "            if pos in ['NNG','NNP'] and len(word) > 1:\n",
    "                results.append(word)\n",
    "\n",
    "        return results"
   ]
  },
  {
   "cell_type": "markdown",
   "metadata": {
    "id": "VUITwIWzcKkl"
   },
   "source": [
    "# 작업"
   ]
  },
  {
   "cell_type": "code",
   "execution_count": 50,
   "metadata": {
    "ExecuteTime": {
     "end_time": "2022-04-21T06:02:15.541692Z",
     "start_time": "2022-04-21T06:02:15.518047Z"
    }
   },
   "outputs": [],
   "source": [
    "reviews = df.reviews.to_list()\n",
    "doc = ','.join(reviews)"
   ]
  },
  {
   "cell_type": "code",
   "execution_count": 47,
   "metadata": {
    "ExecuteTime": {
     "end_time": "2022-04-21T05:58:01.302329Z",
     "start_time": "2022-04-21T05:58:01.295432Z"
    }
   },
   "outputs": [
    {
     "data": {
      "text/plain": [
       "['이 화려한 캐스팅 라인업을 보고 안 볼수가 있나.. ㄷㄷㄷ 게다가 노희경 극본..ㄷㄷㄷ\\n\\n바로 이거지... 눈과 귀를 홀리는 이 몰입도!\\n심지어 짠내나는 차승원이라니..ㅋㅋ 너무 좋다!!',\n",
       " '침묵의 순간들이 더욱 처연하게 빛나는, 노희경 극본의 또 다른 경지.',\n",
       " '세상에..노희경 작가와 이 배우들이라면 어떤 스토리가 됐든 꼭 보고싶다..',\n",
       " '하 진짜 좋아하는 배우 전부 다 나오네…\\n.\\n한수의 위험한 생각이 뭔지 알 것 같아서 고통스럽다.',\n",
       " '사람 사는 거 특별할 거 없다지만, 저마다의 사정을 찬찬히 듣노라면 그것만큼 재미난 맛도 없다.']"
      ]
     },
     "execution_count": 47,
     "metadata": {},
     "output_type": "execute_result"
    }
   ],
   "source": [
    "reviews[:5]"
   ]
  },
  {
   "cell_type": "code",
   "execution_count": 41,
   "metadata": {
    "ExecuteTime": {
     "end_time": "2022-04-21T05:54:45.033906Z",
     "start_time": "2022-04-21T05:54:45.026260Z"
    }
   },
   "outputs": [],
   "source": [
    "custom_tokenizer = CustomTokenizer(Mecab())"
   ]
  },
  {
   "cell_type": "code",
   "execution_count": 18,
   "metadata": {
    "ExecuteTime": {
     "end_time": "2022-04-21T05:47:23.003730Z",
     "start_time": "2022-04-21T05:47:22.968981Z"
    }
   },
   "outputs": [],
   "source": [
    "# re_review = []\n",
    "# for review in reviews:\n",
    "#     tokens = custom_tokenizer(review)\n",
    "#     for token in tokens:\n",
    "#         if token:\n",
    "#             re_review.append(token)"
   ]
  },
  {
   "cell_type": "code",
   "execution_count": 52,
   "metadata": {
    "ExecuteTime": {
     "end_time": "2022-04-21T06:03:42.800157Z",
     "start_time": "2022-04-21T06:03:33.285763Z"
    },
    "colab": {
     "base_uri": "https://localhost:8080/"
    },
    "id": "WUf7tKGGcKkl",
    "outputId": "7916a4e6-62cf-4545-8f50-57a2d8fa8732",
    "scrolled": false
   },
   "outputs": [],
   "source": [
    "# ngram_range = (1,3)\n",
    "# stop_words = (('드라마','\\r', '\\n', '\\r\\n', '\\n\\r'))\n",
    "\n",
    "custom_tokenizer = CustomTokenizer(Mecab())\n",
    "# custom_tokenizer(doc)\n",
    "\n",
    "tfidf = TfidfVectorizer(tokenizer=custom_tokenizer, max_df=10, min_df=2, max_features=10000).fit(reviews)\n",
    "candidates = tfidf.get_feature_names_out()"
   ]
  },
  {
   "cell_type": "code",
   "execution_count": 53,
   "metadata": {
    "ExecuteTime": {
     "end_time": "2022-04-21T06:03:54.314524Z",
     "start_time": "2022-04-21T06:03:54.303537Z"
    },
    "colab": {
     "base_uri": "https://localhost:8080/"
    },
    "id": "kLrye5Ko8fml",
    "outputId": "50a973c0-475a-487a-8fba-f64cf31acde4",
    "scrolled": true
   },
   "outputs": [
    {
     "data": {
      "text/plain": [
       "10000"
      ]
     },
     "execution_count": 53,
     "metadata": {},
     "output_type": "execute_result"
    }
   ],
   "source": [
    "len(candidates)"
   ]
  },
  {
   "cell_type": "markdown",
   "metadata": {
    "id": "EcJtDtpicKkm"
   },
   "source": [
    "# 임베딩"
   ]
  },
  {
   "cell_type": "code",
   "execution_count": 54,
   "metadata": {
    "ExecuteTime": {
     "end_time": "2022-04-21T06:05:25.860497Z",
     "start_time": "2022-04-21T06:04:39.303202Z"
    },
    "id": "AGKQ1FmHcKkm"
   },
   "outputs": [],
   "source": [
    "from sentence_transformers import SentenceTransformer\n",
    "\n",
    "model = SentenceTransformer(\"jhgan/ko-sroberta-multitask\")\n",
    "\n",
    "doc_embedding = model.encode(doc)\n",
    "candidate_embeddings = model.encode(candidates)"
   ]
  },
  {
   "cell_type": "code",
   "execution_count": 55,
   "metadata": {
    "ExecuteTime": {
     "end_time": "2022-04-21T06:05:26.097841Z",
     "start_time": "2022-04-21T06:05:26.095685Z"
    },
    "id": "-o5zGKSdcKkn",
    "outputId": "9dafb8bb-31c3-4165-cbb7-5bdf3edb624e"
   },
   "outputs": [
    {
     "data": {
      "text/plain": [
       "((10000, 768), (768,))"
      ]
     },
     "execution_count": 55,
     "metadata": {},
     "output_type": "execute_result"
    }
   ],
   "source": [
    "candidate_embeddings.shape, doc_embedding.shape"
   ]
  },
  {
   "cell_type": "markdown",
   "metadata": {
    "heading_collapsed": true,
    "id": "FJI_C1zmcKkn"
   },
   "source": [
    "# 코사인 유사도 연구(건너뛰어도 됨)"
   ]
  },
  {
   "cell_type": "code",
   "execution_count": 30,
   "metadata": {
    "hidden": true,
    "id": "Usd0I7pgcKkn"
   },
   "outputs": [],
   "source": [
    "from sklearn.metrics.pairwise import cosine_similarity\n",
    "\n",
    "top_n = len(candidates)\n",
    "\n",
    "# 문서와 키워드간 유사도\n",
    "distances = cosine_similarity(candidate_embeddings,doc_embedding)\n",
    "\n",
    "# 키워드와 키워드간 유사도\n",
    "distances_candidates = cosine_similarity(candidate_embeddings)"
   ]
  },
  {
   "cell_type": "code",
   "execution_count": 31,
   "metadata": {
    "colab": {
     "base_uri": "https://localhost:8080/"
    },
    "hidden": true,
    "id": "IZICQH_CcKko",
    "outputId": "f306abed-3fd3-4f32-8e7c-d128380fa1e9"
   },
   "outputs": [
    {
     "data": {
      "text/plain": [
       "((10000, 10069), (10000, 10000), 10000)"
      ]
     },
     "execution_count": 31,
     "metadata": {},
     "output_type": "execute_result"
    }
   ],
   "source": [
    "distances.shape, distances_candidates.shape, len(candidates) # candidates[index]"
   ]
  },
  {
   "cell_type": "code",
   "execution_count": 32,
   "metadata": {
    "hidden": true,
    "id": "fzCaIljSkkGb"
   },
   "outputs": [],
   "source": [
    "word_doc_distances = cosine_similarity(candidate_embeddings,doc_embedding)\n",
    "word_distances = cosine_similarity(candidate_embeddings)"
   ]
  },
  {
   "cell_type": "code",
   "execution_count": null,
   "metadata": {
    "hidden": true
   },
   "outputs": [],
   "source": [
    "from sklearn.metrics.pairwise import cosine_similarity\n",
    "top_n = 1000\n",
    "diversity = 0.7\n",
    "\n",
    "def nonmmr(doc_embedding, candidate_embeddings, words, top_n, diversity):\n",
    "    word_doc_distances = cosine_similarity(candidate_embeddings,doc_embedding)\n",
    "    word_distances = cosine_similarity(candidate_embeddings) \n",
    "\n",
    "    keywords_idx = [np.argmax(word_doc_distances)]\n",
    "    candidates_idx = [i for i in range(len(candidates)) if i != keywords_idx[0]]\n",
    "\n",
    "    for _ in range(top_n-1):\n",
    "        # 후보 키워드들의 문서유사도 값\n",
    "        candidate_similarities = word_doc_distances[candidates_idx, :]\n",
    "        # 후보 키워드와 가장 유사한 키워드\n",
    "        target_similarities = np.max(word_distances[candidates_idx][:,keywords_idx], axis=1) \n",
    "\n",
    "        mmr = (1-diversity) * candidate_similarities - diversity * target_similarities.reshape(-1,1)\n",
    "        mmr_idx = candidates_idx[np.argmax(mmr)]\n",
    "\n",
    "        keywords_idx.append(mmr_idx)\n",
    "        candidates_idx.remove(mmr_idx)\n",
    "    # 본 단어 임베딩벡터에서 추출키워드에 해당하는 벡터만\n",
    "    keywords_vector = candidate_embeddings[keywords_idx][:] \n",
    "    keywords = [words[idx] for idx in keywords_idx]\n",
    "    \n",
    "    return keywords_vector, keywords"
   ]
  },
  {
   "cell_type": "code",
   "execution_count": 133,
   "metadata": {
    "colab": {
     "base_uri": "https://localhost:8080/"
    },
    "hidden": true,
    "id": "dyLW10Metdvf",
    "outputId": "479fe3fc-cf48-4bc1-eb78-6aa497de4e0a"
   },
   "outputs": [
    {
     "data": {
      "text/plain": [
       "(array([[-0.00580319],\n",
       "        [-0.19800502],\n",
       "        [-0.01558762],\n",
       "        [-0.04957973],\n",
       "        [ 0.0070086 ],\n",
       "        [-0.16266811]], dtype=float32),\n",
       " (6, 1))"
      ]
     },
     "execution_count": 133,
     "metadata": {},
     "output_type": "execute_result"
    }
   ],
   "source": [
    "keywords_idx = [7,87,92]\n",
    "candidates_idx = [1,2,13,734,25,6]\n",
    "candidate_similarities = word_doc_distances[candidates_idx, :]\n",
    "candidate_similarities, candidate_similarities.shape # 후보키워드의 문서간유사도 벡터"
   ]
  },
  {
   "cell_type": "code",
   "execution_count": 84,
   "metadata": {
    "colab": {
     "base_uri": "https://localhost:8080/"
    },
    "hidden": true,
    "id": "5h7lAnvKuv-7",
    "outputId": "31241e12-81a7-4a75-c7c0-8a3de5606127"
   },
   "outputs": [
    {
     "data": {
      "text/plain": [
       "array([[ 3.2524187e-02,  5.1560111e-02,  2.2039059e-01,  1.3396120e-01,\n",
       "        -1.4120573e-04],\n",
       "       [ 1.7449439e-01,  2.5826111e-01,  7.1534671e-02,  4.0343547e-01,\n",
       "         3.3822396e-01],\n",
       "       [ 1.4734800e-01,  1.9027355e-01,  2.1794148e-02,  3.4675038e-01,\n",
       "         3.8210323e-01],\n",
       "       [ 8.3954439e-02,  1.4057627e-01,  9.0675689e-02,  2.7277958e-01,\n",
       "         3.1519559e-01]], dtype=float32)"
      ]
     },
     "execution_count": 84,
     "metadata": {},
     "output_type": "execute_result"
    }
   ],
   "source": [
    "word_distances[candidates_idx][:,keywords_idx] # 후보키워드와 추출키워드의 유사도 벡터"
   ]
  },
  {
   "cell_type": "code",
   "execution_count": null,
   "metadata": {
    "colab": {
     "base_uri": "https://localhost:8080/"
    },
    "hidden": true,
    "id": "aBR8ItfvtdnD",
    "outputId": "b8358af3-546d-4c33-df5e-723a0e77d8e9"
   },
   "outputs": [
    {
     "data": {
      "text/plain": [
       "(array([0.30213898, 0.0680101 , 0.21618617], dtype=float32), (3,))"
      ]
     },
     "execution_count": 70,
     "metadata": {},
     "output_type": "execute_result"
    }
   ],
   "source": [
    " target_similarities = np.max(word_distances[candidates_idx][:,keywords_idx], axis=1)\n",
    " target_similarities, target_similarities.shape # 후보키워드와 가장 유사한 추출 키워드 벡터"
   ]
  },
  {
   "cell_type": "code",
   "execution_count": null,
   "metadata": {
    "colab": {
     "base_uri": "https://localhost:8080/"
    },
    "hidden": true,
    "id": "evVOzY1WvZkp",
    "outputId": "12548195-36e1-466a-b7c7-625fa1028294"
   },
   "outputs": [
    {
     "data": {
      "text/plain": [
       "(array([[-0.23494704],\n",
       "        [-0.00761976],\n",
       "        [-0.15552332]], dtype=float32), (3, 1))"
      ]
     },
     "execution_count": 73,
     "metadata": {},
     "output_type": "execute_result"
    }
   ],
   "source": [
    "mmr = (1-diversity) * candidate_similarities - diversity * target_similarities.reshape(-1,1)\n",
    "mmr,mmr.shape # mmr 계산을 통해 후보키워드에서 추출할 키워드 선정"
   ]
  },
  {
   "cell_type": "code",
   "execution_count": 149,
   "metadata": {
    "colab": {
     "base_uri": "https://localhost:8080/"
    },
    "hidden": true,
    "id": "v_LERbJuUpI2",
    "outputId": "ddb674a8-b10a-4361-ff77-64fd3e727450"
   },
   "outputs": [
    {
     "name": "stdout",
     "output_type": "stream",
     "text": [
      "'lunar\n",
      "'letting\n",
      "'hotel\n",
      "'letting go' 'unselfish\n"
     ]
    }
   ],
   "source": [
    "for i in np.argsort(word_distances[candidates_idx][:,7])[:4]:\n",
    "    print(candidates[i])"
   ]
  },
  {
   "cell_type": "code",
   "execution_count": 150,
   "metadata": {
    "hidden": true,
    "id": "GAcnpVEkXM8P"
   },
   "outputs": [],
   "source": [
    "similar_keys = []\n",
    "for i in keywords_idx:\n",
    "    temp = []\n",
    "    for j in np.argsort(word_distances[candidates_idx][:,i])[:4]:\n",
    "        temp.append(candidates[j])\n",
    "    similar_keys.append(temp)"
   ]
  },
  {
   "cell_type": "code",
   "execution_count": 151,
   "metadata": {
    "colab": {
     "base_uri": "https://localhost:8080/"
    },
    "hidden": true,
    "id": "3l-e4C1xappy",
    "outputId": "eea3d52d-53c0-42f9-c155-0bf40df529e6"
   },
   "outputs": [
    {
     "name": "stdout",
     "output_type": "stream",
     "text": [
      "'lunar : [\"'counters'\", \"'letting\", \"'letting go'\", \"'hotel\"]\n",
      "'lunar water' : [\"'counters'\", \"'letting\", \"'letting go' 'unselfish\", \"'letting go'\"]\n",
      "'magical : [\"'lunar\", \"'letting\", \"'hotel\", \"'letting go' 'unselfish\"]\n"
     ]
    }
   ],
   "source": [
    "similar_keys = []\n",
    "for i in keywords_idx:\n",
    "    temp = []\n",
    "    for j in np.argsort(word_distances[candidates_idx][:,i])[:4]:\n",
    "        temp.append(candidates[j])\n",
    "    similar_keys.append(temp)\n",
    "for i, keys in enumerate(keywords_idx):\n",
    "    print(f'{candidates[keys]} : {similar_keys[i]}')\n"
   ]
  },
  {
   "cell_type": "code",
   "execution_count": 146,
   "metadata": {
    "colab": {
     "base_uri": "https://localhost:8080/"
    },
    "hidden": true,
    "id": "tOV_jYRWQ8Dj",
    "outputId": "72d34f2e-4184-4058-e888-78700f27668c"
   },
   "outputs": [
    {
     "data": {
      "text/plain": [
       "array([[ 0.03252419,  0.05156011,  0.22039059],\n",
       "       [ 0.17449439,  0.2582611 ,  0.07153467],\n",
       "       [ 0.03501092,  0.09409308, -0.03085524],\n",
       "       [ 0.11034438,  0.10579221,  0.29284918],\n",
       "       [ 0.21789196,  0.09518174,  0.07269609],\n",
       "       [ 0.79727995,  0.9999997 , -0.0317032 ]], dtype=float32)"
      ]
     },
     "execution_count": 146,
     "metadata": {},
     "output_type": "execute_result"
    }
   ],
   "source": [
    "keywords_idx = [5,6,7]\n",
    "word_distances[candidates_idx][:,keywords_idx]\n",
    "np.sort(word_distances[candidates_idx][:,keywords_idx],axis=1)[:][:2]"
   ]
  },
  {
   "cell_type": "code",
   "execution_count": 105,
   "metadata": {
    "colab": {
     "base_uri": "https://localhost:8080/",
     "height": 35
    },
    "hidden": true,
    "id": "rFk-bRiIQ-Dr",
    "outputId": "fb8ed22b-bd57-4a2d-8f1c-9bc60e0e0b11"
   },
   "outputs": [
    {
     "data": {
      "application/vnd.google.colaboratory.intrinsic+json": {
       "type": "string"
      },
      "text/plain": [
       "\"'magical\""
      ]
     },
     "execution_count": 105,
     "metadata": {},
     "output_type": "execute_result"
    }
   ],
   "source": [
    "candidates[7]"
   ]
  },
  {
   "cell_type": "markdown",
   "metadata": {
    "heading_collapsed": true,
    "id": "76jk69hSc_ug"
   },
   "source": [
    "# 유사키워드 포함 추출하기"
   ]
  },
  {
   "cell_type": "code",
   "execution_count": 78,
   "metadata": {
    "hidden": true,
    "id": "vh5BIz-JNYpI"
   },
   "outputs": [],
   "source": [
    "from sklearn.metrics.pairwise import cosine_similarity\n",
    "def mmrs(doc_embedding, candidate_embeddings, words, top_n, diversity):\n",
    "    word_doc_distances = cosine_similarity(candidate_embeddings,doc_embedding)\n",
    "    word_distances = cosine_similarity(candidate_embeddings) \n",
    "\n",
    "    keywords_idx = [np.argmax(word_doc_distances)]\n",
    "    candidates_idx = [i for i in range(len(candidates)) if i != keywords_idx[0]]\n",
    "\n",
    "    for _ in range(top_n-1):\n",
    "        # 후보 키워드들의 문서유사도 값\n",
    "        candidate_similarities = word_doc_distances[candidates_idx, :]\n",
    "        # 후보 키워드와 가장 유사한 키워드\n",
    "        target_similarities = np.max(word_distances[candidates_idx][:,keywords_idx], axis=1) \n",
    "\n",
    "        mmr = (1-diversity) * candidate_similarities - diversity * target_similarities.reshape(-1,1)\n",
    "        mmr_idx = candidates_idx[np.argmax(mmr)]\n",
    "\n",
    "        keywords_idx.append(mmr_idx)\n",
    "        candidates_idx.remove(mmr_idx)\n",
    "        \n",
    "        # 추출키워드와 유사한 키워드 추가\n",
    "    similar_keys = []\n",
    "    for i in keywords_idx:\n",
    "        temp = []\n",
    "        for j in np.argsort(word_distances[candidates_idx][:,i])[:top_n]:\n",
    "            temp.append(words[j])\n",
    "        similar_keys.append(temp)\n",
    "\n",
    "    # 본 단어 임베딩벡터에서 추출키워드에 해당하는 벡터만\n",
    "\n",
    "    keywords = [words[idx] for idx in keywords_idx]\n",
    "    \n",
    "    return keywords, similar_keys"
   ]
  },
  {
   "cell_type": "code",
   "execution_count": 79,
   "metadata": {
    "hidden": true,
    "id": "pCUX7QfBNe_G"
   },
   "outputs": [
    {
     "ename": "IndexError",
     "evalue": "index 2981 is out of bounds for axis 1 with size 171",
     "output_type": "error",
     "traceback": [
      "\u001b[0;31m---------------------------------------------------------------------------\u001b[0m",
      "\u001b[0;31mIndexError\u001b[0m                                Traceback (most recent call last)",
      "\u001b[0;32m<ipython-input-79-65808c1f666d>\u001b[0m in \u001b[0;36m<module>\u001b[0;34m\u001b[0m\n\u001b[0;32m----> 1\u001b[0;31m \u001b[0mkeywords\u001b[0m\u001b[0;34m,\u001b[0m \u001b[0msimilar_keys\u001b[0m \u001b[0;34m=\u001b[0m \u001b[0mmmrs\u001b[0m\u001b[0;34m(\u001b[0m\u001b[0mdoc_embedding\u001b[0m\u001b[0;34m,\u001b[0m\u001b[0mcandidate_embeddings\u001b[0m\u001b[0;34m,\u001b[0m\u001b[0mcandidates\u001b[0m\u001b[0;34m,\u001b[0m\u001b[0mtop_n\u001b[0m\u001b[0;34m=\u001b[0m\u001b[0;36m6\u001b[0m\u001b[0;34m,\u001b[0m\u001b[0mdiversity\u001b[0m\u001b[0;34m=\u001b[0m\u001b[0;36m0.7\u001b[0m\u001b[0;34m)\u001b[0m\u001b[0;34m\u001b[0m\u001b[0;34m\u001b[0m\u001b[0m\n\u001b[0m",
      "\u001b[0;32m<ipython-input-78-0b565def5cc6>\u001b[0m in \u001b[0;36mmmrs\u001b[0;34m(doc_embedding, candidate_embeddings, words, top_n, diversity)\u001b[0m\n\u001b[1;32m     11\u001b[0m         \u001b[0mcandidate_similarities\u001b[0m \u001b[0;34m=\u001b[0m \u001b[0mword_doc_distances\u001b[0m\u001b[0;34m[\u001b[0m\u001b[0mcandidates_idx\u001b[0m\u001b[0;34m,\u001b[0m \u001b[0;34m:\u001b[0m\u001b[0;34m]\u001b[0m\u001b[0;34m\u001b[0m\u001b[0;34m\u001b[0m\u001b[0m\n\u001b[1;32m     12\u001b[0m         \u001b[0;31m# 후보 키워드와 가장 유사한 키워드\u001b[0m\u001b[0;34m\u001b[0m\u001b[0;34m\u001b[0m\u001b[0m\n\u001b[0;32m---> 13\u001b[0;31m         \u001b[0mtarget_similarities\u001b[0m \u001b[0;34m=\u001b[0m \u001b[0mnp\u001b[0m\u001b[0;34m.\u001b[0m\u001b[0mmax\u001b[0m\u001b[0;34m(\u001b[0m\u001b[0mword_distances\u001b[0m\u001b[0;34m[\u001b[0m\u001b[0mcandidates_idx\u001b[0m\u001b[0;34m]\u001b[0m\u001b[0;34m[\u001b[0m\u001b[0;34m:\u001b[0m\u001b[0;34m,\u001b[0m\u001b[0mkeywords_idx\u001b[0m\u001b[0;34m]\u001b[0m\u001b[0;34m,\u001b[0m \u001b[0maxis\u001b[0m\u001b[0;34m=\u001b[0m\u001b[0;36m1\u001b[0m\u001b[0;34m)\u001b[0m\u001b[0;34m\u001b[0m\u001b[0;34m\u001b[0m\u001b[0m\n\u001b[0m\u001b[1;32m     14\u001b[0m \u001b[0;34m\u001b[0m\u001b[0m\n\u001b[1;32m     15\u001b[0m         \u001b[0mmmr\u001b[0m \u001b[0;34m=\u001b[0m \u001b[0;34m(\u001b[0m\u001b[0;36m1\u001b[0m\u001b[0;34m-\u001b[0m\u001b[0mdiversity\u001b[0m\u001b[0;34m)\u001b[0m \u001b[0;34m*\u001b[0m \u001b[0mcandidate_similarities\u001b[0m \u001b[0;34m-\u001b[0m \u001b[0mdiversity\u001b[0m \u001b[0;34m*\u001b[0m \u001b[0mtarget_similarities\u001b[0m\u001b[0;34m.\u001b[0m\u001b[0mreshape\u001b[0m\u001b[0;34m(\u001b[0m\u001b[0;34m-\u001b[0m\u001b[0;36m1\u001b[0m\u001b[0;34m,\u001b[0m\u001b[0;36m1\u001b[0m\u001b[0;34m)\u001b[0m\u001b[0;34m\u001b[0m\u001b[0;34m\u001b[0m\u001b[0m\n",
      "\u001b[0;31mIndexError\u001b[0m: index 2981 is out of bounds for axis 1 with size 171"
     ]
    }
   ],
   "source": [
    "keywords, similar_keys = mmrs(doc_embedding,candidate_embeddings,candidates,top_n=6,diversity=0.7)"
   ]
  },
  {
   "cell_type": "code",
   "execution_count": 14,
   "metadata": {
    "colab": {
     "base_uri": "https://localhost:8080/"
    },
    "hidden": true,
    "id": "TVvdhGtgVxHG",
    "outputId": "5ccdf882-144d-4886-c211-20e3b2c07a84"
   },
   "outputs": [
    {
     "name": "stdout",
     "output_type": "stream",
     "text": [
      "Keywords and similar keys by cosine similarity\n",
      "excitement never stop : ['korean drama uncanny', 'wait see happen', 'korean drama silent', 'choose sacrificial lamb', 'etc set', 'rushed unfinished']\n",
      "english teacher : ['never fully', 'action adventure', 'rest time', 'whole watch', 'fight evil spirit', 'edge seat episode']\n",
      "sort buffy vampire : ['course main', 'cuz want', 'dad child', 'mean make', 'mean damn', \"i'm say drama\"]\n",
      "noodle catch evil : ['man prove powerful', 'look however', 'time pick', 'couple main sideline', 'return season', 'inhabitant realm exist']\n",
      "comatose teenager mun : ['sweet see', 'sweet romance', 'game spain actually', 'sweet home', 'sweet time', 'fictional city jungin']\n",
      "drama disappoint : ['future character', 'koo walk ethic', 'jump jang', 'future exchange', 'young hong pyo', 'somewhat similar']\n"
     ]
    }
   ],
   "source": [
    "print('Keywords and similar keys by cosine similarity')\n",
    "for i in range(len(keywords)):\n",
    "    print(f'{keywords[i]} : {similar_keys[i]}')"
   ]
  },
  {
   "cell_type": "markdown",
   "metadata": {
    "id": "rsW6mgMi4N71"
   },
   "source": [
    "# 코사인 유사도 함수"
   ]
  },
  {
   "cell_type": "code",
   "execution_count": 56,
   "metadata": {
    "ExecuteTime": {
     "end_time": "2022-04-21T06:05:33.982364Z",
     "start_time": "2022-04-21T06:05:33.970697Z"
    },
    "id": "wIJ9WZpmlqlu"
   },
   "outputs": [],
   "source": [
    "from sklearn.metrics.pairwise import cosine_similarity\n",
    "top_n = 1000\n",
    "diversity = 0.7\n",
    "\n",
    "def mmr(doc_embedding, candidate_embeddings, words, top_n, diversity):\n",
    "    word_doc_distances = cosine_similarity(candidate_embeddings,doc_embedding)\n",
    "    word_distances = cosine_similarity(candidate_embeddings) \n",
    "\n",
    "    keywords_idx = [np.argmax(word_doc_distances)]\n",
    "    candidates_idx = [i for i in range(len(words)) if i != keywords_idx[0]]\n",
    "\n",
    "    for _ in range(top_n-1):\n",
    "        try:\n",
    "            # 후보 키워드들의 문서유사도 값\n",
    "            candidate_similarities = word_doc_distances[candidates_idx, :]\n",
    "            # 후보 키워드와 가장 유사한 키워드\n",
    "            target_similarities = np.max(word_distances[candidates_idx][:,keywords_idx], axis=1) \n",
    "\n",
    "            mmr = (1-diversity) * candidate_similarities - diversity * target_similarities.reshape(-1,1)\n",
    "            mmr_idx = candidates_idx[np.argmax(mmr)]\n",
    "\n",
    "            keywords_idx.append(mmr_idx)\n",
    "            candidates_idx.remove(mmr_idx)\n",
    "        except:\n",
    "            break\n",
    "    # 본 단어 임베딩벡터에서 추출키워드에 해당하는 벡터만\n",
    "    keywords_vector = candidate_embeddings[keywords_idx][:] \n",
    "    keywords = [words[idx] for idx in keywords_idx]\n",
    "    \n",
    "    return keywords_vector, keywords"
   ]
  },
  {
   "cell_type": "code",
   "execution_count": 57,
   "metadata": {
    "ExecuteTime": {
     "end_time": "2022-04-21T06:05:36.431122Z",
     "start_time": "2022-04-21T06:05:36.420470Z"
    }
   },
   "outputs": [
    {
     "data": {
      "text/plain": [
       "(1, 768)"
      ]
     },
     "execution_count": 57,
     "metadata": {},
     "output_type": "execute_result"
    }
   ],
   "source": [
    "doc_embedding.T.reshape(1,-1).shape"
   ]
  },
  {
   "cell_type": "code",
   "execution_count": 60,
   "metadata": {
    "ExecuteTime": {
     "end_time": "2022-04-21T06:09:12.728994Z",
     "start_time": "2022-04-21T06:08:44.801773Z"
    },
    "id": "zrZeLhwA0Kmx"
   },
   "outputs": [],
   "source": [
    "keywords_vector, keywords = mmr(doc_embedding.T.reshape(1,-1),candidate_embeddings,candidates,top_n=500,diversity=0.6)"
   ]
  },
  {
   "cell_type": "code",
   "execution_count": 61,
   "metadata": {
    "ExecuteTime": {
     "end_time": "2022-04-21T06:10:46.403879Z",
     "start_time": "2022-04-21T06:10:46.390163Z"
    },
    "colab": {
     "base_uri": "https://localhost:8080/"
    },
    "id": "hHYkd2i803dm",
    "outputId": "5414c49a-9476-4b02-b487-11778f36a142"
   },
   "outputs": [
    {
     "data": {
      "text/plain": [
       "(500, 768)"
      ]
     },
     "execution_count": 61,
     "metadata": {},
     "output_type": "execute_result"
    }
   ],
   "source": [
    "keywords_vector.shape"
   ]
  },
  {
   "cell_type": "code",
   "execution_count": 62,
   "metadata": {
    "ExecuteTime": {
     "end_time": "2022-04-21T06:10:48.496731Z",
     "start_time": "2022-04-21T06:10:48.485828Z"
    }
   },
   "outputs": [
    {
     "data": {
      "text/plain": [
       "['명연', '조두순', '팥빵', '울엄마', '소년원', '고레에다', '커피프린스', '낚시터', '나영석', '자살자']"
      ]
     },
     "execution_count": 62,
     "metadata": {},
     "output_type": "execute_result"
    }
   ],
   "source": [
    "keywords[:10]"
   ]
  },
  {
   "cell_type": "code",
   "execution_count": 71,
   "metadata": {
    "ExecuteTime": {
     "end_time": "2022-04-21T06:41:08.069339Z",
     "start_time": "2022-04-21T06:41:08.020029Z"
    },
    "colab": {
     "base_uri": "https://localhost:8080/"
    },
    "id": "EkI_LLo9cKko",
    "outputId": "146fd432-4eaa-416f-9f19-35cd06f3f5a0"
   },
   "outputs": [
    {
     "name": "stdout",
     "output_type": "stream",
     "text": [
      "Top terms per cluster:\n",
      "[\n",
      "\"조역\",\"스카웃\",\"명연\",\"한상운\",\"고진감래\",\"전예\",\"이준영\",\"박병은\",\"황정민\",\"경준\",\"미드나\",\"사필귀정\",\"안습\",\"각이\",\"감우성\",\"섭이\",\"차오\",\"허구성\",\"파배우\",\"망드\",],\n",
      "\n",
      "[\n",
      "\"인트라넷\",\"고레에다\",\"하늘나라\",\"발레리나\",\"명랑만화\",\"르포\",\"만의\",\"동백나무\",\"강필구\",\"초인종\",\"신장\",\"싸이월드\",\"해유\",\"망원경\",\"설경구\",\"모세\",\"대지진\",\"모노톤\",\"저작권자\",\"태양인\",],\n",
      "\n",
      "[\n",
      "\"자살자\",\"남성혐오\",\"발기부전\",\"스윙걸즈\",\"테슬라\",\"간디도\",\"소년원\",\"커피프린스\",\"불완전성\",\"고자라니\",\"만병통치약\",\"퀴즈쇼\",\"무색무취\",\"심리치료\",\"경비견\",\"조두순\",\"엘사\",\"호주\",\"핵전쟁\",\"구석기\",],\n",
      "\n"
     ]
    }
   ],
   "source": [
    "from sklearn.cluster import KMeans\n",
    "from sklearn.metrics import adjusted_rand_score\n",
    "\n",
    "X = keywords_vector\n",
    "\n",
    "true_k = 3\n",
    "model = KMeans(n_clusters=true_k, init='k-means++', max_iter=100, n_init=1)\n",
    "model.fit(X.T)\n",
    "\n",
    "print(\"Top terms per cluster:\")\n",
    "order_centroids = model.cluster_centers_.argsort()[:, ::-1]\n",
    "terms = keywords # = candidates\n",
    "for i in range(true_k):\n",
    "    print(\"[\"),\n",
    "    for ind in order_centroids[i, :20]:\n",
    "        print(f'\"{terms[ind]}\"', end=\",\")\n",
    "    print(\"],\\n\")"
   ]
  },
  {
   "cell_type": "code",
   "execution_count": 68,
   "metadata": {
    "ExecuteTime": {
     "end_time": "2022-04-21T06:14:13.645521Z",
     "start_time": "2022-04-21T06:14:13.291236Z"
    },
    "colab": {
     "base_uri": "https://localhost:8080/",
     "height": 347
    },
    "id": "Hcp43g99G8uQ",
    "outputId": "c6909ead-a4ce-4b14-9c95-a35121a3178f"
   },
   "outputs": [
    {
     "data": {
      "image/png": "[encoded data removed]",
      "text/plain": [
       "<Figure size 432x288 with 1 Axes>"
      ]
     },
     "metadata": {
      "needs_background": "light"
     },
     "output_type": "display_data"
    }
   ],
   "source": [
    "x = list(range(1,11))\n",
    "y = []\n",
    "for i in x:\n",
    "    model = KMeans(n_clusters=i, init='k-means++', max_iter=100, n_init=1)\n",
    "    model.fit(X.T)\n",
    "    y.append(model.inertia_)\n",
    "\n",
    "import matplotlib.pyplot as plt\n",
    "\n",
    "plt.plot(x,y,label='linear')\n",
    "plt.show();"
   ]
  },
  {
   "cell_type": "code",
   "execution_count": null,
   "metadata": {},
   "outputs": [],
   "source": []
  }
 ],
 "metadata": {
  "accelerator": "GPU",
  "colab": {
   "collapsed_sections": [
    "FJI_C1zmcKkn"
   ],
   "name": "keyword&Kmeans.ipynb",
   "provenance": []
  },
  "hide_input": false,
  "interpreter": {
   "hash": "5d1185015da4ffa7ac966b843cf1b2aa0b72f05a29a69f5fe9173c667b919a88"
  },
  "kernelspec": {
   "display_name": "study",
   "language": "python",
   "name": "study"
  },
  "language_info": {
   "codemirror_mode": {
    "name": "ipython",
    "version": 3
   },
   "file_extension": ".py",
   "mimetype": "text/x-python",
   "name": "python",
   "nbconvert_exporter": "python",
   "pygments_lexer": "ipython3",
   "version": "3.9.10"
  },
  "toc": {
   "base_numbering": 1,
   "nav_menu": {},
   "number_sections": true,
   "sideBar": true,
   "skip_h1_title": false,
   "title_cell": "Table of Contents",
   "title_sidebar": "Contents",
   "toc_cell": false,
   "toc_position": {},
   "toc_section_display": true,
   "toc_window_display": false
  },
  "varInspector": {
   "cols": {
    "lenName": 16,
    "lenType": 16,
    "lenVar": 40
   },
   "kernels_config": {
    "python": {
     "delete_cmd_postfix": "",
     "delete_cmd_prefix": "del ",
     "library": "var_list.py",
     "varRefreshCmd": "print(var_dic_list())"
    },
    "r": {
     "delete_cmd_postfix": ") ",
     "delete_cmd_prefix": "rm(",
     "library": "var_list.r",
     "varRefreshCmd": "cat(var_dic_list()) "
    }
   },
   "position": {
    "height": "678.7364501953125px",
    "left": "1013.8097534179688px",
    "right": "20px",
    "top": "95.97554779052734px",
    "width": "781.25px"
   },
   "types_to_exclude": [
    "module",
    "function",
    "builtin_function_or_method",
    "instance",
    "_Feature"
   ],
   "window_display": false
  }
 },
 "nbformat": 4,
 "nbformat_minor": 1
}
