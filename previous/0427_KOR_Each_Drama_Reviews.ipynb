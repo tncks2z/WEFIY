{
 "cells": [
  {
   "cell_type": "code",
   "execution_count": 1,
   "id": "6109dbba",
   "metadata": {
    "ExecuteTime": {
     "end_time": "2022-04-27T07:23:33.886624Z",
     "start_time": "2022-04-27T07:23:33.708206Z"
    }
   },
   "outputs": [],
   "source": [
    "import pandas as pd"
   ]
  },
  {
   "cell_type": "markdown",
   "id": "20d43bd7",
   "metadata": {},
   "source": [
    "### CSV 불러오기"
   ]
  },
  {
   "cell_type": "code",
   "execution_count": 3,
   "id": "77674ec8",
   "metadata": {
    "ExecuteTime": {
     "end_time": "2022-04-27T07:23:57.834784Z",
     "start_time": "2022-04-27T07:23:57.587560Z"
    }
   },
   "outputs": [],
   "source": [
    "df = pd.read_csv(\"/Users/suchan/study/파이널 프로젝트/0426_KOR_sentiment.csv\")"
   ]
  },
  {
   "cell_type": "markdown",
   "id": "a097d738",
   "metadata": {},
   "source": [
    "### 전처리"
   ]
  },
  {
   "cell_type": "code",
   "execution_count": 9,
   "id": "e4e4d9dd",
   "metadata": {
    "ExecuteTime": {
     "end_time": "2022-04-27T07:34:01.731971Z",
     "start_time": "2022-04-27T07:34:01.707858Z"
    }
   },
   "outputs": [],
   "source": [
    "import re\n",
    "from konlpy.tag import Mecab\n",
    "from tqdm import tqdm"
   ]
  },
  {
   "cell_type": "code",
   "execution_count": 10,
   "id": "b1a5cd46",
   "metadata": {
    "ExecuteTime": {
     "end_time": "2022-04-27T07:34:16.845569Z",
     "start_time": "2022-04-27T07:34:16.842388Z"
    }
   },
   "outputs": [],
   "source": [
    "def clean_text(text):\n",
    "    text = text.replace(\".\", \"\").strip()\n",
    "    text = text.replace(\"·\", \" \").strip()\n",
    "    pattern = '[^ ㄱ-ㅣ가-힣|0-9]+'\n",
    "    text = re.sub(pattern, '', text)\n",
    "    return text\n",
    "\n",
    "def get_nouns(tokenizer, sentence):\n",
    "    tagged = tokenizer.pos(sentence)\n",
    "    stop_words = ['드라마', '정도', '사람', '생각', '여자', '남자', '에피소드', '시리즈', '자신', '최고', '완벽', '시즌', '느낌', '기대',\n",
    "                  '넷플릭스', '장르']\n",
    "    nouns = [word for word, tag in tagged if tag in ['NNG', 'NNP'] and len(word) >1 and word not in stop_words]\n",
    "    return nouns\n",
    "\n",
    "def tokenize(df):\n",
    "    tokenizer = Mecab()\n",
    "    processed_data = []\n",
    "    for sent in tqdm(df['reviews']):\n",
    "        sentence = clean_text(str(sent).replace(\"\\n\", \"\").strip())\n",
    "        processed_data.append(get_nouns(tokenizer, sentence))\n",
    "    return processed_data"
   ]
  },
  {
   "cell_type": "code",
   "execution_count": 11,
   "id": "f75ad686",
   "metadata": {
    "ExecuteTime": {
     "end_time": "2022-04-27T07:38:33.465076Z",
     "start_time": "2022-04-27T07:38:24.933800Z"
    }
   },
   "outputs": [
    {
     "name": "stderr",
     "output_type": "stream",
     "text": [
      "100%|██████████| 62928/62928 [00:08<00:00, 7387.34it/s]\n"
     ]
    }
   ],
   "source": [
    "preprocessed_data = tokenize(df)"
   ]
  },
  {
   "cell_type": "code",
   "execution_count": 12,
   "id": "0ea9d912",
   "metadata": {
    "ExecuteTime": {
     "end_time": "2022-04-27T07:38:39.024800Z",
     "start_time": "2022-04-27T07:38:39.019074Z"
    }
   },
   "outputs": [],
   "source": [
    "df['preprocessed_reviews'] = preprocessed_data"
   ]
  },
  {
   "cell_type": "code",
   "execution_count": 13,
   "id": "f60759c8",
   "metadata": {
    "ExecuteTime": {
     "end_time": "2022-04-27T07:38:44.284307Z",
     "start_time": "2022-04-27T07:38:44.280765Z"
    }
   },
   "outputs": [
    {
     "data": {
      "text/plain": [
       "0                             [캐스팅, 라인업, 노희경, 극본, 몰입, 차승원]\n",
       "1                                    [침묵, 순간, 노희경, 극본, 경지]\n",
       "2                                   [세상, 노희경, 작가, 배우, 스토리]\n",
       "3                                         [배우, 한수, 위험, 고통]\n",
       "4                                            [특별, 저마다, 사정]\n",
       "                               ...                        \n",
       "62923    [종교, 재료, 집단, 자살, 사건, 쇼킹, 무당, 소재, 순간, 답지, 문제, 기...\n",
       "62924    [김단, 천재인, 캐릭터, 이용, 단편, 매력, 연계, 주요, 갈등, 맥락, 상대,...\n",
       "62925                      [흥미, 중반, 완성도, 후반, 마지막, 아빠, 피해자]\n",
       "62926                                 [대본, 연출, 연기, 모두, 부족]\n",
       "62927                               [국판, 데스노트, 천재, 심리, 싸움]\n",
       "Name: preprocessed_reviews, Length: 62928, dtype: object"
      ]
     },
     "execution_count": 13,
     "metadata": {},
     "output_type": "execute_result"
    }
   ],
   "source": [
    "df['preprocessed_reviews']"
   ]
  },
  {
   "cell_type": "markdown",
   "id": "a196c289",
   "metadata": {},
   "source": [
    "### 드라마 별 DataFrame 준비"
   ]
  },
  {
   "cell_type": "code",
   "execution_count": 7,
   "id": "75091aaa",
   "metadata": {
    "ExecuteTime": {
     "end_time": "2022-04-27T07:24:48.418995Z",
     "start_time": "2022-04-27T07:24:48.415702Z"
    }
   },
   "outputs": [],
   "source": [
    "drama_list = df.title.unique().tolist()"
   ]
  },
  {
   "cell_type": "code",
   "execution_count": 24,
   "id": "367a2855",
   "metadata": {
    "ExecuteTime": {
     "end_time": "2022-04-27T08:11:13.901837Z",
     "start_time": "2022-04-27T08:11:13.899202Z"
    }
   },
   "outputs": [
    {
     "data": {
      "text/plain": [
       "['노희경',\n",
       " '차승원',\n",
       " '극본',\n",
       " '작가',\n",
       " '아쉬움',\n",
       " '인생',\n",
       " '사람',\n",
       " '행복',\n",
       " '마음',\n",
       " '연출',\n",
       " '김우빈',\n",
       " '수지',\n",
       " '연기']"
      ]
     },
     "execution_count": 24,
     "metadata": {},
     "output_type": "execute_result"
    }
   ],
   "source": [
    "drama1 = [['노희경', '차승원', '극본', '작가', '아쉬움'], ['인생', '사람', '행복', '마음'], ['연출', '김우빈', '수지', '연기']]\n",
    "sum(drama1, [])"
   ]
  },
  {
   "cell_type": "code",
   "execution_count": 28,
   "id": "b3d89ccf",
   "metadata": {
    "ExecuteTime": {
     "end_time": "2022-04-27T08:19:17.471257Z",
     "start_time": "2022-04-27T08:19:15.206917Z"
    }
   },
   "outputs": [
    {
     "name": "stderr",
     "output_type": "stream",
     "text": [
      "100%|██████████| 92/92 [00:02<00:00, 40.78it/s]\n"
     ]
    }
   ],
   "source": [
    "each_drama_reviews_dict = {'title' : [], 'preprocessed_reviews' : []}\n",
    "for drama in tqdm(drama_list):\n",
    "    drama_review_list = df[df['title'] == drama].preprocessed_reviews.tolist()\n",
    "    reviews_join = sum(drama_review_list,[])\n",
    "    each_drama_reviews_dict['title'].append(drama)\n",
    "    each_drama_reviews_dict['preprocessed_reviews'].append(reviews_join)"
   ]
  },
  {
   "cell_type": "code",
   "execution_count": 30,
   "id": "330d0460",
   "metadata": {
    "ExecuteTime": {
     "end_time": "2022-04-27T08:19:55.686276Z",
     "start_time": "2022-04-27T08:19:55.683020Z"
    }
   },
   "outputs": [],
   "source": [
    "df_each_drama_reviews = pd.DataFrame(each_drama_reviews_dict)"
   ]
  },
  {
   "cell_type": "code",
   "execution_count": 32,
   "id": "ab61e10e",
   "metadata": {
    "ExecuteTime": {
     "end_time": "2022-04-27T08:20:46.096645Z",
     "start_time": "2022-04-27T08:20:45.982210Z"
    }
   },
   "outputs": [],
   "source": [
    "df_each_drama_reviews.to_csv(\"/Users/suchan/study/파이널 프로젝트/each_drama_reviews.csv\", index=False)"
   ]
  },
  {
   "cell_type": "code",
   "execution_count": 33,
   "id": "6e6acf70",
   "metadata": {
    "ExecuteTime": {
     "end_time": "2022-04-27T08:27:49.711909Z",
     "start_time": "2022-04-27T08:27:49.704867Z"
    }
   },
   "outputs": [
    {
     "data": {
      "text/html": [
       "<div>\n",
       "<style scoped>\n",
       "    .dataframe tbody tr th:only-of-type {\n",
       "        vertical-align: middle;\n",
       "    }\n",
       "\n",
       "    .dataframe tbody tr th {\n",
       "        vertical-align: top;\n",
       "    }\n",
       "\n",
       "    .dataframe thead th {\n",
       "        text-align: right;\n",
       "    }\n",
       "</style>\n",
       "<table border=\"1\" class=\"dataframe\">\n",
       "  <thead>\n",
       "    <tr style=\"text-align: right;\">\n",
       "      <th></th>\n",
       "      <th>title</th>\n",
       "      <th>preprocessed_reviews</th>\n",
       "    </tr>\n",
       "  </thead>\n",
       "  <tbody>\n",
       "    <tr>\n",
       "      <th>0</th>\n",
       "      <td>우리들의 블루스</td>\n",
       "      <td>[캐스팅, 라인업, 노희경, 극본, 몰입, 차승원, 침묵, 순간, 노희경, 극본, ...</td>\n",
       "    </tr>\n",
       "    <tr>\n",
       "      <th>1</th>\n",
       "      <td>사내 맞선</td>\n",
       "      <td>[안효섭, 지현우, 전편, 감상, 소재, 파리, 연인, 만화, 연출, 여주인공, 조...</td>\n",
       "    </tr>\n",
       "    <tr>\n",
       "      <th>2</th>\n",
       "      <td>스물다섯 스물하나</td>\n",
       "      <td>[남주, 연기, 이상, 몰입, 작품, 안목, 상대, 배우, 주연, 배우, 연기, 버...</td>\n",
       "    </tr>\n",
       "    <tr>\n",
       "      <th>3</th>\n",
       "      <td>시맨틱 에러</td>\n",
       "      <td>[때깔, 캐스팅, 찰떡, 캠퍼, 로코, 분량, 캐스팅, 찰떡, 추상, 회차, 최유,...</td>\n",
       "    </tr>\n",
       "    <tr>\n",
       "      <th>4</th>\n",
       "      <td>악의 마음을 읽는 자들</td>\n",
       "      <td>[전형, 재미, 클리셰, 떡칠, 희석, 불안, 마음, 전형, 범죄, 수사, 편견, ...</td>\n",
       "    </tr>\n",
       "    <tr>\n",
       "      <th>...</th>\n",
       "      <td>...</td>\n",
       "      <td>...</td>\n",
       "    </tr>\n",
       "    <tr>\n",
       "      <th>87</th>\n",
       "      <td>자백</td>\n",
       "      <td>[반전, 뒷부분, 결말, 스마트, 유성주, 배우, 스카이, 캐슬, 새끼, 연기, 류...</td>\n",
       "    </tr>\n",
       "    <tr>\n",
       "      <th>88</th>\n",
       "      <td>월간 집</td>\n",
       "      <td>[전개, 감정, 약간, 지루함, 캐릭터, 설정, 별점, 일념, 동생, 코미디, 현실...</td>\n",
       "    </tr>\n",
       "    <tr>\n",
       "      <th>89</th>\n",
       "      <td>시를 잊은 그대에게</td>\n",
       "      <td>[선생, 보영, 시청자, 힐링, 작품, 코믹, 요소, 전체, 보영, 이준혁, 인생,...</td>\n",
       "    </tr>\n",
       "    <tr>\n",
       "      <th>90</th>\n",
       "      <td>본 대로 말하라</td>\n",
       "      <td>[답답이, 고구마, 조직, 조직, 대장, 장혁, 이하나, 보이스, 놀이, 악역, 설...</td>\n",
       "    </tr>\n",
       "    <tr>\n",
       "      <th>91</th>\n",
       "      <td>작은 신의 아이들</td>\n",
       "      <td>[이상, 배우, 연기, 이상, 중도, 하민, 검사, 연기, 집중, 이상, 하민, 검...</td>\n",
       "    </tr>\n",
       "  </tbody>\n",
       "</table>\n",
       "<p>92 rows × 2 columns</p>\n",
       "</div>"
      ],
      "text/plain": [
       "           title                               preprocessed_reviews\n",
       "0       우리들의 블루스  [캐스팅, 라인업, 노희경, 극본, 몰입, 차승원, 침묵, 순간, 노희경, 극본, ...\n",
       "1          사내 맞선  [안효섭, 지현우, 전편, 감상, 소재, 파리, 연인, 만화, 연출, 여주인공, 조...\n",
       "2      스물다섯 스물하나  [남주, 연기, 이상, 몰입, 작품, 안목, 상대, 배우, 주연, 배우, 연기, 버...\n",
       "3         시맨틱 에러  [때깔, 캐스팅, 찰떡, 캠퍼, 로코, 분량, 캐스팅, 찰떡, 추상, 회차, 최유,...\n",
       "4   악의 마음을 읽는 자들  [전형, 재미, 클리셰, 떡칠, 희석, 불안, 마음, 전형, 범죄, 수사, 편견, ...\n",
       "..           ...                                                ...\n",
       "87            자백  [반전, 뒷부분, 결말, 스마트, 유성주, 배우, 스카이, 캐슬, 새끼, 연기, 류...\n",
       "88          월간 집  [전개, 감정, 약간, 지루함, 캐릭터, 설정, 별점, 일념, 동생, 코미디, 현실...\n",
       "89    시를 잊은 그대에게  [선생, 보영, 시청자, 힐링, 작품, 코믹, 요소, 전체, 보영, 이준혁, 인생,...\n",
       "90      본 대로 말하라  [답답이, 고구마, 조직, 조직, 대장, 장혁, 이하나, 보이스, 놀이, 악역, 설...\n",
       "91     작은 신의 아이들  [이상, 배우, 연기, 이상, 중도, 하민, 검사, 연기, 집중, 이상, 하민, 검...\n",
       "\n",
       "[92 rows x 2 columns]"
      ]
     },
     "execution_count": 33,
     "metadata": {},
     "output_type": "execute_result"
    }
   ],
   "source": [
    "df_each_drama_reviews"
   ]
  },
  {
   "cell_type": "code",
   "execution_count": null,
   "id": "7c7abd32",
   "metadata": {},
   "outputs": [],
   "source": []
  }
 ],
 "metadata": {
  "hide_input": false,
  "kernelspec": {
   "display_name": "study",
   "language": "python",
   "name": "study"
  },
  "language_info": {
   "codemirror_mode": {
    "name": "ipython",
    "version": 3
   },
   "file_extension": ".py",
   "mimetype": "text/x-python",
   "name": "python",
   "nbconvert_exporter": "python",
   "pygments_lexer": "ipython3",
   "version": "3.9.10"
  },
  "toc": {
   "base_numbering": 1,
   "nav_menu": {},
   "number_sections": true,
   "sideBar": true,
   "skip_h1_title": false,
   "title_cell": "Table of Contents",
   "title_sidebar": "Contents",
   "toc_cell": false,
   "toc_position": {},
   "toc_section_display": true,
   "toc_window_display": false
  },
  "varInspector": {
   "cols": {
    "lenName": 16,
    "lenType": 16,
    "lenVar": 40
   },
   "kernels_config": {
    "python": {
     "delete_cmd_postfix": "",
     "delete_cmd_prefix": "del ",
     "library": "var_list.py",
     "varRefreshCmd": "print(var_dic_list())"
    },
    "r": {
     "delete_cmd_postfix": ") ",
     "delete_cmd_prefix": "rm(",
     "library": "var_list.r",
     "varRefreshCmd": "cat(var_dic_list()) "
    }
   },
   "types_to_exclude": [
    "module",
    "function",
    "builtin_function_or_method",
    "instance",
    "_Feature"
   ],
   "window_display": false
  }
 },
 "nbformat": 4,
 "nbformat_minor": 5
}
