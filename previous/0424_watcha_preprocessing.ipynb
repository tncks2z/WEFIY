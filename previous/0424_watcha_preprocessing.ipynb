{
 "cells": [
  {
   "cell_type": "code",
   "execution_count": 7,
   "id": "42caf56d",
   "metadata": {},
   "outputs": [
    {
     "data": {
      "text/html": [
       "<div>\n",
       "<style scoped>\n",
       "    .dataframe tbody tr th:only-of-type {\n",
       "        vertical-align: middle;\n",
       "    }\n",
       "\n",
       "    .dataframe tbody tr th {\n",
       "        vertical-align: top;\n",
       "    }\n",
       "\n",
       "    .dataframe thead th {\n",
       "        text-align: right;\n",
       "    }\n",
       "</style>\n",
       "<table border=\"1\" class=\"dataframe\">\n",
       "  <thead>\n",
       "    <tr style=\"text-align: right;\">\n",
       "      <th></th>\n",
       "      <th>title</th>\n",
       "      <th>reviews</th>\n",
       "    </tr>\n",
       "  </thead>\n",
       "  <tbody>\n",
       "    <tr>\n",
       "      <th>0</th>\n",
       "      <td>우리들의 블루스</td>\n",
       "      <td>이 화려한 캐스팅 라인업을 보고 안 볼수가 있나.. ㄷㄷㄷ 게다가 노희경 극본..ㄷ...</td>\n",
       "    </tr>\n",
       "    <tr>\n",
       "      <th>1</th>\n",
       "      <td>우리들의 블루스</td>\n",
       "      <td>침묵의 순간들이 더욱 처연하게 빛나는, 노희경 극본의 또 다른 경지.</td>\n",
       "    </tr>\n",
       "    <tr>\n",
       "      <th>2</th>\n",
       "      <td>우리들의 블루스</td>\n",
       "      <td>세상에..노희경 작가와 이 배우들이라면 어떤 스토리가 됐든 꼭 보고싶다..</td>\n",
       "    </tr>\n",
       "    <tr>\n",
       "      <th>3</th>\n",
       "      <td>우리들의 블루스</td>\n",
       "      <td>하 진짜 좋아하는 배우 전부 다 나오네…\\n.\\n한수의 위험한 생각이 뭔지 알 것 ...</td>\n",
       "    </tr>\n",
       "    <tr>\n",
       "      <th>4</th>\n",
       "      <td>우리들의 블루스</td>\n",
       "      <td>사람 사는 거 특별할 거 없다지만, 저마다의 사정을 찬찬히 듣노라면 그것만큼 재미난...</td>\n",
       "    </tr>\n",
       "    <tr>\n",
       "      <th>...</th>\n",
       "      <td>...</td>\n",
       "      <td>...</td>\n",
       "    </tr>\n",
       "    <tr>\n",
       "      <th>91244</th>\n",
       "      <td>대리인간</td>\n",
       "      <td>주인공이 너무 멍청해도 멍청한거 아닌가....\\n싶다가 음?!</td>\n",
       "    </tr>\n",
       "    <tr>\n",
       "      <th>91245</th>\n",
       "      <td>대리인간</td>\n",
       "      <td>참신하고 두려운 신박한 이야기\\n\\n첫 시작을 안정적으로 알린 신인작가에게 박수를\\...</td>\n",
       "    </tr>\n",
       "    <tr>\n",
       "      <th>91246</th>\n",
       "      <td>대리인간</td>\n",
       "      <td>찝찝하다.\\n뭐가 진짜인지 알 수 없는 세상.\\n대리인간도 감정이 있는 인간인지라....</td>\n",
       "    </tr>\n",
       "    <tr>\n",
       "      <th>91247</th>\n",
       "      <td>대리인간</td>\n",
       "      <td>그냥 딱 그쯤\\n공승연 연기 짱</td>\n",
       "    </tr>\n",
       "    <tr>\n",
       "      <th>91248</th>\n",
       "      <td>대리인간</td>\n",
       "      <td>소재는 신선하다 생각했다\\n중간에 도달았을때 앞으로의 스토리는 예상이 가는...</td>\n",
       "    </tr>\n",
       "  </tbody>\n",
       "</table>\n",
       "<p>91249 rows × 2 columns</p>\n",
       "</div>"
      ],
      "text/plain": [
       "          title                                            reviews\n",
       "0      우리들의 블루스  이 화려한 캐스팅 라인업을 보고 안 볼수가 있나.. ㄷㄷㄷ 게다가 노희경 극본..ㄷ...\n",
       "1      우리들의 블루스             침묵의 순간들이 더욱 처연하게 빛나는, 노희경 극본의 또 다른 경지.\n",
       "2      우리들의 블루스          세상에..노희경 작가와 이 배우들이라면 어떤 스토리가 됐든 꼭 보고싶다..\n",
       "3      우리들의 블루스  하 진짜 좋아하는 배우 전부 다 나오네…\\n.\\n한수의 위험한 생각이 뭔지 알 것 ...\n",
       "4      우리들의 블루스  사람 사는 거 특별할 거 없다지만, 저마다의 사정을 찬찬히 듣노라면 그것만큼 재미난...\n",
       "...         ...                                                ...\n",
       "91244      대리인간                 주인공이 너무 멍청해도 멍청한거 아닌가....\\n싶다가 음?!\n",
       "91245      대리인간  참신하고 두려운 신박한 이야기\\n\\n첫 시작을 안정적으로 알린 신인작가에게 박수를\\...\n",
       "91246      대리인간  찝찝하다.\\n뭐가 진짜인지 알 수 없는 세상.\\n대리인간도 감정이 있는 인간인지라....\n",
       "91247      대리인간                                  그냥 딱 그쯤\\n공승연 연기 짱\n",
       "91248      대리인간       소재는 신선하다 생각했다\\n중간에 도달았을때 앞으로의 스토리는 예상이 가는...\n",
       "\n",
       "[91249 rows x 2 columns]"
      ]
     },
     "execution_count": 7,
     "metadata": {},
     "output_type": "execute_result"
    }
   ],
   "source": [
    "import pandas as pd\n",
    "\n",
    "df = pd.read_csv(\"/Users/yejin/Desktop/contents_Watcha.csv\")\n",
    "df.drop(['Unnamed: 0'], axis=1, inplace=True)\n",
    "df"
   ]
  },
  {
   "cell_type": "code",
   "execution_count": 8,
   "id": "a7be9dee",
   "metadata": {},
   "outputs": [
    {
     "data": {
      "text/plain": [
       "title      0\n",
       "reviews    0\n",
       "dtype: int64"
      ]
     },
     "execution_count": 8,
     "metadata": {},
     "output_type": "execute_result"
    }
   ],
   "source": [
    "df.isnull().sum()"
   ]
  },
  {
   "cell_type": "code",
   "execution_count": 9,
   "id": "7dbeb75f",
   "metadata": {},
   "outputs": [
    {
     "name": "stdout",
     "output_type": "stream",
     "text": [
      "<class 'pandas.core.frame.DataFrame'>\n",
      "RangeIndex: 91249 entries, 0 to 91248\n",
      "Data columns (total 2 columns):\n",
      " #   Column   Non-Null Count  Dtype \n",
      "---  ------   --------------  ----- \n",
      " 0   title    91249 non-null  object\n",
      " 1   reviews  91249 non-null  object\n",
      "dtypes: object(2)\n",
      "memory usage: 1.4+ MB\n"
     ]
    }
   ],
   "source": [
    "df.info()"
   ]
  },
  {
   "cell_type": "code",
   "execution_count": 24,
   "id": "f0453869",
   "metadata": {},
   "outputs": [],
   "source": [
    "import pandas as pd\n",
    "from glob import glob\n",
    "\n",
    "file_names = glob(\"/Users/yejin/english_reviews/*.csv\") #폴더 내의 모든 csv파일 목록을 불러온다\n",
    "total = pd.DataFrame() #빈 데이터프레임 하나를 생성한다\n",
    "\n",
    "for file_name in file_names:\n",
    "    temp = pd.read_csv(file_name, encoding='utf-8') #csv파일을 하나씩 열어 임시 데이터프레임으로 생성한다\n",
    "    total = pd.concat([total, temp]) #전체 데이터프레임에 추가하여 넣는다\n",
    "\n",
    "total.to_csv(\"/Users/yejin/comments_mydramalist/contents_english.csv\")"
   ]
  },
  {
   "cell_type": "code",
   "execution_count": 26,
   "id": "ff1b6d3c",
   "metadata": {},
   "outputs": [
    {
     "data": {
      "text/html": [
       "<div>\n",
       "<style scoped>\n",
       "    .dataframe tbody tr th:only-of-type {\n",
       "        vertical-align: middle;\n",
       "    }\n",
       "\n",
       "    .dataframe tbody tr th {\n",
       "        vertical-align: top;\n",
       "    }\n",
       "\n",
       "    .dataframe thead th {\n",
       "        text-align: right;\n",
       "    }\n",
       "</style>\n",
       "<table border=\"1\" class=\"dataframe\">\n",
       "  <thead>\n",
       "    <tr style=\"text-align: right;\">\n",
       "      <th></th>\n",
       "      <th>reviews</th>\n",
       "      <th>title</th>\n",
       "    </tr>\n",
       "  </thead>\n",
       "  <tbody>\n",
       "    <tr>\n",
       "      <th>0</th>\n",
       "      <td>How criminal profiling came to be in South Kor...</td>\n",
       "      <td>악의마음을읽는자들</td>\n",
       "    </tr>\n",
       "    <tr>\n",
       "      <th>1</th>\n",
       "      <td>G r i p p i n g All the cases are based on tru...</td>\n",
       "      <td>악의마음을읽는자들</td>\n",
       "    </tr>\n",
       "    <tr>\n",
       "      <th>2</th>\n",
       "      <td>Darkness cannot drive out darkness only light ...</td>\n",
       "      <td>악의마음을읽는자들</td>\n",
       "    </tr>\n",
       "    <tr>\n",
       "      <th>3</th>\n",
       "      <td>Brilliant in every aspect There is no such thi...</td>\n",
       "      <td>악의마음을읽는자들</td>\n",
       "    </tr>\n",
       "    <tr>\n",
       "      <th>4</th>\n",
       "      <td>A Wonderfully Grim and Enthralling Show Throug...</td>\n",
       "      <td>악의마음을읽는자들</td>\n",
       "    </tr>\n",
       "    <tr>\n",
       "      <th>...</th>\n",
       "      <td>...</td>\n",
       "      <td>...</td>\n",
       "    </tr>\n",
       "    <tr>\n",
       "      <th>259793</th>\n",
       "      <td>Unique plot with Great love story Loved it to ...</td>\n",
       "      <td>보쌈-운명을훔치다</td>\n",
       "    </tr>\n",
       "    <tr>\n",
       "      <th>259794</th>\n",
       "      <td>It started out really well and the acting was ...</td>\n",
       "      <td>보쌈-운명을훔치다</td>\n",
       "    </tr>\n",
       "    <tr>\n",
       "      <th>259795</th>\n",
       "      <td>I feel so excited every Saturdays and Sundays ...</td>\n",
       "      <td>보쌈-운명을훔치다</td>\n",
       "    </tr>\n",
       "    <tr>\n",
       "      <th>259796</th>\n",
       "      <td>Loved it to the end</td>\n",
       "      <td>보쌈-운명을훔치다</td>\n",
       "    </tr>\n",
       "    <tr>\n",
       "      <th>259797</th>\n",
       "      <td>Great beginning slow to end</td>\n",
       "      <td>보쌈-운명을훔치다</td>\n",
       "    </tr>\n",
       "  </tbody>\n",
       "</table>\n",
       "<p>259798 rows × 2 columns</p>\n",
       "</div>"
      ],
      "text/plain": [
       "                                                  reviews      title\n",
       "0       How criminal profiling came to be in South Kor...  악의마음을읽는자들\n",
       "1       G r i p p i n g All the cases are based on tru...  악의마음을읽는자들\n",
       "2       Darkness cannot drive out darkness only light ...  악의마음을읽는자들\n",
       "3       Brilliant in every aspect There is no such thi...  악의마음을읽는자들\n",
       "4       A Wonderfully Grim and Enthralling Show Throug...  악의마음을읽는자들\n",
       "...                                                   ...        ...\n",
       "259793  Unique plot with Great love story Loved it to ...  보쌈-운명을훔치다\n",
       "259794  It started out really well and the acting was ...  보쌈-운명을훔치다\n",
       "259795  I feel so excited every Saturdays and Sundays ...  보쌈-운명을훔치다\n",
       "259796                                Loved it to the end  보쌈-운명을훔치다\n",
       "259797                        Great beginning slow to end  보쌈-운명을훔치다\n",
       "\n",
       "[259798 rows x 2 columns]"
      ]
     },
     "execution_count": 26,
     "metadata": {},
     "output_type": "execute_result"
    }
   ],
   "source": [
    "final = pd.read_csv(\"/Users/yejin/comments_mydramalist/contents_english.csv\")\n",
    "final.drop(['Unnamed: 0', 'Unnamed: 0.1', 'Unnamed: 0.1.1'], axis=1, inplace=True)\n",
    "final"
   ]
  },
  {
   "cell_type": "code",
   "execution_count": 28,
   "id": "d538491c",
   "metadata": {},
   "outputs": [
    {
     "data": {
      "text/plain": [
       "140"
      ]
     },
     "execution_count": 28,
     "metadata": {},
     "output_type": "execute_result"
    }
   ],
   "source": [
    "final['title'].nunique()"
   ]
  },
  {
   "cell_type": "code",
   "execution_count": 29,
   "id": "feff2671",
   "metadata": {},
   "outputs": [],
   "source": [
    "final.to_csv('/Users/yejin/comments_mydramalist/contents_english.csv')"
   ]
  },
  {
   "cell_type": "code",
   "execution_count": null,
   "id": "0e04a438",
   "metadata": {},
   "outputs": [],
   "source": []
  }
 ],
 "metadata": {
  "kernelspec": {
   "display_name": "Python 3 (ipykernel)",
   "language": "python",
   "name": "python3"
  },
  "language_info": {
   "codemirror_mode": {
    "name": "ipython",
    "version": 3
   },
   "file_extension": ".py",
   "mimetype": "text/x-python",
   "name": "python",
   "nbconvert_exporter": "python",
   "pygments_lexer": "ipython3",
   "version": "3.9.7"
  }
 },
 "nbformat": 4,
 "nbformat_minor": 5
}
