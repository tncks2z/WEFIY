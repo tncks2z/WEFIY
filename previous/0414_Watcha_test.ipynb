{
 "cells": [
  {
   "cell_type": "code",
   "execution_count": 3,
   "id": "c9d30512",
   "metadata": {
    "ExecuteTime": {
     "end_time": "2022-04-14T00:20:51.838580Z",
     "start_time": "2022-04-14T00:20:51.817990Z"
    }
   },
   "outputs": [],
   "source": [
    "import pandas as pd\n",
    "import numpy as np"
   ]
  },
  {
   "cell_type": "code",
   "execution_count": 4,
   "id": "13759c9f",
   "metadata": {
    "ExecuteTime": {
     "end_time": "2022-04-14T00:20:52.056475Z",
     "start_time": "2022-04-14T00:20:52.045547Z"
    }
   },
   "outputs": [],
   "source": [
    "import warnings\n",
    "warnings.filterwarnings('ignore')"
   ]
  },
  {
   "cell_type": "code",
   "execution_count": 5,
   "id": "3313cccb",
   "metadata": {
    "ExecuteTime": {
     "end_time": "2022-04-14T00:20:52.317774Z",
     "start_time": "2022-04-14T00:20:52.304552Z"
    }
   },
   "outputs": [],
   "source": [
    "import pandas as pd\n",
    "import time\n",
    "from tqdm.auto import tqdm\n",
    "from selenium.webdriver import Chrome\n",
    "from selenium.webdriver.common.by import By\n",
    "from selenium.webdriver.common.keys import Keys\n",
    "from selenium.webdriver.support.ui import WebDriverWait\n",
    "from selenium.webdriver.support import expected_conditions as EC\n",
    "from selenium import webdriver\n",
    "from selenium.common.exceptions import TimeoutException\n",
    "from selenium.webdriver.chrome.service import Service\n",
    "from webdriver_manager.chrome import ChromeDriverManager"
   ]
  },
  {
   "cell_type": "code",
   "execution_count": 6,
   "id": "1b880d3c",
   "metadata": {
    "ExecuteTime": {
     "end_time": "2022-04-14T00:31:41.436674Z",
     "start_time": "2022-04-14T00:31:41.412056Z"
    }
   },
   "outputs": [],
   "source": [
    "chrome_driver_path = 'C:\\\\Users\\\\g8428\\\\workspace\\\\chromedriver.exe'\n",
    "options = webdriver.ChromeOptions()\n",
    "# options.add_argument(\"headless\")\n",
    "# options.add_argument('--no-sandbox')"
   ]
  },
  {
   "cell_type": "code",
   "execution_count": 12,
   "id": "417e76ef",
   "metadata": {
    "ExecuteTime": {
     "end_time": "2022-04-14T00:31:41.753733Z",
     "start_time": "2022-04-14T00:31:41.741934Z"
    }
   },
   "outputs": [],
   "source": [
    "# 스크롤 다운\n",
    "def scroll_down(second):\n",
    "    driver.execute_script(\"window.scrollTo(0, document.documentElement.scrollHeight);\")\n",
    "    time.sleep(second)\n",
    "    new = driver.execute_script(\"return document.documentElement.scrollHeight\")\n",
    "    \n",
    "    return new"
   ]
  },
  {
   "cell_type": "markdown",
   "id": "f02baa14",
   "metadata": {},
   "source": [
    "# Practice"
   ]
  },
  {
   "cell_type": "code",
   "execution_count": 36,
   "id": "d7ff580f",
   "metadata": {},
   "outputs": [],
   "source": [
    "driver = webdriver.Chrome(chrome_driver_path, options=options)\n",
    "pedia = 'https://pedia.watcha.com/ko-KR/?domain=tv'\n",
    "driver.get(pedia)\n",
    "time.sleep(1)\n",
    "driver.find_element_by_xpath('/html/body/div/div/div[2]/div/div/div/button').click()\n"
   ]
  },
  {
   "cell_type": "code",
   "execution_count": 128,
   "id": "6bdde2f6",
   "metadata": {},
   "outputs": [],
   "source": [
    "driver = webdriver.Chrome(chrome_driver_path)\n",
    "driver.get('https://pedia.watcha.com/ko-KR/contents/tRB6Bp8/comments')\n",
    "time.sleep(1)\n",
    "\n",
    "driver.find_element_by_xpath('/html/body/div/div/div[2]/div/div/div/button').click()\n",
    "\n",
    "last_height = driver.execute_script(\"return document.documentElement.scrollHeight\")\n",
    "for i in range(30):\n",
    "    new_height = scroll_down(2)\n",
    "    if new_height == last_height:\n",
    "        new_height = scroll_down(2)\n",
    "        if new_height == last_height:\n",
    "            break\n",
    "    last_height = new_height\n",
    "driver.execute_script(\"window.scrollTo(0, document.documentElement.scrollHeight);\")\n",
    "\n",
    "review_lst = []\n",
    "\n",
    "for i in range(1,200):\n",
    "    try:\n",
    "        review = driver.find_element_by_xpath(f'/html/body/div[1]/div/div[1]/section/section/div/div/div/ul/div[{i}]/div[2]').text\n",
    "        if review == '스포일러가 있어요!! 보기':\n",
    "            rev_url = driver.find_element_by_xpath(f'/html/body/div/div/div[1]/section/section/div/div/div/ul/div[{i}]/div[2]/a').get_attribute('href')\n",
    "            # 새탭열기\n",
    "            driver.execute_script('window.open(\"\");')\n",
    "            # 새탭으로 스위치\n",
    "            driver.switch_to.window(driver.window_handles[-1])\n",
    "            driver.get(rev_url)\n",
    "            time.sleep(1)\n",
    "\n",
    "            driver.find_element_by_xpath('/html/body/div/div/div[2]/div/div/div/button').click()\n",
    "            driver.find_element_by_xpath('/html/body/div/div/div[1]/section/div/section/section/div/div/section[1]/div[2]/span/button').click()\n",
    "            \n",
    "            review = driver.find_element_by_xpath('/html/body/div/div/div[1]/section/div/section/section/div/div/section[1]/div[2]/div/span').text\n",
    "            review_lst.append(review)\n",
    "            driver.close()\n",
    "\n",
    "            driver.switch_to.window(driver.window_handles[-1])\n",
    "        else:\n",
    "            review_lst.append(review)\n",
    "    except:\n",
    "        break\n"
   ]
  },
  {
   "cell_type": "code",
   "execution_count": 130,
   "id": "8df295d2",
   "metadata": {},
   "outputs": [
    {
     "data": {
      "text/plain": [
       "['이 화려한 캐스팅 라인업을 보고 안 볼수가 있나.. ㄷㄷㄷ 게다가 노희경 극본..ㄷㄷㄷ\\n\\n바로 이거지... 눈과 귀를 홀리는 이 몰입도!\\n심지어 짠내나는 차승원이라니..ㅋㅋ 너무 좋다!!',\n",
       " '침묵의 순간들이 더욱 처연하게 빛나는, 노희경 극본의 또 다른 경지.',\n",
       " '세상에..노희경 작가와 이 배우들이라면 어떤 스토리가 됐든 꼭 보고싶다..',\n",
       " '하 진짜 좋아하는 배우 전부 다 나오네…\\n.\\n한수의 위험한 생각이 뭔지 알 것 같아서 고통스럽다.',\n",
       " '이 작품 뒤에 결혼할것 같은 두 찐커플이 출연',\n",
       " '사람 사는 거 특별할 거 없다지만, 저마다의 사정을 찬찬히 듣노라면 그것만큼 재미난 맛도 없다.',\n",
       " '“상처에 주목하는 것이 아니라 희망에 주목하는 것이다. 경험이 상처가 되는 것이 아니라 경험이 희망으로 나아가는 또 다른 스텝이 되어야 한다. 살아있는 모든 것들이 행복했으면 좋겠다” 노희경 작가님 사랑합니다.',\n",
       " '캐스팅 대단한 건 알겠는데(김혜자까지?ㅎㄷㄷ)\\n2화 소감으론 특별한 점은 모르겠다.\\n대배우들이 소시민으로 출연해 시끌벌쩍 하는 중. 이정은 차승원 배우 로맨스 분위기도 새롭긴 한데 돈 얘기로 다 망칠 가능성이 있어서 두고 봄.\\n이정은 배우 노래할 때 목소리 좋구나.\\n\\n배경음악도 공들인 티가 난다.\\n단지 대사는 그냥 그런 느낌.\\n그리고 방영 중 화면 상단에 떠있는 \"모두에게  위로가 될\"\\n이라는 문구 맘에 들지 않아 무슨 자신감이래~\\n\\n털썩.\\n극본 노희경\\n그래서 이 배우들이 모였구나.',\n",
       " '요즘은 확실히 악역없는 햇살 가득 따스한 드라마들이 강세를 보인다.\\n노희경 작가는 이러한 시대에 있어 최적의 작가다.\\n이런 초호화 캐스팅을 가지고 이렇게나 소박한 이야기라니.\\n차승원은 요즘 연기폼을 보면 진짜 일 한 번 내겠다 싶다.',\n",
       " '1화부터 풍겨오는 노희경 작가 특유의 사람냄새\\n너무 그리웠잖아요… 너무너무…\\n\\n지독할만큼 솔직하고 미어지는 감정들이 얼마나 내 부끄러운 속내들을 벅벅 긁어놓을지 벌써부터 두근두근..',\n",
       " '[22.04.09.-22.06.12. / 20부작 / 토,일]\\n+ 옴니버스 형식의 드라마\\n+ 스트리밍: 넷플릭스, 티빙',\n",
       " '위로하기 위한 거짓 이상은 무슨 소용인가,',\n",
       " '사람 냄새랍시고 쉰내 날까 걱정했는데 되게 담백하다. 보면서 이병헌 언제 나와라는 생각이 단 한 번도 들지 않았다.',\n",
       " '제주도 + 노희경\\n끝.\\n내 최애로만 이루어져있다니 1화 10분 보고 별 50개',\n",
       " '생각없이 캐스팅만 보다가 감탄을 했다.\\n이런 배우진에 극본 노희경 ,, 디어마이프렌즈 이후로 갑자기 두근거리기 시작한다.',\n",
       " '캐스팅이 무슨 일이야 ㄷㄷㄷ',\n",
       " '드라마가 아니라 삶이라 좋다',\n",
       " '작가와 배우진을 보고 기대감이 컸다.\\n그런데 막상 보니까 재미도 없고, 감동도 없었음.\\n\\n겨우 1화 보고 말하는 거라 나중에 어떻게 될 지는 모르지만 너무 재미없고 이상해..\\n\\n아역들의 학창시절 이야기가 특히, 풋풋함도 귀여움도 없이 이상하기만 해서 할 말을 잃음. 좀 독특하네 수준이 아니라 지능이 의심될 정도로 공감이 가지 않는 행동과 반응들이었다. 아무리 드라마라지만 누가 저렇게 말하고 누가 저렇게 행동함? 이게 뭐라 표현할 말이 없음. 이상했다는 것밖에..\\n\\n제주도라는 배경도 좋고 화면도 예뻤다. 오랜만에 보는 김우빈도 반가웠지만.. 잘 모르겠다.\\n\\n보는 내내 너무 이상했고 지루했고 더 보고 싶지 않다는 생각 뿐이었음. 1화도 끝까지 못 보고 탈주..',\n",
       " '사람에 대한 기대와 판타지가 과한듯, 그사세 이후로 확 몰입되지가 않네.',\n",
       " '어느 정도의 감수성으로 세상과 교감해야 이 깊이의 이야기가 지어질까. 단 두 회 만으로도 압도적이다. 이야기도, 연기도 다음주를 기다리기 어렵다.',\n",
       " '1회, 너도 좋아했짜나~~~ 하나로 겜 끝.\\n.\\n2회, 너여서 고맙고 나여서 미안하다.',\n",
       " '이게 뭐..완전 연기 드림팀이네~ 벌써부터 별다섯개 기대중~~ 이병헌에~한지민에~ 노희경 작가에~\\n와우~! 김우빈.신민아 커플까지.',\n",
       " '감독 작가 배우 라인업 무슨일..?',\n",
       " 'ㅠㅠㅠ 라이브 이후로 넘 오랜만 아닙니까 작가님...\\n기다리고 있었ㄱ습니다...흑흑...',\n",
       " '노희경 작가의 제주 배경 드라마라니, 이건 못참지',\n",
       " \"조금 과한 묘사는 있지만 여전한 노희경 작가의 매력적인 필력,\\n제주도의 아름다운 풍경, 화려한 출연진의 구멍없는 연기.\\n\\n모든게 완벽해 보였던 '디어마이프렌즈'까진 아니여도\\n조미료 더해진, 우리 평범한 인생들에 대한 찬가.\",\n",
       " '좋네요. 이정은이 주인공인 드라마가 드디어 나왔네.',\n",
       " '이렇게 좋아도 되나 싶을 정도로',\n",
       " '작가 필력의 총집합체.\\n기라성 같은 톱스타들을 적재적소에 배치하는 재치.\\n2화 정도의 퀄리티만 유지하면 5점까지 갈 듯...!\\n-\\n(계속 작성할 예정)\\n1화는 캐릭터 소개하는 회차인지라, 생각보다 더 심심했단 느낌이 있었으나, 2화는 시간 가는 줄 몰랐다. 지금의 한수가 어린 한수를 반추하는 장면... 같은 인물을 병치해 놓은 감독의 연출과 차승원의 아련한 연기력이 어우러져 드라마 감상 중 첫 눈물을 자아낼 뻔...! 그래도 은희는 이용하지 말지 ㅠㅠ\\n+ 배우들의 얼굴은 비현실적이지만, 노희경 작가 특유의 현실적 인물 묘사는 변치 않았구나.',\n",
       " '혜자 선생님은 이번에도 깜찍하십니다 알라뷰',\n",
       " '우빈이가 옆에서 눈 시퍼렇게 뜨고 있는데\\n왜 아재 병헌이가 신민아한테 입맞추니??!!!!!',\n",
       " '도시 연예인들이 휴가내고 취미삼아 파라다이스 간 느낌이랄까?',\n",
       " '뭐야 과거 한수은희 돌려줘요',\n",
       " '작가 노희경? = 5점\\n배우 라인업... 실화? =5점\\n배경이... 제주도?=5점\\n\\n일단 15점으로 시작 선별점 후감상',\n",
       " '이 드라마 라인업 뭐냐?ㅎㅎ\\n영화 몇 편은 찍겠네..\\n\\n제주 그리고 한지민..설렘 그 자체..',\n",
       " '갬성과 설명식 대사가 취향에 안 맞아서 하차하지만 맞는 분들은 재밌게 보실 것 같다. 화면도 좋고.',\n",
       " '특별히 애정하는 배우가 한 명도 없는 캐스팅 라인업은 마뜩잖지만 노희경 작가님을 믿는다.  2022년을 기대할 이유가 하나 생겼다.',\n",
       " '디어 마이 프랜즈 냄새가 나서 보니 노희경\\n김규태 노희경 조합은 못참지',\n",
       " '불륜, 현실에서 느껴지는 차가운 퍽퍽함이 마냥 싫지만은 않다',\n",
       " '특별하지도 않고 신선한 이야기도 아닌데.\\n전개도 잔잔하고 큰 재미가 있는 것도 아닌데 뭔가 술술 보게 된다. 깊은 맛이 나는 육수같은 드라마.',\n",
       " '언제나처럼 차승원 배우가 극에 녹아드는 건 영화에서정도가 그나마이다.\\n\\n저 발가락 연기는 코빅에서나 볼 법한대.\\n\\n초반 교통사고씬 하나만으로 아이들의 연기가 기성배우들보다 낫다.\\n\\n김광규 배우의 연기는 일정 이상의 학습을 전혀 하지 않는데, 이게 어떤 극에서도 딱 스테레오타입의 연기를 하는 이유이다. 그리고 그의 연기가 극의 퀄리티를 일정 이하로 유지시킨다. 이번에 차승원 배우와의 호흡만으로 두분의 정성의 차이가 보인다.\\n\\n2편까지의 분위기로 앞으로가 대략 예상되는데… 봐야하나 싶다.',\n",
       " 'tvN 2022.04.09. 20부작 (토, 일) 오후 9:10',\n",
       " '2022.04.09',\n",
       " '일단은 1화는 졸잼',\n",
       " '이거... 로맨스 스캠 아녀...?',\n",
       " '캐스팅이 #레알마드리드 급이네 와',\n",
       " '1,2화 과거 자기 좋아했던 돈많은 여자 동창친구 돈때매 등쳐먹을라고 준비 하는 거 보면서 감동받고 힐링될라면 앞으로 스토리가 어떻게 전개되야 하는 겨?',\n",
       " '사람냄새 나서 좋으네',\n",
       " '너도 좋아했잖아...너도 좋아했잖아...',\n",
       " '정말 좋은 배우들.. 그 연기를 보는 재미\\n휴먼드라마, 일상물\\n\\n1회\\n은희 너무 귀여워',\n",
       " '첫 키스와 몸빼바지와 생선비린내가 어우러져도 아름다운 시퀀스. 우리는 그걸 사람 냄새라고 쓰고 노희경이라고 읽기로 했어요.',\n",
       " '라이브 이후 4년만의 컴백하시는 노희경 작가님. \"Here(가제)\"라고 NGO 소재로 한 드라마로 컴백하시려고 했는데 코로나시국으로 해외로케이션 촬영이 지연되면서 기존 대부분의 출연진들이 그대로 하여금 제주도를 배경으로 또 하나의 우리네 일상을 또 눈물나게 그리실지 하... 너무 좋아. 이미 다 탈고하고 언제나 준비된 작가님, 그저 빛-레드카펫 깔아드려요. 나의 인생작가님❤ 2화까지 봤는데 미쳤고 지렸고 진짜 내안의 블루스난리부르스ㅠㅠㅠㅠㅠㅠㅠ엉엉 10주간 잘부탁드립니다, 많관부많관부!!!',\n",
       " \"(1-2화 감상)\\n내 기준 이름만 보고 드라마적 완성도를 의심하지 않아도 되는\\n(내 취향이 아닐 수는 있어도, 완성도로 깔 수는 없다는 얘긔)\\n현역 유일무이한 작가 노희경의 신작이다. 노희경이 그리는 세계는 때로 너무 촉촉하다 못해 축축하게 느껴지리만큼 '뜨끈'하고 '사람냄새'나는 것이어서 모든 드라마에 주파수가 맞는 것은 아니고, 그사세와 디마프만은 몇 번이고 봄. 사실 그사세는 내 20대 텍스트였고, 디마프는 지금봐도 좋은데  약간 갸우뚱한 지점은 있었다.\\n근데\\n거기서 더 발전해서 도라오다니...역시는 역시...\\n옴니버스 세계관이라 캐릭터를 치밀하고 압축적으로 보여줘야 하는, 작가적 역량이 만땅 필요한 설정인데 현업 작가중에 이걸 이렇게 해낼 수 있는 작가는 노희경뿐...조연들 하나하나 섬세하게 매만지는 그 천의무봉의 스킬을 보노라면 캬 꾼이네 꾼이야 싶다.\\n\\n-배우썰: 아니 이정은은 말할것도 없는데 차승원 연기 왜케 잘해...? '첫사랑 등쳐먹을 계획을 세워벌인 가정에 충실한 기러기아빠'를 코미디가 아닌 멜로로 소화할 예정인데 이걸 너무 잘한다...? 갈수록 연기의 결이 섬세하고 깊어지네...완전 감탄.\\n\\n그리고요, 고딩아역 캐스팅 미친거 아닙니까 진짜 너무 찰떡이자나여...이정은차승원신민아 아역 싱크로 무슨일이냐고..연기도 개 좋아..\",\n",
       " '2022.04.10~\\n넷플릭스',\n",
       " '2022. 4. 10. ~',\n",
       " '너무 사람냄새만 나도 심심하다.\\n.\\np.s. 이정은 배우님 진짜 쩐다 ㅠㅠㅠㅠ\\n왜 이렇게 사랑스러우시냐 ㅠㅠㅠㅠㅠ\\n왠지 난 가수 박혜경님도 생각나고 그럼 ㅋㅋㅋ\\nL.O.V.E.L.Y.\\n-22.04.12.-\\n.\\n대박이다 진짜 ㅋㅋㅋㅋㅋㅋㅋㅋㅋ\\n-22.04.10.-',\n",
       " '잔잔하니 흘러가는 일상일 뿐인데 왜이렇게 먹먹할까',\n",
       " '특정직업군 사람들의 이야기 잔잔하니 재밌다.',\n",
       " '나 너 좋아해. 널 가져야겠어. 아님 널 주든가.',\n",
       " '일단 너무 재밌다아',\n",
       " '아니 작가님,,,\\n고딩시절 좀 더 풀어봐요ㅠㅠㅠㅠㅠㅠ창수와 은희…\\n\\n창수 이 개시키야…은희 등쳐먹지마 ㅠㅠㅠㅠㅠㅠ',\n",
       " '뭐야 틀어주길래 그냥 봤는데 재밌어',\n",
       " '2화\\n빛나던 첫사랑의 무너진 현재를 아무 말 없이 응원하는 은희. 은희만한 친구 없으니까 힘들게 쌓은 커리어를 제발 불륜으로 망치지 말아주라 ㅠ\\n-\\n1화\\n잠만 누가 내 1시간 훔쳐갔어?\\n아역부터 조연,주연까지 라인업,연기 돌았다',\n",
       " '출연진 실화? 검색했더니 노희경 작가…음.',\n",
       " '존나기대',\n",
       " '노희경 작가님✖️💙\\U0001f90d💙\\U0001f90d💙\\U0001f90d',\n",
       " '존버',\n",
       " '인생살이 적재적소한 절대적인 필요악\\n엿같은 인간세상 내가 살기위해\\n인간사회에 도태되지 않는 자기방어\\n지엄한 인간관계 나약하게 연명할수가없구나',\n",
       " '영화가 따로 없네']"
      ]
     },
     "execution_count": 130,
     "metadata": {},
     "output_type": "execute_result"
    }
   ],
   "source": [
    "review_lst"
   ]
  },
  {
   "cell_type": "code",
   "execution_count": 118,
   "id": "095bfb89",
   "metadata": {},
   "outputs": [
    {
     "data": {
      "text/plain": [
       "'내 스타일 아닌데 킹받는 맛이 쏠쏠하대서 보기 시작\\n비비고, 굽네가 캐스팅부터 스토리까지 PPL 잘했네\\n\\n12화\\n결국 해피 엔딩, 기승전은 덜 뻔했는데 결말이 뻔하네\\n\\n11화\\n여기부터 급마무리 느낌이 나는데.. 특히 서브 커플\\n\\n10화\\n하리가 오버한 게 비 트라우마 없애 주려던 거구나\\n태무 눈 똥그란게 볼수록 어쩔 수 없이 좀 귀엽네\\n\\n9화\\n계차장 진짜 미쳤나봨ㅋㅋㅋ폭탄주씬 개터졌네\\n혜지도 취한 연기 일품이다 배꼽 잡고 웃었다\\n나만 그런가 강태무보다 차성훈이 신경 쓰임\\n\\n8화\\n이제는 안효섭 정극톤이 안 들리면 서운할 기세\\n신하리 체육대회씬에 질투에 무맥락 급전개..\\n\\n7화\\n안효섭 손 귀 눈 저렇게 두면 터지는 거 아님..?\\n진심 이번 화 오글과 스킨십의 정점이다\\n뻔한 연기를 뻔하지 않게 하는 김세정 대박이다\\n\\n6화\\n몰카범은 죽어도 싸지만 일반인 취조는 제법 웃겨\\n강태무가 신하리한테 급발진하는 것도 웃겨\\n상사가 부하 저렇게 불러내면 직장 내 괴롭힘인데\\n강태무x신하리니까 귀염 뽀짝해서 참고 본다\\n메인&서브커플 스킨십이 여기부터 시작되네\\n\\n5화\\n드디어 신금희 신하리가 동일인물인 걸 안다\\n가발 화장으로 못 알아보는 게 아내의 유혹급\\n굳세어라 금희야랑 오버랩되는 것도 개웃겨\\n취한 신하리 사랑스러워.. 연기 점점 잘해..\\n\\n4화\\n슬슬 오글오글 간질간질 연애 스토리 시작\\n민우 똥차 스멜 나는데 짝사랑 그만하자..\\n\\n3화\\n안효섭은 정장보다 사복에 덮머가 더 귀엽고\\n김세정은 중단발에 옅은 화장이 더 귀엽다\\n\\n2화\\n정신 차려보니 2화네.. 역시 아는 맛이 무서운 맛\\n이덕화 할배도 클리셰 레전드답게 촥촥 붙는 맛\\n이름도 강다구가 뭔데..ㅋㅋㅋ\\n\\n1화\\n웹툰과 교차 편집한 거나 4Dst 편집한거 좀 신선하다.\\n안효섭 발성 좀 거부감 들긴 하네.. 그래도 남주 여주 조연들 비주얼 연기 다 괜찮다. 세정씨 진짜 도라이였네..\\n세정이 친구는 망칠 선에 왜 이렇게 공을 들이냐..ㅋㅋ\\n메인 커플, 서브 커플 둘 다 귀여워서 인기가 많구나'"
      ]
     },
     "execution_count": 118,
     "metadata": {},
     "output_type": "execute_result"
    }
   ],
   "source": [
    "driver.execute_script('window.open(\"\");')\n",
    "# 새탭으로 스위치\n",
    "driver.switch_to.window(driver.window_handles[-1])\n",
    "driver.get(rev_url)\n",
    "time.sleep(1)\n",
    "\n",
    "driver.find_element_by_xpath('/html/body/div/div/div[2]/div/div/div/button').click()\n",
    "driver.find_element_by_xpath('/html/body/div/div/div[1]/section/div/section/section/div/div/section[1]/div[2]/span/button').click()\n",
    "\n",
    "review = driver.find_element_by_xpath('/html/body/div/div/div[1]/section/div/section/section/div/div/section[1]/div[2]/div/span').text\n",
    "time.sleep(1)\n",
    "driver.close()\n",
    "\n",
    "driver.switch_to.window(driver.window_handles[-1])\n",
    "review"
   ]
  },
  {
   "cell_type": "code",
   "execution_count": 119,
   "id": "71875030",
   "metadata": {},
   "outputs": [
    {
     "data": {
      "text/plain": [
       "'내 스타일 아닌데 킹받는 맛이 쏠쏠하대서 보기 시작\\n비비고, 굽네가 캐스팅부터 스토리까지 PPL 잘했네\\n\\n12화\\n결국 해피 엔딩, 기승전은 덜 뻔했는데 결말이 뻔하네\\n\\n11화\\n여기부터 급마무리 느낌이 나는데.. 특히 서브 커플\\n\\n10화\\n하리가 오버한 게 비 트라우마 없애 주려던 거구나\\n태무 눈 똥그란게 볼수록 어쩔 수 없이 좀 귀엽네\\n\\n9화\\n계차장 진짜 미쳤나봨ㅋㅋㅋ폭탄주씬 개터졌네\\n혜지도 취한 연기 일품이다 배꼽 잡고 웃었다\\n나만 그런가 강태무보다 차성훈이 신경 쓰임\\n\\n8화\\n이제는 안효섭 정극톤이 안 들리면 서운할 기세\\n신하리 체육대회씬에 질투에 무맥락 급전개..\\n\\n7화\\n안효섭 손 귀 눈 저렇게 두면 터지는 거 아님..?\\n진심 이번 화 오글과 스킨십의 정점이다\\n뻔한 연기를 뻔하지 않게 하는 김세정 대박이다\\n\\n6화\\n몰카범은 죽어도 싸지만 일반인 취조는 제법 웃겨\\n강태무가 신하리한테 급발진하는 것도 웃겨\\n상사가 부하 저렇게 불러내면 직장 내 괴롭힘인데\\n강태무x신하리니까 귀염 뽀짝해서 참고 본다\\n메인&서브커플 스킨십이 여기부터 시작되네\\n\\n5화\\n드디어 신금희 신하리가 동일인물인 걸 안다\\n가발 화장으로 못 알아보는 게 아내의 유혹급\\n굳세어라 금희야랑 오버랩되는 것도 개웃겨\\n취한 신하리 사랑스러워.. 연기 점점 잘해..\\n\\n4화\\n슬슬 오글오글 간질간질 연애 스토리 시작\\n민우 똥차 스멜 나는데 짝사랑 그만하자..\\n\\n3화\\n안효섭은 정장보다 사복에 덮머가 더 귀엽고\\n김세정은 중단발에 옅은 화장이 더 귀엽다\\n\\n2화\\n정신 차려보니 2화네.. 역시 아는 맛이 무서운 맛\\n이덕화 할배도 클리셰 레전드답게 촥촥 붙는 맛\\n이름도 강다구가 뭔데..ㅋㅋㅋ\\n\\n1화\\n웹툰과 교차 편집한 거나 4Dst 편집한거 좀 신선하다.\\n안효섭 발성 좀 거부감 들긴 하네.. 그래도 남주 여주 조연들 비주얼 연기 다 괜찮다. 세정씨 진짜 도라이였네..\\n세정이 친구는 망칠 선에 왜 이렇게 공을 들이냐..ㅋㅋ\\n메인 커플, 서브 커플 둘 다 귀여워서 인기가 많구나'"
      ]
     },
     "execution_count": 119,
     "metadata": {},
     "output_type": "execute_result"
    }
   ],
   "source": [
    "review"
   ]
  },
  {
   "cell_type": "code",
   "execution_count": 95,
   "id": "704af26c",
   "metadata": {},
   "outputs": [
    {
     "ename": "NoSuchElementException",
     "evalue": "Message: no such element: Unable to locate element: {\"method\":\"xpath\",\"selector\":\"/html/body/div[1]/div/div[1]/section/section/div/div/div/ul/div[25]/div[2]\"}\n  (Session info: chrome=100.0.4896.88)\nStacktrace:\nBacktrace:\n\tOrdinal0 [0x01229943+2595139]\n\tOrdinal0 [0x011BC9F1+2148849]\n\tOrdinal0 [0x010B4528+1066280]\n\tOrdinal0 [0x010E0FD4+1249236]\n\tOrdinal0 [0x010E11CB+1249739]\n\tOrdinal0 [0x0110D812+1431570]\n\tOrdinal0 [0x010FBA34+1358388]\n\tOrdinal0 [0x0110BAF2+1424114]\n\tOrdinal0 [0x010FB806+1357830]\n\tOrdinal0 [0x010D6086+1204358]\n\tOrdinal0 [0x010D6F96+1208214]\n\tGetHandleVerifier [0x013CB232+1658114]\n\tGetHandleVerifier [0x0148312C+2411516]\n\tGetHandleVerifier [0x012BF261+560433]\n\tGetHandleVerifier [0x012BE366+556598]\n\tOrdinal0 [0x011C286B+2173035]\n\tOrdinal0 [0x011C75F8+2192888]\n\tOrdinal0 [0x011C76E5+2193125]\n\tOrdinal0 [0x011D11FC+2232828]\n\tBaseThreadInitThunk [0x76F3FA29+25]\n\tRtlGetAppContainerNamedObjectPath [0x77607A7E+286]\n\tRtlGetAppContainerNamedObjectPath [0x77607A4E+238]\n",
     "output_type": "error",
     "traceback": [
      "\u001b[1;31m---------------------------------------------------------------------------\u001b[0m",
      "\u001b[1;31mNoSuchElementException\u001b[0m                    Traceback (most recent call last)",
      "\u001b[1;32m<ipython-input-95-2fab58fc2d3e>\u001b[0m in \u001b[0;36m<module>\u001b[1;34m\u001b[0m\n\u001b[0;32m      1\u001b[0m \u001b[0mreview_lst\u001b[0m \u001b[1;33m=\u001b[0m \u001b[1;33m[\u001b[0m\u001b[1;33m]\u001b[0m\u001b[1;33m\u001b[0m\u001b[1;33m\u001b[0m\u001b[0m\n\u001b[0;32m      2\u001b[0m \u001b[1;32mfor\u001b[0m \u001b[0mi\u001b[0m \u001b[1;32min\u001b[0m \u001b[0mrange\u001b[0m\u001b[1;33m(\u001b[0m\u001b[1;36m1\u001b[0m\u001b[1;33m,\u001b[0m\u001b[1;36m70\u001b[0m\u001b[1;33m)\u001b[0m\u001b[1;33m:\u001b[0m\u001b[1;33m\u001b[0m\u001b[1;33m\u001b[0m\u001b[0m\n\u001b[1;32m----> 3\u001b[1;33m     \u001b[0mreview\u001b[0m \u001b[1;33m=\u001b[0m \u001b[0mdriver\u001b[0m\u001b[1;33m.\u001b[0m\u001b[0mfind_element_by_xpath\u001b[0m\u001b[1;33m(\u001b[0m\u001b[1;34mf'/html/body/div[1]/div/div[1]/section/section/div/div/div/ul/div[{i}]/div[2]'\u001b[0m\u001b[1;33m)\u001b[0m\u001b[1;33m.\u001b[0m\u001b[0mtext\u001b[0m\u001b[1;33m\u001b[0m\u001b[1;33m\u001b[0m\u001b[0m\n\u001b[0m\u001b[0;32m      4\u001b[0m     \u001b[1;32mif\u001b[0m \u001b[0mreview\u001b[0m \u001b[1;33m==\u001b[0m \u001b[1;34m'스포일러가 있어요!! 보기'\u001b[0m\u001b[1;33m:\u001b[0m\u001b[1;33m\u001b[0m\u001b[1;33m\u001b[0m\u001b[0m\n\u001b[0;32m      5\u001b[0m         \u001b[0mrev_url\u001b[0m \u001b[1;33m=\u001b[0m \u001b[0mdriver\u001b[0m\u001b[1;33m.\u001b[0m\u001b[0mfind_element_by_xpath\u001b[0m\u001b[1;33m(\u001b[0m\u001b[1;34mf'/html/body/div/div/div[1]/section/section/div/div/div/ul/div[{i}]/div[2]/a'\u001b[0m\u001b[1;33m)\u001b[0m\u001b[1;33m.\u001b[0m\u001b[0mget_attribute\u001b[0m\u001b[1;33m(\u001b[0m\u001b[1;34m'href'\u001b[0m\u001b[1;33m)\u001b[0m\u001b[1;33m\u001b[0m\u001b[1;33m\u001b[0m\u001b[0m\n",
      "\u001b[1;32m~\\anaconda3\\envs\\nlp\\lib\\site-packages\\selenium\\webdriver\\remote\\webdriver.py\u001b[0m in \u001b[0;36mfind_element_by_xpath\u001b[1;34m(self, xpath)\u001b[0m\n\u001b[0;32m    519\u001b[0m             \u001b[0mstacklevel\u001b[0m\u001b[1;33m=\u001b[0m\u001b[1;36m2\u001b[0m\u001b[1;33m,\u001b[0m\u001b[1;33m\u001b[0m\u001b[1;33m\u001b[0m\u001b[0m\n\u001b[0;32m    520\u001b[0m         )\n\u001b[1;32m--> 521\u001b[1;33m         \u001b[1;32mreturn\u001b[0m \u001b[0mself\u001b[0m\u001b[1;33m.\u001b[0m\u001b[0mfind_element\u001b[0m\u001b[1;33m(\u001b[0m\u001b[0mby\u001b[0m\u001b[1;33m=\u001b[0m\u001b[0mBy\u001b[0m\u001b[1;33m.\u001b[0m\u001b[0mXPATH\u001b[0m\u001b[1;33m,\u001b[0m \u001b[0mvalue\u001b[0m\u001b[1;33m=\u001b[0m\u001b[0mxpath\u001b[0m\u001b[1;33m)\u001b[0m\u001b[1;33m\u001b[0m\u001b[1;33m\u001b[0m\u001b[0m\n\u001b[0m\u001b[0;32m    522\u001b[0m \u001b[1;33m\u001b[0m\u001b[0m\n\u001b[0;32m    523\u001b[0m     \u001b[1;32mdef\u001b[0m \u001b[0mfind_elements_by_xpath\u001b[0m\u001b[1;33m(\u001b[0m\u001b[0mself\u001b[0m\u001b[1;33m,\u001b[0m \u001b[0mxpath\u001b[0m\u001b[1;33m)\u001b[0m \u001b[1;33m->\u001b[0m \u001b[0mList\u001b[0m\u001b[1;33m[\u001b[0m\u001b[0mWebElement\u001b[0m\u001b[1;33m]\u001b[0m\u001b[1;33m:\u001b[0m\u001b[1;33m\u001b[0m\u001b[1;33m\u001b[0m\u001b[0m\n",
      "\u001b[1;32m~\\anaconda3\\envs\\nlp\\lib\\site-packages\\selenium\\webdriver\\remote\\webdriver.py\u001b[0m in \u001b[0;36mfind_element\u001b[1;34m(self, by, value)\u001b[0m\n\u001b[0;32m   1248\u001b[0m         return self.execute(Command.FIND_ELEMENT, {\n\u001b[0;32m   1249\u001b[0m             \u001b[1;34m'using'\u001b[0m\u001b[1;33m:\u001b[0m \u001b[0mby\u001b[0m\u001b[1;33m,\u001b[0m\u001b[1;33m\u001b[0m\u001b[1;33m\u001b[0m\u001b[0m\n\u001b[1;32m-> 1250\u001b[1;33m             'value': value})['value']\n\u001b[0m\u001b[0;32m   1251\u001b[0m \u001b[1;33m\u001b[0m\u001b[0m\n\u001b[0;32m   1252\u001b[0m     \u001b[1;32mdef\u001b[0m \u001b[0mfind_elements\u001b[0m\u001b[1;33m(\u001b[0m\u001b[0mself\u001b[0m\u001b[1;33m,\u001b[0m \u001b[0mby\u001b[0m\u001b[1;33m=\u001b[0m\u001b[0mBy\u001b[0m\u001b[1;33m.\u001b[0m\u001b[0mID\u001b[0m\u001b[1;33m,\u001b[0m \u001b[0mvalue\u001b[0m\u001b[1;33m=\u001b[0m\u001b[1;32mNone\u001b[0m\u001b[1;33m)\u001b[0m \u001b[1;33m->\u001b[0m \u001b[0mList\u001b[0m\u001b[1;33m[\u001b[0m\u001b[0mWebElement\u001b[0m\u001b[1;33m]\u001b[0m\u001b[1;33m:\u001b[0m\u001b[1;33m\u001b[0m\u001b[1;33m\u001b[0m\u001b[0m\n",
      "\u001b[1;32m~\\anaconda3\\envs\\nlp\\lib\\site-packages\\selenium\\webdriver\\remote\\webdriver.py\u001b[0m in \u001b[0;36mexecute\u001b[1;34m(self, driver_command, params)\u001b[0m\n\u001b[0;32m    423\u001b[0m         \u001b[0mresponse\u001b[0m \u001b[1;33m=\u001b[0m \u001b[0mself\u001b[0m\u001b[1;33m.\u001b[0m\u001b[0mcommand_executor\u001b[0m\u001b[1;33m.\u001b[0m\u001b[0mexecute\u001b[0m\u001b[1;33m(\u001b[0m\u001b[0mdriver_command\u001b[0m\u001b[1;33m,\u001b[0m \u001b[0mparams\u001b[0m\u001b[1;33m)\u001b[0m\u001b[1;33m\u001b[0m\u001b[1;33m\u001b[0m\u001b[0m\n\u001b[0;32m    424\u001b[0m         \u001b[1;32mif\u001b[0m \u001b[0mresponse\u001b[0m\u001b[1;33m:\u001b[0m\u001b[1;33m\u001b[0m\u001b[1;33m\u001b[0m\u001b[0m\n\u001b[1;32m--> 425\u001b[1;33m             \u001b[0mself\u001b[0m\u001b[1;33m.\u001b[0m\u001b[0merror_handler\u001b[0m\u001b[1;33m.\u001b[0m\u001b[0mcheck_response\u001b[0m\u001b[1;33m(\u001b[0m\u001b[0mresponse\u001b[0m\u001b[1;33m)\u001b[0m\u001b[1;33m\u001b[0m\u001b[1;33m\u001b[0m\u001b[0m\n\u001b[0m\u001b[0;32m    426\u001b[0m             response['value'] = self._unwrap_value(\n\u001b[0;32m    427\u001b[0m                 response.get('value', None))\n",
      "\u001b[1;32m~\\anaconda3\\envs\\nlp\\lib\\site-packages\\selenium\\webdriver\\remote\\errorhandler.py\u001b[0m in \u001b[0;36mcheck_response\u001b[1;34m(self, response)\u001b[0m\n\u001b[0;32m    245\u001b[0m                 \u001b[0malert_text\u001b[0m \u001b[1;33m=\u001b[0m \u001b[0mvalue\u001b[0m\u001b[1;33m[\u001b[0m\u001b[1;34m'alert'\u001b[0m\u001b[1;33m]\u001b[0m\u001b[1;33m.\u001b[0m\u001b[0mget\u001b[0m\u001b[1;33m(\u001b[0m\u001b[1;34m'text'\u001b[0m\u001b[1;33m)\u001b[0m\u001b[1;33m\u001b[0m\u001b[1;33m\u001b[0m\u001b[0m\n\u001b[0;32m    246\u001b[0m             \u001b[1;32mraise\u001b[0m \u001b[0mexception_class\u001b[0m\u001b[1;33m(\u001b[0m\u001b[0mmessage\u001b[0m\u001b[1;33m,\u001b[0m \u001b[0mscreen\u001b[0m\u001b[1;33m,\u001b[0m \u001b[0mstacktrace\u001b[0m\u001b[1;33m,\u001b[0m \u001b[0malert_text\u001b[0m\u001b[1;33m)\u001b[0m  \u001b[1;31m# type: ignore[call-arg]  # mypy is not smart enough here\u001b[0m\u001b[1;33m\u001b[0m\u001b[1;33m\u001b[0m\u001b[0m\n\u001b[1;32m--> 247\u001b[1;33m         \u001b[1;32mraise\u001b[0m \u001b[0mexception_class\u001b[0m\u001b[1;33m(\u001b[0m\u001b[0mmessage\u001b[0m\u001b[1;33m,\u001b[0m \u001b[0mscreen\u001b[0m\u001b[1;33m,\u001b[0m \u001b[0mstacktrace\u001b[0m\u001b[1;33m)\u001b[0m\u001b[1;33m\u001b[0m\u001b[1;33m\u001b[0m\u001b[0m\n\u001b[0m\u001b[0;32m    248\u001b[0m \u001b[1;33m\u001b[0m\u001b[0m\n\u001b[0;32m    249\u001b[0m     \u001b[1;32mdef\u001b[0m \u001b[0m_value_or_default\u001b[0m\u001b[1;33m(\u001b[0m\u001b[0mself\u001b[0m\u001b[1;33m,\u001b[0m \u001b[0mobj\u001b[0m\u001b[1;33m:\u001b[0m \u001b[0mMapping\u001b[0m\u001b[1;33m[\u001b[0m\u001b[0m_KT\u001b[0m\u001b[1;33m,\u001b[0m \u001b[0m_VT\u001b[0m\u001b[1;33m]\u001b[0m\u001b[1;33m,\u001b[0m \u001b[0mkey\u001b[0m\u001b[1;33m:\u001b[0m \u001b[0m_KT\u001b[0m\u001b[1;33m,\u001b[0m \u001b[0mdefault\u001b[0m\u001b[1;33m:\u001b[0m \u001b[0m_VT\u001b[0m\u001b[1;33m)\u001b[0m \u001b[1;33m->\u001b[0m \u001b[0m_VT\u001b[0m\u001b[1;33m:\u001b[0m\u001b[1;33m\u001b[0m\u001b[1;33m\u001b[0m\u001b[0m\n",
      "\u001b[1;31mNoSuchElementException\u001b[0m: Message: no such element: Unable to locate element: {\"method\":\"xpath\",\"selector\":\"/html/body/div[1]/div/div[1]/section/section/div/div/div/ul/div[25]/div[2]\"}\n  (Session info: chrome=100.0.4896.88)\nStacktrace:\nBacktrace:\n\tOrdinal0 [0x01229943+2595139]\n\tOrdinal0 [0x011BC9F1+2148849]\n\tOrdinal0 [0x010B4528+1066280]\n\tOrdinal0 [0x010E0FD4+1249236]\n\tOrdinal0 [0x010E11CB+1249739]\n\tOrdinal0 [0x0110D812+1431570]\n\tOrdinal0 [0x010FBA34+1358388]\n\tOrdinal0 [0x0110BAF2+1424114]\n\tOrdinal0 [0x010FB806+1357830]\n\tOrdinal0 [0x010D6086+1204358]\n\tOrdinal0 [0x010D6F96+1208214]\n\tGetHandleVerifier [0x013CB232+1658114]\n\tGetHandleVerifier [0x0148312C+2411516]\n\tGetHandleVerifier [0x012BF261+560433]\n\tGetHandleVerifier [0x012BE366+556598]\n\tOrdinal0 [0x011C286B+2173035]\n\tOrdinal0 [0x011C75F8+2192888]\n\tOrdinal0 [0x011C76E5+2193125]\n\tOrdinal0 [0x011D11FC+2232828]\n\tBaseThreadInitThunk [0x76F3FA29+25]\n\tRtlGetAppContainerNamedObjectPath [0x77607A7E+286]\n\tRtlGetAppContainerNamedObjectPath [0x77607A4E+238]\n"
     ]
    }
   ],
   "source": [
    "review_lst = []\n",
    "for i in range(1,70):\n",
    "    review = driver.find_element_by_xpath(f'/html/body/div[1]/div/div[1]/section/section/div/div/div/ul/div[{i}]/div[2]').text\n",
    "    if review == '스포일러가 있어요!! 보기':\n",
    "        rev_url = driver.find_element_by_xpath(f'/html/body/div/div/div[1]/section/section/div/div/div/ul/div[{i}]/div[2]/a').get_attribute('href')\n",
    "        driver.get(rev_url)\n",
    "\n",
    "        time.sleep(1)\n",
    "        driver.find_element_by_xpath('/html/body/div/div/div[2]/div/div/div/button').click()\n",
    "        driver.find_element_by_xpath('/html/body/div/div/div[1]/section/div/section/section/div/div/section[1]/div[2]/span/button').click()\n",
    "\n",
    "        review = driver.find_element_by_xpath('/html/body/div/div/div[1]/section/div/section/section/div/div/section[1]/div[2]/div/span').text\n",
    "        driver.back()\n",
    "    review_lst.append(review)"
   ]
  },
  {
   "cell_type": "code",
   "execution_count": 63,
   "id": "07c50dd6",
   "metadata": {},
   "outputs": [
    {
     "data": {
      "text/plain": [
       "(69,\n",
       " '내 스타일 아닌데 킹받는 맛이 쏠쏠하대서 보기 시작\\n비비고, 굽네가 캐스팅부터 스토리까지 PPL 잘했네\\n\\n12화\\n결국 해피 엔딩, 기승전은 덜 뻔했는데 결말이 뻔하네\\n\\n11화\\n여기부터 급마무리 느낌이 나는데.. 특히 서브 커플\\n\\n10화\\n하리가 오버한 게 비 트라우마 없애 주려던 거구나\\n태무 눈 똥그란게 볼수록 어쩔 수 없이 좀 귀엽네\\n\\n9화\\n계차장 진짜 미쳤나봨ㅋㅋㅋ폭탄주씬 개터졌네\\n혜지도 취한 연기 일품이다 배꼽 잡고 웃었다\\n나만 그런가 강태무보다 차성훈이 신경 쓰임\\n\\n8화\\n이제는 안효섭 정극톤이 안 들리면 서운할 기세\\n신하리 체육대회씬에 질투에 무맥락 급전개..\\n\\n7화\\n안효섭 손 귀 눈 저렇게 두면 터지는 거 아님..?\\n진심 이번 화 오글과 스킨십의 정점이다\\n뻔한 연기를 뻔하지 않게 하는 김세정 대박이다\\n\\n6화\\n몰카범은 죽어도 싸지만 일반인 취조는 제법 웃겨\\n강태무가 신하리한테 급발진하는 것도 웃겨\\n상사가 부하 저렇게 불러내면 직장 내 괴롭힘인데\\n강태무x신하리니까 귀염 뽀짝해서 참고 본다\\n메인&서브커플 스킨십이 여기부터 시작되네\\n\\n5화\\n드디어 신금희 신하리가 동일인물인 걸 안다\\n가발 화장으로 못 알아보는 게 아내의 유혹급\\n굳세어라 금희야랑 오버랩되는 것도 개웃겨\\n취한 신하리 사랑스러워.. 연기 점점 잘해..\\n\\n4화\\n슬슬 오글오글 간질간질 연애 스토리 시작\\n민우 똥차 스멜 나는데 짝사랑 그만하자..\\n\\n3화\\n안효섭은 정장보다 사복에 덮머가 더 귀엽고\\n김세정은 중단발에 옅은 화장이 더 귀엽다\\n\\n2화\\n정신 차려보니 2화네.. 역시 아는 맛이 무서운 맛\\n이덕화 할배도 클리셰 레전드답게 촥촥 붙는 맛\\n이름도 강다구가 뭔데..ㅋㅋㅋ\\n\\n1화\\n웹툰과 교차 편집한 거나 4Dst 편집한거 좀 신선하다.\\n안효섭 발성 좀 거부감 들긴 하네.. 그래도 남주 여주 조연들 비주얼 연기 다 괜찮다. 세정씨 진짜 도라이였네..\\n세정이 친구는 망칠 선에 왜 이렇게 공을 들이냐..ㅋㅋ\\n메인 커플, 서브 커플 둘 다 귀여워서 인기가 많구나')"
      ]
     },
     "execution_count": 63,
     "metadata": {},
     "output_type": "execute_result"
    }
   ],
   "source": [
    "len(review_lst), review_lst[54]"
   ]
  },
  {
   "cell_type": "code",
   "execution_count": 13,
   "id": "0467dec6",
   "metadata": {},
   "outputs": [],
   "source": [
    "#scroll\n",
    "last_height = driver.execute_script(\"return document.documentElement.scrollHeight\")\n",
    "while True:\n",
    "    new_height = scroll_down(2)\n",
    "    if new_height == last_height:\n",
    "        new_height = scroll_down(2)\n",
    "        if new_height == last_height:\n",
    "            break\n",
    "    last_height = new_height"
   ]
  },
  {
   "cell_type": "code",
   "execution_count": null,
   "id": "9e7e1744",
   "metadata": {},
   "outputs": [],
   "source": [
    "#팝업닫기\n",
    "driver.find_element_by_xpath('/html/body/div/div/div[2]/div/div/div/button').click()\n",
    "\n",
    "for i in range(1,30):\n",
    "    if i%4 == 0:\n",
    "        driver.find_element_by_xpath(f'/html/body/div/div/div[1]/section/div/section/div[1]/div[2]/div/div[1]/div/div/ul/li[{i}]').click()        \n",
    "        time.sleep(3)\n",
    "        driver.back()\n",
    "        time.sleep(5)\n",
    "        #next버튼\n",
    "        driver.find_element_by_xpath('/html/body/div[1]/div/div[1]/section/div/section/div[1]/div[2]/div/div[5]/div/img').click()\n",
    "        time.sleep(5)\n",
    "    else:\n",
    "        driver.find_element_by_xpath(f'/html/body/div/div/div[1]/section/div/section/div[1]/div[2]/div/div[1]/div/div/ul/li[{i}]').click()\n",
    "        time.sleep(3)\n",
    "        driver.back()\n",
    "        time.sleep(3)\n"
   ]
  },
  {
   "cell_type": "markdown",
   "id": "30555c3c",
   "metadata": {},
   "source": [
    "# 한국 TV 프로그램 인기 순위 (이전)"
   ]
  },
  {
   "cell_type": "code",
   "execution_count": 7,
   "id": "61f7f4e0",
   "metadata": {
    "ExecuteTime": {
     "start_time": "2022-04-14T00:31:44.279Z"
    },
    "scrolled": true
   },
   "outputs": [],
   "source": [
    "driver = webdriver.Chrome(chrome_driver_path, options=options)\n",
    "pedia = 'https://pedia.watcha.com/ko-KR/?domain=tv'\n",
    "driver.get(pedia)\n",
    "time.sleep(1)\n",
    "\n",
    "dramas_title = []\n",
    "dramas_url = []\n",
    "for i in range(1,21):\n",
    "    li = driver.find_element_by_xpath(f'/html/body/div/div/div[1]/section/div/section/div[1]/div[2]/div/div[1]/div/div/ul/li[{i}]/a')\n",
    "    title = li.get_attribute('title')\n",
    "    href = li.get_attribute('href')\n",
    "    dramas_title.append(title)\n",
    "    dramas_url.append(href)\n",
    "\n",
    "content_dic = {'title' : [], 'user' : [], 'review' : []}\n",
    "for i, url in enumerate(dramas_url):\n",
    "    driver.get(url + str('/comments'))\n",
    "    time.sleep(2)\n",
    "    \n",
    "    #스크롤 끝까지 내리기\n",
    "    last_height = driver.execute_script(\"return document.documentElement.scrollHeight\")\n",
    "    while True:\n",
    "        new_height = scroll_down(2)\n",
    "        if new_height == last_height:\n",
    "            new_height = scroll_down(2)\n",
    "            if new_height == last_height:\n",
    "                break\n",
    "        last_height = new_height\n",
    "    \n",
    "    for j in range(1,2000):\n",
    "        try:\n",
    "            review_info = driver.find_element_by_xpath(f'/html/body/div/div/div[1]/section/section/div/div/div/ul/div[{j}]/div[2]/a')\n",
    "            review_info = review_info.get_attribute('href')\n",
    "            driver.execute_script('window.open(\"\");')\n",
    "            driver.switch_to.window(driver.window_handles[-1]) #새 창으로 옮기기\n",
    "            driver.get(review_info)\n",
    "            time.sleep(1)\n",
    "\n",
    "            user_name = driver.find_element_by_xpath('/html/body/div/div/div[1]/section/div/section/section/div/div/section[1]/div[1]/div/a[1]/div[2]/div[1]')\n",
    "            review = driver.find_element_by_xpath('/html/body/div/div/div[1]/section/div/section/section/div/div/section[1]/div[2]/div/span')\n",
    "            content_dic['title'].append(dramas_title[i])\n",
    "            content_dic['user'].append(user_name.text)\n",
    "            content_dic['review'].append(review.text)\n",
    "            driver.close()\n",
    "\n",
    "            driver.switch_to.window(driver.window_handles[-1])\n",
    "        except:\n",
    "            break\n",
    "print(content_dic)"
   ]
  },
  {
   "cell_type": "code",
   "execution_count": null,
   "id": "4488592b",
   "metadata": {},
   "outputs": [],
   "source": []
  }
 ],
 "metadata": {
  "interpreter": {
   "hash": "0cda97531fe4f90feb5400ce5a42dd75b477a35138cbbcd6ccbf95ef906c2915"
  },
  "kernelspec": {
   "display_name": "nlp",
   "language": "python",
   "name": "nlp"
  },
  "language_info": {
   "codemirror_mode": {
    "name": "ipython",
    "version": 3
   },
   "file_extension": ".py",
   "mimetype": "text/x-python",
   "name": "python",
   "nbconvert_exporter": "python",
   "pygments_lexer": "ipython3",
   "version": "3.7.11"
  },
  "toc": {
   "base_numbering": 1,
   "nav_menu": {},
   "number_sections": true,
   "sideBar": true,
   "skip_h1_title": false,
   "title_cell": "Table of Contents",
   "title_sidebar": "Contents",
   "toc_cell": false,
   "toc_position": {},
   "toc_section_display": true,
   "toc_window_display": false
  }
 },
 "nbformat": 4,
 "nbformat_minor": 5
}
