{
 "cells": [
  {
   "cell_type": "code",
   "execution_count": 1,
   "metadata": {
    "ExecuteTime": {
     "end_time": "2022-04-25T07:48:03.273590Z",
     "start_time": "2022-04-25T07:48:03.134182Z"
    },
    "id": "ZArkE05KV6cs"
   },
   "outputs": [],
   "source": [
    "import pandas as pd\n",
    "import numpy as np\n",
    "import re"
   ]
  },
  {
   "cell_type": "code",
   "execution_count": 2,
   "metadata": {
    "ExecuteTime": {
     "end_time": "2022-04-25T07:48:59.298290Z",
     "start_time": "2022-04-25T07:48:58.973550Z"
    },
    "id": "SEcLzMYIWAgw"
   },
   "outputs": [],
   "source": [
    "df = pd.read_csv('/Users/suchan/study/파이널 프로젝트/contents_Watcha.csv')"
   ]
  },
  {
   "cell_type": "code",
   "execution_count": 3,
   "metadata": {
    "ExecuteTime": {
     "end_time": "2022-04-25T07:49:00.981791Z",
     "start_time": "2022-04-25T07:49:00.969053Z"
    },
    "id": "NHlcrmtJWDuL"
   },
   "outputs": [],
   "source": [
    "df.drop(['Unnamed: 0'],inplace=True, axis=1)"
   ]
  },
  {
   "cell_type": "code",
   "execution_count": 4,
   "metadata": {
    "ExecuteTime": {
     "end_time": "2022-04-25T07:49:01.234923Z",
     "start_time": "2022-04-25T07:49:01.228516Z"
    },
    "id": "co-gJeLMWlZy"
   },
   "outputs": [],
   "source": [
    "titles = df['title']"
   ]
  },
  {
   "cell_type": "code",
   "execution_count": 5,
   "metadata": {
    "ExecuteTime": {
     "end_time": "2022-04-25T07:49:01.567095Z",
     "start_time": "2022-04-25T07:49:01.542429Z"
    },
    "colab": {
     "base_uri": "https://localhost:8080/",
     "height": 424
    },
    "executionInfo": {
     "elapsed": 519,
     "status": "ok",
     "timestamp": 1650800650571,
     "user": {
      "displayName": "한창훈",
      "userId": "15462280161729540268"
     },
     "user_tz": -540
    },
    "id": "XMu88BTOWoAW",
    "outputId": "8ad733d9-f022-499e-df7b-5c52242590d3"
   },
   "outputs": [
    {
     "data": {
      "text/html": [
       "<div>\n",
       "<style scoped>\n",
       "    .dataframe tbody tr th:only-of-type {\n",
       "        vertical-align: middle;\n",
       "    }\n",
       "\n",
       "    .dataframe tbody tr th {\n",
       "        vertical-align: top;\n",
       "    }\n",
       "\n",
       "    .dataframe thead th {\n",
       "        text-align: right;\n",
       "    }\n",
       "</style>\n",
       "<table border=\"1\" class=\"dataframe\">\n",
       "  <thead>\n",
       "    <tr style=\"text-align: right;\">\n",
       "      <th></th>\n",
       "      <th>title</th>\n",
       "      <th>reviews</th>\n",
       "    </tr>\n",
       "  </thead>\n",
       "  <tbody>\n",
       "    <tr>\n",
       "      <th>0</th>\n",
       "      <td>우리들의 블루스</td>\n",
       "      <td>이 화려한 캐스팅 라인업을 보고 안 볼수가 있나.. ㄷㄷㄷ 게다가 노희경 극본..ㄷ...</td>\n",
       "    </tr>\n",
       "    <tr>\n",
       "      <th>1</th>\n",
       "      <td>우리들의 블루스</td>\n",
       "      <td>침묵의 순간들이 더욱 처연하게 빛나는, 노희경 극본의 또 다른 경지.</td>\n",
       "    </tr>\n",
       "    <tr>\n",
       "      <th>2</th>\n",
       "      <td>우리들의 블루스</td>\n",
       "      <td>세상에..노희경 작가와 이 배우들이라면 어떤 스토리가 됐든 꼭 보고싶다..</td>\n",
       "    </tr>\n",
       "    <tr>\n",
       "      <th>3</th>\n",
       "      <td>우리들의 블루스</td>\n",
       "      <td>하 진짜 좋아하는 배우 전부 다 나오네…\\n.\\n한수의 위험한 생각이 뭔지 알 것 ...</td>\n",
       "    </tr>\n",
       "    <tr>\n",
       "      <th>4</th>\n",
       "      <td>우리들의 블루스</td>\n",
       "      <td>사람 사는 거 특별할 거 없다지만, 저마다의 사정을 찬찬히 듣노라면 그것만큼 재미난...</td>\n",
       "    </tr>\n",
       "    <tr>\n",
       "      <th>...</th>\n",
       "      <td>...</td>\n",
       "      <td>...</td>\n",
       "    </tr>\n",
       "    <tr>\n",
       "      <th>91244</th>\n",
       "      <td>대리인간</td>\n",
       "      <td>주인공이 너무 멍청해도 멍청한거 아닌가....\\n싶다가 음?!</td>\n",
       "    </tr>\n",
       "    <tr>\n",
       "      <th>91245</th>\n",
       "      <td>대리인간</td>\n",
       "      <td>참신하고 두려운 신박한 이야기\\n\\n첫 시작을 안정적으로 알린 신인작가에게 박수를\\...</td>\n",
       "    </tr>\n",
       "    <tr>\n",
       "      <th>91246</th>\n",
       "      <td>대리인간</td>\n",
       "      <td>찝찝하다.\\n뭐가 진짜인지 알 수 없는 세상.\\n대리인간도 감정이 있는 인간인지라....</td>\n",
       "    </tr>\n",
       "    <tr>\n",
       "      <th>91247</th>\n",
       "      <td>대리인간</td>\n",
       "      <td>그냥 딱 그쯤\\n공승연 연기 짱</td>\n",
       "    </tr>\n",
       "    <tr>\n",
       "      <th>91248</th>\n",
       "      <td>대리인간</td>\n",
       "      <td>소재는 신선하다 생각했다\\n중간에 도달았을때 앞으로의 스토리는 예상이 가는...</td>\n",
       "    </tr>\n",
       "  </tbody>\n",
       "</table>\n",
       "<p>91249 rows × 2 columns</p>\n",
       "</div>"
      ],
      "text/plain": [
       "          title                                            reviews\n",
       "0      우리들의 블루스  이 화려한 캐스팅 라인업을 보고 안 볼수가 있나.. ㄷㄷㄷ 게다가 노희경 극본..ㄷ...\n",
       "1      우리들의 블루스             침묵의 순간들이 더욱 처연하게 빛나는, 노희경 극본의 또 다른 경지.\n",
       "2      우리들의 블루스          세상에..노희경 작가와 이 배우들이라면 어떤 스토리가 됐든 꼭 보고싶다..\n",
       "3      우리들의 블루스  하 진짜 좋아하는 배우 전부 다 나오네…\\n.\\n한수의 위험한 생각이 뭔지 알 것 ...\n",
       "4      우리들의 블루스  사람 사는 거 특별할 거 없다지만, 저마다의 사정을 찬찬히 듣노라면 그것만큼 재미난...\n",
       "...         ...                                                ...\n",
       "91244      대리인간                 주인공이 너무 멍청해도 멍청한거 아닌가....\\n싶다가 음?!\n",
       "91245      대리인간  참신하고 두려운 신박한 이야기\\n\\n첫 시작을 안정적으로 알린 신인작가에게 박수를\\...\n",
       "91246      대리인간  찝찝하다.\\n뭐가 진짜인지 알 수 없는 세상.\\n대리인간도 감정이 있는 인간인지라....\n",
       "91247      대리인간                                  그냥 딱 그쯤\\n공승연 연기 짱\n",
       "91248      대리인간       소재는 신선하다 생각했다\\n중간에 도달았을때 앞으로의 스토리는 예상이 가는...\n",
       "\n",
       "[91249 rows x 2 columns]"
      ]
     },
     "execution_count": 5,
     "metadata": {},
     "output_type": "execute_result"
    }
   ],
   "source": [
    "df"
   ]
  },
  {
   "cell_type": "code",
   "execution_count": 6,
   "metadata": {
    "ExecuteTime": {
     "end_time": "2022-04-25T07:49:04.750471Z",
     "start_time": "2022-04-25T07:49:04.740840Z"
    },
    "id": "uGyrYeKZWpad"
   },
   "outputs": [],
   "source": [
    "def clean_text(text):\n",
    "    text = text.replace(\".\", \"\").strip()\n",
    "    text = text.replace(\"·\", \" \").strip()\n",
    "    pattern = '[^ ㄱ-ㅣ가-힣|]+'\n",
    "    text = re.sub(pattern, '', text)\n",
    "    text = ' '.join(text.split())\n",
    "    text = re.compile('[|ㄱ-ㅎ|ㅏ-ㅣ]+').sub('',text)\n",
    "    return text"
   ]
  },
  {
   "cell_type": "code",
   "execution_count": 7,
   "metadata": {
    "ExecuteTime": {
     "end_time": "2022-04-25T07:49:05.521579Z",
     "start_time": "2022-04-25T07:49:05.004178Z"
    },
    "colab": {
     "base_uri": "https://localhost:8080/"
    },
    "executionInfo": {
     "elapsed": 1050,
     "status": "ok",
     "timestamp": 1650800294731,
     "user": {
      "displayName": "한창훈",
      "userId": "15462280161729540268"
     },
     "user_tz": -540
    },
    "id": "AOZgnkpLWvU8",
    "outputId": "9a576eb7-493d-4151-c114-eabb5f919de3"
   },
   "outputs": [
    {
     "data": {
      "text/plain": [
       "91249"
      ]
     },
     "execution_count": 7,
     "metadata": {},
     "output_type": "execute_result"
    }
   ],
   "source": [
    "df_reviews = df['reviews'].to_list()\n",
    "\n",
    "li = []\n",
    "for i in df_reviews:\n",
    "    li.append(clean_text(i))\n",
    "\n",
    "len(li)"
   ]
  },
  {
   "cell_type": "code",
   "execution_count": 8,
   "metadata": {
    "ExecuteTime": {
     "end_time": "2022-04-25T07:49:05.749275Z",
     "start_time": "2022-04-25T07:49:05.741625Z"
    },
    "colab": {
     "base_uri": "https://localhost:8080/",
     "height": 424
    },
    "executionInfo": {
     "elapsed": 443,
     "status": "ok",
     "timestamp": 1650800299780,
     "user": {
      "displayName": "한창훈",
      "userId": "15462280161729540268"
     },
     "user_tz": -540
    },
    "id": "AoaNgY76Ww4d",
    "outputId": "a8b06e93-7dbe-43a2-8941-d9fd21ee7f22"
   },
   "outputs": [
    {
     "data": {
      "text/html": [
       "<div>\n",
       "<style scoped>\n",
       "    .dataframe tbody tr th:only-of-type {\n",
       "        vertical-align: middle;\n",
       "    }\n",
       "\n",
       "    .dataframe tbody tr th {\n",
       "        vertical-align: top;\n",
       "    }\n",
       "\n",
       "    .dataframe thead th {\n",
       "        text-align: right;\n",
       "    }\n",
       "</style>\n",
       "<table border=\"1\" class=\"dataframe\">\n",
       "  <thead>\n",
       "    <tr style=\"text-align: right;\">\n",
       "      <th></th>\n",
       "      <th>reviews</th>\n",
       "    </tr>\n",
       "  </thead>\n",
       "  <tbody>\n",
       "    <tr>\n",
       "      <th>0</th>\n",
       "      <td>이 화려한 캐스팅 라인업을 보고 안 볼수가 있나  게다가 노희경 극본바로 이거지 눈...</td>\n",
       "    </tr>\n",
       "    <tr>\n",
       "      <th>1</th>\n",
       "      <td>침묵의 순간들이 더욱 처연하게 빛나는 노희경 극본의 또 다른 경지</td>\n",
       "    </tr>\n",
       "    <tr>\n",
       "      <th>2</th>\n",
       "      <td>세상에노희경 작가와 이 배우들이라면 어떤 스토리가 됐든 꼭 보고싶다</td>\n",
       "    </tr>\n",
       "    <tr>\n",
       "      <th>3</th>\n",
       "      <td>하 진짜 좋아하는 배우 전부 다 나오네한수의 위험한 생각이 뭔지 알 것 같아서 고통스럽다</td>\n",
       "    </tr>\n",
       "    <tr>\n",
       "      <th>4</th>\n",
       "      <td>사람 사는 거 특별할 거 없다지만 저마다의 사정을 찬찬히 듣노라면 그것만큼 재미난 ...</td>\n",
       "    </tr>\n",
       "    <tr>\n",
       "      <th>...</th>\n",
       "      <td>...</td>\n",
       "    </tr>\n",
       "    <tr>\n",
       "      <th>91244</th>\n",
       "      <td>주인공이 너무 멍청해도 멍청한거 아닌가싶다가 음</td>\n",
       "    </tr>\n",
       "    <tr>\n",
       "      <th>91245</th>\n",
       "      <td>참신하고 두려운 신박한 이야기첫 시작을 안정적으로 알린 신인작가에게 박수를공승연과 ...</td>\n",
       "    </tr>\n",
       "    <tr>\n",
       "      <th>91246</th>\n",
       "      <td>찝찝하다뭐가 진짜인지 알 수 없는 세상대리인간도 감정이 있는 인간인지라공승연이 잘 ...</td>\n",
       "    </tr>\n",
       "    <tr>\n",
       "      <th>91247</th>\n",
       "      <td>그냥 딱 그쯤공승연 연기 짱</td>\n",
       "    </tr>\n",
       "    <tr>\n",
       "      <th>91248</th>\n",
       "      <td>소재는 신선하다 생각했다중간에 도달았을때 앞으로의 스토리는 예상이 가는</td>\n",
       "    </tr>\n",
       "  </tbody>\n",
       "</table>\n",
       "<p>91249 rows × 1 columns</p>\n",
       "</div>"
      ],
      "text/plain": [
       "                                                 reviews\n",
       "0      이 화려한 캐스팅 라인업을 보고 안 볼수가 있나  게다가 노희경 극본바로 이거지 눈...\n",
       "1                   침묵의 순간들이 더욱 처연하게 빛나는 노희경 극본의 또 다른 경지\n",
       "2                  세상에노희경 작가와 이 배우들이라면 어떤 스토리가 됐든 꼭 보고싶다\n",
       "3      하 진짜 좋아하는 배우 전부 다 나오네한수의 위험한 생각이 뭔지 알 것 같아서 고통스럽다\n",
       "4      사람 사는 거 특별할 거 없다지만 저마다의 사정을 찬찬히 듣노라면 그것만큼 재미난 ...\n",
       "...                                                  ...\n",
       "91244                         주인공이 너무 멍청해도 멍청한거 아닌가싶다가 음\n",
       "91245  참신하고 두려운 신박한 이야기첫 시작을 안정적으로 알린 신인작가에게 박수를공승연과 ...\n",
       "91246  찝찝하다뭐가 진짜인지 알 수 없는 세상대리인간도 감정이 있는 인간인지라공승연이 잘 ...\n",
       "91247                                    그냥 딱 그쯤공승연 연기 짱\n",
       "91248            소재는 신선하다 생각했다중간에 도달았을때 앞으로의 스토리는 예상이 가는\n",
       "\n",
       "[91249 rows x 1 columns]"
      ]
     },
     "execution_count": 8,
     "metadata": {},
     "output_type": "execute_result"
    }
   ],
   "source": [
    "li_frame = pd.DataFrame(li, columns=['reviews'])\n",
    "li_frame"
   ]
  },
  {
   "cell_type": "code",
   "execution_count": 9,
   "metadata": {
    "ExecuteTime": {
     "end_time": "2022-04-25T07:49:05.976116Z",
     "start_time": "2022-04-25T07:49:05.971155Z"
    },
    "id": "o5lGAx6QW4x0"
   },
   "outputs": [],
   "source": [
    "samples = pd.Series(li)"
   ]
  },
  {
   "cell_type": "code",
   "execution_count": 10,
   "metadata": {
    "ExecuteTime": {
     "end_time": "2022-04-25T07:49:06.221337Z",
     "start_time": "2022-04-25T07:49:06.203328Z"
    },
    "id": "ZaagFRnkW9i2"
   },
   "outputs": [],
   "source": [
    "df_length = samples.apply(len)\n",
    "li_frame['lens'] = df_length"
   ]
  },
  {
   "cell_type": "code",
   "execution_count": 11,
   "metadata": {
    "ExecuteTime": {
     "end_time": "2022-04-25T07:49:06.447793Z",
     "start_time": "2022-04-25T07:49:06.444241Z"
    },
    "colab": {
     "base_uri": "https://localhost:8080/",
     "height": 424
    },
    "executionInfo": {
     "elapsed": 443,
     "status": "ok",
     "timestamp": 1650800312316,
     "user": {
      "displayName": "한창훈",
      "userId": "15462280161729540268"
     },
     "user_tz": -540
    },
    "id": "Zs_yxJpsW_kR",
    "outputId": "f56cb396-f083-40b3-9246-7b4ae19a253f"
   },
   "outputs": [
    {
     "data": {
      "text/html": [
       "<div>\n",
       "<style scoped>\n",
       "    .dataframe tbody tr th:only-of-type {\n",
       "        vertical-align: middle;\n",
       "    }\n",
       "\n",
       "    .dataframe tbody tr th {\n",
       "        vertical-align: top;\n",
       "    }\n",
       "\n",
       "    .dataframe thead th {\n",
       "        text-align: right;\n",
       "    }\n",
       "</style>\n",
       "<table border=\"1\" class=\"dataframe\">\n",
       "  <thead>\n",
       "    <tr style=\"text-align: right;\">\n",
       "      <th></th>\n",
       "      <th>reviews</th>\n",
       "      <th>lens</th>\n",
       "    </tr>\n",
       "  </thead>\n",
       "  <tbody>\n",
       "    <tr>\n",
       "      <th>0</th>\n",
       "      <td>이 화려한 캐스팅 라인업을 보고 안 볼수가 있나  게다가 노희경 극본바로 이거지 눈...</td>\n",
       "      <td>81</td>\n",
       "    </tr>\n",
       "    <tr>\n",
       "      <th>1</th>\n",
       "      <td>침묵의 순간들이 더욱 처연하게 빛나는 노희경 극본의 또 다른 경지</td>\n",
       "      <td>36</td>\n",
       "    </tr>\n",
       "    <tr>\n",
       "      <th>2</th>\n",
       "      <td>세상에노희경 작가와 이 배우들이라면 어떤 스토리가 됐든 꼭 보고싶다</td>\n",
       "      <td>37</td>\n",
       "    </tr>\n",
       "    <tr>\n",
       "      <th>3</th>\n",
       "      <td>하 진짜 좋아하는 배우 전부 다 나오네한수의 위험한 생각이 뭔지 알 것 같아서 고통스럽다</td>\n",
       "      <td>49</td>\n",
       "    </tr>\n",
       "    <tr>\n",
       "      <th>4</th>\n",
       "      <td>사람 사는 거 특별할 거 없다지만 저마다의 사정을 찬찬히 듣노라면 그것만큼 재미난 ...</td>\n",
       "      <td>51</td>\n",
       "    </tr>\n",
       "    <tr>\n",
       "      <th>...</th>\n",
       "      <td>...</td>\n",
       "      <td>...</td>\n",
       "    </tr>\n",
       "    <tr>\n",
       "      <th>91244</th>\n",
       "      <td>주인공이 너무 멍청해도 멍청한거 아닌가싶다가 음</td>\n",
       "      <td>26</td>\n",
       "    </tr>\n",
       "    <tr>\n",
       "      <th>91245</th>\n",
       "      <td>참신하고 두려운 신박한 이야기첫 시작을 안정적으로 알린 신인작가에게 박수를공승연과 ...</td>\n",
       "      <td>54</td>\n",
       "    </tr>\n",
       "    <tr>\n",
       "      <th>91246</th>\n",
       "      <td>찝찝하다뭐가 진짜인지 알 수 없는 세상대리인간도 감정이 있는 인간인지라공승연이 잘 ...</td>\n",
       "      <td>75</td>\n",
       "    </tr>\n",
       "    <tr>\n",
       "      <th>91247</th>\n",
       "      <td>그냥 딱 그쯤공승연 연기 짱</td>\n",
       "      <td>15</td>\n",
       "    </tr>\n",
       "    <tr>\n",
       "      <th>91248</th>\n",
       "      <td>소재는 신선하다 생각했다중간에 도달았을때 앞으로의 스토리는 예상이 가는</td>\n",
       "      <td>39</td>\n",
       "    </tr>\n",
       "  </tbody>\n",
       "</table>\n",
       "<p>91249 rows × 2 columns</p>\n",
       "</div>"
      ],
      "text/plain": [
       "                                                 reviews  lens\n",
       "0      이 화려한 캐스팅 라인업을 보고 안 볼수가 있나  게다가 노희경 극본바로 이거지 눈...    81\n",
       "1                   침묵의 순간들이 더욱 처연하게 빛나는 노희경 극본의 또 다른 경지    36\n",
       "2                  세상에노희경 작가와 이 배우들이라면 어떤 스토리가 됐든 꼭 보고싶다    37\n",
       "3      하 진짜 좋아하는 배우 전부 다 나오네한수의 위험한 생각이 뭔지 알 것 같아서 고통스럽다    49\n",
       "4      사람 사는 거 특별할 거 없다지만 저마다의 사정을 찬찬히 듣노라면 그것만큼 재미난 ...    51\n",
       "...                                                  ...   ...\n",
       "91244                         주인공이 너무 멍청해도 멍청한거 아닌가싶다가 음    26\n",
       "91245  참신하고 두려운 신박한 이야기첫 시작을 안정적으로 알린 신인작가에게 박수를공승연과 ...    54\n",
       "91246  찝찝하다뭐가 진짜인지 알 수 없는 세상대리인간도 감정이 있는 인간인지라공승연이 잘 ...    75\n",
       "91247                                    그냥 딱 그쯤공승연 연기 짱    15\n",
       "91248            소재는 신선하다 생각했다중간에 도달았을때 앞으로의 스토리는 예상이 가는    39\n",
       "\n",
       "[91249 rows x 2 columns]"
      ]
     },
     "execution_count": 11,
     "metadata": {},
     "output_type": "execute_result"
    }
   ],
   "source": [
    "li_frame"
   ]
  },
  {
   "cell_type": "code",
   "execution_count": 12,
   "metadata": {
    "ExecuteTime": {
     "end_time": "2022-04-25T07:49:06.681267Z",
     "start_time": "2022-04-25T07:49:06.673841Z"
    },
    "colab": {
     "base_uri": "https://localhost:8080/"
    },
    "executionInfo": {
     "elapsed": 437,
     "status": "ok",
     "timestamp": 1650802873056,
     "user": {
      "displayName": "한창훈",
      "userId": "15462280161729540268"
     },
     "user_tz": -540
    },
    "id": "jRHNKiCohGzf",
    "outputId": "afb4faf6-3bfa-45a1-912b-d0fc87944efc"
   },
   "outputs": [
    {
     "name": "stdout",
     "output_type": "stream",
     "text": [
      "리뷰 길이 최대값 : 9137\n",
      "리뷰 길이 최소값 : 0\n",
      "리뷰 길이 평균값 : 90.70\n",
      "리뷰 길이 표준편차 : 217.55\n",
      "리뷰 길이 중간값 : 38.0\n",
      "리뷰 길이 제1사분위 : 18.0\n",
      "리뷰 길이 제3사분위 : 88.0\n"
     ]
    }
   ],
   "source": [
    "print('리뷰 길이 최대값 : {}'.format(np.max(li_frame['lens'])))\n",
    "print('리뷰 길이 최소값 : {}'.format(np.min(li_frame['lens'])))\n",
    "print('리뷰 길이 평균값 : {:.2f}'.format(np.mean(li_frame['lens'])))\n",
    "print('리뷰 길이 표준편차 : {:.2f}'.format(np.std(li_frame['lens'])))\n",
    "print('리뷰 길이 중간값 : {}'.format(np.median(li_frame['lens'])))\n",
    "print('리뷰 길이 제1사분위 : {}'.format(np.percentile(li_frame['lens'], 25)))\n",
    "print('리뷰 길이 제3사분위 : {}'.format(np.percentile(li_frame['lens'], 75)))"
   ]
  },
  {
   "cell_type": "code",
   "execution_count": 13,
   "metadata": {
    "ExecuteTime": {
     "end_time": "2022-04-25T07:49:06.908137Z",
     "start_time": "2022-04-25T07:49:06.905580Z"
    },
    "id": "UX9C79byXA2E"
   },
   "outputs": [],
   "source": [
    "length = np.percentile(df_length, 25)"
   ]
  },
  {
   "cell_type": "code",
   "execution_count": 14,
   "metadata": {
    "ExecuteTime": {
     "end_time": "2022-04-25T07:49:07.398582Z",
     "start_time": "2022-04-25T07:49:07.137303Z"
    },
    "colab": {
     "base_uri": "https://localhost:8080/"
    },
    "executionInfo": {
     "elapsed": 1196,
     "status": "ok",
     "timestamp": 1650800354609,
     "user": {
      "displayName": "한창훈",
      "userId": "15462280161729540268"
     },
     "user_tz": -540
    },
    "id": "Gr8T7WcuXDsD",
    "outputId": "87a5e660-2a58-4412-d58f-23b0b6b1a6b3"
   },
   "outputs": [
    {
     "data": {
      "text/plain": [
       "91249"
      ]
     },
     "execution_count": 14,
     "metadata": {},
     "output_type": "execute_result"
    }
   ],
   "source": [
    "reviews= []\n",
    "for index, i in enumerate(df_length):\n",
    "    if i > length and i < 8000:\n",
    "        reviews.append(li_frame.reviews[index])\n",
    "    else:\n",
    "        reviews.append('Empty!!')\n",
    "len(reviews)"
   ]
  },
  {
   "cell_type": "code",
   "execution_count": 15,
   "metadata": {
    "ExecuteTime": {
     "end_time": "2022-04-25T07:49:07.702479Z",
     "start_time": "2022-04-25T07:49:07.693577Z"
    },
    "colab": {
     "base_uri": "https://localhost:8080/",
     "height": 424
    },
    "executionInfo": {
     "elapsed": 550,
     "status": "ok",
     "timestamp": 1650800365932,
     "user": {
      "displayName": "한창훈",
      "userId": "15462280161729540268"
     },
     "user_tz": -540
    },
    "id": "JYiiQjt2XJGN",
    "outputId": "c749f78d-a7c0-474a-8a84-60e2eaf0906a"
   },
   "outputs": [
    {
     "data": {
      "text/html": [
       "<div>\n",
       "<style scoped>\n",
       "    .dataframe tbody tr th:only-of-type {\n",
       "        vertical-align: middle;\n",
       "    }\n",
       "\n",
       "    .dataframe tbody tr th {\n",
       "        vertical-align: top;\n",
       "    }\n",
       "\n",
       "    .dataframe thead th {\n",
       "        text-align: right;\n",
       "    }\n",
       "</style>\n",
       "<table border=\"1\" class=\"dataframe\">\n",
       "  <thead>\n",
       "    <tr style=\"text-align: right;\">\n",
       "      <th></th>\n",
       "      <th>reviews</th>\n",
       "    </tr>\n",
       "  </thead>\n",
       "  <tbody>\n",
       "    <tr>\n",
       "      <th>0</th>\n",
       "      <td>이 화려한 캐스팅 라인업을 보고 안 볼수가 있나  게다가 노희경 극본바로 이거지 눈...</td>\n",
       "    </tr>\n",
       "    <tr>\n",
       "      <th>1</th>\n",
       "      <td>침묵의 순간들이 더욱 처연하게 빛나는 노희경 극본의 또 다른 경지</td>\n",
       "    </tr>\n",
       "    <tr>\n",
       "      <th>2</th>\n",
       "      <td>세상에노희경 작가와 이 배우들이라면 어떤 스토리가 됐든 꼭 보고싶다</td>\n",
       "    </tr>\n",
       "    <tr>\n",
       "      <th>3</th>\n",
       "      <td>하 진짜 좋아하는 배우 전부 다 나오네한수의 위험한 생각이 뭔지 알 것 같아서 고통스럽다</td>\n",
       "    </tr>\n",
       "    <tr>\n",
       "      <th>4</th>\n",
       "      <td>사람 사는 거 특별할 거 없다지만 저마다의 사정을 찬찬히 듣노라면 그것만큼 재미난 ...</td>\n",
       "    </tr>\n",
       "    <tr>\n",
       "      <th>...</th>\n",
       "      <td>...</td>\n",
       "    </tr>\n",
       "    <tr>\n",
       "      <th>91244</th>\n",
       "      <td>주인공이 너무 멍청해도 멍청한거 아닌가싶다가 음</td>\n",
       "    </tr>\n",
       "    <tr>\n",
       "      <th>91245</th>\n",
       "      <td>참신하고 두려운 신박한 이야기첫 시작을 안정적으로 알린 신인작가에게 박수를공승연과 ...</td>\n",
       "    </tr>\n",
       "    <tr>\n",
       "      <th>91246</th>\n",
       "      <td>찝찝하다뭐가 진짜인지 알 수 없는 세상대리인간도 감정이 있는 인간인지라공승연이 잘 ...</td>\n",
       "    </tr>\n",
       "    <tr>\n",
       "      <th>91247</th>\n",
       "      <td>Empty!!</td>\n",
       "    </tr>\n",
       "    <tr>\n",
       "      <th>91248</th>\n",
       "      <td>소재는 신선하다 생각했다중간에 도달았을때 앞으로의 스토리는 예상이 가는</td>\n",
       "    </tr>\n",
       "  </tbody>\n",
       "</table>\n",
       "<p>91249 rows × 1 columns</p>\n",
       "</div>"
      ],
      "text/plain": [
       "                                                 reviews\n",
       "0      이 화려한 캐스팅 라인업을 보고 안 볼수가 있나  게다가 노희경 극본바로 이거지 눈...\n",
       "1                   침묵의 순간들이 더욱 처연하게 빛나는 노희경 극본의 또 다른 경지\n",
       "2                  세상에노희경 작가와 이 배우들이라면 어떤 스토리가 됐든 꼭 보고싶다\n",
       "3      하 진짜 좋아하는 배우 전부 다 나오네한수의 위험한 생각이 뭔지 알 것 같아서 고통스럽다\n",
       "4      사람 사는 거 특별할 거 없다지만 저마다의 사정을 찬찬히 듣노라면 그것만큼 재미난 ...\n",
       "...                                                  ...\n",
       "91244                         주인공이 너무 멍청해도 멍청한거 아닌가싶다가 음\n",
       "91245  참신하고 두려운 신박한 이야기첫 시작을 안정적으로 알린 신인작가에게 박수를공승연과 ...\n",
       "91246  찝찝하다뭐가 진짜인지 알 수 없는 세상대리인간도 감정이 있는 인간인지라공승연이 잘 ...\n",
       "91247                                            Empty!!\n",
       "91248            소재는 신선하다 생각했다중간에 도달았을때 앞으로의 스토리는 예상이 가는\n",
       "\n",
       "[91249 rows x 1 columns]"
      ]
     },
     "execution_count": 15,
     "metadata": {},
     "output_type": "execute_result"
    }
   ],
   "source": [
    "watcha = pd.DataFrame(reviews, columns=['reviews'])\n",
    "watcha"
   ]
  },
  {
   "cell_type": "code",
   "execution_count": 16,
   "metadata": {
    "ExecuteTime": {
     "end_time": "2022-04-25T07:49:08.003031Z",
     "start_time": "2022-04-25T07:49:08.000845Z"
    },
    "id": "c8Rl9_x8XOAu"
   },
   "outputs": [],
   "source": [
    "watcha['title'] = titles"
   ]
  },
  {
   "cell_type": "code",
   "execution_count": 17,
   "metadata": {
    "ExecuteTime": {
     "end_time": "2022-04-25T07:49:08.306869Z",
     "start_time": "2022-04-25T07:49:08.302880Z"
    },
    "colab": {
     "base_uri": "https://localhost:8080/",
     "height": 424
    },
    "executionInfo": {
     "elapsed": 820,
     "status": "ok",
     "timestamp": 1650800444523,
     "user": {
      "displayName": "한창훈",
      "userId": "15462280161729540268"
     },
     "user_tz": -540
    },
    "id": "C_HaH7ynX437",
    "outputId": "5255104d-d112-47b5-abf6-802bd785af10"
   },
   "outputs": [
    {
     "data": {
      "text/html": [
       "<div>\n",
       "<style scoped>\n",
       "    .dataframe tbody tr th:only-of-type {\n",
       "        vertical-align: middle;\n",
       "    }\n",
       "\n",
       "    .dataframe tbody tr th {\n",
       "        vertical-align: top;\n",
       "    }\n",
       "\n",
       "    .dataframe thead th {\n",
       "        text-align: right;\n",
       "    }\n",
       "</style>\n",
       "<table border=\"1\" class=\"dataframe\">\n",
       "  <thead>\n",
       "    <tr style=\"text-align: right;\">\n",
       "      <th></th>\n",
       "      <th>reviews</th>\n",
       "      <th>title</th>\n",
       "    </tr>\n",
       "  </thead>\n",
       "  <tbody>\n",
       "    <tr>\n",
       "      <th>0</th>\n",
       "      <td>이 화려한 캐스팅 라인업을 보고 안 볼수가 있나  게다가 노희경 극본바로 이거지 눈...</td>\n",
       "      <td>우리들의 블루스</td>\n",
       "    </tr>\n",
       "    <tr>\n",
       "      <th>1</th>\n",
       "      <td>침묵의 순간들이 더욱 처연하게 빛나는 노희경 극본의 또 다른 경지</td>\n",
       "      <td>우리들의 블루스</td>\n",
       "    </tr>\n",
       "    <tr>\n",
       "      <th>2</th>\n",
       "      <td>세상에노희경 작가와 이 배우들이라면 어떤 스토리가 됐든 꼭 보고싶다</td>\n",
       "      <td>우리들의 블루스</td>\n",
       "    </tr>\n",
       "    <tr>\n",
       "      <th>3</th>\n",
       "      <td>하 진짜 좋아하는 배우 전부 다 나오네한수의 위험한 생각이 뭔지 알 것 같아서 고통스럽다</td>\n",
       "      <td>우리들의 블루스</td>\n",
       "    </tr>\n",
       "    <tr>\n",
       "      <th>4</th>\n",
       "      <td>사람 사는 거 특별할 거 없다지만 저마다의 사정을 찬찬히 듣노라면 그것만큼 재미난 ...</td>\n",
       "      <td>우리들의 블루스</td>\n",
       "    </tr>\n",
       "    <tr>\n",
       "      <th>...</th>\n",
       "      <td>...</td>\n",
       "      <td>...</td>\n",
       "    </tr>\n",
       "    <tr>\n",
       "      <th>91244</th>\n",
       "      <td>주인공이 너무 멍청해도 멍청한거 아닌가싶다가 음</td>\n",
       "      <td>대리인간</td>\n",
       "    </tr>\n",
       "    <tr>\n",
       "      <th>91245</th>\n",
       "      <td>참신하고 두려운 신박한 이야기첫 시작을 안정적으로 알린 신인작가에게 박수를공승연과 ...</td>\n",
       "      <td>대리인간</td>\n",
       "    </tr>\n",
       "    <tr>\n",
       "      <th>91246</th>\n",
       "      <td>찝찝하다뭐가 진짜인지 알 수 없는 세상대리인간도 감정이 있는 인간인지라공승연이 잘 ...</td>\n",
       "      <td>대리인간</td>\n",
       "    </tr>\n",
       "    <tr>\n",
       "      <th>91247</th>\n",
       "      <td>Empty!!</td>\n",
       "      <td>대리인간</td>\n",
       "    </tr>\n",
       "    <tr>\n",
       "      <th>91248</th>\n",
       "      <td>소재는 신선하다 생각했다중간에 도달았을때 앞으로의 스토리는 예상이 가는</td>\n",
       "      <td>대리인간</td>\n",
       "    </tr>\n",
       "  </tbody>\n",
       "</table>\n",
       "<p>91249 rows × 2 columns</p>\n",
       "</div>"
      ],
      "text/plain": [
       "                                                 reviews     title\n",
       "0      이 화려한 캐스팅 라인업을 보고 안 볼수가 있나  게다가 노희경 극본바로 이거지 눈...  우리들의 블루스\n",
       "1                   침묵의 순간들이 더욱 처연하게 빛나는 노희경 극본의 또 다른 경지  우리들의 블루스\n",
       "2                  세상에노희경 작가와 이 배우들이라면 어떤 스토리가 됐든 꼭 보고싶다  우리들의 블루스\n",
       "3      하 진짜 좋아하는 배우 전부 다 나오네한수의 위험한 생각이 뭔지 알 것 같아서 고통스럽다  우리들의 블루스\n",
       "4      사람 사는 거 특별할 거 없다지만 저마다의 사정을 찬찬히 듣노라면 그것만큼 재미난 ...  우리들의 블루스\n",
       "...                                                  ...       ...\n",
       "91244                         주인공이 너무 멍청해도 멍청한거 아닌가싶다가 음      대리인간\n",
       "91245  참신하고 두려운 신박한 이야기첫 시작을 안정적으로 알린 신인작가에게 박수를공승연과 ...      대리인간\n",
       "91246  찝찝하다뭐가 진짜인지 알 수 없는 세상대리인간도 감정이 있는 인간인지라공승연이 잘 ...      대리인간\n",
       "91247                                            Empty!!      대리인간\n",
       "91248            소재는 신선하다 생각했다중간에 도달았을때 앞으로의 스토리는 예상이 가는      대리인간\n",
       "\n",
       "[91249 rows x 2 columns]"
      ]
     },
     "execution_count": 17,
     "metadata": {},
     "output_type": "execute_result"
    }
   ],
   "source": [
    "watcha"
   ]
  },
  {
   "cell_type": "code",
   "execution_count": 18,
   "metadata": {
    "ExecuteTime": {
     "end_time": "2022-04-25T07:49:08.608660Z",
     "start_time": "2022-04-25T07:49:08.599774Z"
    },
    "id": "c72nGMgtX7ux"
   },
   "outputs": [],
   "source": [
    "drop_row = watcha[watcha['reviews'] == 'Empty!!'].index"
   ]
  },
  {
   "cell_type": "code",
   "execution_count": 19,
   "metadata": {
    "ExecuteTime": {
     "end_time": "2022-04-25T07:49:08.908477Z",
     "start_time": "2022-04-25T07:49:08.903805Z"
    },
    "id": "TolMHTJVYEb_"
   },
   "outputs": [],
   "source": [
    "final_kor = watcha.drop(drop_row)"
   ]
  },
  {
   "cell_type": "code",
   "execution_count": 20,
   "metadata": {
    "ExecuteTime": {
     "end_time": "2022-04-25T07:49:12.082387Z",
     "start_time": "2022-04-25T07:49:12.062755Z"
    },
    "colab": {
     "base_uri": "https://localhost:8080/",
     "height": 424
    },
    "executionInfo": {
     "elapsed": 429,
     "status": "ok",
     "timestamp": 1650800503847,
     "user": {
      "displayName": "한창훈",
      "userId": "15462280161729540268"
     },
     "user_tz": -540
    },
    "id": "7Ml2UYM_YHjp",
    "outputId": "23aca8ef-826e-44fe-ab4e-349d0bf0ad75"
   },
   "outputs": [
    {
     "data": {
      "text/html": [
       "<div>\n",
       "<style scoped>\n",
       "    .dataframe tbody tr th:only-of-type {\n",
       "        vertical-align: middle;\n",
       "    }\n",
       "\n",
       "    .dataframe tbody tr th {\n",
       "        vertical-align: top;\n",
       "    }\n",
       "\n",
       "    .dataframe thead th {\n",
       "        text-align: right;\n",
       "    }\n",
       "</style>\n",
       "<table border=\"1\" class=\"dataframe\">\n",
       "  <thead>\n",
       "    <tr style=\"text-align: right;\">\n",
       "      <th></th>\n",
       "      <th>reviews</th>\n",
       "      <th>title</th>\n",
       "    </tr>\n",
       "  </thead>\n",
       "  <tbody>\n",
       "    <tr>\n",
       "      <th>0</th>\n",
       "      <td>이 화려한 캐스팅 라인업을 보고 안 볼수가 있나  게다가 노희경 극본바로 이거지 눈...</td>\n",
       "      <td>우리들의 블루스</td>\n",
       "    </tr>\n",
       "    <tr>\n",
       "      <th>1</th>\n",
       "      <td>침묵의 순간들이 더욱 처연하게 빛나는 노희경 극본의 또 다른 경지</td>\n",
       "      <td>우리들의 블루스</td>\n",
       "    </tr>\n",
       "    <tr>\n",
       "      <th>2</th>\n",
       "      <td>세상에노희경 작가와 이 배우들이라면 어떤 스토리가 됐든 꼭 보고싶다</td>\n",
       "      <td>우리들의 블루스</td>\n",
       "    </tr>\n",
       "    <tr>\n",
       "      <th>3</th>\n",
       "      <td>하 진짜 좋아하는 배우 전부 다 나오네한수의 위험한 생각이 뭔지 알 것 같아서 고통스럽다</td>\n",
       "      <td>우리들의 블루스</td>\n",
       "    </tr>\n",
       "    <tr>\n",
       "      <th>4</th>\n",
       "      <td>사람 사는 거 특별할 거 없다지만 저마다의 사정을 찬찬히 듣노라면 그것만큼 재미난 ...</td>\n",
       "      <td>우리들의 블루스</td>\n",
       "    </tr>\n",
       "    <tr>\n",
       "      <th>...</th>\n",
       "      <td>...</td>\n",
       "      <td>...</td>\n",
       "    </tr>\n",
       "    <tr>\n",
       "      <th>91243</th>\n",
       "      <td>로봇 보단 인간 그것도 새 인생이 필요한 인간을 이용한다는 게 킥이었다 감정이 내 ...</td>\n",
       "      <td>대리인간</td>\n",
       "    </tr>\n",
       "    <tr>\n",
       "      <th>91244</th>\n",
       "      <td>주인공이 너무 멍청해도 멍청한거 아닌가싶다가 음</td>\n",
       "      <td>대리인간</td>\n",
       "    </tr>\n",
       "    <tr>\n",
       "      <th>91245</th>\n",
       "      <td>참신하고 두려운 신박한 이야기첫 시작을 안정적으로 알린 신인작가에게 박수를공승연과 ...</td>\n",
       "      <td>대리인간</td>\n",
       "    </tr>\n",
       "    <tr>\n",
       "      <th>91246</th>\n",
       "      <td>찝찝하다뭐가 진짜인지 알 수 없는 세상대리인간도 감정이 있는 인간인지라공승연이 잘 ...</td>\n",
       "      <td>대리인간</td>\n",
       "    </tr>\n",
       "    <tr>\n",
       "      <th>91248</th>\n",
       "      <td>소재는 신선하다 생각했다중간에 도달았을때 앞으로의 스토리는 예상이 가는</td>\n",
       "      <td>대리인간</td>\n",
       "    </tr>\n",
       "  </tbody>\n",
       "</table>\n",
       "<p>67547 rows × 2 columns</p>\n",
       "</div>"
      ],
      "text/plain": [
       "                                                 reviews     title\n",
       "0      이 화려한 캐스팅 라인업을 보고 안 볼수가 있나  게다가 노희경 극본바로 이거지 눈...  우리들의 블루스\n",
       "1                   침묵의 순간들이 더욱 처연하게 빛나는 노희경 극본의 또 다른 경지  우리들의 블루스\n",
       "2                  세상에노희경 작가와 이 배우들이라면 어떤 스토리가 됐든 꼭 보고싶다  우리들의 블루스\n",
       "3      하 진짜 좋아하는 배우 전부 다 나오네한수의 위험한 생각이 뭔지 알 것 같아서 고통스럽다  우리들의 블루스\n",
       "4      사람 사는 거 특별할 거 없다지만 저마다의 사정을 찬찬히 듣노라면 그것만큼 재미난 ...  우리들의 블루스\n",
       "...                                                  ...       ...\n",
       "91243  로봇 보단 인간 그것도 새 인생이 필요한 인간을 이용한다는 게 킥이었다 감정이 내 ...      대리인간\n",
       "91244                         주인공이 너무 멍청해도 멍청한거 아닌가싶다가 음      대리인간\n",
       "91245  참신하고 두려운 신박한 이야기첫 시작을 안정적으로 알린 신인작가에게 박수를공승연과 ...      대리인간\n",
       "91246  찝찝하다뭐가 진짜인지 알 수 없는 세상대리인간도 감정이 있는 인간인지라공승연이 잘 ...      대리인간\n",
       "91248            소재는 신선하다 생각했다중간에 도달았을때 앞으로의 스토리는 예상이 가는      대리인간\n",
       "\n",
       "[67547 rows x 2 columns]"
      ]
     },
     "execution_count": 20,
     "metadata": {},
     "output_type": "execute_result"
    }
   ],
   "source": [
    "final_kor"
   ]
  },
  {
   "cell_type": "code",
   "execution_count": null,
   "metadata": {},
   "outputs": [],
   "source": []
  },
  {
   "cell_type": "code",
   "execution_count": null,
   "metadata": {
    "colab": {
     "base_uri": "https://localhost:8080/"
    },
    "executionInfo": {
     "elapsed": 541,
     "status": "ok",
     "timestamp": 1650805940422,
     "user": {
      "displayName": "한창훈",
      "userId": "15462280161729540268"
     },
     "user_tz": -540
    },
    "id": "kAD3Y4ofZCMy",
    "outputId": "9a261f07-99a9-45b0-bb7a-0b8fa72f9cf6"
   },
   "outputs": [
    {
     "data": {
      "text/plain": [
       "3021"
      ]
     },
     "execution_count": 258,
     "metadata": {},
     "output_type": "execute_result"
    }
   ],
   "source": [
    "df_drama = final_kor[final_kor['title'] == 'D.P.']\n",
    "len(df_drama)"
   ]
  },
  {
   "cell_type": "code",
   "execution_count": null,
   "metadata": {
    "colab": {
     "base_uri": "https://localhost:8080/"
    },
    "executionInfo": {
     "elapsed": 464,
     "status": "ok",
     "timestamp": 1650805271108,
     "user": {
      "displayName": "한창훈",
      "userId": "15462280161729540268"
     },
     "user_tz": -540
    },
    "id": "2XbXm2QJqT_z",
    "outputId": "b9139829-b7a8-4e9e-e655-8049c09204c9"
   },
   "outputs": [
    {
     "data": {
      "text/plain": [
       "array(['우리들의 블루스', '파친코', '돼지의 왕', '그린마더스클럽', '사내 맞선', '스물다섯 스물하나',\n",
       "       '시맨틱 에러', '소년비행', '악의 마음을 읽는 자들', '나의 아저씨', '소년심판', '비밀의 숲',\n",
       "       '비밀의 숲 2', '멜로가 체질', '괴물', '모범택시', '미스터 션샤인', '트레이서 시즌 1',\n",
       "       '트레이서 시즌 2', '이렇게 된 이상 청와대로 간다', '술꾼도시여자들', '라이프 온 마스', '블랙독',\n",
       "       '해피니스', '태종 이방원', '도시남녀의 사랑법', '검색어를 입력하세요 WWW', '옷소매 붉은 끝동',\n",
       "       '악의 꽃', '런 온', '손 the guest', '서른, 아홉', '슬기로운 의사생활',\n",
       "       '슬기로운 의사생활 시즌 2', 'D.P.', '사랑의 불시착', '스토브리그', '왓쳐', '그림자 미녀',\n",
       "       '동백꽃 필 무렵', '백일의 낭군님', '어느 날 우리 집 현관으로 멸망이 들어왔다', '카이로스',\n",
       "       '보좌관 – 세상을 움직이는 사람들', '보좌관 2 - 세상을 움직이는 사람들', '기름진 멜로', '새빛남고 학생회',\n",
       "       '좋좋소', '키마이라', '며느라기 시즌 1', '며느라기 2…ing', '김비서가 왜 그럴까', '부부의 세계',\n",
       "       '그녀의 사생활', '로스쿨', '구경이', '무브 투 헤븐: 나는 유품정리사입니다', '마우스', '검법남녀',\n",
       "       '검법남녀 시즌2', '엉클', '하늘에서 내리는 1억개의 별', '우수무당 가두심', '오징어 게임',\n",
       "       '킹덤 시즌 1', '킹덤 시즌 2', 'SKY 캐슬', '호텔 델루나', '갯마을 차차차', '아는 와이프',\n",
       "       '원 더 우먼', '보이스', '보이스2', '보이스3', '오월의 청춘', '이 구역의 미친 X', '라켓소년단',\n",
       "       '언프레임드', '마녀식당으로 오세요', '연애미수', '홈타운', '트웬티 트웬티', '지옥', '인간수업',\n",
       "       '사이코지만 괜찮아', '어쩌다 발견한 하루', '낭만닥터 김사부 2', '365 : 운명을 거스르는 1년',\n",
       "       '에이틴', '에이틴2', '미스티', '방법', '연애플레이리스트 시즌 3', '연애플레이리스트 시즌 4',\n",
       "       '대박부동산', '산후조리원', '의사요한', '아름다운 세상', '녹두꽃', '안녕? 나야!',\n",
       "       '커피 한잔 할까요?', '바람이 분다', '백수세끼', '트랩', '일의 기쁨과 슬픔', '뷰티 인사이드',\n",
       "       '라이브', '로맨스는 별책부록', '유미의 세포들', '18 어게인', '서른이지만 열일곱입니다',\n",
       "       '60일, 지정생존자', '하이에나', '으라차차 와이키키', '왕이 된 남자', '한 번 다녀왔습니다', '나빌레라',\n",
       "       '사의 찬미', '엑스엑스', '특별근로감독관 조장풍', '추리의 여왕 2', '달리와 감자탕', '단, 하나의 사랑',\n",
       "       '이리와 안아줘', '라이브온', '이런 꽃 같은 엔딩', '한 사람만', '내 뒤에 테리우스',\n",
       "       '신의 퀴즈 : 리부트', '미치지 않고서야', '자백', '월간 집', '시를 잊은 그대에게', '은주의 방',\n",
       "       '타임즈', '땐뽀걸즈', '인서울 시즌 1', '언더커버', '본 대로 말하라', '소녀의 세계', '미스터 기간제',\n",
       "       '블루버스데이', '꽃 피면 달 생각하고', '우아한 친구들', '검은 태양', '뫼비우스: 검은 태양',\n",
       "       '사당보다 먼 의정부보다 가까운 시즌3', '나쁜 형사', '보쌈 - 운명을 훔치다', '어른연습생',\n",
       "       '모두 그곳에 있다', '퍼퓸', '봄이 오나 봄', '거짓말의 거짓말', '마이 퍽킹 로맨스',\n",
       "       '나의 흑역사 오답노트', '작은 신의 아이들', '절정', '출사표', '대리인간'], dtype=object)"
      ]
     },
     "execution_count": 218,
     "metadata": {},
     "output_type": "execute_result"
    }
   ],
   "source": [
    "df['title'].unique()"
   ]
  },
  {
   "cell_type": "code",
   "execution_count": null,
   "metadata": {
    "id": "RqCDjahoradb"
   },
   "outputs": [],
   "source": []
  }
 ],
 "metadata": {
  "colab": {
   "authorship_tag": "ABX9TyPA74YCdWrWb9FHw1TmHEYj",
   "collapsed_sections": [],
   "mount_file_id": "1bqA0Ih61v3BYRe7sD5QqPzCOTspW1tfB",
   "name": "Untitled17.ipynb",
   "provenance": []
  },
  "hide_input": false,
  "kernelspec": {
   "display_name": "Python 3",
   "language": "python",
   "name": "python3"
  },
  "language_info": {
   "codemirror_mode": {
    "name": "ipython",
    "version": 3
   },
   "file_extension": ".py",
   "mimetype": "text/x-python",
   "name": "python",
   "nbconvert_exporter": "python",
   "pygments_lexer": "ipython3",
   "version": "3.9.10"
  },
  "toc": {
   "base_numbering": 1,
   "nav_menu": {},
   "number_sections": true,
   "sideBar": true,
   "skip_h1_title": false,
   "title_cell": "Table of Contents",
   "title_sidebar": "Contents",
   "toc_cell": false,
   "toc_position": {},
   "toc_section_display": true,
   "toc_window_display": false
  },
  "varInspector": {
   "cols": {
    "lenName": 16,
    "lenType": 16,
    "lenVar": 40
   },
   "kernels_config": {
    "python": {
     "delete_cmd_postfix": "",
     "delete_cmd_prefix": "del ",
     "library": "var_list.py",
     "varRefreshCmd": "print(var_dic_list())"
    },
    "r": {
     "delete_cmd_postfix": ") ",
     "delete_cmd_prefix": "rm(",
     "library": "var_list.r",
     "varRefreshCmd": "cat(var_dic_list()) "
    }
   },
   "types_to_exclude": [
    "module",
    "function",
    "builtin_function_or_method",
    "instance",
    "_Feature"
   ],
   "window_display": false
  }
 },
 "nbformat": 4,
 "nbformat_minor": 1
}
