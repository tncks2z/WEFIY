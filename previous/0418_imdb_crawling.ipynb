{
 "cells": [
  {
   "cell_type": "code",
   "execution_count": 1,
   "id": "bac0f4e8",
   "metadata": {},
   "outputs": [],
   "source": [
    "import warnings\n",
    "warnings.filterwarnings('ignore')"
   ]
  },
  {
   "cell_type": "code",
   "execution_count": 23,
   "id": "c9f6f8f9",
   "metadata": {},
   "outputs": [],
   "source": [
    "import pandas as pd\n",
    "import time\n",
    "from tqdm.auto import tqdm\n",
    "from selenium.webdriver.chrome.options import Options\n",
    "from selenium.webdriver import Chrome\n",
    "from selenium.webdriver.common.by import By\n",
    "from selenium.webdriver.common.keys import Keys\n",
    "from selenium.webdriver.support.ui import WebDriverWait\n",
    "from selenium.webdriver.support import expected_conditions as EC\n",
    "from selenium import webdriver\n",
    "from selenium.common.exceptions import TimeoutException\n",
    "from selenium.webdriver.chrome.service import Service\n",
    "from webdriver_manager.chrome import ChromeDriverManager\n",
    "\n",
    "import requests \n",
    "from bs4 import BeautifulSoup\n",
    "import re\n",
    "import math"
   ]
  },
  {
   "cell_type": "code",
   "execution_count": 24,
   "id": "52f53173",
   "metadata": {},
   "outputs": [],
   "source": [
    "chrome_driver_path = 'C:\\\\Users\\\\g8428\\\\workspace\\\\chromedriver.exe'\n",
    "options = Options()\n",
    "# options.add_argument(\"headless\")\n",
    "options.add_argument('--no-sandbox')"
   ]
  },
  {
   "cell_type": "code",
   "execution_count": 25,
   "id": "11a20ccf",
   "metadata": {},
   "outputs": [
    {
     "ename": "KeyboardInterrupt",
     "evalue": "",
     "output_type": "error",
     "traceback": [
      "\u001b[1;31m---------------------------------------------------------------------------\u001b[0m",
      "\u001b[1;31mKeyboardInterrupt\u001b[0m                         Traceback (most recent call last)",
      "\u001b[1;32m<ipython-input-25-866d5aee6010>\u001b[0m in \u001b[0;36m<module>\u001b[1;34m\u001b[0m\n\u001b[0;32m      1\u001b[0m \u001b[0mdriver\u001b[0m \u001b[1;33m=\u001b[0m \u001b[0mwebdriver\u001b[0m\u001b[1;33m.\u001b[0m\u001b[0mChrome\u001b[0m\u001b[1;33m(\u001b[0m\u001b[0mchrome_driver_path\u001b[0m\u001b[1;33m,\u001b[0m \u001b[0mchrome_options\u001b[0m\u001b[1;33m=\u001b[0m\u001b[0moptions\u001b[0m\u001b[1;33m)\u001b[0m\u001b[1;33m\u001b[0m\u001b[1;33m\u001b[0m\u001b[0m\n\u001b[0;32m      2\u001b[0m \u001b[0mdriver\u001b[0m \u001b[1;33m=\u001b[0m \u001b[0mdriver\u001b[0m\u001b[1;33m.\u001b[0m\u001b[0mget\u001b[0m\u001b[1;33m(\u001b[0m\u001b[1;34m'https://www.google.com'\u001b[0m\u001b[1;33m)\u001b[0m\u001b[1;33m\u001b[0m\u001b[1;33m\u001b[0m\u001b[0m\n\u001b[1;32m----> 3\u001b[1;33m \u001b[0mtime\u001b[0m\u001b[1;33m.\u001b[0m\u001b[0msleep\u001b[0m\u001b[1;33m(\u001b[0m\u001b[1;36m10\u001b[0m\u001b[1;33m)\u001b[0m\u001b[1;33m\u001b[0m\u001b[1;33m\u001b[0m\u001b[0m\n\u001b[0m",
      "\u001b[1;31mKeyboardInterrupt\u001b[0m: "
     ]
    }
   ],
   "source": [
    "driver = webdriver.Chrome(chrome_driver_path, chrome_options=options)\n",
    "driver = driver.get('https://www.google.com')\n",
    "time.sleep(10)"
   ]
  },
  {
   "cell_type": "markdown",
   "id": "330dc828",
   "metadata": {},
   "source": [
    "우리들의블루스, 파친코, 돼지의왕, 그린마더스클럽, 사내맞선, 스물다섯스물하나, 시멘틱에러, 소년비행시즌1, 악의마음을읽는자들, 나의아저씨, 소년심판, 비밀의숲, 멜로가체질, 괴물, 모범택시, 미스터션샤인, 트레이서, 이렇게된이상청와대로간다, 술꾼도시여자들, 라이프온마스, 블랙독, 해피니스, 태종이방원, 도시남녀의사랑법, 검색어를입력하세요WWW, 옷소매붉은끝동, 악의꽃, 런온, 손theguest, 서른아홉, 슬기로운의사생활, D.P., 사랑의불시착, 스토브리그, 왓쳐, 그림자미녀, 동백꽃필무렵, 백일의낭군님, 어느날우리집현관으로멸망이들어왔다, 카이로스, 보좌관:세상을움직이는사람들, 보좌관2:세상을움직이는사람들, 기름진멜로, 트레이서시즌2, 세빛남고학생회, 좋좋소시즌3, 키마이라, 며느라기2...ing, 김비서가왜그럴까, 부부의세계, 그녀의사생활, 로스쿨, 구경이, 무브투헤븐:나는유품정리사입니다, 마우스, 검법남녀시즌1, 엉클, 하늘에서내리는일억개의별, 우수무당가두심, 오징어게임, 킹덤시즌2, 킹덤시즌1, 스카이캐슬, 호텔델루나, 비밀의숲2, 갯마을차차차, 아는와이프, 원더우먼, 보이스시즌2, 오월의청춘, 이구역의미친X, 라켓소년단, 언프레임드, 마녀식당으로오세요, 연애미수, 홈타운, 트웬티트웬티, 지옥, 인간수업, 슬기로운의사생활2, 사이코지만괜찮아, 어쩌다발견한하루, 낭만닥터김사부2, 365:운명을거스르는1년, 검법남녀시즌2, 에이틴시즌1, 미스티, 방법, 연애플레이리스트시즌4, 대박부동산, 산후조리원, 의사요한, 좋좋소시즌1, 며느라기, 아름다운세상, 녹두꽃, 안녕나야, 커피한잔할까요, 바람이분다, 백수세끼, 트랩, 좀예민해도괜찮아시즌1, 일의기쁨과슬픔, 뷰티인사이드, 라이브, 로맨스는별책부록, 유미의세포들, 18어게인, 서른이지만열일곱입니다, 보이스시즌3, 60일지정생존자, 하이애나, 으라차차와이키키시즌1, 왕이된남자, 한번다녀왔습니다, 나빌레라, 사의찬미, 엑스엑스, 에이틴시즌2, 연애플레이리스트시즌3, 특별근로감독관조장풍, 추리의여왕시즌2, 달리와감자탕, 단하나의사랑, 이리와안아줘, 라이브온, 이런꽃같은엔딩, 한사람만, 내뒤에테리우스, 신의퀴즈5, 미치치않고서야, 자백, 월간집, 시를잊은그대에게, 은주의방, 타임즈, 좋좋소시즌2, 짼뽀걸즈, 인서울-내가독립하는유일한방법, 언더커버, 본대로말하라, 소녀의세계, 미스터기간제, 블루버스데이, 꽃피면달생각하고, 우아한친구들, 뫼비우스검은태양, 사당보다먼의정부보다가까운시즌3, 나쁜형사, 보쌈-운명을훔치다, 어른연습생, 모두그곳에있다, 퍼퓸, 봄이오나봄, 거짓말의거짓말, MyFuxxxxxRomance, 나의흑역사오답노트, 작은신의아이들, 절정, 출사표, 대리인간"
   ]
  },
  {
   "cell_type": "code",
   "execution_count": 1,
   "id": "fa0eb857",
   "metadata": {},
   "outputs": [],
   "source": [
    "our_blues = 'https://www.imdb.com/title/tt19115260/reviews?ref_=tt_urv' # 0\n",
    "pachinko = 'https://www.imdb.com/title/tt8888462/reviews?ref_=tt_urv' # 68\n",
    "# 돼지의왕 - 없음\n",
    "green_mothers_club = 'https://www.imdb.com/title/tt15060900/reviews?ref_=tt_urv' # 2\n",
    "business_proposal = 'https://www.imdb.com/title/tt14819828/reviews?ref_=tt_urv' # 53\n",
    "twenty_five_twenty_one = 'https://www.imdb.com/title/tt17513352/reviews?ref_=tt_urv' # 76\n",
    "semantic_error = 'https://www.imdb.com/title/tt17080956/reviews?ref_=tt_urv' # 20\n",
    "\n",
    "miss_oh = 'https://www.imdb.com/title/tt5679572/reviews?ref_=tt_urv'\n",
    "psycho = 'https://www.imdb.com/title/tt12451520/reviews?ref_=tt_urv'\n",
    "that_day = 'https://www.imdb.com/title/tt15026724/reviews?ref_=tt_urv'\n",
    "melo = 'https://www.imdb.com/title/tt10559276/reviews?ref_=tt_urv'\n",
    "chachacha = 'https://www.imdb.com/title/tt14518756/reviews?ref_=tt_urv'\n",
    "thirty_nine = 'https://www.imdb.com/title/tt15181094/reviews?ref_=tt_urv'\n",
    "twenty_five_twenty_one = 'https://www.imdb.com/title/tt17513352/reviews?ref_=tt_urv'\n",
    "weather = 'https://www.imdb.com/title/tt15140592/reviews?ref_=tt_urv'\n",
    "dobongsoon = 'https://mydramalist.com/18894-strong-woman-do-bong-soon/reviews?xlang=en-US&page='\n",
    "mr_sunshine = 'https://www.imdb.com/title/tt7094780/reviews?ref_=tt_urv'\n",
    "eighteen_again = 'https://www.imdb.com/title/tt12846096/reviews?ref_=tt_urv'\n",
    "record_of_youth = 'https://www.imdb.com/title/tt12850322/reviews?ref_=tt_urv'\n",
    "spring_night = 'https://www.imdb.com/title/tt10192576/reviews?ref_=tt_urv'\n",
    "yeonmo = 'https://www.imdb.com/title/tt14609428/reviews?ref_=tt_urv'\n",
    "doctor = 'https://www.imdb.com/title/tt11769304/reviews?ref_=tt_urv'\n",
    "prison = 'https://www.imdb.com/title/tt7622902/reviews?ref_=tt_urv'\n",
    "dazzling = 'https://www.imdb.com/title/tt9466968/reviews?ref_=tt_urv'\n",
    "my_mister = 'https://www.imdb.com/title/tt7923710/reviews?ref_=tt_urv'\n",
    "move_to_heaven = 'https://www.imdb.com/title/tt11052470/reviews?ref_=tt_urv'\n",
    "navillera = 'https://www.imdb.com/title/tt13885302/reviews?ref_=tt_urv'\n",
    "squid_game = 'https://www.imdb.com/title/tt10919420/reviews?ref_=tt_urv'\n",
    "k_zombie = 'https://www.imdb.com/title/tt14169960/reviews?ref_=tt_urv'\n",
    "kingdom = 'https://www.imdb.com/title/tt6611916/reviews?ref_=tt_urv'\n",
    "son_the_guest = 'https://www.imdb.com/title/tt8801670/reviews?ref_=tt_urv'\n",
    "stranger_hell = 'https://www.imdb.com/title/tt10613844/reviews?ref_=tt_urv'\n",
    "sweet_home = 'https://www.imdb.com/title/tt11612120/reviews?ref_=tt_urv'\n",
    "vagabond = 'https://www.imdb.com/title/tt8523042/reviews?ref_=tt_urv'\n",
    "monster = 'https://www.imdb.com/title/tt13634872/reviews?ref_=tt_urv'\n",
    "hellbound = 'https://www.imdb.com/title/tt12235718/reviews?ref_=tt_urv'\n",
    "juvenile = 'https://www.imdb.com/title/tt15553922/reviews?ref_=tt_urv'\n",
    "law_school = 'https://www.imdb.com/title/tt13885336/reviews?ref_=tt_urv'\n",
    "voice = 'https://www.imdb.com/title/tt6212854/reviews?ref_=tt_urv'\n",
    "extracurricular = 'https://www.imdb.com/title/tt10262630/reviews?ref_=tt_urv'\n",
    "secret_forest = 'https://www.imdb.com/title/tt6461346/reviews?ref_=tt_urv'\n",
    "signal = 'https://www.imdb.com/title/tt5332206/reviews?ref_=tt_urv'\n",
    "bad_guys = 'https://www.imdb.com/title/tt12404980/reviews?ref_=tt_urv'\n",
    "itaewon = 'https://www.imdb.com/title/tt11239552/reviews?ref_=tt_urv'\n",
    "dp = 'https://www.imdb.com/title/tt13024974/reviews?ref_=tt_urv'\n",
    "vincenzo = 'https://www.imdb.com/title/tt13433812/reviews?ref_=tt_urv'\n",
    "marvelous_rumor = 'https://www.imdb.com/title/tt13273826/reviews?ref_=tt_urv'\n",
    "nurse_An = 'https://www.imdb.com/title/tt12879522/reviews?ref_=tt_urv'\n",
    "hotel_del_luna = 'https://www.imdb.com/title/tt10220588/reviews?ref_=tt_urv'\n",
    "alhambra = 'https://www.imdb.com/title/tt8236556/reviews?ref_=tt_urv'\n",
    "silent_sea = 'https://www.imdb.com/title/tt11570202/reviews?ref_=tt_urv'"
   ]
  },
  {
   "cell_type": "code",
   "execution_count": 5,
   "id": "6751fecc",
   "metadata": {},
   "outputs": [],
   "source": [
    "def scroll_down(second):\n",
    "    driver.execute_script(\"window.scrollTo(0, document.documentElement.scrollHeight);\")\n",
    "    time.sleep(second)\n",
    "    new = driver.execute_script(\"return document.documentElement.scrollHeight\")\n",
    "    \n",
    "    return new"
   ]
  },
  {
   "cell_type": "code",
   "execution_count": 17,
   "id": "e188d8a6",
   "metadata": {
    "scrolled": true
   },
   "outputs": [],
   "source": [
    "def imdb(url):\n",
    "    driver.get(url)\n",
    "    driver.implicitly_wait(10)    \n",
    "\n",
    "    # 작품 제목\n",
    "    title = driver.find_element_by_css_selector('#main > section > div.subpage_title_block > div > div > h3 > a').text\n",
    "\n",
    "    # 댓글 수\n",
    "    review_counts = driver.find_element_by_xpath('/html/body/div[3]/div/div[2]/div[3]/div[1]/section/div[2]/div[1]/div/span').text\n",
    "    review_counts = int(review_counts.split(' ')[0].replace(',', ''))\n",
    "\n",
    "    # Load More 끝날 때까지 반복\n",
    "    for k in range(review_counts):    \n",
    "        try:\n",
    "            driver.find_element_by_class_name(\"ipl-load-more__button\").send_keys(Keys.ENTER)\n",
    "            time.sleep(3)\n",
    "        except Exception as ex:\n",
    "            break\n",
    "\n",
    "    # 댓글 수집\n",
    "    try:\n",
    "        time.sleep(0.5)\n",
    "        soup= BeautifulSoup(driver.page_source)\n",
    "        time.sleep(1)\n",
    "\n",
    "        comment=[]\n",
    "        x= soup.find_all(\"div\", class_=\"content\")\n",
    "\n",
    "        for h in x:\n",
    "            try:\n",
    "                tmp= h.find_all(\"div\", class_=\"text show-more__control\")[0].text\n",
    "                imdb_dict['title'].append(title)\n",
    "                imdb_dict['review'].append(tmp)\n",
    "\n",
    "            except Exception as ex:\n",
    "                tmp= h.find_all(\"div\", class_=\"text show-more__control clickable\")[0].text\n",
    "                imdb_dict['title'].append(title)\n",
    "                imdb_dict['review'].append(tmp)\n",
    "\n",
    "        time.sleep(1)\n",
    "    except Exception as ex:\n",
    "        re=['nothing']\n",
    "\n",
    "    # 한줄평\n",
    "    try:\n",
    "        oneline=[]\n",
    "        x= soup.find_all(\"div\", class_=\"lister-item-content\")\n",
    "        for h in x:\n",
    "            ol= h.find_all(\"a\", class_=\"title\")[0].text\n",
    "            imdb_dict['review'].append(ol)\n",
    "            imdb_dict['title'].append(title)\n",
    "\n",
    "        time.sleep(0.5)\n",
    "\n",
    "    except Exception as ex:\n",
    "        oneline= 'nothing'\n",
    "\n",
    "    time.sleep(1)\n",
    "    print(\"done\")"
   ]
  },
  {
   "cell_type": "code",
   "execution_count": 18,
   "id": "a201584e",
   "metadata": {
    "scrolled": true
   },
   "outputs": [
    {
     "name": "stdout",
     "output_type": "stream",
     "text": [
      "done\n",
      "done\n",
      "done\n",
      "done\n",
      "done\n",
      "done\n",
      "done\n",
      "done\n",
      "done\n",
      "done\n",
      "done\n",
      "done\n",
      "done\n",
      "done\n"
     ]
    }
   ],
   "source": [
    "imdb_dict = {}\n",
    "imdb_dict['title'] = []\n",
    "imdb_dict['review'] = []\n",
    "for drama_url in roco:\n",
    "    driver = webdriver.Chrome(chrome_driver_path, options=options)\n",
    "    imdb(drama_url)\n",
    "df_1 = pd.DataFrame(imdb_dict)\n",
    "df_1.to_csv('imdb_roco.csv')"
   ]
  },
  {
   "cell_type": "code",
   "execution_count": 19,
   "id": "6ff51d8f",
   "metadata": {},
   "outputs": [
    {
     "name": "stdout",
     "output_type": "stream",
     "text": [
      "done\n",
      "done\n",
      "done\n",
      "done\n",
      "done\n",
      "done\n"
     ]
    }
   ],
   "source": [
    "imdb_dict = {}\n",
    "imdb_dict['title'] = []\n",
    "imdb_dict['review'] = []\n",
    "for drama_url in drama:\n",
    "    driver = webdriver.Chrome(chrome_driver_path, options=options)\n",
    "    imdb(drama_url)\n",
    "df_2 = pd.DataFrame(imdb_dict)\n",
    "df_2.to_csv('imdb_drama.csv')"
   ]
  },
  {
   "cell_type": "code",
   "execution_count": 20,
   "id": "82bf37dd",
   "metadata": {},
   "outputs": [
    {
     "name": "stdout",
     "output_type": "stream",
     "text": [
      "done\n",
      "done\n",
      "done\n",
      "done\n",
      "done\n",
      "done\n",
      "done\n"
     ]
    }
   ],
   "source": [
    "imdb_dict = {}\n",
    "imdb_dict['title'] = []\n",
    "imdb_dict['review'] = []\n",
    "for drama_url in thriller:\n",
    "    driver = webdriver.Chrome(chrome_driver_path, options=options)\n",
    "    imdb(drama_url)\n",
    "df_3 = pd.DataFrame(imdb_dict)\n",
    "df_3.to_csv('imdb_thriller.csv')"
   ]
  },
  {
   "cell_type": "code",
   "execution_count": 21,
   "id": "72466bb6",
   "metadata": {},
   "outputs": [
    {
     "name": "stdout",
     "output_type": "stream",
     "text": [
      "done\n",
      "done\n",
      "done\n",
      "done\n",
      "done\n",
      "done\n",
      "done\n",
      "done\n",
      "done\n",
      "done\n",
      "done\n",
      "done\n"
     ]
    }
   ],
   "source": [
    "imdb_dict = {}\n",
    "imdb_dict['title'] = []\n",
    "imdb_dict['review'] = []\n",
    "for drama_url in crime:\n",
    "    driver = webdriver.Chrome(chrome_driver_path, options=options)\n",
    "    imdb(drama_url)\n",
    "df_4 = pd.DataFrame(imdb_dict)\n",
    "df_4.to_csv('imdb_crime.csv')"
   ]
  },
  {
   "cell_type": "code",
   "execution_count": 22,
   "id": "d36f3c5d",
   "metadata": {},
   "outputs": [
    {
     "name": "stdout",
     "output_type": "stream",
     "text": [
      "done\n",
      "done\n",
      "done\n",
      "done\n",
      "done\n"
     ]
    }
   ],
   "source": [
    "imdb_dict = {}\n",
    "imdb_dict['title'] = []\n",
    "imdb_dict['review'] = []\n",
    "for drama_url in fantasySF:\n",
    "    driver = webdriver.Chrome(chrome_driver_path, options=options)\n",
    "    imdb(drama_url)\n",
    "df_5 = pd.DataFrame(imdb_dict)\n",
    "df_5.to_csv('imdb_fantasySF.csv')"
   ]
  },
  {
   "cell_type": "code",
   "execution_count": null,
   "id": "05277426",
   "metadata": {},
   "outputs": [],
   "source": []
  }
 ],
 "metadata": {
  "kernelspec": {
   "display_name": "Python 3",
   "language": "python",
   "name": "python3"
  },
  "language_info": {
   "codemirror_mode": {
    "name": "ipython",
    "version": 3
   },
   "file_extension": ".py",
   "mimetype": "text/x-python",
   "name": "python",
   "nbconvert_exporter": "python",
   "pygments_lexer": "ipython3",
   "version": "3.7.11"
  }
 },
 "nbformat": 4,
 "nbformat_minor": 5
}
