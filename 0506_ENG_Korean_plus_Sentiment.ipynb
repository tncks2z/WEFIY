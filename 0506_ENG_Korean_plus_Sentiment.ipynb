{
 "cells": [
  {
   "cell_type": "markdown",
   "metadata": {
    "id": "1MGn_FWv4u1-"
   },
   "source": [
    "### GRU"
   ]
  },
  {
   "cell_type": "code",
   "execution_count": 12,
   "metadata": {
    "ExecuteTime": {
     "end_time": "2022-05-06T07:54:51.017938Z",
     "start_time": "2022-05-06T07:54:51.014234Z"
    },
    "id": "1GQH7UgZZFCB"
   },
   "outputs": [],
   "source": [
    "from tensorflow.keras.datasets import imdb"
   ]
  },
  {
   "cell_type": "code",
   "execution_count": 26,
   "metadata": {
    "ExecuteTime": {
     "end_time": "2022-05-06T08:25:51.356128Z",
     "start_time": "2022-05-06T08:25:51.349319Z"
    }
   },
   "outputs": [],
   "source": [
    "pd.set_option('display.max.colwidth', None)\n",
    "pd.set_option('display.max_rows', 100)"
   ]
  },
  {
   "cell_type": "code",
   "execution_count": 13,
   "metadata": {
    "ExecuteTime": {
     "end_time": "2022-05-06T07:54:53.578622Z",
     "start_time": "2022-05-06T07:54:51.690632Z"
    },
    "colab": {
     "base_uri": "https://localhost:8080/"
    },
    "id": "YnsogQtpZNZa",
    "outputId": "8ed33e2c-548e-460d-c56c-7d92b8b92145"
   },
   "outputs": [
    {
     "name": "stdout",
     "output_type": "stream",
     "text": [
      "훈련용 리뷰 개수 : 25000\n",
      "테스트용 리뷰 개수 : 25000\n",
      "카테고리 : 2\n"
     ]
    }
   ],
   "source": [
    "(X_train, y_train), (X_test, y_test) = imdb.load_data()\n",
    "\n",
    "print('훈련용 리뷰 개수 : {}'.format(len(X_train)))\n",
    "print('테스트용 리뷰 개수 : {}'.format(len(X_test)))\n",
    "num_classes = len(set(y_train))\n",
    "print('카테고리 : {}'.format(num_classes))"
   ]
  },
  {
   "cell_type": "code",
   "execution_count": 14,
   "metadata": {
    "ExecuteTime": {
     "end_time": "2022-05-06T07:54:54.170049Z",
     "start_time": "2022-05-06T07:54:54.155286Z"
    },
    "colab": {
     "base_uri": "https://localhost:8080/"
    },
    "id": "OnQ9FdlxZWx7",
    "outputId": "db0d50df-5e0d-4c58-ffc2-68950c10be5d"
   },
   "outputs": [
    {
     "name": "stdout",
     "output_type": "stream",
     "text": [
      "각 레이블에 대한 빈도수:\n",
      "[[    0     1]\n",
      " [12500 12500]]\n"
     ]
    }
   ],
   "source": [
    "reviews_length = [len(review) for review in X_train]\n",
    "\n",
    "unique_elements, counts_elements = np.unique(y_train, return_counts=True)\n",
    "print(\"각 레이블에 대한 빈도수:\")\n",
    "print(np.asarray((unique_elements, counts_elements)))"
   ]
  },
  {
   "cell_type": "code",
   "execution_count": 15,
   "metadata": {
    "ExecuteTime": {
     "end_time": "2022-05-06T07:54:54.838615Z",
     "start_time": "2022-05-06T07:54:54.774603Z"
    },
    "colab": {
     "base_uri": "https://localhost:8080/"
    },
    "id": "VTgYO5JpZsfs",
    "outputId": "57a79a55-05d7-41a4-f9b4-a0c270dba8f1"
   },
   "outputs": [],
   "source": [
    "word_to_index = imdb.get_word_index()\n",
    "index_to_word = {}\n",
    "for key, value in word_to_index.items():\n",
    "    index_to_word[value+3] = key"
   ]
  },
  {
   "cell_type": "code",
   "execution_count": 16,
   "metadata": {
    "ExecuteTime": {
     "end_time": "2022-05-06T07:54:55.698516Z",
     "start_time": "2022-05-06T07:54:55.691548Z"
    },
    "colab": {
     "base_uri": "https://localhost:8080/"
    },
    "id": "szbh9I1MZxh2",
    "outputId": "af32e763-f01a-4f87-cbd9-328669c38970"
   },
   "outputs": [
    {
     "name": "stdout",
     "output_type": "stream",
     "text": [
      "<sos> this film was just brilliant casting location scenery story direction everyone's really suited the part they played and you could just imagine being there robert redford's is an amazing actor and now the same being director norman's father came from the same scottish island as myself so i loved the fact there was a real connection with this film the witty remarks throughout the film were great it was just brilliant so much that i bought the film as soon as it was released for retail and would recommend it to everyone to watch and the fly fishing was amazing really cried at the end it was so sad and you know what they say if you cry at a film it must have been good and this definitely was also congratulations to the two little boy's that played the part's of norman and paul they were just brilliant children are often left out of the praising list i think because the stars that play them all grown up are such a big profile for the whole film but these children are amazing and should be praised for what they have done don't you think the whole story was so lovely because it was true and was someone's life after all that was shared with us all\n"
     ]
    }
   ],
   "source": [
    "for index, token in enumerate((\"<pad>\", \"<sos>\", \"<unk>\")):\n",
    "    index_to_word[index] = token\n",
    "\n",
    "print(' '.join([index_to_word[index] for index in X_train[0]]))"
   ]
  },
  {
   "cell_type": "code",
   "execution_count": 17,
   "metadata": {
    "ExecuteTime": {
     "end_time": "2022-05-06T07:54:56.278269Z",
     "start_time": "2022-05-06T07:54:56.275211Z"
    }
   },
   "outputs": [],
   "source": [
    "import tensorflow as tf"
   ]
  },
  {
   "cell_type": "code",
   "execution_count": 18,
   "metadata": {
    "ExecuteTime": {
     "end_time": "2022-05-06T07:54:59.410466Z",
     "start_time": "2022-05-06T07:54:56.917988Z"
    },
    "id": "9QaujWmtZ27_"
   },
   "outputs": [],
   "source": [
    "import re\n",
    "from tensorflow.keras.datasets import imdb\n",
    "from tensorflow.keras.preprocessing.sequence import pad_sequences\n",
    "from tensorflow.keras.models import Sequential\n",
    "from tensorflow.keras.layers import Dense, GRU, Embedding\n",
    "from tensorflow.keras.callbacks import EarlyStopping, ModelCheckpoint\n",
    "from tensorflow.keras.models import load_model\n",
    "\n",
    "vocab_size = 10000\n",
    "max_len = 500\n",
    "\n",
    "(X_train, y_train), (X_test, y_test) = imdb.load_data(num_words=vocab_size)\n",
    "\n",
    "X_train = pad_sequences(X_train, maxlen=max_len)\n",
    "X_test = pad_sequences(X_test, maxlen=max_len)"
   ]
  },
  {
   "cell_type": "code",
   "execution_count": 10,
   "metadata": {
    "ExecuteTime": {
     "end_time": "2022-05-06T07:53:45.359637Z",
     "start_time": "2022-05-06T07:47:34.731151Z"
    },
    "colab": {
     "base_uri": "https://localhost:8080/"
    },
    "id": "zl8sqHx2Z62z",
    "outputId": "dfd45b83-b77c-4da8-9154-54e28237b021"
   },
   "outputs": [
    {
     "name": "stdout",
     "output_type": "stream",
     "text": [
      "Epoch 1/20\n",
      "313/313 [==============================] - ETA: 0s - loss: 0.6926 - acc: 0.5133\n",
      "Epoch 1: val_acc improved from -inf to 0.50140, saving model to GRU_model.h5\n",
      "313/313 [==============================] - 53s 155ms/step - loss: 0.6926 - acc: 0.5133 - val_loss: 0.6928 - val_acc: 0.5014\n",
      "Epoch 2/20\n",
      "313/313 [==============================] - ETA: 0s - loss: 0.6909 - acc: 0.5214\n",
      "Epoch 2: val_acc improved from 0.50140 to 0.51440, saving model to GRU_model.h5\n",
      "313/313 [==============================] - 41s 131ms/step - loss: 0.6909 - acc: 0.5214 - val_loss: 0.6916 - val_acc: 0.5144\n",
      "Epoch 3/20\n",
      "313/313 [==============================] - ETA: 0s - loss: 0.6897 - acc: 0.5231\n",
      "Epoch 3: val_acc did not improve from 0.51440\n",
      "313/313 [==============================] - 41s 132ms/step - loss: 0.6897 - acc: 0.5231 - val_loss: 0.6916 - val_acc: 0.5142\n",
      "Epoch 4/20\n",
      "313/313 [==============================] - ETA: 0s - loss: 0.6891 - acc: 0.5280\n",
      "Epoch 4: val_acc did not improve from 0.51440\n",
      "313/313 [==============================] - 42s 133ms/step - loss: 0.6891 - acc: 0.5280 - val_loss: 0.6925 - val_acc: 0.5134\n",
      "Epoch 5/20\n",
      "313/313 [==============================] - ETA: 0s - loss: 0.6891 - acc: 0.5300\n",
      "Epoch 5: val_acc improved from 0.51440 to 0.51860, saving model to GRU_model.h5\n",
      "313/313 [==============================] - 42s 133ms/step - loss: 0.6891 - acc: 0.5300 - val_loss: 0.6912 - val_acc: 0.5186\n",
      "Epoch 6/20\n",
      "313/313 [==============================] - ETA: 0s - loss: 0.6892 - acc: 0.5289\n",
      "Epoch 6: val_acc improved from 0.51860 to 0.52340, saving model to GRU_model.h5\n",
      "313/313 [==============================] - 42s 135ms/step - loss: 0.6892 - acc: 0.5289 - val_loss: 0.6911 - val_acc: 0.5234\n",
      "Epoch 7/20\n",
      "313/313 [==============================] - ETA: 0s - loss: 0.6886 - acc: 0.5281\n",
      "Epoch 7: val_acc improved from 0.52340 to 0.52460, saving model to GRU_model.h5\n",
      "313/313 [==============================] - 42s 133ms/step - loss: 0.6886 - acc: 0.5281 - val_loss: 0.6906 - val_acc: 0.5246\n",
      "Epoch 8/20\n",
      "313/313 [==============================] - ETA: 0s - loss: 0.6881 - acc: 0.5352\n",
      "Epoch 8: val_acc improved from 0.52460 to 0.52560, saving model to GRU_model.h5\n",
      "313/313 [==============================] - 42s 134ms/step - loss: 0.6881 - acc: 0.5352 - val_loss: 0.6915 - val_acc: 0.5256\n",
      "Epoch 9/20\n",
      "212/313 [===================>..........] - ETA: 12s - loss: 0.6881 - acc: 0.5318"
     ]
    },
    {
     "ename": "KeyboardInterrupt",
     "evalue": "",
     "output_type": "error",
     "traceback": [
      "\u001b[0;31m---------------------------------------------------------------------------\u001b[0m",
      "\u001b[0;31mKeyboardInterrupt\u001b[0m                         Traceback (most recent call last)",
      "\u001b[0;32m<ipython-input-10-de28b012d9ee>\u001b[0m in \u001b[0;36m<module>\u001b[0;34m\u001b[0m\n\u001b[1;32m     11\u001b[0m \u001b[0;34m\u001b[0m\u001b[0m\n\u001b[1;32m     12\u001b[0m \u001b[0mmodel\u001b[0m\u001b[0;34m.\u001b[0m\u001b[0mcompile\u001b[0m\u001b[0;34m(\u001b[0m\u001b[0moptimizer\u001b[0m\u001b[0;34m=\u001b[0m\u001b[0mtf\u001b[0m\u001b[0;34m.\u001b[0m\u001b[0mkeras\u001b[0m\u001b[0;34m.\u001b[0m\u001b[0moptimizers\u001b[0m\u001b[0;34m.\u001b[0m\u001b[0mAdam\u001b[0m\u001b[0;34m(\u001b[0m\u001b[0mlearning_rate\u001b[0m\u001b[0;34m=\u001b[0m\u001b[0;36m0.001\u001b[0m\u001b[0;34m)\u001b[0m\u001b[0;34m,\u001b[0m \u001b[0mloss\u001b[0m\u001b[0;34m=\u001b[0m\u001b[0;34m'binary_crossentropy'\u001b[0m\u001b[0;34m,\u001b[0m \u001b[0mmetrics\u001b[0m\u001b[0;34m=\u001b[0m\u001b[0;34m[\u001b[0m\u001b[0;34m'acc'\u001b[0m\u001b[0;34m]\u001b[0m\u001b[0;34m)\u001b[0m\u001b[0;34m\u001b[0m\u001b[0;34m\u001b[0m\u001b[0m\n\u001b[0;32m---> 13\u001b[0;31m \u001b[0mhistory\u001b[0m \u001b[0;34m=\u001b[0m \u001b[0mmodel\u001b[0m\u001b[0;34m.\u001b[0m\u001b[0mfit\u001b[0m\u001b[0;34m(\u001b[0m\u001b[0mX_train\u001b[0m\u001b[0;34m,\u001b[0m \u001b[0my_train\u001b[0m\u001b[0;34m,\u001b[0m \u001b[0mepochs\u001b[0m\u001b[0;34m=\u001b[0m\u001b[0;36m20\u001b[0m\u001b[0;34m,\u001b[0m \u001b[0mcallbacks\u001b[0m\u001b[0;34m=\u001b[0m\u001b[0;34m[\u001b[0m\u001b[0mes\u001b[0m\u001b[0;34m,\u001b[0m \u001b[0mmc\u001b[0m\u001b[0;34m]\u001b[0m\u001b[0;34m,\u001b[0m \u001b[0mbatch_size\u001b[0m\u001b[0;34m=\u001b[0m\u001b[0;36m64\u001b[0m\u001b[0;34m,\u001b[0m \u001b[0mvalidation_split\u001b[0m\u001b[0;34m=\u001b[0m\u001b[0;36m0.2\u001b[0m\u001b[0;34m)\u001b[0m\u001b[0;34m\u001b[0m\u001b[0;34m\u001b[0m\u001b[0m\n\u001b[0m",
      "\u001b[0;32m/opt/homebrew/Caskroom/miniforge/base/envs/study/lib/python3.9/site-packages/keras/utils/traceback_utils.py\u001b[0m in \u001b[0;36merror_handler\u001b[0;34m(*args, **kwargs)\u001b[0m\n\u001b[1;32m     62\u001b[0m     \u001b[0mfiltered_tb\u001b[0m \u001b[0;34m=\u001b[0m \u001b[0;32mNone\u001b[0m\u001b[0;34m\u001b[0m\u001b[0;34m\u001b[0m\u001b[0m\n\u001b[1;32m     63\u001b[0m     \u001b[0;32mtry\u001b[0m\u001b[0;34m:\u001b[0m\u001b[0;34m\u001b[0m\u001b[0;34m\u001b[0m\u001b[0m\n\u001b[0;32m---> 64\u001b[0;31m       \u001b[0;32mreturn\u001b[0m \u001b[0mfn\u001b[0m\u001b[0;34m(\u001b[0m\u001b[0;34m*\u001b[0m\u001b[0margs\u001b[0m\u001b[0;34m,\u001b[0m \u001b[0;34m**\u001b[0m\u001b[0mkwargs\u001b[0m\u001b[0;34m)\u001b[0m\u001b[0;34m\u001b[0m\u001b[0;34m\u001b[0m\u001b[0m\n\u001b[0m\u001b[1;32m     65\u001b[0m     \u001b[0;32mexcept\u001b[0m \u001b[0mException\u001b[0m \u001b[0;32mas\u001b[0m \u001b[0me\u001b[0m\u001b[0;34m:\u001b[0m  \u001b[0;31m# pylint: disable=broad-except\u001b[0m\u001b[0;34m\u001b[0m\u001b[0;34m\u001b[0m\u001b[0m\n\u001b[1;32m     66\u001b[0m       \u001b[0mfiltered_tb\u001b[0m \u001b[0;34m=\u001b[0m \u001b[0m_process_traceback_frames\u001b[0m\u001b[0;34m(\u001b[0m\u001b[0me\u001b[0m\u001b[0;34m.\u001b[0m\u001b[0m__traceback__\u001b[0m\u001b[0;34m)\u001b[0m\u001b[0;34m\u001b[0m\u001b[0;34m\u001b[0m\u001b[0m\n",
      "\u001b[0;32m/opt/homebrew/Caskroom/miniforge/base/envs/study/lib/python3.9/site-packages/keras/engine/training.py\u001b[0m in \u001b[0;36mfit\u001b[0;34m(self, x, y, batch_size, epochs, verbose, callbacks, validation_split, validation_data, shuffle, class_weight, sample_weight, initial_epoch, steps_per_epoch, validation_steps, validation_batch_size, validation_freq, max_queue_size, workers, use_multiprocessing)\u001b[0m\n\u001b[1;32m   1382\u001b[0m                 _r=1):\n\u001b[1;32m   1383\u001b[0m               \u001b[0mcallbacks\u001b[0m\u001b[0;34m.\u001b[0m\u001b[0mon_train_batch_begin\u001b[0m\u001b[0;34m(\u001b[0m\u001b[0mstep\u001b[0m\u001b[0;34m)\u001b[0m\u001b[0;34m\u001b[0m\u001b[0;34m\u001b[0m\u001b[0m\n\u001b[0;32m-> 1384\u001b[0;31m               \u001b[0mtmp_logs\u001b[0m \u001b[0;34m=\u001b[0m \u001b[0mself\u001b[0m\u001b[0;34m.\u001b[0m\u001b[0mtrain_function\u001b[0m\u001b[0;34m(\u001b[0m\u001b[0miterator\u001b[0m\u001b[0;34m)\u001b[0m\u001b[0;34m\u001b[0m\u001b[0;34m\u001b[0m\u001b[0m\n\u001b[0m\u001b[1;32m   1385\u001b[0m               \u001b[0;32mif\u001b[0m \u001b[0mdata_handler\u001b[0m\u001b[0;34m.\u001b[0m\u001b[0mshould_sync\u001b[0m\u001b[0;34m:\u001b[0m\u001b[0;34m\u001b[0m\u001b[0;34m\u001b[0m\u001b[0m\n\u001b[1;32m   1386\u001b[0m                 \u001b[0mcontext\u001b[0m\u001b[0;34m.\u001b[0m\u001b[0masync_wait\u001b[0m\u001b[0;34m(\u001b[0m\u001b[0;34m)\u001b[0m\u001b[0;34m\u001b[0m\u001b[0;34m\u001b[0m\u001b[0m\n",
      "\u001b[0;32m/opt/homebrew/Caskroom/miniforge/base/envs/study/lib/python3.9/site-packages/tensorflow/python/util/traceback_utils.py\u001b[0m in \u001b[0;36merror_handler\u001b[0;34m(*args, **kwargs)\u001b[0m\n\u001b[1;32m    148\u001b[0m     \u001b[0mfiltered_tb\u001b[0m \u001b[0;34m=\u001b[0m \u001b[0;32mNone\u001b[0m\u001b[0;34m\u001b[0m\u001b[0;34m\u001b[0m\u001b[0m\n\u001b[1;32m    149\u001b[0m     \u001b[0;32mtry\u001b[0m\u001b[0;34m:\u001b[0m\u001b[0;34m\u001b[0m\u001b[0;34m\u001b[0m\u001b[0m\n\u001b[0;32m--> 150\u001b[0;31m       \u001b[0;32mreturn\u001b[0m \u001b[0mfn\u001b[0m\u001b[0;34m(\u001b[0m\u001b[0;34m*\u001b[0m\u001b[0margs\u001b[0m\u001b[0;34m,\u001b[0m \u001b[0;34m**\u001b[0m\u001b[0mkwargs\u001b[0m\u001b[0;34m)\u001b[0m\u001b[0;34m\u001b[0m\u001b[0;34m\u001b[0m\u001b[0m\n\u001b[0m\u001b[1;32m    151\u001b[0m     \u001b[0;32mexcept\u001b[0m \u001b[0mException\u001b[0m \u001b[0;32mas\u001b[0m \u001b[0me\u001b[0m\u001b[0;34m:\u001b[0m\u001b[0;34m\u001b[0m\u001b[0;34m\u001b[0m\u001b[0m\n\u001b[1;32m    152\u001b[0m       \u001b[0mfiltered_tb\u001b[0m \u001b[0;34m=\u001b[0m \u001b[0m_process_traceback_frames\u001b[0m\u001b[0;34m(\u001b[0m\u001b[0me\u001b[0m\u001b[0;34m.\u001b[0m\u001b[0m__traceback__\u001b[0m\u001b[0;34m)\u001b[0m\u001b[0;34m\u001b[0m\u001b[0;34m\u001b[0m\u001b[0m\n",
      "\u001b[0;32m/opt/homebrew/Caskroom/miniforge/base/envs/study/lib/python3.9/site-packages/tensorflow/python/eager/def_function.py\u001b[0m in \u001b[0;36m__call__\u001b[0;34m(self, *args, **kwds)\u001b[0m\n\u001b[1;32m    913\u001b[0m \u001b[0;34m\u001b[0m\u001b[0m\n\u001b[1;32m    914\u001b[0m       \u001b[0;32mwith\u001b[0m \u001b[0mOptionalXlaContext\u001b[0m\u001b[0;34m(\u001b[0m\u001b[0mself\u001b[0m\u001b[0;34m.\u001b[0m\u001b[0m_jit_compile\u001b[0m\u001b[0;34m)\u001b[0m\u001b[0;34m:\u001b[0m\u001b[0;34m\u001b[0m\u001b[0;34m\u001b[0m\u001b[0m\n\u001b[0;32m--> 915\u001b[0;31m         \u001b[0mresult\u001b[0m \u001b[0;34m=\u001b[0m \u001b[0mself\u001b[0m\u001b[0;34m.\u001b[0m\u001b[0m_call\u001b[0m\u001b[0;34m(\u001b[0m\u001b[0;34m*\u001b[0m\u001b[0margs\u001b[0m\u001b[0;34m,\u001b[0m \u001b[0;34m**\u001b[0m\u001b[0mkwds\u001b[0m\u001b[0;34m)\u001b[0m\u001b[0;34m\u001b[0m\u001b[0;34m\u001b[0m\u001b[0m\n\u001b[0m\u001b[1;32m    916\u001b[0m \u001b[0;34m\u001b[0m\u001b[0m\n\u001b[1;32m    917\u001b[0m       \u001b[0mnew_tracing_count\u001b[0m \u001b[0;34m=\u001b[0m \u001b[0mself\u001b[0m\u001b[0;34m.\u001b[0m\u001b[0mexperimental_get_tracing_count\u001b[0m\u001b[0;34m(\u001b[0m\u001b[0;34m)\u001b[0m\u001b[0;34m\u001b[0m\u001b[0;34m\u001b[0m\u001b[0m\n",
      "\u001b[0;32m/opt/homebrew/Caskroom/miniforge/base/envs/study/lib/python3.9/site-packages/tensorflow/python/eager/def_function.py\u001b[0m in \u001b[0;36m_call\u001b[0;34m(self, *args, **kwds)\u001b[0m\n\u001b[1;32m    945\u001b[0m       \u001b[0;31m# In this case we have created variables on the first call, so we run the\u001b[0m\u001b[0;34m\u001b[0m\u001b[0;34m\u001b[0m\u001b[0m\n\u001b[1;32m    946\u001b[0m       \u001b[0;31m# defunned version which is guaranteed to never create variables.\u001b[0m\u001b[0;34m\u001b[0m\u001b[0;34m\u001b[0m\u001b[0m\n\u001b[0;32m--> 947\u001b[0;31m       \u001b[0;32mreturn\u001b[0m \u001b[0mself\u001b[0m\u001b[0;34m.\u001b[0m\u001b[0m_stateless_fn\u001b[0m\u001b[0;34m(\u001b[0m\u001b[0;34m*\u001b[0m\u001b[0margs\u001b[0m\u001b[0;34m,\u001b[0m \u001b[0;34m**\u001b[0m\u001b[0mkwds\u001b[0m\u001b[0;34m)\u001b[0m  \u001b[0;31m# pylint: disable=not-callable\u001b[0m\u001b[0;34m\u001b[0m\u001b[0;34m\u001b[0m\u001b[0m\n\u001b[0m\u001b[1;32m    948\u001b[0m     \u001b[0;32melif\u001b[0m \u001b[0mself\u001b[0m\u001b[0;34m.\u001b[0m\u001b[0m_stateful_fn\u001b[0m \u001b[0;32mis\u001b[0m \u001b[0;32mnot\u001b[0m \u001b[0;32mNone\u001b[0m\u001b[0;34m:\u001b[0m\u001b[0;34m\u001b[0m\u001b[0;34m\u001b[0m\u001b[0m\n\u001b[1;32m    949\u001b[0m       \u001b[0;31m# Release the lock early so that multiple threads can perform the call\u001b[0m\u001b[0;34m\u001b[0m\u001b[0;34m\u001b[0m\u001b[0m\n",
      "\u001b[0;32m/opt/homebrew/Caskroom/miniforge/base/envs/study/lib/python3.9/site-packages/tensorflow/python/eager/function.py\u001b[0m in \u001b[0;36m__call__\u001b[0;34m(self, *args, **kwargs)\u001b[0m\n\u001b[1;32m   2954\u001b[0m       (graph_function,\n\u001b[1;32m   2955\u001b[0m        filtered_flat_args) = self._maybe_define_function(args, kwargs)\n\u001b[0;32m-> 2956\u001b[0;31m     return graph_function._call_flat(\n\u001b[0m\u001b[1;32m   2957\u001b[0m         filtered_flat_args, captured_inputs=graph_function.captured_inputs)  # pylint: disable=protected-access\n\u001b[1;32m   2958\u001b[0m \u001b[0;34m\u001b[0m\u001b[0m\n",
      "\u001b[0;32m/opt/homebrew/Caskroom/miniforge/base/envs/study/lib/python3.9/site-packages/tensorflow/python/eager/function.py\u001b[0m in \u001b[0;36m_call_flat\u001b[0;34m(self, args, captured_inputs, cancellation_manager)\u001b[0m\n\u001b[1;32m   1851\u001b[0m         and executing_eagerly):\n\u001b[1;32m   1852\u001b[0m       \u001b[0;31m# No tape is watching; skip to running the function.\u001b[0m\u001b[0;34m\u001b[0m\u001b[0;34m\u001b[0m\u001b[0m\n\u001b[0;32m-> 1853\u001b[0;31m       return self._build_call_outputs(self._inference_function.call(\n\u001b[0m\u001b[1;32m   1854\u001b[0m           ctx, args, cancellation_manager=cancellation_manager))\n\u001b[1;32m   1855\u001b[0m     forward_backward = self._select_forward_and_backward_functions(\n",
      "\u001b[0;32m/opt/homebrew/Caskroom/miniforge/base/envs/study/lib/python3.9/site-packages/tensorflow/python/eager/function.py\u001b[0m in \u001b[0;36mcall\u001b[0;34m(self, ctx, args, cancellation_manager)\u001b[0m\n\u001b[1;32m    497\u001b[0m       \u001b[0;32mwith\u001b[0m \u001b[0m_InterpolateFunctionError\u001b[0m\u001b[0;34m(\u001b[0m\u001b[0mself\u001b[0m\u001b[0;34m)\u001b[0m\u001b[0;34m:\u001b[0m\u001b[0;34m\u001b[0m\u001b[0;34m\u001b[0m\u001b[0m\n\u001b[1;32m    498\u001b[0m         \u001b[0;32mif\u001b[0m \u001b[0mcancellation_manager\u001b[0m \u001b[0;32mis\u001b[0m \u001b[0;32mNone\u001b[0m\u001b[0;34m:\u001b[0m\u001b[0;34m\u001b[0m\u001b[0;34m\u001b[0m\u001b[0m\n\u001b[0;32m--> 499\u001b[0;31m           outputs = execute.execute(\n\u001b[0m\u001b[1;32m    500\u001b[0m               \u001b[0mstr\u001b[0m\u001b[0;34m(\u001b[0m\u001b[0mself\u001b[0m\u001b[0;34m.\u001b[0m\u001b[0msignature\u001b[0m\u001b[0;34m.\u001b[0m\u001b[0mname\u001b[0m\u001b[0;34m)\u001b[0m\u001b[0;34m,\u001b[0m\u001b[0;34m\u001b[0m\u001b[0;34m\u001b[0m\u001b[0m\n\u001b[1;32m    501\u001b[0m               \u001b[0mnum_outputs\u001b[0m\u001b[0;34m=\u001b[0m\u001b[0mself\u001b[0m\u001b[0;34m.\u001b[0m\u001b[0m_num_outputs\u001b[0m\u001b[0;34m,\u001b[0m\u001b[0;34m\u001b[0m\u001b[0;34m\u001b[0m\u001b[0m\n",
      "\u001b[0;32m/opt/homebrew/Caskroom/miniforge/base/envs/study/lib/python3.9/site-packages/tensorflow/python/eager/execute.py\u001b[0m in \u001b[0;36mquick_execute\u001b[0;34m(op_name, num_outputs, inputs, attrs, ctx, name)\u001b[0m\n\u001b[1;32m     52\u001b[0m   \u001b[0;32mtry\u001b[0m\u001b[0;34m:\u001b[0m\u001b[0;34m\u001b[0m\u001b[0;34m\u001b[0m\u001b[0m\n\u001b[1;32m     53\u001b[0m     \u001b[0mctx\u001b[0m\u001b[0;34m.\u001b[0m\u001b[0mensure_initialized\u001b[0m\u001b[0;34m(\u001b[0m\u001b[0;34m)\u001b[0m\u001b[0;34m\u001b[0m\u001b[0;34m\u001b[0m\u001b[0m\n\u001b[0;32m---> 54\u001b[0;31m     tensors = pywrap_tfe.TFE_Py_Execute(ctx._handle, device_name, op_name,\n\u001b[0m\u001b[1;32m     55\u001b[0m                                         inputs, attrs, num_outputs)\n\u001b[1;32m     56\u001b[0m   \u001b[0;32mexcept\u001b[0m \u001b[0mcore\u001b[0m\u001b[0;34m.\u001b[0m\u001b[0m_NotOkStatusException\u001b[0m \u001b[0;32mas\u001b[0m \u001b[0me\u001b[0m\u001b[0;34m:\u001b[0m\u001b[0;34m\u001b[0m\u001b[0;34m\u001b[0m\u001b[0m\n",
      "\u001b[0;31mKeyboardInterrupt\u001b[0m: "
     ]
    }
   ],
   "source": [
    "embedding_dim = 100\n",
    "hidden_units = 128\n",
    "\n",
    "model = Sequential()\n",
    "model.add(Embedding(vocab_size, embedding_dim))\n",
    "model.add(GRU(hidden_units))\n",
    "model.add(Dense(1, activation='sigmoid'))\n",
    "\n",
    "es = EarlyStopping(monitor='val_loss', mode='min', verbose=1, patience=10)\n",
    "mc = ModelCheckpoint('GRU_model.h5', monitor='val_acc', mode='max', verbose=1, save_best_only=True)\n",
    "\n",
    "model.compile(optimizer=tf.keras.optimizers.Adam(learning_rate=0.001), loss='binary_crossentropy', metrics=['acc'])\n",
    "history = model.fit(X_train, y_train, epochs=20, callbacks=[es, mc], batch_size=64, validation_split=0.2)"
   ]
  },
  {
   "cell_type": "code",
   "execution_count": 19,
   "metadata": {
    "ExecuteTime": {
     "end_time": "2022-05-06T07:55:43.525824Z",
     "start_time": "2022-05-06T07:55:05.045996Z"
    },
    "colab": {
     "base_uri": "https://localhost:8080/"
    },
    "id": "i_NVvblrZ9YU",
    "outputId": "fb205a13-3d0c-4aa9-9d6a-3acb5e50c511"
   },
   "outputs": [
    {
     "name": "stdout",
     "output_type": "stream",
     "text": [
      "782/782 [==============================] - 38s 47ms/step - loss: 0.2773 - acc: 0.8950\n",
      "\n",
      " 테스트 정확도: 0.8950\n"
     ]
    }
   ],
   "source": [
    "loaded_model = load_model('/Users/suchan/study/파이널 프로젝트/0506_GRU_model.h5')\n",
    "print(\"\\n 테스트 정확도: %.4f\" % (loaded_model.evaluate(X_test, y_test)[1]))"
   ]
  },
  {
   "cell_type": "code",
   "execution_count": 20,
   "metadata": {
    "ExecuteTime": {
     "end_time": "2022-05-06T07:56:07.780035Z",
     "start_time": "2022-05-06T07:56:07.770281Z"
    },
    "id": "ueNfi5htaCku"
   },
   "outputs": [],
   "source": [
    "def sentiment_predict(new_sentence):\n",
    "    # 알파벳과 숫자를 제외하고 모두 제거 및 알파벳 소문자화\n",
    "    new_sentence = re.sub('[^0-9a-zA-Z ]', '', new_sentence).lower()\n",
    "    encoded = []\n",
    "\n",
    "    # 띄어쓰기 단위 토큰화 후 정수 인코딩\n",
    "    for word in new_sentence.split():\n",
    "        try:\n",
    "            # 단어 집합의 크기를 10,000으로 제한.\n",
    "            if word_to_index[word] <= 10000:\n",
    "                encoded.append(word_to_index[word]+3)\n",
    "            else:\n",
    "                # 10,000 이상의 숫자는 <unk> 토큰으로 변환.\n",
    "                encoded.append(2)\n",
    "        # 단어 집합에 없는 단어는 <unk> 토큰으로 변환.\n",
    "        except:\n",
    "            encoded.append(2)\n",
    "\n",
    "    pad_sequence = pad_sequences([encoded], maxlen=max_len)\n",
    "    score = float(loaded_model.predict(pad_sequence))  # 예측\n",
    "\n",
    "    if(score > 0.6):\n",
    "        return 0\n",
    "    else:\n",
    "        return 1"
   ]
  },
  {
   "cell_type": "code",
   "execution_count": 21,
   "metadata": {
    "ExecuteTime": {
     "end_time": "2022-05-06T07:56:09.656719Z",
     "start_time": "2022-05-06T07:56:09.423701Z"
    },
    "colab": {
     "base_uri": "https://localhost:8080/",
     "height": 423
    },
    "id": "JaCTSzKcFspp",
    "outputId": "b1b8a45d-daf7-4bbe-c3d6-cbb20ceb56f8"
   },
   "outputs": [],
   "source": [
    "import pandas as pd\n",
    "eng = pd.read_csv('/Users/suchan/study/파이널 프로젝트/0505_ENG_Korean.csv')"
   ]
  },
  {
   "cell_type": "code",
   "execution_count": null,
   "metadata": {
    "id": "_V3Ol46CaO5L"
   },
   "outputs": [],
   "source": [
    "# senti_final = []\n",
    "# for i in range(0, 5):\n",
    "#   test_input = eng['reviews'][i]\n",
    "#   re_senti = sentiment_predict(test_input)\n",
    "#   senti_final.append(re_senti)\n",
    "# senti_final"
   ]
  },
  {
   "cell_type": "code",
   "execution_count": 22,
   "metadata": {
    "ExecuteTime": {
     "end_time": "2022-05-06T07:56:12.744327Z",
     "start_time": "2022-05-06T07:56:12.727656Z"
    }
   },
   "outputs": [],
   "source": [
    "from tqdm import tqdm"
   ]
  },
  {
   "cell_type": "code",
   "execution_count": 23,
   "metadata": {
    "ExecuteTime": {
     "end_time": "2022-05-06T08:24:45.581699Z",
     "start_time": "2022-05-06T07:56:17.078321Z"
    },
    "colab": {
     "base_uri": "https://localhost:8080/",
     "height": 1000
    },
    "id": "-hP-3qyicFGF",
    "outputId": "de61e56a-d2bf-43a1-c0ff-4cf80cc036cf"
   },
   "outputs": [
    {
     "name": "stderr",
     "output_type": "stream",
     "text": [
      "100%|██████████| 27699/27699 [28:28<00:00, 16.21it/s]\n"
     ]
    }
   ],
   "source": [
    "pos_neg = []\n",
    "for i in tqdm(range(len(eng['reviews']))):\n",
    "    sentiment = sentiment_predict(eng['reviews'][i])\n",
    "    pos_neg.append(sentiment)"
   ]
  },
  {
   "cell_type": "code",
   "execution_count": 24,
   "metadata": {
    "ExecuteTime": {
     "end_time": "2022-05-06T08:24:52.551996Z",
     "start_time": "2022-05-06T08:24:52.530814Z"
    },
    "colab": {
     "base_uri": "https://localhost:8080/"
    },
    "id": "aWp1n3sOiSuX",
    "outputId": "4a232f91-80ab-4ad6-aca6-7d404d41c10c"
   },
   "outputs": [],
   "source": [
    "eng['pos_neg'] = pos_neg"
   ]
  },
  {
   "cell_type": "code",
   "execution_count": 32,
   "metadata": {
    "ExecuteTime": {
     "end_time": "2022-05-06T08:29:12.965836Z",
     "start_time": "2022-05-06T08:29:12.817664Z"
    },
    "scrolled": false
   },
   "outputs": [
    {
     "name": "stdout",
     "output_type": "stream",
     "text": [
      "악의마음을읽는자들\n",
      "0    121\n",
      "1     57\n",
      "Name: pos_neg, dtype: int64\n",
      "라이프온마스\n",
      "0    73\n",
      "1    21\n",
      "Name: pos_neg, dtype: int64\n",
      "옷소매붉은끝동\n",
      "0    886\n",
      "1    510\n",
      "Name: pos_neg, dtype: int64\n",
      "이구역의미친X\n",
      "0    70\n",
      "1    31\n",
      "Name: pos_neg, dtype: int64\n",
      "어느날우리집현관으로멸망이들어왔다\n",
      "0    397\n",
      "1    229\n",
      "Name: pos_neg, dtype: int64\n",
      "스물다섯스물하나\n",
      "0    877\n",
      "1    502\n",
      "Name: pos_neg, dtype: int64\n",
      "무브투헤븐:나는유품정리사입니다\n",
      "0    155\n",
      "1     41\n",
      "Name: pos_neg, dtype: int64\n",
      "호텔델루나\n",
      "0    588\n",
      "1    258\n",
      "Name: pos_neg, dtype: int64\n",
      "하늘에서내리는일억개의별\n",
      "0    159\n",
      "1     86\n",
      "Name: pos_neg, dtype: int64\n",
      "기름진멜로\n",
      "0    35\n",
      "1    28\n",
      "Name: pos_neg, dtype: int64\n",
      "악의꽃\n",
      "0    512\n",
      "1    161\n",
      "Name: pos_neg, dtype: int64\n",
      "서른이지만열일곱입니다\n",
      "0    109\n",
      "1     21\n",
      "Name: pos_neg, dtype: int64\n",
      "킹덤\n",
      "0    280\n",
      "1     68\n",
      "Name: pos_neg, dtype: int64\n",
      "작은신의아이들\n",
      "1    11\n",
      "0     9\n",
      "Name: pos_neg, dtype: int64\n",
      "검색어를입력하세요WWW\n",
      "0    130\n",
      "1     45\n",
      "Name: pos_neg, dtype: int64\n",
      "술꾼도시여자들\n",
      "0    25\n",
      "1    21\n",
      "Name: pos_neg, dtype: int64\n",
      "한번다녀왔습니다\n",
      "0    53\n",
      "1    28\n",
      "Name: pos_neg, dtype: int64\n",
      "서른아홉\n",
      "0    57\n",
      "1    47\n",
      "Name: pos_neg, dtype: int64\n",
      "오월의청춘\n",
      "0    240\n",
      "1     80\n",
      "Name: pos_neg, dtype: int64\n",
      "트랩\n",
      "0    5\n",
      "1    3\n",
      "Name: pos_neg, dtype: int64\n",
      "왓쳐\n",
      "0    28\n",
      "1     7\n",
      "Name: pos_neg, dtype: int64\n",
      "아는와이프\n",
      "0    39\n",
      "1    19\n",
      "Name: pos_neg, dtype: int64\n",
      "자백\n",
      "0    23\n",
      "1     9\n",
      "Name: pos_neg, dtype: int64\n",
      "60일지정생존자\n",
      "0    81\n",
      "1    41\n",
      "Name: pos_neg, dtype: int64\n",
      "시맨틱에러\n",
      "0    475\n",
      "1    165\n",
      "Name: pos_neg, dtype: int64\n",
      "녹두꽃\n",
      "0    38\n",
      "1    13\n",
      "Name: pos_neg, dtype: int64\n",
      "백일의낭군님\n",
      "0    131\n",
      "1     55\n",
      "Name: pos_neg, dtype: int64\n",
      "괴물\n",
      "0    353\n",
      "1    114\n",
      "Name: pos_neg, dtype: int64\n",
      "태종이방원\n",
      "1    18\n",
      "0    17\n",
      "Name: pos_neg, dtype: int64\n",
      "사이코지만괜찮아\n",
      "0    1344\n",
      "1     609\n",
      "Name: pos_neg, dtype: int64\n",
      "런온\n",
      "0    472\n",
      "1    228\n",
      "Name: pos_neg, dtype: int64\n",
      "365:운명을거스르는1년\n",
      "0    60\n",
      "1    23\n",
      "Name: pos_neg, dtype: int64\n",
      "시를잊은그대에게\n",
      "0    31\n",
      "1    17\n",
      "Name: pos_neg, dtype: int64\n",
      "인간수업\n",
      "0    170\n",
      "1     89\n",
      "Name: pos_neg, dtype: int64\n",
      "으라차차와이키키\n",
      "0    78\n",
      "1    40\n",
      "Name: pos_neg, dtype: int64\n",
      "우수무당가두심\n",
      "0    24\n",
      "1    11\n",
      "Name: pos_neg, dtype: int64\n",
      "트레이서\n",
      "0    25\n",
      "1    18\n",
      "Name: pos_neg, dtype: int64\n",
      "사내맞선\n",
      "0    687\n",
      "1    469\n",
      "Name: pos_neg, dtype: int64\n",
      "구경이\n",
      "0    56\n",
      "1    23\n",
      "Name: pos_neg, dtype: int64\n",
      "어쩌다발견한하루\n",
      "0    293\n",
      "1    192\n",
      "Name: pos_neg, dtype: int64\n",
      "김비서가왜그럴까\n",
      "0    226\n",
      "1    119\n",
      "Name: pos_neg, dtype: int64\n",
      "나의아저씨\n",
      "0    489\n",
      "1    135\n",
      "Name: pos_neg, dtype: int64\n",
      "카이로스\n",
      "0    69\n",
      "1    35\n",
      "Name: pos_neg, dtype: int64\n",
      "18어게인\n",
      "0    190\n",
      "1     72\n",
      "Name: pos_neg, dtype: int64\n",
      "D.P.\n",
      "0    239\n",
      "1     45\n",
      "Name: pos_neg, dtype: int64\n",
      "로스쿨\n",
      "0    159\n",
      "1     79\n",
      "Name: pos_neg, dtype: int64\n",
      "대박부동산\n",
      "0    105\n",
      "1     50\n",
      "Name: pos_neg, dtype: int64\n",
      "사랑의불시착\n",
      "0    940\n",
      "1    213\n",
      "Name: pos_neg, dtype: int64\n",
      "스토브리그\n",
      "0    61\n",
      "1    12\n",
      "Name: pos_neg, dtype: int64\n",
      "단하나의사랑\n",
      "0    142\n",
      "1     69\n",
      "Name: pos_neg, dtype: int64\n",
      "안녕나야\n",
      "0    57\n",
      "1    24\n",
      "Name: pos_neg, dtype: int64\n",
      "그림자미녀\n",
      "0    29\n",
      "1    13\n",
      "Name: pos_neg, dtype: int64\n",
      "도시남녀의사랑법\n",
      "0    289\n",
      "1    115\n",
      "Name: pos_neg, dtype: int64\n",
      "본대로말하라\n",
      "0    37\n",
      "1    19\n",
      "Name: pos_neg, dtype: int64\n",
      "내뒤에테리우스\n",
      "0    51\n",
      "1    17\n",
      "Name: pos_neg, dtype: int64\n",
      "월간집\n",
      "0    75\n",
      "1    59\n",
      "Name: pos_neg, dtype: int64\n",
      "비밀의숲\n",
      "0    314\n",
      "1     74\n",
      "Name: pos_neg, dtype: int64\n",
      "나빌레라\n",
      "0    126\n",
      "1     25\n",
      "Name: pos_neg, dtype: int64\n",
      "슬기로운의사생활\n",
      "0    363\n",
      "1    172\n",
      "Name: pos_neg, dtype: int64\n",
      "스카이캐슬\n",
      "0    194\n",
      "1     56\n",
      "Name: pos_neg, dtype: int64\n",
      "하이에나\n",
      "0    72\n",
      "1    26\n",
      "Name: pos_neg, dtype: int64\n",
      "라이브\n",
      "0    81\n",
      "1    11\n",
      "Name: pos_neg, dtype: int64\n",
      "갯마을차차차\n",
      "0    839\n",
      "1    479\n",
      "Name: pos_neg, dtype: int64\n",
      "소년심판\n",
      "0    52\n",
      "1    30\n",
      "Name: pos_neg, dtype: int64\n",
      "그녀의사생활\n",
      "0    178\n",
      "1     95\n",
      "Name: pos_neg, dtype: int64\n",
      "손theguest\n",
      "0    102\n",
      "1     30\n",
      "Name: pos_neg, dtype: int64\n",
      "세빛남고학생회\n",
      "0    419\n",
      "1    240\n",
      "Name: pos_neg, dtype: int64\n",
      "오징어게임\n",
      "0    1054\n",
      "1     551\n",
      "Name: pos_neg, dtype: int64\n",
      "원더우먼\n",
      "0    47\n",
      "1    43\n",
      "Name: pos_neg, dtype: int64\n",
      "우아한친구들\n",
      "0    31\n",
      "1    22\n",
      "Name: pos_neg, dtype: int64\n",
      "낭만닥터김사부\n",
      "0    51\n",
      "1    20\n",
      "Name: pos_neg, dtype: int64\n",
      "마우스\n",
      "0    366\n",
      "1    242\n",
      "Name: pos_neg, dtype: int64\n",
      "지옥\n",
      "0    206\n",
      "1    194\n",
      "Name: pos_neg, dtype: int64\n",
      "왕이된남자\n",
      "0    80\n",
      "1    24\n",
      "Name: pos_neg, dtype: int64\n",
      "라켓소년단\n",
      "0    107\n",
      "1     77\n",
      "Name: pos_neg, dtype: int64\n",
      "유미의세포들\n",
      "0    113\n",
      "1     59\n",
      "Name: pos_neg, dtype: int64\n",
      "부부의세계\n",
      "0    143\n",
      "1     91\n",
      "Name: pos_neg, dtype: int64\n",
      "로맨스는별책부록\n",
      "0    119\n",
      "1     51\n",
      "Name: pos_neg, dtype: int64\n",
      "미스티\n",
      "0    51\n",
      "1    12\n",
      "Name: pos_neg, dtype: int64\n",
      "미치지않고서야\n",
      "1    20\n",
      "0    20\n",
      "Name: pos_neg, dtype: int64\n",
      "마녀식당으로오세요\n",
      "0    41\n",
      "1    13\n",
      "Name: pos_neg, dtype: int64\n",
      "미스터션샤인\n",
      "0    437\n",
      "1     87\n",
      "Name: pos_neg, dtype: int64\n",
      "모범택시\n",
      "0    212\n",
      "1    123\n",
      "Name: pos_neg, dtype: int64\n",
      "사의찬미\n",
      "0    44\n",
      "1    15\n",
      "Name: pos_neg, dtype: int64\n",
      "멜로가체질\n",
      "0    97\n",
      "1    20\n",
      "Name: pos_neg, dtype: int64\n",
      "이리와안아줘\n",
      "0    63\n",
      "1    29\n",
      "Name: pos_neg, dtype: int64\n",
      "보좌관:세상을움직이는사람들\n",
      "0    20\n",
      "1    12\n",
      "Name: pos_neg, dtype: int64\n",
      "뷰티인사이드\n",
      "0    77\n",
      "1    41\n",
      "Name: pos_neg, dtype: int64\n",
      "우리들의블루스\n",
      "0    34\n",
      "1    12\n",
      "Name: pos_neg, dtype: int64\n",
      "해피니스\n",
      "0    255\n",
      "1    145\n",
      "Name: pos_neg, dtype: int64\n",
      "의사요한\n",
      "0    97\n",
      "1    42\n",
      "Name: pos_neg, dtype: int64\n",
      "동백꽃필무렵\n",
      "0    122\n",
      "1     41\n",
      "Name: pos_neg, dtype: int64\n"
     ]
    }
   ],
   "source": [
    "for title in eng.title.unique():\n",
    "    print(title)\n",
    "    print(eng[eng.title == title].pos_neg.value_counts())"
   ]
  },
  {
   "cell_type": "code",
   "execution_count": 58,
   "metadata": {
    "ExecuteTime": {
     "end_time": "2022-05-06T08:46:15.013930Z",
     "start_time": "2022-05-06T08:46:14.691662Z"
    },
    "id": "ZGCHxfg2Gkhc"
   },
   "outputs": [],
   "source": [
    "eng.to_csv('0506_ENG_Korean_plus_Sentiment.csv',index=False)"
   ]
  },
  {
   "cell_type": "code",
   "execution_count": null,
   "metadata": {},
   "outputs": [],
   "source": []
  }
 ],
 "metadata": {
  "colab": {
   "collapsed_sections": [
    "VzNIyEXL44GW",
    "1MGn_FWv4u1-"
   ],
   "name": "리뷰 긍부정",
   "provenance": []
  },
  "hide_input": false,
  "kernelspec": {
   "display_name": "study",
   "language": "python",
   "name": "study"
  },
  "language_info": {
   "codemirror_mode": {
    "name": "ipython",
    "version": 3
   },
   "file_extension": ".py",
   "mimetype": "text/x-python",
   "name": "python",
   "nbconvert_exporter": "python",
   "pygments_lexer": "ipython3",
   "version": "3.9.10"
  },
  "toc": {
   "base_numbering": 1,
   "nav_menu": {},
   "number_sections": true,
   "sideBar": true,
   "skip_h1_title": false,
   "title_cell": "Table of Contents",
   "title_sidebar": "Contents",
   "toc_cell": false,
   "toc_position": {},
   "toc_section_display": true,
   "toc_window_display": false
  },
  "varInspector": {
   "cols": {
    "lenName": 16,
    "lenType": 16,
    "lenVar": 40
   },
   "kernels_config": {
    "python": {
     "delete_cmd_postfix": "",
     "delete_cmd_prefix": "del ",
     "library": "var_list.py",
     "varRefreshCmd": "print(var_dic_list())"
    },
    "r": {
     "delete_cmd_postfix": ") ",
     "delete_cmd_prefix": "rm(",
     "library": "var_list.r",
     "varRefreshCmd": "cat(var_dic_list()) "
    }
   },
   "types_to_exclude": [
    "module",
    "function",
    "builtin_function_or_method",
    "instance",
    "_Feature"
   ],
   "window_display": false
  }
 },
 "nbformat": 4,
 "nbformat_minor": 1
}
