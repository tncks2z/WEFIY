{
 "cells": [
  {
   "cell_type": "markdown",
   "id": "24591505",
   "metadata": {
    "heading_collapsed": true
   },
   "source": [
    "# Crawling"
   ]
  },
  {
   "cell_type": "code",
   "execution_count": null,
   "id": "3c98e59a",
   "metadata": {
    "hidden": true
   },
   "outputs": [],
   "source": [
    "import warnings\n",
    "warnings.filterwarnings('ignore')"
   ]
  },
  {
   "cell_type": "code",
   "execution_count": null,
   "id": "6e58353b",
   "metadata": {
    "hidden": true
   },
   "outputs": [],
   "source": [
    "import time\n",
    "import re\n",
    "from bs4 import BeautifulSoup\n",
    "from tqdm.auto import tqdm\n",
    "from selenium.webdriver import Chrome\n",
    "from selenium.webdriver.common.by import By\n",
    "from selenium.webdriver.common.keys import Keys\n",
    "from selenium.webdriver.support.ui import WebDriverWait\n",
    "from selenium.webdriver.support import expected_conditions as EC\n",
    "from selenium import webdriver\n",
    "from selenium.common.exceptions import TimeoutException\n",
    "from selenium.webdriver.chrome.service import Service"
   ]
  },
  {
   "cell_type": "code",
   "execution_count": null,
   "id": "462b2791",
   "metadata": {
    "hidden": true
   },
   "outputs": [],
   "source": [
    "chrome_driver_path = '/opt/homebrew/Caskroom/chromedriver/100.0.4896.60/chromedriver'\n",
    "options = webdriver.ChromeOptions()\n",
    "options.add_argument(\"headless\")"
   ]
  },
  {
   "cell_type": "code",
   "execution_count": null,
   "id": "67485aba",
   "metadata": {
    "hidden": true
   },
   "outputs": [],
   "source": [
    "# 스크롤 다운\n",
    "def scroll_down(second):\n",
    "    driver.execute_script(\"window.scrollTo(0, document.documentElement.scrollHeight);\")\n",
    "    time.sleep(second)\n",
    "    new = driver.execute_script(\"return document.documentElement.scrollHeight\")\n",
    "    \n",
    "    return new"
   ]
  },
  {
   "cell_type": "code",
   "execution_count": null,
   "id": "07b58c92",
   "metadata": {
    "hidden": true
   },
   "outputs": [],
   "source": [
    "drama_dict = {\n",
    "    'blues': 'https://pedia.watcha.com/ko-KR/contents/tRB6Bp8',\n",
    "    'pachinko': 'https://pedia.watcha.com/ko-KR/contents/tEqZdoj',\n",
    "    'pig': 'https://pedia.watcha.com/ko-KR/contents/tRMxn3g',\n",
    "    'green_mothers': 'https://pedia.watcha.com/ko-KR/contents/tEqZyV2',\n",
    "    'proposal': 'https://pedia.watcha.com/ko-KR/contents/tRbqN1Z',\n",
    "    'twenty_five': 'https://pedia.watcha.com/ko-KR/contents/tPvbdkK',\n",
    "    'error': 'https://pedia.watcha.com/ko-KR/contents/tPrzOrr',\n",
    "    'delinquents': 'https://pedia.watcha.com/ko-KR/contents/tRaD319',\n",
    "    'evil_heart': 'https://pedia.watcha.com/ko-KR/contents/tE15pJW',\n",
    "    'my_mr': 'https://pedia.watcha.com/ko-KR/contents/tR5gmLl',\n",
    "    'juvenile_justice': 'https://pedia.watcha.com/ko-KR/contents/tR5K7KN',\n",
    "    'secret_forest1': 'https://pedia.watcha.com/ko-KR/contents/tlnMV5P',\n",
    "    'secret_forest2': 'https://pedia.watcha.com/ko-KR/contents/tlGNOmp',\n",
    "    'melogachejil': 'https://pedia.watcha.com/ko-KR/contents/tlGNQB7',\n",
    "    'monster': 'https://pedia.watcha.com/ko-KR/contents/tRaDNBb',\n",
    "    'good_taxi': 'https://pedia.watcha.com/ko-KR/contents/tEm9Bvp',\n",
    "    'mr_sunshine': 'https://pedia.watcha.com/ko-KR/contents/tRNADzE',\n",
    "    'tracer': 'https://pedia.watcha.com/ko-KR/contents/tlnNM25',\n",
    "    'tracer2': 'https://pedia.watcha.com/ko-KR/contents/tEZAyaK',\n",
    "    'bluehouse': 'https://pedia.watcha.com/ko-KR/contents/tE15aw0',\n",
    "    'soju_women': 'https://pedia.watcha.com/ko-KR/contents/tPj1mv8',\n",
    "    'life_on_mas': 'https://pedia.watcha.com/ko-KR/contents/tPeB8Nl',\n",
    "    'black_dog': 'https://pedia.watcha.com/ko-KR/contents/tEqZOAj',\n",
    "    'happiness': 'https://pedia.watcha.com/ko-KR/contents/tRMxn50',\n",
    "    'leebangwon': 'https://pedia.watcha.com/ko-KR/contents/tRX5Nem',\n",
    "    'city_lovehow': 'https://pedia.watcha.com/ko-KR/contents/tRaDM0j',\n",
    "    'www': 'https://pedia.watcha.com/ko-KR/contents/tEZABAX',\n",
    "    'red_end_dong': 'https://pedia.watcha.com/ko-KR/contents/tPJZ1xp',\n",
    "    'evil_flower': 'https://pedia.watcha.com/ko-KR/contents/tlAnA7Z',\n",
    "    'run_on': 'https://pedia.watcha.com/ko-KR/contents/tPJZzW9',\n",
    "    'son_the_guest': 'https://pedia.watcha.com/ko-KR/contents/tRz8A5l',\n",
    "    'thirty_nine': 'https://pedia.watcha.com/ko-KR/contents/tEZAY2N',\n",
    "    'doctor_life': 'https://pedia.watcha.com/ko-KR/contents/tPVdNjq',\n",
    "    'doctor_life2': 'https://pedia.watcha.com/ko-KR/contents/tPvbdo6',\n",
    "    'dp': 'https://pedia.watcha.com/ko-KR/contents/tR726m9',\n",
    "    'emergency_landing': 'https://pedia.watcha.com/ko-KR/contents/tlAn6Vz',\n",
    "    'stove_league': 'https://pedia.watcha.com/ko-KR/contents/tlLrZk4',\n",
    "    'watcher': 'https://pedia.watcha.com/ko-KR/contents/tlAn6WB',\n",
    "    'shadow_witch': 'https://pedia.watcha.com/ko-KR/contents/tPrzOjr',\n",
    "    'dongbaek_flower': 'https://pedia.watcha.com/ko-KR/contents/tPVdnzO',\n",
    "    'one_hundred_days': 'https://pedia.watcha.com/ko-KR/contents/tPVdnMO',\n",
    "    'coming_collapse': 'https://pedia.watcha.com/ko-KR/contents/tEm93VK',\n",
    "    'kairos': 'https://pedia.watcha.com/ko-KR/contents/tRaDMQb',\n",
    "    'aide1': 'https://pedia.watcha.com/ko-KR/contents/tPeWzad',\n",
    "    'aide2': 'https://pedia.watcha.com/ko-KR/contents/tlObZp6',\n",
    "    'fertile_melo': 'https://pedia.watcha.com/ko-KR/contents/tE0JWzP',\n",
    "    'saebit_association': 'https://pedia.watcha.com/ko-KR/contents/tEZAY0d',\n",
    "    'johtjohtso1': 'https://pedia.watcha.com/ko-KR/contents/tR4JrKo',\n",
    "    'keymaira': 'https://pedia.watcha.com/ko-KR/contents/tPvbWaJ',\n",
    "    'daughter_in_law1': 'https://pedia.watcha.com/ko-KR/contents/tEqZbQ6',\n",
    "    'daughter_in_law2': 'https://pedia.watcha.com/ko-KR/contents/tEKzxg5',\n",
    "    'kim_why': 'https://pedia.watcha.com/ko-KR/contents/tEo6q6l',\n",
    "    'world_marriage': 'https://pedia.watcha.com/ko-KR/contents/tRbqB7g',\n",
    "    'her_secret_life': 'https://pedia.watcha.com/ko-KR/contents/tRzL5LJ',\n",
    "    'law_school': 'https://pedia.watcha.com/ko-KR/contents/tPd3Mm4',\n",
    "    'googyeongyi': 'https://pedia.watcha.com/ko-KR/contents/tlYeK0X',\n",
    "    'move2heaven': 'https://pedia.watcha.com/ko-KR/contents/tRMx7A0',\n",
    "    'mouth': 'https://pedia.watcha.com/ko-KR/contents/tPd3A4V',\n",
    "    'law_manwoman1': 'https://pedia.watcha.com/ko-KR/contents/tEkBw4l',\n",
    "    'law_manwoman2': 'https://pedia.watcha.com/ko-KR/contents/tlAn6QW',\n",
    "    'uncle': 'https://pedia.watcha.com/ko-KR/contents/tRWmBMV',\n",
    "    'hundred_millions_star': 'https://pedia.watcha.com/ko-KR/contents/tlObKg8',\n",
    "    'gadusim': 'https://pedia.watcha.com/ko-KR/contents/tPj1mQx',\n",
    "    'squid_game': 'https://pedia.watcha.com/ko-KR/contents/tPDOX5r',\n",
    "    'kingdom1': 'https://pedia.watcha.com/ko-KR/contents/tR7WDAR',\n",
    "    'kingdom2': 'https://pedia.watcha.com/ko-KR/contents/tPeWzyB',\n",
    "    'sky_castle': 'https://pedia.watcha.com/ko-KR/contents/tRWm15D',\n",
    "    'hotel_de_luna': 'https://pedia.watcha.com/ko-KR/contents/tPj1D88',\n",
    "    'chachacha': 'https://pedia.watcha.com/ko-KR/contents/tPeWy25',\n",
    "    'known_wife': 'https://pedia.watcha.com/ko-KR/contents/tPjbBJP',\n",
    "    'wonder_woman': 'https://pedia.watcha.com/ko-KR/contents/tlOb18X',\n",
    "    'voice1': 'https://pedia.watcha.com/ko-KR/contents/tRXNAdl',\n",
    "    'voice2': 'https://pedia.watcha.com/ko-KR/contents/tPr8vdE',\n",
    "    'voice3': 'https://pedia.watcha.com/ko-KR/contents/tlGNzNp',\n",
    "    'May_cheongchun': 'https://pedia.watcha.com/ko-KR/contents/tRB6B08',\n",
    "    'dictrict_crazy_girl': 'https://pedia.watcha.com/ko-KR/contents/tPJZ14o',\n",
    "    'racket': 'https://pedia.watcha.com/ko-KR/contents/tR4JrkY',\n",
    "    'unframed': 'https://pedia.watcha.com/ko-KR/contents/tlLr4Ae',\n",
    "    'come_to_witch_restaurant': 'https://pedia.watcha.com/ko-KR/contents/tlxkn8D',\n",
    "    'failed_romance': 'https://pedia.watcha.com/ko-KR/contents/tRN76Ad',\n",
    "    'hometown': 'https://pedia.watcha.com/ko-KR/contents/tlAnLbB',\n",
    "    'twenty_twenty': 'https://pedia.watcha.com/ko-KR/contents/tEojQY6',\n",
    "    'hellbound': 'https://pedia.watcha.com/ko-KR/contents/tRwGQB4',\n",
    "    'extra_curricular': 'https://pedia.watcha.com/ko-KR/contents/tEm9mkr',\n",
    "    'psycho': 'https://pedia.watcha.com/ko-KR/contents/tlnN9ov',\n",
    "    'haru': 'https://pedia.watcha.com/ko-KR/contents/tEm9YpW',\n",
    "    'romance_doctor2': 'https://pedia.watcha.com/ko-KR/contents/tEqZOkQ',\n",
    "    'destiny365': 'https://pedia.watcha.com/ko-KR/contents/tlYeWK4',\n",
    "    'eighteen1': 'https://pedia.watcha.com/ko-KR/contents/tEgMqK4',\n",
    "    'eighteen2': 'https://pedia.watcha.com/ko-KR/contents/tPVdN9O',\n",
    "    'misty': 'https://pedia.watcha.com/ko-KR/contents/tPdZ0dE',\n",
    "    'how_to': 'https://pedia.watcha.com/ko-KR/contents/tRMx76a',\n",
    "    'playlist3': 'https://pedia.watcha.com/ko-KR/contents/tEojaee',\n",
    "    'playlist4': 'https://pedia.watcha.com/ko-KR/contents/tE6Y4AM',\n",
    "    'real_estate': 'https://pedia.watcha.com/ko-KR/contents/tEKz1Bm',\n",
    "    'post_natal_care_center': 'https://pedia.watcha.com/ko-KR/contents/tRp4dMe',\n",
    "    'doctor_john': 'https://pedia.watcha.com/ko-KR/contents/tR2ewVe',\n",
    "    'beautiful_world': 'https://pedia.watcha.com/ko-KR/contents/tE6YkYn',\n",
    "    'nokdu_flower': 'https://pedia.watcha.com/ko-KR/contents/tEojajA',\n",
    "    'hi_its_me': 'https://pedia.watcha.com/ko-KR/contents/tRwGQ3v',\n",
    "    'shall_we_coffee': 'https://pedia.watcha.com/ko-KR/contents/tE0m2Xx',\n",
    "    'wind_blow': 'https://pedia.watcha.com/ko-KR/contents/tR5KpZZ',\n",
    "    'jobless_sekki': 'https://pedia.watcha.com/ko-KR/contents/tPVdwOL',\n",
    "    'trap': 'https://pedia.watcha.com/ko-KR/contents/tPy8vY3',\n",
    "    'little_bit_sharpness': 'https://pedia.watcha.com/ko-KR/contents/tRaD388',\n",
    "    'work_happy_sad': 'https://pedia.watcha.com/ko-KR/contents/tR2e8qe',\n",
    "    'beauty_inside': 'https://pedia.watcha.com/ko-KR/contents/tRzL5NA',\n",
    "    'live': 'https://pedia.watcha.com/ko-KR/contents/tE0JX6P',\n",
    "    'romance_book': 'https://pedia.watcha.com/ko-KR/contents/tlYeo5J',\n",
    "    'yumi_cell': 'https://pedia.watcha.com/ko-KR/contents/tlGNyQ1',\n",
    "    'again18': 'https://pedia.watcha.com/ko-KR/contents/tEm9mOd',\n",
    "    'thirty_seventeen': 'https://pedia.watcha.com/ko-KR/contents/tE6z7nE',\n",
    "    'alive_60days': 'https://pedia.watcha.com/ko-KR/contents/tEm9K9d',\n",
    "    'hyena': 'https://pedia.watcha.com/ko-KR/contents/tPDOmJ4',\n",
    "    'whykiki': 'https://pedia.watcha.com/ko-KR/contents/tlAjbwE',\n",
    "    'boy_being_king': 'https://pedia.watcha.com/ko-KR/contents/tPvb9zJ',\n",
    "    'once_coming': 'https://pedia.watcha.com/ko-KR/contents/tE156Od',\n",
    "    'navillera': 'https://pedia.watcha.com/ko-KR/contents/tEkO3Z4',\n",
    "    'four_song': 'https://pedia.watcha.com/ko-KR/contents/tPd3aDV',\n",
    "    'xx': 'https://pedia.watcha.com/ko-KR/contents/tPd3JxX',\n",
    "    'jangpoon': 'https://pedia.watcha.com/ko-KR/contents/tlObKbw',\n",
    "    'queen_of_mystery': 'https://pedia.watcha.com/ko-KR/contents/tE32WJl',\n",
    "    'darlie': 'https://pedia.watcha.com/ko-KR/contents/tPvbdGK',\n",
    "    'only_one_love': 'https://pedia.watcha.com/ko-KR/contents/tl9g3gr',\n",
    "    'come_and_hug': 'https://pedia.watcha.com/ko-KR/contents/tlGjn4P',\n",
    "    'live_on': 'https://pedia.watcha.com/ko-KR/contents/tPVdV1w',\n",
    "    'ending_like_flower': 'https://pedia.watcha.com/ko-KR/contents/tPvx46E',\n",
    "    'one_person': 'https://pedia.watcha.com/ko-KR/contents/tEKz1vm',\n",
    "    'terius': 'https://pedia.watcha.com/ko-KR/contents/tlLraXd',\n",
    "    'god_quiz5': 'https://pedia.watcha.com/ko-KR/contents/tRaDKXw',\n",
    "    'are_u_crazy': 'https://pedia.watcha.com/ko-KR/contents/tR72wBx',\n",
    "    'confession': 'https://pedia.watcha.com/ko-KR/contents/tRWm1YO',\n",
    "    'montly_house': 'https://pedia.watcha.com/ko-KR/contents/tPvbd06',\n",
    "    'forget_poem': 'https://pedia.watcha.com/ko-KR/contents/tPdZx1E',\n",
    "    'eunjoo_room': 'https://pedia.watcha.com/ko-KR/contents/tPDOzpL',\n",
    "    'times': 'https://pedia.watcha.com/ko-KR/contents/tPVdAqL',\n",
    "    'zanppogirls': 'https://pedia.watcha.com/ko-KR/contents/mO8K6Q3',\n",
    "    'in_seoul': 'https://pedia.watcha.com/ko-KR/contents/tRB69pv',\n",
    "    'undercover': 'https://pedia.watcha.com/ko-KR/contents/tlAnLBm',\n",
    "    'speak_u_see': 'https://pedia.watcha.com/ko-KR/contents/tEQkrZp',\n",
    "    'world_girl': 'https://pedia.watcha.com/ko-KR/contents/tlnNW9o',\n",
    "    'mr_period': 'https://pedia.watcha.com/ko-KR/contents/tEKzOA6',\n",
    "    'bluebirthday': 'https://pedia.watcha.com/ko-KR/contents/tlnNMLz',\n",
    "    'think_moon': 'https://pedia.watcha.com/ko-KR/contents/tRzLZDJ',\n",
    "    'wonderful_friends': 'https://pedia.watcha.com/ko-KR/contents/tPd3Jqk',\n",
    "    'black_sun1': 'https://pedia.watcha.com/ko-KR/contents/tRbqNJd',\n",
    "    'black_sun2': 'https://pedia.watcha.com/ko-KR/contents/tR2egMv',\n",
    "    'sadang3': 'https://pedia.watcha.com/ko-KR/contents/tP8aG0r',\n",
    "    'bad_detective': 'https://pedia.watcha.com/ko-KR/contents/tRB6w58',\n",
    "    'bossam': 'https://pedia.watcha.com/ko-KR/contents/tRbqNnZ',\n",
    "    'adult_trainee': 'https://pedia.watcha.com/ko-KR/contents/tR4JqvL',\n",
    "    'everyone_in_there': 'https://pedia.watcha.com/ko-KR/contents/tR72GgA',\n",
    "    'perfume': 'https://pedia.watcha.com/ko-KR/contents/tRX5bGx',\n",
    "    'spring_come': 'https://pedia.watcha.com/ko-KR/contents/tPeWmjG',\n",
    "    'lie_of_lie': 'https://pedia.watcha.com/ko-KR/contents/tPJZep7',\n",
    "    'myfuxx': 'https://pedia.watcha.com/ko-KR/contents/tR2e8WD',\n",
    "    'wrong_note': 'https://pedia.watcha.com/ko-KR/contents/tPrzAMM',\n",
    "    'little_god_child': 'https://pedia.watcha.com/ko-KR/contents/tRz7QMP',\n",
    "    'peak': 'https://pedia.watcha.com/ko-KR/contents/t8lxpkl',\n",
    "    'memoralize': 'https://pedia.watcha.com/ko-KR/contents/tlYeWpQ',\n",
    "    'substitute': 'https://pedia.watcha.com/ko-KR/contents/tPeWrGB',\n",
    "}"
   ]
  },
  {
   "cell_type": "code",
   "execution_count": null,
   "id": "b5aa2dac",
   "metadata": {
    "hidden": true
   },
   "outputs": [],
   "source": [
    "drama_titles = []\n",
    "driver = webdriver.Chrome(chrome_driver_path, options=options)\n",
    "for v in drama_dict.values():\n",
    "    url = v\n",
    "    driver.get(url)\n",
    "    time.sleep(1)\n",
    "    \n",
    "    # 팝업닫기\n",
    "    driver.find_element_by_xpath('/html/body/div/div/div[2]/div/div/div/button').click()\n",
    "    time.sleep(1)\n",
    "    \n",
    "    drama_title = driver.find_element_by_xpath('//*[@id=\"root\"]/div/div[1]/section/div/div[2]/div/section/div[2]/div/div/div/div/h1').text\n",
    "    drama_titles.append(drama_title)\n",
    "print(drama_titles)"
   ]
  },
  {
   "cell_type": "code",
   "execution_count": null,
   "id": "3a17773a",
   "metadata": {
    "hidden": true
   },
   "outputs": [],
   "source": [
    "reviews_dict = {\n",
    "    'title' : [],\n",
    "    'reviews' : []\n",
    "}"
   ]
  },
  {
   "cell_type": "code",
   "execution_count": null,
   "id": "40cc1116",
   "metadata": {
    "hidden": true
   },
   "outputs": [],
   "source": [
    "driver = webdriver.Chrome(chrome_driver_path, options=options)\n",
    "for idx, value in enumerate(drama_dict.values()):\n",
    "    url = value + '/comments'\n",
    "    driver.get(url)\n",
    "    time.sleep(2)\n",
    "\n",
    "    # 팝업닫기\n",
    "    driver.find_element_by_xpath('/html/body/div/div/div[2]/div/div/div/button').click()\n",
    "    time.sleep(2)\n",
    "\n",
    "    # 스크롤 끝까지 내리기\n",
    "    last_height = driver.execute_script(\"return document.documentElement.scrollHeight\")\n",
    "    while True:\n",
    "        new_height = scroll_down(2)\n",
    "        if new_height == last_height:\n",
    "            new_height = scroll_down(2)\n",
    "            if new_height == last_height:\n",
    "                break\n",
    "        last_height = new_height\n",
    "\n",
    "    # 리뷰 더보기 없으면 그대로 진행\n",
    "    try:\n",
    "        buttons = driver.find_elements_by_class_name('css-13mdv8k-StylelessButton')\n",
    "        for button in buttons:\n",
    "            driver.execute_script(\"arguments[0].click();\", button)\n",
    "    except:\n",
    "        continue\n",
    "    # 갖고오기\n",
    "    html = driver.page_source\n",
    "    soup = BeautifulSoup(html, 'lxml')\n",
    "    reviews = soup.find_all(\"div\", {\"class\": \"css-1g78l7j\"})\n",
    "\n",
    "    for review in reviews:\n",
    "        reviews_dict['title'].append(drama_titles[idx])\n",
    "        reviews_dict['reviews'].append(review.get_text())\n",
    "    print(f'{idx+1}번째 작품 done')"
   ]
  },
  {
   "cell_type": "code",
   "execution_count": null,
   "id": "82c11c01",
   "metadata": {
    "hidden": true
   },
   "outputs": [],
   "source": [
    "df_reviews_dict = pd.DataFrame(reviews_dict)\n",
    "df_reviews_dict.to_csv(\"contents_Watcha.csv\",index=False)"
   ]
  },
  {
   "cell_type": "markdown",
   "id": "6ef2e991",
   "metadata": {
    "heading_collapsed": true
   },
   "source": [
    "# EDA"
   ]
  },
  {
   "cell_type": "code",
   "execution_count": null,
   "id": "ad757b68",
   "metadata": {
    "hidden": true
   },
   "outputs": [],
   "source": [
    "df = pd.read_csv('/content/drive/MyDrive/contents_Watcha.csv')"
   ]
  },
  {
   "cell_type": "code",
   "execution_count": null,
   "id": "dc1009ef",
   "metadata": {
    "hidden": true
   },
   "outputs": [],
   "source": [
    "titles = df['title']"
   ]
  },
  {
   "cell_type": "code",
   "execution_count": null,
   "id": "ff19682c",
   "metadata": {
    "hidden": true
   },
   "outputs": [],
   "source": [
    "def clean_text(text):\n",
    "    text = text.replace(\".\", \"\").strip()\n",
    "    text = text.replace(\"·\", \" \").strip()\n",
    "    pattern = '[^ ㄱ-ㅣ가-힣|]+'\n",
    "    text = re.sub(pattern, '', text)\n",
    "    text = ' '.join(text.split())\n",
    "    text = re.compile('[|ㄱ-ㅎ|ㅏ-ㅣ]+').sub('',text)\n",
    "    return text"
   ]
  },
  {
   "cell_type": "code",
   "execution_count": null,
   "id": "f09ea1c4",
   "metadata": {
    "hidden": true
   },
   "outputs": [],
   "source": [
    "df_reviews = df['reviews'].to_list()\n",
    "\n",
    "li = []\n",
    "for i in df_reviews:\n",
    "    li.append(clean_text(i))\n",
    "\n",
    "len(li)"
   ]
  },
  {
   "cell_type": "code",
   "execution_count": null,
   "id": "75d32f1e",
   "metadata": {
    "hidden": true
   },
   "outputs": [],
   "source": [
    "li_frame = pd.DataFrame(li, columns=['reviews'])"
   ]
  },
  {
   "cell_type": "code",
   "execution_count": null,
   "id": "3af5961b",
   "metadata": {
    "hidden": true
   },
   "outputs": [],
   "source": [
    "samples = pd.Series(li)"
   ]
  },
  {
   "cell_type": "code",
   "execution_count": null,
   "id": "a52dabfe",
   "metadata": {
    "hidden": true
   },
   "outputs": [],
   "source": [
    "df_length = samples.apply(len)\n",
    "li_frame['lens'] = df_length"
   ]
  },
  {
   "cell_type": "code",
   "execution_count": null,
   "id": "7565b54d",
   "metadata": {
    "hidden": true
   },
   "outputs": [],
   "source": [
    "print('리뷰 길이 최대값 : {}'.format(np.max(li_frame['lens'])))\n",
    "print('리뷰 길이 최소값 : {}'.format(np.min(li_frame['lens'])))\n",
    "print('리뷰 길이 평균값 : {:.2f}'.format(np.mean(li_frame['lens'])))\n",
    "print('리뷰 길이 표준편차 : {:.2f}'.format(np.std(li_frame['lens'])))\n",
    "print('리뷰 길이 중간값 : {}'.format(np.median(li_frame['lens'])))\n",
    "print('리뷰 길이 제1사분위 : {}'.format(np.percentile(li_frame['lens'], 25)))\n",
    "print('리뷰 길이 제3사분위 : {}'.format(np.percentile(li_frame['lens'], 75)))"
   ]
  },
  {
   "cell_type": "code",
   "execution_count": null,
   "id": "cd0811a3",
   "metadata": {
    "hidden": true
   },
   "outputs": [],
   "source": [
    "length = np.percentile(df_length, 25)"
   ]
  },
  {
   "cell_type": "code",
   "execution_count": null,
   "id": "f97fc674",
   "metadata": {
    "hidden": true
   },
   "outputs": [],
   "source": [
    "reviews= []\n",
    "for index, i in enumerate(df_length):\n",
    "    if i > length and i < 8000:\n",
    "        reviews.append(li_frame.reviews[index])\n",
    "    else:\n",
    "        reviews.append('Empty!!')"
   ]
  },
  {
   "cell_type": "code",
   "execution_count": null,
   "id": "df3c080c",
   "metadata": {
    "hidden": true
   },
   "outputs": [],
   "source": [
    "watcha = pd.DataFrame(reviews, columns=['reviews'])"
   ]
  },
  {
   "cell_type": "code",
   "execution_count": null,
   "id": "b9d258be",
   "metadata": {
    "hidden": true
   },
   "outputs": [],
   "source": [
    "watcha['title'] = titles"
   ]
  },
  {
   "cell_type": "code",
   "execution_count": null,
   "id": "30242256",
   "metadata": {
    "hidden": true
   },
   "outputs": [],
   "source": [
    "drop_row = watcha[watcha['reviews'] == 'Empty!!'].index"
   ]
  },
  {
   "cell_type": "code",
   "execution_count": null,
   "id": "5ac399aa",
   "metadata": {
    "hidden": true
   },
   "outputs": [],
   "source": [
    "final_kor = watcha.drop(drop_row)"
   ]
  },
  {
   "cell_type": "markdown",
   "id": "a0527515",
   "metadata": {
    "heading_collapsed": true
   },
   "source": [
    "# Preprocessing "
   ]
  },
  {
   "cell_type": "code",
   "execution_count": null,
   "id": "c526d937",
   "metadata": {
    "hidden": true
   },
   "outputs": [],
   "source": [
    "import re\n",
    "from konlpy.tag import Mecab\n",
    "from tqdm import tqdm"
   ]
  },
  {
   "cell_type": "code",
   "execution_count": null,
   "id": "8af410e9",
   "metadata": {
    "hidden": true
   },
   "outputs": [],
   "source": [
    "def clean_text(text):\n",
    "    text = text.replace(\".\", \"\").strip()\n",
    "    text = text.replace(\"·\", \" \").strip()\n",
    "    pattern = '[^ ㄱ-ㅣ가-힣|0-9]+'\n",
    "    text = re.sub(pattern, '', text)\n",
    "    return text\n",
    "\n",
    "def get_nouns(tokenizer, sentence):\n",
    "    tagged = tokenizer.pos(sentence)\n",
    "    stop_words = ['드라마', '정도', '사람', '생각', '여자', '남자', '에피소드', '시리즈', '자신', '최고', '완벽', '시즌', '느낌', '기대',\n",
    "                  '넷플릭스', '장르']\n",
    "    nouns = [word for word, tag in tagged if tag in ['NNG', 'NNP'] and len(word) >1 and word not in stop_words]\n",
    "    return nouns\n",
    "\n",
    "def tokenize(df):\n",
    "    tokenizer = Mecab()\n",
    "    processed_data = []\n",
    "    for sent in tqdm(df['reviews']):\n",
    "        sentence = clean_text(str(sent).replace(\"\\n\", \"\").strip())\n",
    "        processed_data.append(get_nouns(tokenizer, sentence))\n",
    "    return processed_data"
   ]
  },
  {
   "cell_type": "code",
   "execution_count": null,
   "id": "d4b04492",
   "metadata": {
    "hidden": true
   },
   "outputs": [],
   "source": [
    "preprocessed_data = tokenize(df)"
   ]
  },
  {
   "cell_type": "code",
   "execution_count": null,
   "id": "b7fbe0ad",
   "metadata": {
    "hidden": true
   },
   "outputs": [],
   "source": [
    "df['preprocessed_reviews'] = preprocessed_data"
   ]
  },
  {
   "cell_type": "code",
   "execution_count": null,
   "id": "7ff33397",
   "metadata": {
    "hidden": true
   },
   "outputs": [],
   "source": [
    "df['preprocessed_reviews']"
   ]
  },
  {
   "cell_type": "markdown",
   "id": "87655f01",
   "metadata": {
    "heading_collapsed": true
   },
   "source": [
    "# LDA"
   ]
  },
  {
   "cell_type": "code",
   "execution_count": null,
   "id": "ccd458df",
   "metadata": {
    "hidden": true
   },
   "outputs": [],
   "source": [
    "import gensim\n",
    "from gensim import corpora\n",
    "from gensim.models.ldamodel import LdaModel"
   ]
  },
  {
   "cell_type": "code",
   "execution_count": null,
   "id": "d5606f2b",
   "metadata": {
    "hidden": true
   },
   "outputs": [],
   "source": [
    "dictionary = corpora.Dictionary(df['preprocessed_reviews'])\n",
    "dictionary.filter_extremes(no_below=20, no_above=0.5)"
   ]
  },
  {
   "cell_type": "code",
   "execution_count": null,
   "id": "85a0876c",
   "metadata": {
    "hidden": true
   },
   "outputs": [],
   "source": [
    "corpus = [dictionary.doc2bow(text) for text in df['preprocessed_reviews']]"
   ]
  },
  {
   "cell_type": "code",
   "execution_count": null,
   "id": "21a9cb02",
   "metadata": {
    "hidden": true
   },
   "outputs": [],
   "source": [
    "temp = dictionary[0]\n",
    "id2word = dictionary.id2token"
   ]
  },
  {
   "cell_type": "markdown",
   "id": "40855d33",
   "metadata": {
    "heading_collapsed": true,
    "hidden": true
   },
   "source": [
    "## Tuning"
   ]
  },
  {
   "cell_type": "code",
   "execution_count": null,
   "id": "0f566dc0",
   "metadata": {
    "hidden": true
   },
   "outputs": [],
   "source": [
    "from gensim.models.coherencemodel import CoherenceModel\n",
    "import matplotlib.pyplot as plt"
   ]
  },
  {
   "cell_type": "code",
   "execution_count": null,
   "id": "ed0c71d0",
   "metadata": {
    "hidden": true
   },
   "outputs": [],
   "source": [
    "num_topics = 4\n",
    "chunksize = 2000\n",
    "passes = 40\n",
    "iterations = 250\n",
    "eval_every = 1\n",
    "random_state = None\n",
    "\n",
    "coherence = []\n",
    "for k in range(3,10):\n",
    "    print('토픽 갯수: '+str(k))\n",
    "    Lda = gensim.models.ldamodel.LdaModel\n",
    "    lda = Lda(corpus, num_topics=k, id2word=id2word, passes=passes,\n",
    "              iterations=iterations, chunksize=chunksize, eval_every=eval_every, random_state=random_state)\n",
    "\n",
    "    cm = gensim.models.coherencemodel.CoherenceModel(lda, texts=preprocessed_data,\n",
    "                                                     dictionary=dictionary, coherence='c_v')\n",
    "    coherence.append((k, cm.get_coherence()))"
   ]
  },
  {
   "cell_type": "code",
   "execution_count": null,
   "id": "057a1473",
   "metadata": {
    "hidden": true
   },
   "outputs": [],
   "source": [
    "x_val = [x[0] for x in coherence]\n",
    "y_val = [x[1] for x in coherence]\n",
    "\n",
    "plt.plot(x_val,y_val)\n",
    "plt.scatter(x_val,y_val)\n",
    "plt.title('Number of Topics vs. Coherence')\n",
    "plt.xlabel('Number of Topics')\n",
    "plt.ylabel('Coherence')\n",
    "plt.xticks(x_val)\n",
    "plt.show()"
   ]
  },
  {
   "cell_type": "markdown",
   "id": "16aff5a5",
   "metadata": {
    "heading_collapsed": true,
    "hidden": true
   },
   "source": [
    "## model"
   ]
  },
  {
   "cell_type": "code",
   "execution_count": null,
   "id": "8b9abb21",
   "metadata": {
    "hidden": true
   },
   "outputs": [],
   "source": [
    "num_topics = 4\n",
    "chunksize = 2000\n",
    "passes = 40\n",
    "iterations = 250\n",
    "eval_every = 1\n",
    "random_state = None\n",
    "\n",
    "Lda = gensim.models.ldamodel.LdaModel\n",
    "lda = Lda(corpus, num_topics=num_topics, id2word=id2word, passes=passes,\n",
    "          iterations=iterations, chunksize=chunksize, eval_every=eval_every, random_state=None)\n",
    "lda.show_topics(4, num_words=20, formatted=False)"
   ]
  },
  {
   "cell_type": "markdown",
   "id": "ebb30042",
   "metadata": {
    "heading_collapsed": true,
    "hidden": true
   },
   "source": [
    "## Visualization"
   ]
  },
  {
   "cell_type": "code",
   "execution_count": null,
   "id": "643d6af4",
   "metadata": {
    "hidden": true
   },
   "outputs": [],
   "source": [
    "import pyLDAvis.gensim_models as gensimvis\n",
    "import pyLDAvis"
   ]
  },
  {
   "cell_type": "code",
   "execution_count": null,
   "id": "53b4f943",
   "metadata": {
    "hidden": true
   },
   "outputs": [],
   "source": [
    "pyLDAvis.enable_notebook()\n",
    "vis = gensimvis.prepare(lda, corpus, dictionary)\n",
    "pyLDAvis.display(vis)"
   ]
  },
  {
   "cell_type": "markdown",
   "id": "1beb8f0a",
   "metadata": {},
   "source": [
    "# Grouping"
   ]
  },
  {
   "cell_type": "markdown",
   "id": "cff79ccb",
   "metadata": {
    "heading_collapsed": true
   },
   "source": [
    "## Topic Weight"
   ]
  },
  {
   "cell_type": "code",
   "execution_count": null,
   "id": "2bd3942b",
   "metadata": {
    "hidden": true
   },
   "outputs": [],
   "source": [
    "drama_corpus = [dictionary.doc2bow(text) for text in df_each_drama_reviews['preprocessed_reviews_']]"
   ]
  },
  {
   "cell_type": "code",
   "execution_count": null,
   "id": "c04f5b82",
   "metadata": {
    "hidden": true
   },
   "outputs": [],
   "source": [
    "topic_weight_dict = {'title' : [], 'Topic0' : [], 'Topic1' : [], 'Topic2' : [], 'Topic3' : []}\n",
    "for i in tqdm(range(len(drama_corpus))):\n",
    "    review = drama_corpus[i]\n",
    "    vector = lda[review]\n",
    "    vector_topic_count = len(vector)\n",
    "    topic_weight_dict['title'].append(df2['title'][i])\n",
    "    for j in range(vector_topic_count):\n",
    "        if vector[j][0] == 0:\n",
    "            topic_weight_dict['Topic0'].append(float(vector[0][1]))\n",
    "        elif vector[j][0] == 1:\n",
    "            topic_weight_dict['Topic1'].append(float(vector[1][1]))\n",
    "        elif vector[j][0] == 2:\n",
    "            topic_weight_dict['Topic2'].append(float(vector[2][1]))\n",
    "        else:\n",
    "            topic_weight_dict['Topic3'].append(float(vector[3][1]))"
   ]
  },
  {
   "cell_type": "code",
   "execution_count": null,
   "id": "470955bf",
   "metadata": {
    "hidden": true
   },
   "outputs": [],
   "source": [
    "df_topic_weight_dict = pd.DataFrame(topic_weight_dict)"
   ]
  },
  {
   "cell_type": "code",
   "execution_count": null,
   "id": "11cc91d3",
   "metadata": {
    "hidden": true
   },
   "outputs": [],
   "source": [
    "df_topic_weight_dict.to_csv(\"0428_KOR_Drama_Topic_Classification.csv\", index=False)"
   ]
  },
  {
   "cell_type": "markdown",
   "id": "fe897a88",
   "metadata": {},
   "source": [
    "## Grouping by Topic"
   ]
  },
  {
   "cell_type": "markdown",
   "id": "2936eb01",
   "metadata": {
    "heading_collapsed": true
   },
   "source": [
    "# Review Summarize"
   ]
  },
  {
   "cell_type": "code",
   "execution_count": null,
   "id": "2290e668",
   "metadata": {
    "hidden": true
   },
   "outputs": [],
   "source": [
    "from pororo import Pororo\n",
    "from konlpy.tag import Okt\n",
    "\n",
    "import pandas as pd\n",
    "import numpy as np"
   ]
  },
  {
   "cell_type": "code",
   "execution_count": null,
   "id": "a3941f1d",
   "metadata": {
    "hidden": true
   },
   "outputs": [],
   "source": [
    "Pororo.available_models('summarization')"
   ]
  },
  {
   "cell_type": "code",
   "execution_count": null,
   "id": "8b59d1b6",
   "metadata": {
    "hidden": true
   },
   "outputs": [],
   "source": [
    "ko_df = pd.read_csv('/content/drive/MyDrive/2022-1/국비지원교육/실습폴더/crawling_on_bare_ground/0428_KOR_Final.csv')"
   ]
  },
  {
   "cell_type": "code",
   "execution_count": null,
   "id": "f591c3c3",
   "metadata": {
    "hidden": true
   },
   "outputs": [],
   "source": [
    "ko_df = ko_df[ko_df.pos_neg == 0] # 0: positive\n",
    "ko_df.reset_index(drop=True)\n",
    "ko_df.head(3)"
   ]
  },
  {
   "cell_type": "code",
   "execution_count": null,
   "id": "962b5d23",
   "metadata": {
    "hidden": true
   },
   "outputs": [],
   "source": [
    "topic = []\n",
    "for i in range(len(ko_df)):\n",
    "    topic.append(np.argmax(ko_df.iloc[i][['Topic0','Topic1','Topic2','Topic3']]))\n",
    "ko_df['Topic'] = topic"
   ]
  },
  {
   "cell_type": "code",
   "execution_count": null,
   "id": "6fe47f4e",
   "metadata": {
    "hidden": true
   },
   "outputs": [],
   "source": [
    "# 요약 모델\n",
    "abs_summ = Pororo(task = 'summarization',lang='ko',model='extractive')\n",
    "\n",
    "# 맞춤법(띄어쓰기) 모델\n",
    "spacing = Pororo(task=\"gec\", lang=\"ko\")\n",
    "\n",
    "# 토픽 넘버\n",
    "topic_number = ['Topic0','Topic1','Topic2','Topic3']\n",
    "topic_dic = { 'Topic0' : '시사성/소재',\n",
    "             'Topic1' : '연출',\n",
    "             'Topic2' : '배우/캐릭터',\n",
    "             'Topic3' : '플롯'}\n",
    "\n",
    "# 드라마 제목\n",
    "drama_titles = ko_df.title.unique().tolist()\n",
    "\n",
    "summarize_by_drama = pd.DataFrame(None,columns = ['title','Topic','summary'])\n",
    "\n",
    "for title in drama_titles:\n",
    "    texts = ko_df[ko_df.title == title].reset_index(drop=True)\n",
    "    print(title)\n",
    "    # 토픽별로\n",
    "    \n",
    "    for topic in topic_number:\n",
    "        print(topic)\n",
    "        Topic_idx = np.argsort(texts[topic])[-5:].tolist()\n",
    "        input_list = texts.iloc[Topic_idx].reviews.to_list()\n",
    "\n",
    "\n",
    "        # 오류 문장 입력\n",
    "        new_input = []\n",
    "        for line in input_list:\n",
    "            new_input.append(spacing(line[:512]))\n",
    "        \n",
    "        # 요약\n",
    "        \n",
    "        summ_by_topics = []\n",
    "        for line in new_input:\n",
    "            if len(line) >= 35:\n",
    "                summ_line = abs_summ(line)\n",
    "                summ_by_topics.append(summ_line)\n",
    "                print(f'-{summ_line} \\n')\n",
    "            else:\n",
    "                summ_by_topics.append(line)\n",
    "                print(f'-{line} \\n')\n",
    "\n",
    "        summs = pd.DataFrame({'title':title,'Topic':topic, 'summary': summ_by_topics})\n",
    "        summarize_by_drama = pd.concat((summarize_by_drama, summs),ignore_index=True)\n",
    "\n",
    "summarize_by_drama.to_csv('0511_KOR_summary')"
   ]
  }
 ],
 "metadata": {
  "hide_input": false,
  "kernelspec": {
   "display_name": "study",
   "language": "python",
   "name": "study"
  },
  "language_info": {
   "codemirror_mode": {
    "name": "ipython",
    "version": 3
   },
   "file_extension": ".py",
   "mimetype": "text/x-python",
   "name": "python",
   "nbconvert_exporter": "python",
   "pygments_lexer": "ipython3",
   "version": "3.9.10"
  },
  "toc": {
   "base_numbering": 1,
   "nav_menu": {},
   "number_sections": true,
   "sideBar": true,
   "skip_h1_title": false,
   "title_cell": "Table of Contents",
   "title_sidebar": "Contents",
   "toc_cell": false,
   "toc_position": {},
   "toc_section_display": true,
   "toc_window_display": false
  },
  "varInspector": {
   "cols": {
    "lenName": 16,
    "lenType": 16,
    "lenVar": 40
   },
   "kernels_config": {
    "python": {
     "delete_cmd_postfix": "",
     "delete_cmd_prefix": "del ",
     "library": "var_list.py",
     "varRefreshCmd": "print(var_dic_list())"
    },
    "r": {
     "delete_cmd_postfix": ") ",
     "delete_cmd_prefix": "rm(",
     "library": "var_list.r",
     "varRefreshCmd": "cat(var_dic_list()) "
    }
   },
   "types_to_exclude": [
    "module",
    "function",
    "builtin_function_or_method",
    "instance",
    "_Feature"
   ],
   "window_display": false
  }
 },
 "nbformat": 4,
 "nbformat_minor": 5
}
