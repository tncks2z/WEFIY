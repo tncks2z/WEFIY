{
  "cells": [
    {
      "cell_type": "code",
      "execution_count": 1,
      "metadata": {
        "id": "06HDiFQ0cKkc"
      },
      "outputs": [],
      "source": [
        "import pandas as pd\n",
        "import numpy as np\n",
        "\n",
        "df = pd.read_csv(\"0506_ENG_Korean_plus_Sentiment.csv\")"
      ]
    },
    {
      "cell_type": "code",
      "execution_count": 2,
      "metadata": {},
      "outputs": [
        {
          "data": {
            "text/html": [
              "<div>\n",
              "<style scoped>\n",
              "    .dataframe tbody tr th:only-of-type {\n",
              "        vertical-align: middle;\n",
              "    }\n",
              "\n",
              "    .dataframe tbody tr th {\n",
              "        vertical-align: top;\n",
              "    }\n",
              "\n",
              "    .dataframe thead th {\n",
              "        text-align: right;\n",
              "    }\n",
              "</style>\n",
              "<table border=\"1\" class=\"dataframe\">\n",
              "  <thead>\n",
              "    <tr style=\"text-align: right;\">\n",
              "      <th></th>\n",
              "      <th>reviews</th>\n",
              "      <th>title</th>\n",
              "      <th>K_words_list</th>\n",
              "      <th>k_food</th>\n",
              "      <th>place</th>\n",
              "      <th>k_slang</th>\n",
              "      <th>k_fashion_beauty</th>\n",
              "      <th>k_pop</th>\n",
              "      <th>history_event</th>\n",
              "      <th>k_culture</th>\n",
              "      <th>pos_neg</th>\n",
              "    </tr>\n",
              "  </thead>\n",
              "  <tbody>\n",
              "    <tr>\n",
              "      <th>0</th>\n",
              "      <td>how criminal profiling came to be in south kor...</td>\n",
              "      <td>악의마음을읽는자들</td>\n",
              "      <td>['raincoat killer', 'ost', 'korea', 'south kor...</td>\n",
              "      <td>0.0</td>\n",
              "      <td>3.0</td>\n",
              "      <td>0.0</td>\n",
              "      <td>0.0</td>\n",
              "      <td>1.0</td>\n",
              "      <td>1.0</td>\n",
              "      <td>0.0</td>\n",
              "      <td>0</td>\n",
              "    </tr>\n",
              "    <tr>\n",
              "      <th>1</th>\n",
              "      <td>g r i p p i n g all the cases are based on tru...</td>\n",
              "      <td>악의마음을읽는자들</td>\n",
              "      <td>['slow burn', 'ost', 'kwon il yong', 'korea', ...</td>\n",
              "      <td>0.0</td>\n",
              "      <td>2.0</td>\n",
              "      <td>0.0</td>\n",
              "      <td>0.0</td>\n",
              "      <td>1.0</td>\n",
              "      <td>1.0</td>\n",
              "      <td>2.0</td>\n",
              "      <td>0</td>\n",
              "    </tr>\n",
              "    <tr>\n",
              "      <th>2</th>\n",
              "      <td>darkness cannot drive out darkness only light ...</td>\n",
              "      <td>악의마음을읽는자들</td>\n",
              "      <td>['fighting', 'kwon il yong', 'korea', 'korean'...</td>\n",
              "      <td>0.0</td>\n",
              "      <td>2.0</td>\n",
              "      <td>0.0</td>\n",
              "      <td>0.0</td>\n",
              "      <td>1.0</td>\n",
              "      <td>1.0</td>\n",
              "      <td>2.0</td>\n",
              "      <td>0</td>\n",
              "    </tr>\n",
              "  </tbody>\n",
              "</table>\n",
              "</div>"
            ],
            "text/plain": [
              "                                             reviews      title  \\\n",
              "0  how criminal profiling came to be in south kor...  악의마음을읽는자들   \n",
              "1  g r i p p i n g all the cases are based on tru...  악의마음을읽는자들   \n",
              "2  darkness cannot drive out darkness only light ...  악의마음을읽는자들   \n",
              "\n",
              "                                        K_words_list  k_food  place  k_slang  \\\n",
              "0  ['raincoat killer', 'ost', 'korea', 'south kor...     0.0    3.0      0.0   \n",
              "1  ['slow burn', 'ost', 'kwon il yong', 'korea', ...     0.0    2.0      0.0   \n",
              "2  ['fighting', 'kwon il yong', 'korea', 'korean'...     0.0    2.0      0.0   \n",
              "\n",
              "   k_fashion_beauty  k_pop  history_event  k_culture  pos_neg  \n",
              "0               0.0    1.0            1.0        0.0        0  \n",
              "1               0.0    1.0            1.0        2.0        0  \n",
              "2               0.0    1.0            1.0        2.0        0  "
            ]
          },
          "execution_count": 2,
          "metadata": {},
          "output_type": "execute_result"
        }
      ],
      "source": [
        "# 0 긍, 1 부\n",
        "df[:3]"
      ]
    },
    {
      "cell_type": "code",
      "execution_count": 9,
      "metadata": {},
      "outputs": [],
      "source": [
        "drama_theme = [('악의마음을읽는자들', ['rank_history_event', 'rank_place']),\n",
        "    ('라이프온마스', ['rank_place', 'rank_food']),\n",
        "    ('옷소매붉은끝동', ['rank_history_event']),\n",
        "    ('이구역의미친X', ['rank_food', 'rank_fashion_beauty']),\n",
        "    ('어느날우리집현관으로멸망이들어왔다', ['rank_pop', 'rank_food']),\n",
        "    ('스물다섯스물하나', ['rank_pop']),\n",
        "    ('무브투헤븐:나는유품정리사입니다', ['rank_culture']),\n",
        "    ('호텔델루나', ['rank_pop', 'rank_fashion_beauty']),\n",
        "    ('하늘에서내리는일억개의별', ['rank_culture']),\n",
        "    ('기름진멜로', ['rank_food', 'rank_slang']),\n",
        "    ('악의꽃', ['rank_culture']),\n",
        "    ('서른이지만열일곱입니다', ['rank_pop']),\n",
        "    ('킹덤', ['rank_history_event', 'rank_place']),\n",
        "    ('작은신의아이들', ['rank_culture']),\n",
        "    ('검색어를입력하세요WWW', ['rank_slang', 'rank_pop']),\n",
        "    ('술꾼도시여자들', ['rank_food', 'rank_place']),\n",
        "    ('한번다녀왔습니다', ['rank_food', 'rank_slang']),\n",
        "    ('서른아홉', ['rank_food', 'rank_slang']),\n",
        "    ('오월의청춘', ['rank_history_event', 'rank_place']),\n",
        "    ('트랩', ['rank_slang']),\n",
        "    ('왓쳐', ['rank_food', 'rank_pop']),\n",
        "    ('아는와이프', ['rank_slang', 'rank_pop']),\n",
        "    ('자백', ['rank_culture']),\n",
        "    ('60일지정생존자', ['rank_place']),\n",
        "    ('시맨틱에러', ['rank_culture']),\n",
        "    ('녹두꽃', ['rank_history_event']),\n",
        "    ('백일의낭군님', ['rank_history_event', 'rank_pop']),\n",
        "    ('괴물', ['rank_food', 'rank_history_event']),\n",
        "    ('태종이방원', ['rank_culture', 'rank_history_event']),\n",
        "    ('사이코지만괜찮아', ['rank_fashion_beauty', 'rank_food']),\n",
        "    ('런온', ['rank_food']),\n",
        "    ('365:운명을거스르는1년', ['rank_slang']),\n",
        "    ('시를잊은그대에게', ['rank_culture']),\n",
        "    ('인간수업', ['rank_place']),\n",
        "    ('으라차차와이키키', ['rank_culture']),\n",
        "    ('우수무당가두심', ['rank_place', 'rank_history_event']),\n",
        "    ('트레이서', ['rank_culture']),\n",
        "    ('사내맞선', ['rank_culture', 'rank_food']),\n",
        "    ('구경이', ['rank_pop', 'rank_food']),\n",
        "    ('어쩌다발견한하루', ['rank_history_event', 'rank_culture']),\n",
        "    ('김비서가왜그럴까', ['rank_fashion_beauty', 'rank_food']),\n",
        "    ('나의아저씨', ['rank_pop']),\n",
        "    ('카이로스', ['rank_culture', 'rank_slang']),\n",
        "    ('18어게인', ['rank_pop']),\n",
        "    ('D.P.', ['rank_place']),\n",
        "    ('로스쿨', ['rank_pop']),\n",
        "    ('대박부동산', ['rank_slang', 'rank_fashion_beauty']),\n",
        "    ('사랑의불시착', ['rank_place']),\n",
        "    ('스토브리그', ['rank_place', 'rank_fashion_beauty']),\n",
        "    ('단하나의사랑', ['rank_pop', 'rank_slang']),\n",
        "    ('안녕나야', ['rank_slang', 'rank_fashion_beauty']),\n",
        "    ('그림자미녀', ['rank_fashion_beauty', 'rank_culture']),\n",
        "    ('도시남녀의사랑법', ['rank_place']),\n",
        "    ('본대로말하라', ['rank_culture']),\n",
        "    ('내뒤에테리우스', ['rank_slang']),\n",
        "    ('월간집', ['rank_food']),\n",
        "    ('비밀의숲', ['rank_food', 'rank_place']),\n",
        "    ('나빌레라', ['rank_fashion_beauty']),\n",
        "    ('슬기로운의사생활', ['rank_food', 'rank_pop']),\n",
        "    ('스카이캐슬', ['rank_place']),\n",
        "    ('하이에나', ['rank_food', 'rank_fashion_beauty']),\n",
        "    ('라이브', ['rank_place']),\n",
        "    ('갯마을차차차', ['rank_food']),\n",
        "    ('소년심판', ['rank_place']),\n",
        "    ('그녀의사생활', ['rank_fashion_beauty']),\n",
        "    ('손theguest', ['rank_food']),\n",
        "    ('세빛남고학생회', ['rank_fashion_beauty', 'rank_place']),\n",
        "    ('오징어게임', ['rank_culture']),\n",
        "    ('원더우먼', ['rank_slang', 'rank_fashion_beauty']),\n",
        "    ('우아한친구들', ['rank_pop']),\n",
        "    ('낭만닥터김사부', ['rank_pop']),\n",
        "    ('마우스', ['rank_food', 'rank_fashion_beauty']),\n",
        "    ('지옥', ['rank_place']),\n",
        "    ('왕이된남자', ['rank_history_event', 'rank_culture']),\n",
        "    ('라켓소년단', ['rank_culture']),\n",
        "    ('유미의세포들', ['rank_fashion_beauty']),\n",
        "    ('부부의세계', ['rank_slang']),\n",
        "    ('로맨스는별책부록', ['rank_slang', 'rank_fashion_beauty']),\n",
        "    ('미스티', ['rank_fashion_beauty']),\n",
        "    ('미치지않고서야', ['rank_culture']),\n",
        "    ('마녀식당으로오세요', ['rank_place', 'rank_fashion_beauty']),\n",
        "    ('미스터션샤인', ['rank_history_event']),\n",
        "    ('모범택시', ['rank_history_event']),\n",
        "    ('사의찬미', ['rank_fashion_beauty', 'rank_pop']),\n",
        "    ('멜로가체질', ['rank_pop']),\n",
        "    ('이리와안아줘', ['rank_fashion_beauty', 'rank_slang']),\n",
        "    ('보좌관:세상을움직이는사람들', ['rank_pop']),\n",
        "    ('뷰티인사이드', ['rank_pop', 'rank_slang']),\n",
        "    ('우리들의블루스', ['rank_place', 'rank_history_event']),\n",
        "    ('해피니스', ['rank_history_event']),\n",
        "    ('의사요한', ['rank_pop']),\n",
        "    ('동백꽃필무렵', ['rank_culture'])]"
      ]
    },
    {
      "cell_type": "code",
      "execution_count": 8,
      "metadata": {},
      "outputs": [
        {
          "data": {
            "text/html": [
              "<div>\n",
              "<style scoped>\n",
              "    .dataframe tbody tr th:only-of-type {\n",
              "        vertical-align: middle;\n",
              "    }\n",
              "\n",
              "    .dataframe tbody tr th {\n",
              "        vertical-align: top;\n",
              "    }\n",
              "\n",
              "    .dataframe thead th {\n",
              "        text-align: right;\n",
              "    }\n",
              "</style>\n",
              "<table border=\"1\" class=\"dataframe\">\n",
              "  <thead>\n",
              "    <tr style=\"text-align: right;\">\n",
              "      <th></th>\n",
              "      <th>reviews</th>\n",
              "      <th>title</th>\n",
              "      <th>K_words_list</th>\n",
              "      <th>rank_food</th>\n",
              "      <th>rank_place</th>\n",
              "      <th>rank_slang</th>\n",
              "      <th>rank_fashion_beauty</th>\n",
              "      <th>rank_pop</th>\n",
              "      <th>rank_history_event</th>\n",
              "      <th>rank_culture</th>\n",
              "      <th>pos_neg</th>\n",
              "    </tr>\n",
              "  </thead>\n",
              "  <tbody>\n",
              "    <tr>\n",
              "      <th>0</th>\n",
              "      <td>how criminal profiling came to be in south kor...</td>\n",
              "      <td>악의마음을읽는자들</td>\n",
              "      <td>['raincoat killer', 'ost', 'korea', 'south kor...</td>\n",
              "      <td>0.0</td>\n",
              "      <td>3.0</td>\n",
              "      <td>0.0</td>\n",
              "      <td>0.0</td>\n",
              "      <td>1.0</td>\n",
              "      <td>1.0</td>\n",
              "      <td>0.0</td>\n",
              "      <td>0</td>\n",
              "    </tr>\n",
              "    <tr>\n",
              "      <th>1</th>\n",
              "      <td>g r i p p i n g all the cases are based on tru...</td>\n",
              "      <td>악의마음을읽는자들</td>\n",
              "      <td>['slow burn', 'ost', 'kwon il yong', 'korea', ...</td>\n",
              "      <td>0.0</td>\n",
              "      <td>2.0</td>\n",
              "      <td>0.0</td>\n",
              "      <td>0.0</td>\n",
              "      <td>1.0</td>\n",
              "      <td>1.0</td>\n",
              "      <td>2.0</td>\n",
              "      <td>0</td>\n",
              "    </tr>\n",
              "    <tr>\n",
              "      <th>2</th>\n",
              "      <td>darkness cannot drive out darkness only light ...</td>\n",
              "      <td>악의마음을읽는자들</td>\n",
              "      <td>['fighting', 'kwon il yong', 'korea', 'korean'...</td>\n",
              "      <td>0.0</td>\n",
              "      <td>2.0</td>\n",
              "      <td>0.0</td>\n",
              "      <td>0.0</td>\n",
              "      <td>1.0</td>\n",
              "      <td>1.0</td>\n",
              "      <td>2.0</td>\n",
              "      <td>0</td>\n",
              "    </tr>\n",
              "  </tbody>\n",
              "</table>\n",
              "</div>"
            ],
            "text/plain": [
              "                                             reviews      title  \\\n",
              "0  how criminal profiling came to be in south kor...  악의마음을읽는자들   \n",
              "1  g r i p p i n g all the cases are based on tru...  악의마음을읽는자들   \n",
              "2  darkness cannot drive out darkness only light ...  악의마음을읽는자들   \n",
              "\n",
              "                                        K_words_list  rank_food  rank_place  \\\n",
              "0  ['raincoat killer', 'ost', 'korea', 'south kor...        0.0         3.0   \n",
              "1  ['slow burn', 'ost', 'kwon il yong', 'korea', ...        0.0         2.0   \n",
              "2  ['fighting', 'kwon il yong', 'korea', 'korean'...        0.0         2.0   \n",
              "\n",
              "   rank_slang  rank_fashion_beauty  rank_pop  rank_history_event  \\\n",
              "0         0.0                  0.0       1.0                 1.0   \n",
              "1         0.0                  0.0       1.0                 1.0   \n",
              "2         0.0                  0.0       1.0                 1.0   \n",
              "\n",
              "   rank_culture  pos_neg  \n",
              "0           0.0        0  \n",
              "1           2.0        0  \n",
              "2           2.0        0  "
            ]
          },
          "execution_count": 8,
          "metadata": {},
          "output_type": "execute_result"
        }
      ],
      "source": [
        "samples = df.copy()\n",
        "samples.columns\n",
        "samples.rename(columns={'k_food':'rank_food', 'place':'rank_place', 'k_slang' : 'rank_slang',\n",
        "       'k_fashion_beauty':'rank_fashion_beauty', 'k_pop' : 'rank_pop',\n",
        "       'history_event' : 'rank_history_event', 'k_culture' : 'rank_culture'},inplace=True)\n",
        "samples[:3]"
      ]
    },
    {
      "cell_type": "code",
      "execution_count": 11,
      "metadata": {},
      "outputs": [],
      "source": [
        "pos_df = samples[samples.pos_neg == 0]"
      ]
    },
    {
      "cell_type": "code",
      "execution_count": 12,
      "metadata": {},
      "outputs": [
        {
          "name": "stdout",
          "output_type": "stream",
          "text": [
            "<class 'pandas.core.frame.DataFrame'>\n",
            "Int64Index: 18991 entries, 0 to 27697\n",
            "Data columns (total 11 columns):\n",
            " #   Column               Non-Null Count  Dtype  \n",
            "---  ------               --------------  -----  \n",
            " 0   reviews              18991 non-null  object \n",
            " 1   title                18991 non-null  object \n",
            " 2   K_words_list         18991 non-null  object \n",
            " 3   rank_food            18991 non-null  float64\n",
            " 4   rank_place           18991 non-null  float64\n",
            " 5   rank_slang           18991 non-null  float64\n",
            " 6   rank_fashion_beauty  18991 non-null  float64\n",
            " 7   rank_pop             18991 non-null  float64\n",
            " 8   rank_history_event   18991 non-null  float64\n",
            " 9   rank_culture         18991 non-null  float64\n",
            " 10  pos_neg              18991 non-null  int64  \n",
            "dtypes: float64(7), int64(1), object(3)\n",
            "memory usage: 1.7+ MB\n"
          ]
        }
      ],
      "source": [
        "pos_df.info()"
      ]
    },
    {
      "cell_type": "code",
      "execution_count": 13,
      "metadata": {
        "colab": {
          "base_uri": "https://localhost:8080/",
          "height": 237
        },
        "id": "X_PKit713vdq",
        "outputId": "e5c6d2c8-d7af-4584-de20-be7b7f9d0968"
      },
      "outputs": [
        {
          "data": {
            "text/plain": [
              "0                          18어게인\n",
              "1                  365:운명을거스르는1년\n",
              "2                       60일지정생존자\n",
              "3                           D.P.\n",
              "4     검색어를입력하세요WWW\n",
              "                 ...            \n",
              "87                  하늘에서내리는일억개의별\n",
              "88                          하이에나\n",
              "89                      한번다녀왔습니다\n",
              "90                          해피니스\n",
              "91                         호텔델루나\n",
              "Name: title, Length: 92, dtype: object"
            ]
          },
          "execution_count": 13,
          "metadata": {},
          "output_type": "execute_result"
        }
      ],
      "source": [
        "drama_titles = df.groupby('title',as_index=False).count().title\n",
        "drama_titles"
      ]
    },
    {
      "cell_type": "code",
      "execution_count": 14,
      "metadata": {
        "id": "7BPRLR5l3tJ6"
      },
      "outputs": [],
      "source": [
        "reviews = pos_df.reviews.to_list()\n",
        "\n",
        "\n",
        "sentences = \",\".join(reviews)\n",
        "reviews_by_drama = []\n",
        "for title in drama_titles:\n",
        "    rev_by_drama = pos_df[pos_df.title == title].reviews\n",
        "    reviews_by_drama.append(','.join(rev_by_drama))"
      ]
    },
    {
      "cell_type": "code",
      "execution_count": 15,
      "metadata": {},
      "outputs": [
        {
          "data": {
            "text/plain": [
              "18991"
            ]
          },
          "execution_count": 15,
          "metadata": {},
          "output_type": "execute_result"
        }
      ],
      "source": [
        "len(reviews)"
      ]
    },
    {
      "cell_type": "markdown",
      "metadata": {
        "id": "eAvj4QvycKkg"
      },
      "source": [
        "# 필요 함수들"
      ]
    },
    {
      "cell_type": "code",
      "execution_count": null,
      "metadata": {
        "id": "XqAn9_AudeEC"
      },
      "outputs": [],
      "source": [
        "# pip install contextualized_topic_models"
      ]
    },
    {
      "cell_type": "code",
      "execution_count": null,
      "metadata": {},
      "outputs": [],
      "source": [
        "# pip install tensorflow"
      ]
    },
    {
      "cell_type": "code",
      "execution_count": 14,
      "metadata": {
        "id": "Uzcta1LzcKki"
      },
      "outputs": [],
      "source": [
        "import re\n",
        "import pandas as pd\n",
        "import numpy as np\n",
        "import string\n",
        "from tensorflow.keras.preprocessing.text import text_to_word_sequence\n",
        "import nltk\n",
        "import spacy\n",
        "from nltk.tokenize import word_tokenize\n",
        "from nltk.stem import WordNetLemmatizer\n",
        "from collections import Counter\n",
        "# from contextualized_topic_models.models.ctm import CombinedTM\n",
        "# from contextualized_topic_models.utils.data_preparation import TopicModelDataPreparation, bert_embeddings_from_list\n",
        "from contextualized_topic_models.utils.preprocessing import WhiteSpacePreprocessing\n",
        "from sklearn.feature_extraction.text import CountVectorizer, TfidfVectorizer, HashingVectorizer\n",
        "# from konlpy.tag import Okt\n",
        "from tqdm import tqdm\n",
        "\n",
        "import warnings\n",
        "warnings.filterwarnings('ignore')"
      ]
    },
    {
      "cell_type": "code",
      "execution_count": null,
      "metadata": {
        "id": "Za3iZ_T5cKkj"
      },
      "outputs": [],
      "source": [
        "from nltk.corpus import stopwords\n",
        "import nltk\n",
        "nltk.download('averaged_perceptron_tagger')\n",
        "nltk.download('stopwords')\n",
        "nltk.download('wordnet')\n",
        "nltk.download('omw-1.4')\n",
        "stop_words = set(stopwords.words('english'))\n",
        "stop_words.update(('\\r\\n', '\\n\\r', 'ever', 'much', 'look', 'squid', 'show', 'thing', \"i've\", 'anything', 'something', \"show's\",\n",
        "                   'www', 'soompi' 'com', 'instagram', 'youtube', 'https', 'mydramalist', 'twitter', 'episode', 'comment', 'scene',\n",
        "                   'version', \"he's\", 'gonna', 'series', 'watch', 'everything', 'something', \"can't\", 'list', 'dramas', 'drama',\n",
        "                   'wait', 'preview', 'someone', 'everyone', 'dont', 'think', 'season', 'anyone', 'something', 'anything', 'nothing', 'world',\n",
        "                   'status', 'week', 'name', 'cause', 'time', 'en', 'org', 'wikipedia', 'wiki', 'pbs', 'twimg', 'year', 'point', 'please', 'today',\n",
        "                   'haha', 'case', 'guess', 'reason', 'person', 'moment', 'sense', 'kinda', 'part', 'movie', 'school', 'start', 'work', 'lead', 'kind',\n",
        "                   'rate', 'rating', 'rate', 'men', 'example', 'idea', 'half', 'review', 'genre', 'side', \"that's\", \"they're\", 'till', 'tell', 'phone',\n",
        "                   'section', 'number', 'company', 'line', \"there's\", 'male', 'team', 'rating', 'baby', 'course', 'care', 'cute', 'question', 'help', 'group',\n",
        "                   'hand', 'spoiler', 'hate', 'need', 'mess', 'change', 'drop', 'date', 'netflix', 'yeah', 'daon', 'park', 'thank', 'lmao', 'damn', \"i'll\",\n",
        "                   'kang', 'shinwoo', 'taekyung', 'mean', 'woman', 'hope', 'read', 'fact', 'opinion', 'stuff', 'feel', 'kdrama', 'talk', 'song', 'hype',\n",
        "                   'title', 'type'))"
      ]
    },
    {
      "cell_type": "markdown",
      "metadata": {},
      "source": [
        "# 사용 함수"
      ]
    },
    {
      "cell_type": "code",
      "execution_count": 16,
      "metadata": {
        "id": "FFx6w8wQcKkj"
      },
      "outputs": [],
      "source": [
        "def get_wordnet_pos(pos_tag):\n",
        "    if pos_tag.startswith('V'):\n",
        "        return 'v'\n",
        "    elif pos_tag.startswith('N'):\n",
        "        return 'n'\n",
        "    elif pos_tag.startswith('J'):\n",
        "        return 'a'\n",
        "    elif pos_tag.startswith('R'):\n",
        "        return 'r'\n",
        "    else:\n",
        "        return None"
      ]
    },
    {
      "cell_type": "markdown",
      "metadata": {},
      "source": [
        "# CustomTokenizer class setting"
      ]
    },
    {
      "cell_type": "code",
      "execution_count": 17,
      "metadata": {
        "id": "Q6PzBOOfcKkk"
      },
      "outputs": [],
      "source": [
        "class CustomTokenizer:\n",
        "    def __init__(self, tagger):\n",
        "        self.tagger = tagger\n",
        "    def __call__(self, a):\n",
        "        # a = ' '.join(a)\n",
        "        word_tokens = self.tagger(a)\n",
        "        \n",
        "        words = []\n",
        "        for i in word_tokens:\n",
        "            text = re.sub('[^a-zA-Z0-9\\']','',i).strip()\n",
        "            text = re.sub('[-=+,#/\\?:^$.@*\\\"※~&%ㆍ!』\\\\‘|\\(\\)\\[\\]\\<\\>`…》]','', text)\n",
        "            if(text != ''):\n",
        "                words.append(text)\n",
        "        \n",
        "        tag_words = nltk.pos_tag(words)\n",
        "        pos_words = [word for word in tag_words if word[1][0] in {'N'}] #'V','N','J','R'\n",
        "        \n",
        "        temp_list = []\n",
        "        for token, pos_tag in pos_words:\n",
        "            tag = get_wordnet_pos(pos_tag)\n",
        "            if tag != None:\n",
        "                temp_list.append((token, get_wordnet_pos(pos_tag)))\n",
        "        lemma = WordNetLemmatizer()\n",
        "        token_final = [lemma.lemmatize(token, pos=tag) for token, tag in temp_list]\n",
        "        long_words = [i for i in token_final if len(i) > 2]\n",
        "        results = [w for w in long_words if w not in stop_words]\n",
        "        \n",
        "        return results"
      ]
    },
    {
      "cell_type": "markdown",
      "metadata": {
        "id": "VUITwIWzcKkl"
      },
      "source": [
        "# 작업"
      ]
    },
    {
      "cell_type": "code",
      "execution_count": 18,
      "metadata": {
        "colab": {
          "base_uri": "https://localhost:8080/"
        },
        "id": "WUf7tKGGcKkl",
        "outputId": "7916a4e6-62cf-4545-8f50-57a2d8fa8732"
      },
      "outputs": [],
      "source": [
        "def tfidf_vectorizing(reviews):\n",
        "    ngram_range = (1,2)\n",
        "\n",
        "    custom_tokenizer = CustomTokenizer(text_to_word_sequence)\n",
        "\n",
        "    tfidf = TfidfVectorizer(tokenizer=custom_tokenizer,ngram_range = ngram_range,\\\n",
        "        stop_words = stop_words, max_df=10, min_df=2 ,max_features=5000).fit(reviews)\n",
        "    candidates = tfidf.get_feature_names()\n",
        "    \n",
        "    return candidates"
      ]
    },
    {
      "cell_type": "markdown",
      "metadata": {
        "id": "EcJtDtpicKkm"
      },
      "source": [
        "# 임베딩"
      ]
    },
    {
      "cell_type": "code",
      "execution_count": 19,
      "metadata": {
        "id": "AGKQ1FmHcKkm"
      },
      "outputs": [],
      "source": [
        "def embedding(sentences,candidates):\n",
        "    from sentence_transformers import SentenceTransformer\n",
        "\n",
        "    model = SentenceTransformer('distilbert-base-nli-stsb-mean-tokens')\n",
        "\n",
        "    doc_embedding = model.encode([sentences])\n",
        "    candidate_embeddings = model.encode(candidates)\n",
        "    # drama_embedding = model.encode(reviews_by_drama)\n",
        "\n",
        "    return doc_embedding, candidate_embeddings"
      ]
    },
    {
      "cell_type": "markdown",
      "metadata": {
        "id": "rsW6mgMi4N71"
      },
      "source": [
        "# 코사인 유사도 함수"
      ]
    },
    {
      "cell_type": "code",
      "execution_count": 36,
      "metadata": {
        "id": "wIJ9WZpmlqlu"
      },
      "outputs": [],
      "source": [
        "from sklearn.metrics.pairwise import cosine_similarity\n",
        "top_n = 500\n",
        "diversity = 0.7\n",
        "\n",
        "# 벡터포함 함수\n",
        "\n",
        "def mmr_with_vec(doc_embedding, candidate_embeddings, words, top_n, diversity):\n",
        "    word_doc_distances = cosine_similarity(candidate_embeddings,doc_embedding)\n",
        "    word_distances = cosine_similarity(candidate_embeddings) \n",
        "\n",
        "    keywords_idx = [np.argmax(word_doc_distances)]\n",
        "    candidates_idx = [i for i in range(len(candidates)) if i != keywords_idx[0]]\n",
        "    \n",
        "    for _ in range(top_n-1):\n",
        "        try:\n",
        "        # 후보 키워드들의 문서유사도 값\n",
        "            candidate_similarities = word_doc_distances[candidates_idx, :]\n",
        "            # 후보 키워드와 가장 유사한 키워드\n",
        "            target_similarities = np.max(word_distances[candidates_idx][:,keywords_idx], axis=1) \n",
        "\n",
        "            mmr = (1-diversity) * candidate_similarities - diversity * target_similarities.reshape(-1,1)\n",
        "            mmr_idx = candidates_idx[np.argmax(mmr)]\n",
        "\n",
        "            keywords_idx.append(mmr_idx)\n",
        "            candidates_idx.remove(mmr_idx)\n",
        "        except:\n",
        "            break\n",
        "\n",
        "    # 본 단어 임베딩벡터에서 추출키워드에 해당하는 벡터만\n",
        "    keywords_vector = candidate_embeddings[keywords_idx][:] \n",
        "    keywords = [words[idx] for idx in keywords_idx]\n",
        "    \n",
        "    return keywords, keywords_vector\n"
      ]
    },
    {
      "cell_type": "code",
      "execution_count": 20,
      "metadata": {},
      "outputs": [],
      "source": [
        "# 벡터미포함 함수\n",
        "top_n = 10\n",
        "def mmr(doc_embedding, candidate_embeddings, words, top_n, diversity):\n",
        "    word_doc_distances = cosine_similarity(candidate_embeddings,doc_embedding)\n",
        "    word_distances = cosine_similarity(candidate_embeddings) \n",
        "\n",
        "    keywords_idx = [np.argmax(word_doc_distances)]\n",
        "    candidates_idx = [i for i in range(len(candidates)) if i != keywords_idx[0]]\n",
        "    \n",
        "    for _ in range(top_n-1):\n",
        "        try:\n",
        "        # 후보 키워드들의 문서유사도 값\n",
        "            candidate_similarities = word_doc_distances[candidates_idx, :]\n",
        "            # 후보 키워드와 가장 유사한 키워드\n",
        "            target_similarities = np.max(word_distances[candidates_idx][:,keywords_idx], axis=1) \n",
        "\n",
        "            mmr = (1-diversity) * candidate_similarities - diversity * target_similarities.reshape(-1,1)\n",
        "            mmr_idx = candidates_idx[np.argmax(mmr)]\n",
        "\n",
        "            keywords_idx.append(mmr_idx)\n",
        "            candidates_idx.remove(mmr_idx)\n",
        "        except:\n",
        "            break\n",
        "    keywords = [words[idx] for idx in keywords_idx]\n",
        "    \n",
        "    return keywords"
      ]
    },
    {
      "cell_type": "code",
      "execution_count": 31,
      "metadata": {},
      "outputs": [],
      "source": [
        "# for idx, drama in enumerate(drama_embedding):\n",
        "#     keywords, keywords_vector = mmr(drama.reshape(1,-1) ,candidate_embeddings,candidates,top_n,diversity)\n",
        "#     print(titles[idx])\n",
        "#     print(keywords[:10],'\\n')"
      ]
    },
    {
      "cell_type": "markdown",
      "metadata": {},
      "source": [
        "### keyword Dataframe 생성"
      ]
    },
    {
      "cell_type": "code",
      "execution_count": 23,
      "metadata": {},
      "outputs": [
        {
          "data": {
            "text/html": [
              "<div>\n",
              "<style scoped>\n",
              "    .dataframe tbody tr th:only-of-type {\n",
              "        vertical-align: middle;\n",
              "    }\n",
              "\n",
              "    .dataframe tbody tr th {\n",
              "        vertical-align: top;\n",
              "    }\n",
              "\n",
              "    .dataframe thead th {\n",
              "        text-align: right;\n",
              "    }\n",
              "</style>\n",
              "<table border=\"1\" class=\"dataframe\">\n",
              "  <thead>\n",
              "    <tr style=\"text-align: right;\">\n",
              "      <th></th>\n",
              "      <th>reviews</th>\n",
              "      <th>title</th>\n",
              "      <th>K_words_list</th>\n",
              "      <th>rank_food</th>\n",
              "      <th>rank_place</th>\n",
              "      <th>rank_slang</th>\n",
              "      <th>rank_fashion_beauty</th>\n",
              "      <th>rank_pop</th>\n",
              "      <th>rank_history_event</th>\n",
              "      <th>rank_culture</th>\n",
              "      <th>pos_neg</th>\n",
              "    </tr>\n",
              "  </thead>\n",
              "  <tbody>\n",
              "    <tr>\n",
              "      <th>0</th>\n",
              "      <td>how criminal profiling came to be in south kor...</td>\n",
              "      <td>악의마음을읽는자들</td>\n",
              "      <td>['raincoat killer', 'ost', 'korea', 'south kor...</td>\n",
              "      <td>0.0</td>\n",
              "      <td>3.0</td>\n",
              "      <td>0.0</td>\n",
              "      <td>0.0</td>\n",
              "      <td>1.0</td>\n",
              "      <td>1.0</td>\n",
              "      <td>0.0</td>\n",
              "      <td>0</td>\n",
              "    </tr>\n",
              "    <tr>\n",
              "      <th>1</th>\n",
              "      <td>g r i p p i n g all the cases are based on tru...</td>\n",
              "      <td>악의마음을읽는자들</td>\n",
              "      <td>['slow burn', 'ost', 'kwon il yong', 'korea', ...</td>\n",
              "      <td>0.0</td>\n",
              "      <td>2.0</td>\n",
              "      <td>0.0</td>\n",
              "      <td>0.0</td>\n",
              "      <td>1.0</td>\n",
              "      <td>1.0</td>\n",
              "      <td>2.0</td>\n",
              "      <td>0</td>\n",
              "    </tr>\n",
              "    <tr>\n",
              "      <th>2</th>\n",
              "      <td>darkness cannot drive out darkness only light ...</td>\n",
              "      <td>악의마음을읽는자들</td>\n",
              "      <td>['fighting', 'kwon il yong', 'korea', 'korean'...</td>\n",
              "      <td>0.0</td>\n",
              "      <td>2.0</td>\n",
              "      <td>0.0</td>\n",
              "      <td>0.0</td>\n",
              "      <td>1.0</td>\n",
              "      <td>1.0</td>\n",
              "      <td>2.0</td>\n",
              "      <td>0</td>\n",
              "    </tr>\n",
              "  </tbody>\n",
              "</table>\n",
              "</div>"
            ],
            "text/plain": [
              "                                             reviews      title  \\\n",
              "0  how criminal profiling came to be in south kor...  악의마음을읽는자들   \n",
              "1  g r i p p i n g all the cases are based on tru...  악의마음을읽는자들   \n",
              "2  darkness cannot drive out darkness only light ...  악의마음을읽는자들   \n",
              "\n",
              "                                        K_words_list  rank_food  rank_place  \\\n",
              "0  ['raincoat killer', 'ost', 'korea', 'south kor...        0.0         3.0   \n",
              "1  ['slow burn', 'ost', 'kwon il yong', 'korea', ...        0.0         2.0   \n",
              "2  ['fighting', 'kwon il yong', 'korea', 'korean'...        0.0         2.0   \n",
              "\n",
              "   rank_slang  rank_fashion_beauty  rank_pop  rank_history_event  \\\n",
              "0         0.0                  0.0       1.0                 1.0   \n",
              "1         0.0                  0.0       1.0                 1.0   \n",
              "2         0.0                  0.0       1.0                 1.0   \n",
              "\n",
              "   rank_culture  pos_neg  \n",
              "0           0.0        0  \n",
              "1           2.0        0  \n",
              "2           2.0        0  "
            ]
          },
          "execution_count": 23,
          "metadata": {},
          "output_type": "execute_result"
        }
      ],
      "source": [
        "pos_df.head(3)"
      ]
    },
    {
      "cell_type": "code",
      "execution_count": 48,
      "metadata": {},
      "outputs": [
        {
          "data": {
            "text/plain": [
              "count    121.000000\n",
              "mean       0.504132\n",
              "std        0.807506\n",
              "min        0.000000\n",
              "25%        0.000000\n",
              "50%        0.000000\n",
              "75%        1.000000\n",
              "max        3.000000\n",
              "Name: rank_place, dtype: float64"
            ]
          },
          "execution_count": 48,
          "metadata": {},
          "output_type": "execute_result"
        }
      ],
      "source": [
        "pos_df[pos_df.title == '악의마음을읽는자들'].rank_place.describe()"
      ]
    },
    {
      "cell_type": "code",
      "execution_count": 24,
      "metadata": {},
      "outputs": [
        {
          "data": {
            "text/plain": [
              "[('악의마음을읽는자들', ['rank_history_event', 'rank_place']),\n",
              " ('라이프온마스', ['rank_place', 'rank_food']),\n",
              " ('옷소매붉은끝동', ['rank_history_event']),\n",
              " ('이구역의미친X', ['rank_food', 'rank_fashion_beauty']),\n",
              " ('어느날우리집현관으로멸망이들어왔다', ['rank_pop', 'rank_food']),\n",
              " ('스물다섯스물하나', ['rank_pop']),\n",
              " ('무브투헤븐:나는유품정리사입니다', ['rank_culture']),\n",
              " ('호텔델루나', ['rank_pop', 'rank_fashion_beauty']),\n",
              " ('하늘에서내리는일억개의별', ['rank_culture']),\n",
              " ('기름진멜로', ['rank_food', 'rank_slang']),\n",
              " ('악의꽃', ['rank_culture']),\n",
              " ('서른이지만열일곱입니다', ['rank_pop']),\n",
              " ('킹덤', ['rank_history_event', 'rank_place']),\n",
              " ('작은신의아이들', ['rank_culture']),\n",
              " ('검색어를입력하세요WWW', ['rank_slang', 'rank_pop']),\n",
              " ('술꾼도시여자들', ['rank_food', 'rank_place']),\n",
              " ('한번다녀왔습니다', ['rank_food', 'rank_slang']),\n",
              " ('서른아홉', ['rank_food', 'rank_slang']),\n",
              " ('오월의청춘', ['rank_history_event', 'rank_place']),\n",
              " ('트랩', ['rank_slang']),\n",
              " ('왓쳐', ['rank_food', 'rank_pop']),\n",
              " ('아는와이프', ['rank_slang', 'rank_pop']),\n",
              " ('자백', ['rank_culture']),\n",
              " ('60일지정생존자', ['rank_place']),\n",
              " ('시맨틱에러', ['rank_culture']),\n",
              " ('녹두꽃', ['rank_history_event']),\n",
              " ('백일의낭군님', ['rank_history_event', 'rank_pop']),\n",
              " ('괴물', ['rank_food', 'rank_history_event']),\n",
              " ('태종이방원', ['rank_culture', 'rank_history_event']),\n",
              " ('사이코지만괜찮아', ['rank_fashion_beauty', 'rank_food']),\n",
              " ('런온', ['rank_food']),\n",
              " ('365:운명을거스르는1년', ['rank_slang']),\n",
              " ('시를잊은그대에게', ['rank_culture']),\n",
              " ('인간수업', ['rank_place']),\n",
              " ('으라차차와이키키', ['rank_culture']),\n",
              " ('우수무당가두심', ['rank_place', 'rank_history_event']),\n",
              " ('트레이서', ['rank_culture']),\n",
              " ('사내맞선', ['rank_culture', 'rank_food']),\n",
              " ('구경이', ['rank_pop', 'rank_food']),\n",
              " ('어쩌다발견한하루', ['rank_history_event', 'rank_culture']),\n",
              " ('김비서가왜그럴까', ['rank_fashion_beauty', 'rank_food']),\n",
              " ('나의아저씨', ['rank_pop']),\n",
              " ('카이로스', ['rank_culture', 'rank_slang']),\n",
              " ('18어게인', ['rank_pop']),\n",
              " ('D.P.', ['rank_place']),\n",
              " ('로스쿨', ['rank_pop']),\n",
              " ('대박부동산', ['rank_slang', 'rank_fashion_beauty']),\n",
              " ('사랑의불시착', ['rank_place']),\n",
              " ('스토브리그', ['rank_place', 'rank_fashion_beauty']),\n",
              " ('단하나의사랑', ['rank_pop', 'rank_slang']),\n",
              " ('안녕나야', ['rank_slang', 'rank_fashion_beauty']),\n",
              " ('그림자미녀', ['rank_fashion_beauty', 'rank_culture']),\n",
              " ('도시남녀의사랑법', ['rank_place']),\n",
              " ('본대로말하라', ['rank_culture']),\n",
              " ('내뒤에테리우스', ['rank_slang']),\n",
              " ('월간집', ['rank_food']),\n",
              " ('비밀의숲', ['rank_food', 'rank_place']),\n",
              " ('나빌레라', ['rank_fashion_beauty']),\n",
              " ('슬기로운의사생활', ['rank_food', 'rank_pop']),\n",
              " ('스카이캐슬', ['rank_place']),\n",
              " ('하이에나', ['rank_food', 'rank_fashion_beauty']),\n",
              " ('라이브', ['rank_place']),\n",
              " ('갯마을차차차', ['rank_food']),\n",
              " ('소년심판', ['rank_place']),\n",
              " ('그녀의사생활', ['rank_fashion_beauty']),\n",
              " ('손theguest', ['rank_food']),\n",
              " ('세빛남고학생회', ['rank_fashion_beauty', 'rank_place']),\n",
              " ('오징어게임', ['rank_culture']),\n",
              " ('원더우먼', ['rank_slang', 'rank_fashion_beauty']),\n",
              " ('우아한친구들', ['rank_pop']),\n",
              " ('낭만닥터김사부', ['rank_pop']),\n",
              " ('마우스', ['rank_food', 'rank_fashion_beauty']),\n",
              " ('지옥', ['rank_place']),\n",
              " ('왕이된남자', ['rank_history_event', 'rank_culture']),\n",
              " ('라켓소년단', ['rank_culture']),\n",
              " ('유미의세포들', ['rank_fashion_beauty']),\n",
              " ('부부의세계', ['rank_slang']),\n",
              " ('로맨스는별책부록', ['rank_slang', 'rank_fashion_beauty']),\n",
              " ('미스티', ['rank_fashion_beauty']),\n",
              " ('미치지않고서야', ['rank_culture']),\n",
              " ('마녀식당으로오세요', ['rank_place', 'rank_fashion_beauty']),\n",
              " ('미스터션샤인', ['rank_history_event']),\n",
              " ('모범택시', ['rank_history_event']),\n",
              " ('사의찬미', ['rank_fashion_beauty', 'rank_pop']),\n",
              " ('멜로가체질', ['rank_pop']),\n",
              " ('이리와안아줘', ['rank_fashion_beauty', 'rank_slang']),\n",
              " ('보좌관:세상을움직이는사람들', ['rank_pop']),\n",
              " ('뷰티인사이드', ['rank_pop', 'rank_slang']),\n",
              " ('우리들의블루스', ['rank_place', 'rank_history_event']),\n",
              " ('해피니스', ['rank_history_event']),\n",
              " ('의사요한', ['rank_pop']),\n",
              " ('동백꽃필무렵', ['rank_culture'])]"
            ]
          },
          "execution_count": 24,
          "metadata": {},
          "output_type": "execute_result"
        }
      ],
      "source": [
        "drama_theme"
      ]
    },
    {
      "cell_type": "markdown",
      "metadata": {},
      "source": []
    },
    {
      "cell_type": "code",
      "execution_count": 51,
      "metadata": {},
      "outputs": [
        {
          "data": {
            "text/html": [
              "<div>\n",
              "<style scoped>\n",
              "    .dataframe tbody tr th:only-of-type {\n",
              "        vertical-align: middle;\n",
              "    }\n",
              "\n",
              "    .dataframe tbody tr th {\n",
              "        vertical-align: top;\n",
              "    }\n",
              "\n",
              "    .dataframe thead th {\n",
              "        text-align: right;\n",
              "    }\n",
              "</style>\n",
              "<table border=\"1\" class=\"dataframe\">\n",
              "  <thead>\n",
              "    <tr style=\"text-align: right;\">\n",
              "      <th></th>\n",
              "      <th>reviews</th>\n",
              "      <th>title</th>\n",
              "      <th>K_words_list</th>\n",
              "      <th>rank_food</th>\n",
              "      <th>rank_place</th>\n",
              "      <th>rank_slang</th>\n",
              "      <th>rank_fashion_beauty</th>\n",
              "      <th>rank_pop</th>\n",
              "      <th>rank_history_event</th>\n",
              "      <th>rank_culture</th>\n",
              "      <th>pos_neg</th>\n",
              "    </tr>\n",
              "  </thead>\n",
              "  <tbody>\n",
              "    <tr>\n",
              "      <th>0</th>\n",
              "      <td>how criminal profiling came to be in south kor...</td>\n",
              "      <td>악의마음을읽는자들</td>\n",
              "      <td>['raincoat killer', 'ost', 'korea', 'south kor...</td>\n",
              "      <td>0.0</td>\n",
              "      <td>3.0</td>\n",
              "      <td>0.0</td>\n",
              "      <td>0.0</td>\n",
              "      <td>1.0</td>\n",
              "      <td>1.0</td>\n",
              "      <td>0.0</td>\n",
              "      <td>0</td>\n",
              "    </tr>\n",
              "    <tr>\n",
              "      <th>9</th>\n",
              "      <td>transcending darkness battle not with monsters...</td>\n",
              "      <td>악의마음을읽는자들</td>\n",
              "      <td>['raincoat killer', 'slow burn', 'kwon il yong...</td>\n",
              "      <td>0.0</td>\n",
              "      <td>3.0</td>\n",
              "      <td>0.0</td>\n",
              "      <td>0.0</td>\n",
              "      <td>0.0</td>\n",
              "      <td>3.0</td>\n",
              "      <td>3.0</td>\n",
              "      <td>0</td>\n",
              "    </tr>\n",
              "  </tbody>\n",
              "</table>\n",
              "</div>"
            ],
            "text/plain": [
              "                                             reviews      title  \\\n",
              "0  how criminal profiling came to be in south kor...  악의마음을읽는자들   \n",
              "9  transcending darkness battle not with monsters...  악의마음을읽는자들   \n",
              "\n",
              "                                        K_words_list  rank_food  rank_place  \\\n",
              "0  ['raincoat killer', 'ost', 'korea', 'south kor...        0.0         3.0   \n",
              "9  ['raincoat killer', 'slow burn', 'kwon il yong...        0.0         3.0   \n",
              "\n",
              "   rank_slang  rank_fashion_beauty  rank_pop  rank_history_event  \\\n",
              "0         0.0                  0.0       1.0                 1.0   \n",
              "9         0.0                  0.0       0.0                 3.0   \n",
              "\n",
              "   rank_culture  pos_neg  \n",
              "0           0.0        0  \n",
              "9           3.0        0  "
            ]
          },
          "execution_count": 51,
          "metadata": {},
          "output_type": "execute_result"
        }
      ],
      "source": [
        "pos_df[(pos_df.title == '악의마음을읽는자들')&(pos_df.rank_place==3)]"
      ]
    },
    {
      "cell_type": "code",
      "execution_count": 50,
      "metadata": {},
      "outputs": [
        {
          "data": {
            "text/plain": [
              "['abyss',\n",
              " 'abyss abyss',\n",
              " 'analysis',\n",
              " 'book',\n",
              " 'cast',\n",
              " 'character',\n",
              " 'crime',\n",
              " 'development',\n",
              " 'event',\n",
              " 'gil',\n",
              " 'interview',\n",
              " 'interview killer',\n",
              " 'investigation',\n",
              " 'killer',\n",
              " 'killer character',\n",
              " 'killer killer',\n",
              " 'kim',\n",
              " 'kook',\n",
              " 'korea',\n",
              " 'monster',\n",
              " 'monster abyss',\n",
              " 'monster monster',\n",
              " 'production',\n",
              " 'profiler',\n",
              " 'profiling',\n",
              " 'profiling korea',\n",
              " 'raincoat',\n",
              " 'raincoat killer',\n",
              " 'story',\n",
              " 'storyline',\n",
              " 'suspense']"
            ]
          },
          "execution_count": 50,
          "metadata": {},
          "output_type": "execute_result"
        }
      ],
      "source": [
        "candidates"
      ]
    },
    {
      "cell_type": "code",
      "execution_count": 49,
      "metadata": {},
      "outputs": [
        {
          "data": {
            "text/plain": [
              "['profiling korea',\n",
              " 'book',\n",
              " 'killer killer',\n",
              " 'profiler',\n",
              " 'production',\n",
              " 'suspense',\n",
              " 'gil']"
            ]
          },
          "execution_count": 49,
          "metadata": {},
          "output_type": "execute_result"
        }
      ],
      "source": [
        "# test\n",
        "top_n = 7\n",
        "diversity = 0.7\n",
        "\n",
        "reviews = pos_df[(pos_df.title == '악의마음을읽는자들')&(pos_df.rank_place==3)].reviews.to_list()\n",
        "candidates = tfidf_vectorizing(reviews)\n",
        "sentences = ','.join(reviews)\n",
        "doc_embedding, candidate_embeddings = embedding(sentences, candidates)\n",
        "keywords = mmr(doc_embedding,candidate_embeddings,candidates,top_n,diversity)\n",
        "keywords[:7]"
      ]
    },
    {
      "cell_type": "code",
      "execution_count": 43,
      "metadata": {
        "id": "zrZeLhwA0Kmx"
      },
      "outputs": [
        {
          "name": "stderr",
          "output_type": "stream",
          "text": [
            "1it [00:12, 12.59s/it]"
          ]
        },
        {
          "name": "stdout",
          "output_type": "stream",
          "text": [
            "'18어게인': ['family wife', 'jung', 'stigma', 'zac', 'idol', 'news anchor', 'stalker'],\n"
          ]
        },
        {
          "name": "stderr",
          "output_type": "stream",
          "text": [
            "2it [00:24, 12.32s/it]"
          ]
        },
        {
          "name": "stdout",
          "output_type": "stream",
          "text": [
            "'365:운명을거스르는1년': ['suspense', 'kdramas', 'eps', 'romance day', 'creator', 'hyung', 'killer'],\n"
          ]
        },
        {
          "name": "stderr",
          "output_type": "stream",
          "text": [
            "3it [00:37, 12.44s/it]"
          ]
        },
        {
          "name": "stdout",
          "output_type": "stream",
          "text": [
            "'60일지정생존자': ['extort korea', 'democracy', 'vip', 'acting', 'cancer', 'survivor', 'sung'],\n"
          ]
        },
        {
          "name": "stderr",
          "output_type": "stream",
          "text": [
            "4it [00:50, 12.56s/it]"
          ]
        },
        {
          "name": "stdout",
          "output_type": "stream",
          "text": [
            "'D.P.': ['conscription korea', 'luffy', 'country bullying', 'death', 'actor', 'bus', 'cliffhanger'],\n"
          ]
        },
        {
          "name": "stderr",
          "output_type": "stream",
          "text": [
            "5it [01:02, 12.64s/it]"
          ]
        },
        {
          "name": "stdout",
          "output_type": "stream",
          "text": [
            "'검색어를입력하세요WWW': ['romance lot', 'seol hwan', 'owner', 'chemistry', \"morgan's\", 'yall hating', 'tammi guy'],\n"
          ]
        },
        {
          "name": "stderr",
          "output_type": "stream",
          "text": [
            "6it [01:15, 12.54s/it]"
          ]
        },
        {
          "name": "stdout",
          "output_type": "stream",
          "text": [
            "'무브투헤븐:나는유품정리사입니다': ['sang', 'uncle', 'hollywood', 'writer', 'korea', 'kdramas', 'fighting'],\n"
          ]
        },
        {
          "name": "stderr",
          "output_type": "stream",
          "text": [
            "7it [01:27, 12.43s/it]"
          ]
        },
        {
          "name": "stdout",
          "output_type": "stream",
          "text": [
            "'보좌관:세상을움직이는사람들': ['judgemental politician', 'korea', 'scandal party', 'actor', 'others suff', 'country shame', 'staff scandal'],\n"
          ]
        },
        {
          "name": "stderr",
          "output_type": "stream",
          "text": [
            "8it [01:43, 13.48s/it]"
          ]
        },
        {
          "name": "stdout",
          "output_type": "stream",
          "text": [
            "'갯마을차차차': ['toxic fan', 'dating', 'kdramas actor', 'lipstick', \"domino's pizza\", 'rice korean', 'mouse doom'],\n"
          ]
        },
        {
          "name": "stderr",
          "output_type": "stream",
          "text": [
            "9it [01:56, 13.35s/it]"
          ]
        },
        {
          "name": "stdout",
          "output_type": "stream",
          "text": [
            "'괴물': ['romance butcher', 'pacing', 'dongshik killer', 'character thriller', 'shop', 'flower evil', 'deer'],\n"
          ]
        },
        {
          "name": "stderr",
          "output_type": "stream",
          "text": [
            "10it [02:08, 13.01s/it]"
          ]
        },
        {
          "name": "stdout",
          "output_type": "stream",
          "text": [
            "'구경이': ['actress cinema', 'gay', 'ost', 'killer', 'remake', 'eve', 'character'],\n"
          ]
        },
        {
          "name": "stderr",
          "output_type": "stream",
          "text": [
            "11it [02:22, 13.19s/it]"
          ]
        },
        {
          "name": "stdout",
          "output_type": "stream",
          "text": [
            "'그녀의사생활': ['relationship misunderstanding', 'kdramas', 'allergy', 'acting', 'mother police', 'lipstick guy', 'lot people'],\n"
          ]
        },
        {
          "name": "stderr",
          "output_type": "stream",
          "text": [
            "12it [02:34, 13.01s/it]"
          ]
        },
        {
          "name": "stdout",
          "output_type": "stream",
          "text": [
            "'그림자미녀': ['sister', 'hongseok', 'surgery', 'beauty', 'manga', 'bully', 'life'],\n"
          ]
        },
        {
          "name": "stderr",
          "output_type": "stream",
          "text": [
            "13it [02:49, 13.44s/it]"
          ]
        },
        {
          "name": "stdout",
          "output_type": "stream",
          "text": [
            "'기름진멜로': ['romance', 'dish', 'jung ryeo', 'gangster', 'auntie', 'character story', 'disappointment'],\n"
          ]
        },
        {
          "name": "stderr",
          "output_type": "stream",
          "text": [
            "14it [03:06, 14.77s/it]"
          ]
        },
        {
          "name": "stdout",
          "output_type": "stream",
          "text": [
            "'김비서가왜그럴까': ['plot boring', 'tappytoon', 'office coworkers', \"i'm chemistry\", 'lover', 'narcissist secretary', 'bankruptcy'],\n"
          ]
        },
        {
          "name": "stderr",
          "output_type": "stream",
          "text": [
            "15it [03:20, 14.35s/it]"
          ]
        },
        {
          "name": "stdout",
          "output_type": "stream",
          "text": [
            "'나빌레라': ['romance', 'manhwa', 'moon', 'translation', 'chae', 'student', 'miss'],\n"
          ]
        },
        {
          "name": "stderr",
          "output_type": "stream",
          "text": [
            "16it [03:33, 14.05s/it]"
          ]
        },
        {
          "name": "stdout",
          "output_type": "stream",
          "text": [
            "'나의아저씨': ['taste', \"wife's affair\", 'kyun actor', 'fan cast', 'loneliness', 'prison playbook', 'screenwriter'],\n"
          ]
        },
        {
          "name": "stderr",
          "output_type": "stream",
          "text": [
            "17it [03:46, 13.56s/it]"
          ]
        },
        {
          "name": "stdout",
          "output_type": "stream",
          "text": [
            "'낭만닥터김사부': ['doctor teacher', 'romance', 'bone', 'villain', 'bus', 'life lesson', 'writer'],\n"
          ]
        },
        {
          "name": "stderr",
          "output_type": "stream",
          "text": [
            "18it [03:58, 13.11s/it]"
          ]
        },
        {
          "name": "stdout",
          "output_type": "stream",
          "text": [
            "'내뒤에테리우스': ['candy', 'end', 'writer', 'poland', 'sub', 'character', 'lol'],\n"
          ]
        },
        {
          "name": "stderr",
          "output_type": "stream",
          "text": [
            "19it [04:10, 12.77s/it]"
          ]
        },
        {
          "name": "stdout",
          "output_type": "stream",
          "text": [
            "'녹두꽃': ['war', 'brother', 'soil', 'nokdu', 'story', 'rebellion', 'role'],\n"
          ]
        },
        {
          "name": "stderr",
          "output_type": "stream",
          "text": [
            "20it [04:22, 12.74s/it]"
          ]
        },
        {
          "name": "stdout",
          "output_type": "stream",
          "text": [
            "'단하나의사랑': ['nonsense romance', 'kdramas', 'character development', 'lot chemistry', 'actress casting', 'demon', 'yeon seo'],\n"
          ]
        },
        {
          "name": "stderr",
          "output_type": "stream",
          "text": [
            "21it [04:35, 12.69s/it]"
          ]
        },
        {
          "name": "stdout",
          "output_type": "stream",
          "text": [
            "'대박부동산': ['coincidence', 'kdramas', 'exorcism', 'gang', 'burn romance', 'realty', 'restaurant'],\n"
          ]
        },
        {
          "name": "stderr",
          "output_type": "stream",
          "text": [
            "22it [04:48, 12.95s/it]"
          ]
        },
        {
          "name": "stdout",
          "output_type": "stream",
          "text": [
            "'도시남녀의사랑법': ['healer', 'joon', 'boredom', 'couple couple', 'cinematography', 'skinship', 'concept interview'],\n"
          ]
        },
        {
          "name": "stderr",
          "output_type": "stream",
          "text": [
            "23it [05:01, 12.79s/it]"
          ]
        },
        {
          "name": "stdout",
          "output_type": "stream",
          "text": [
            "'동백꽃필무렵': ['killer people', 'kdramas', 'break', 'motherhood', 'landlord', 'jung', 'eps'],\n"
          ]
        },
        {
          "name": "stderr",
          "output_type": "stream",
          "text": [
            "24it [05:13, 12.63s/it]"
          ]
        },
        {
          "name": "stdout",
          "output_type": "stream",
          "text": [
            "'라이브': ['plot', 'korea', 'police', 'character', 'man', 'site', 'role'],\n"
          ]
        },
        {
          "name": "stderr",
          "output_type": "stream",
          "text": [
            "25it [05:25, 12.55s/it]"
          ]
        },
        {
          "name": "stdout",
          "output_type": "stream",
          "text": [
            "'라이프온마스': ['kdramas', 'affair', 'tae', 'tunnel', 'life', 'ost', 'lot'],\n"
          ]
        },
        {
          "name": "stderr",
          "output_type": "stream",
          "text": [
            "26it [05:38, 12.63s/it]"
          ]
        },
        {
          "name": "stdout",
          "output_type": "stream",
          "text": [
            "'라켓소년단': ['indonesia entertainment', 'againts racism', 'prisonplaybook', 'lover korean', 'country lot', 'gas audience', 'writerhttps'],\n"
          ]
        },
        {
          "name": "stderr",
          "output_type": "stream",
          "text": [
            "27it [05:52, 13.00s/it]"
          ]
        },
        {
          "name": "stdout",
          "output_type": "stream",
          "text": [
            "'런온': ['romance lot', 'autism', 'studio dragon', 'actor problem', 'taste', 'research', 'mentor'],\n"
          ]
        },
        {
          "name": "stderr",
          "output_type": "stream",
          "text": [
            "28it [06:05, 12.91s/it]"
          ]
        },
        {
          "name": "stdout",
          "output_type": "stream",
          "text": [
            "'로맨스는별책부록': ['romance people', 'noona', 'lee jong', 'mom character', 'hedstbv', 'book story', 'comedy'],\n"
          ]
        },
        {
          "name": "stderr",
          "output_type": "stream",
          "text": [
            "29it [06:17, 12.80s/it]"
          ]
        },
        {
          "name": "stdout",
          "output_type": "stream",
          "text": [
            "'로스쿨': ['pretending dan', 'law professor', 'killer', 'kdramas', 'ryujin itzy', 'exam', 'cinematography'],\n"
          ]
        },
        {
          "name": "stderr",
          "output_type": "stream",
          "text": [
            "30it [06:29, 12.56s/it]"
          ]
        },
        {
          "name": "stdout",
          "output_type": "stream",
          "text": [
            "'마녀식당으로오세요': ['magic', 'diner', 'boyfriend', 'story', 'kdramas', 'wish', 'korea'],\n"
          ]
        },
        {
          "name": "stderr",
          "output_type": "stream",
          "text": [
            "31it [06:45, 13.61s/it]"
          ]
        },
        {
          "name": "stdout",
          "output_type": "stream",
          "text": [
            "'마우스': ['girl mouse', 'remorse victim', 'gene experiment', 'pairing grandmother', 'murder korea', 'snake predator', 'acting'],\n"
          ]
        },
        {
          "name": "stderr",
          "output_type": "stream",
          "text": [
            "32it [06:58, 13.22s/it]"
          ]
        },
        {
          "name": "stdout",
          "output_type": "stream",
          "text": [
            "'멜로가체질': ['romance', 'manager', 'eun jung', 'mother', 'writer', 'humor', 'actor'],\n"
          ]
        },
        {
          "name": "stderr",
          "output_type": "stream",
          "text": [
            "33it [07:11, 13.25s/it]"
          ]
        },
        {
          "name": "stdout",
          "output_type": "stream",
          "text": [
            "'모범택시': ['thriller', 'joseon exorcist', 'taxi confusing', 'manhwa romance', 'mind hour', 'insurance', 'heart mind'],\n"
          ]
        },
        {
          "name": "stderr",
          "output_type": "stream",
          "text": [
            "34it [07:24, 13.09s/it]"
          ]
        },
        {
          "name": "stdout",
          "output_type": "stream",
          "text": [
            "'미스터션샤인': ['romance story', 'cgi', 'boring chemistry', 'pain', 'holiday', 'eun sook', 'pace'],\n"
          ]
        },
        {
          "name": "stderr",
          "output_type": "stream",
          "text": [
            "35it [07:36, 12.80s/it]"
          ]
        },
        {
          "name": "stdout",
          "output_type": "stream",
          "text": [
            "'미스티': ['writer', 'murder', 'kdramas', 'lady', 'joo', 'none', 'acting'],\n"
          ]
        },
        {
          "name": "stderr",
          "output_type": "stream",
          "text": [
            "36it [07:48, 12.65s/it]"
          ]
        },
        {
          "name": "stdout",
          "output_type": "stream",
          "text": [
            "'미치지않고서야': ['doramas verge', 'jazz', 'landlord', \"mbc's\", 'ost', 'ladylord', 'com'],\n"
          ]
        },
        {
          "name": "stderr",
          "output_type": "stream",
          "text": [
            "37it [08:01, 12.70s/it]"
          ]
        },
        {
          "name": "stdout",
          "output_type": "stream",
          "text": [
            "'백일의낭군님': ['story mystery', 'exo fan', 'motivation shopping', 'joseon problem', 'kdramas', 'syndrome chemistry', 'prince bitter'],\n"
          ]
        },
        {
          "name": "stderr",
          "output_type": "stream",
          "text": [
            "38it [08:13, 12.58s/it]"
          ]
        },
        {
          "name": "stdout",
          "output_type": "stream",
          "text": [
            "'본대로말하라': ['seok police', 'writer', 'neck murder', 'strength wit', 'cha', 'run wire', 'villain character'],\n"
          ]
        },
        {
          "name": "stderr",
          "output_type": "stream",
          "text": [
            "39it [08:26, 12.66s/it]"
          ]
        },
        {
          "name": "stdout",
          "output_type": "stream",
          "text": [
            "'부부의세계': ['infidelity', 'plan', 'drinking', 'acting', 'mother', 'fight', 'eps'],\n"
          ]
        },
        {
          "name": "stderr",
          "output_type": "stream",
          "text": [
            "40it [08:40, 13.07s/it]"
          ]
        },
        {
          "name": "stdout",
          "output_type": "stream",
          "text": [
            "'뷰티인사이드': ['seo hyun', 'temperature love', 'actor', 'disease', 'sister', 'prosopagnosia', 'plot'],\n"
          ]
        },
        {
          "name": "stderr",
          "output_type": "stream",
          "text": [
            "41it [08:57, 14.26s/it]"
          ]
        },
        {
          "name": "stdout",
          "output_type": "stream",
          "text": [
            "'비밀의숲': ['hell tycoon', 'couple cut', 'others police', 'thriller suspense', 'woo tae', 'hospital killer', 'alarm herring'],\n"
          ]
        },
        {
          "name": "stderr",
          "output_type": "stream",
          "text": [
            "42it [09:13, 14.58s/it]"
          ]
        },
        {
          "name": "stdout",
          "output_type": "stream",
          "text": [
            "'사내맞선': ['trick romance', 'manhwa manhwa', 'businessproposal', 'family chicken', 'writer illness', 'seoul', 'moon'],\n"
          ]
        },
        {
          "name": "stderr",
          "output_type": "stream",
          "text": [
            "43it [09:30, 15.37s/it]"
          ]
        },
        {
          "name": "stdout",
          "output_type": "stream",
          "text": [
            "'사랑의불시착': ['accident korea', 'love star', 'boredom', 'politics kdramas', 'tornado', 'cola', 'character development'],\n"
          ]
        },
        {
          "name": "stderr",
          "output_type": "stream",
          "text": [
            "44it [09:42, 14.53s/it]"
          ]
        },
        {
          "name": "stdout",
          "output_type": "stream",
          "text": [
            "'사의찬미': ['suk actor', 'hymn death', 'romance', 'com', 'sun', 'directing', 'actress'],\n"
          ]
        },
        {
          "name": "stderr",
          "output_type": "stream",
          "text": [
            "45it [10:04, 16.63s/it]"
          ]
        },
        {
          "name": "stdout",
          "output_type": "stream",
          "text": [
            "'사이코지만괜찮아': ['pranksalot', 'mom nurse', 'studio dragon', 'gwacheon', 'tvn cannot', 'psychology', 'pizza'],\n"
          ]
        },
        {
          "name": "stderr",
          "output_type": "stream",
          "text": [
            "46it [10:18, 15.80s/it]"
          ]
        },
        {
          "name": "stdout",
          "output_type": "stream",
          "text": [
            "'서른아홉': ['screentime', 'chef', 'boring', 'love story', 'jeon', 'alcohol', 'cancer cancer'],\n"
          ]
        },
        {
          "name": "stderr",
          "output_type": "stream",
          "text": [
            "47it [10:31, 14.98s/it]"
          ]
        },
        {
          "name": "stdout",
          "output_type": "stream",
          "text": [
            "'서른이지만열일곱입니다': ['character development', 'romance', 'kdramas', 'com', 'airport', 'woo jin', 'sorry'],\n"
          ]
        },
        {
          "name": "stderr",
          "output_type": "stream",
          "text": [
            "48it [10:49, 15.92s/it]"
          ]
        },
        {
          "name": "stdout",
          "output_type": "stream",
          "text": [
            "'세빛남고학생회': ['sad producer', 'burn romance', 'filter', 'manga desk', 'cast lot', \"shinwoo's actor\", 'clueless'],\n"
          ]
        },
        {
          "name": "stderr",
          "output_type": "stream",
          "text": [
            "49it [11:05, 16.03s/it]"
          ]
        },
        {
          "name": "stdout",
          "output_type": "stream",
          "text": [
            "'소년심판': ['crime korea', 'hospital', 'kid decision', 'backstory', 'acting', 'judge', 'juvenile offender'],\n"
          ]
        },
        {
          "name": "stderr",
          "output_type": "stream",
          "text": [
            "50it [11:20, 15.75s/it]"
          ]
        },
        {
          "name": "stdout",
          "output_type": "stream",
          "text": [
            "'손theguest': ['thriller', 'kdramas', 'demon spirit', 'censorship', 'teleriferchnyfain', 'skill', 'gore'],\n"
          ]
        },
        {
          "name": "stderr",
          "output_type": "stream",
          "text": [
            "51it [11:35, 15.56s/it]"
          ]
        },
        {
          "name": "stdout",
          "output_type": "stream",
          "text": [
            "'술꾼도시여자들': ['korea system', 'friend', 'tvn', 'web', 'age system', 'original', 'girl'],\n"
          ]
        },
        {
          "name": "stderr",
          "output_type": "stream",
          "text": [
            "52it [11:53, 16.15s/it]"
          ]
        },
        {
          "name": "stdout",
          "output_type": "stream",
          "text": [
            "'스물다섯스물하나': ['plot twist', 'rnj ghxpm', 'yijin schoolers', 'baekdo endgame', 'gold debt', 'reddit com', 'breakup bus'],\n"
          ]
        },
        {
          "name": "stderr",
          "output_type": "stream",
          "text": [
            "53it [12:06, 15.19s/it]"
          ]
        },
        {
          "name": "stdout",
          "output_type": "stream",
          "text": [
            "'스카이캐슬': ['romance', \"hyena's\", 'patriarchal career', 'exam', 'murder', 'http com', 'comedy'],\n"
          ]
        },
        {
          "name": "stderr",
          "output_type": "stream",
          "text": [
            "54it [12:18, 14.36s/it]"
          ]
        },
        {
          "name": "stdout",
          "output_type": "stream",
          "text": [
            "'스토브리그': ['baseball', 'romance', 'baek seung', 'twist', 'dream', 'serie', 'actor'],\n"
          ]
        },
        {
          "name": "stderr",
          "output_type": "stream",
          "text": [
            "55it [12:33, 14.41s/it]"
          ]
        },
        {
          "name": "stdout",
          "output_type": "stream",
          "text": [
            "'슬기로운의사생활': ['plot writer', \"hwa's\", 'band practice', 'idiocy', 'friend friend', 'chicken', 'slice life'],\n"
          ]
        },
        {
          "name": "stderr",
          "output_type": "stream",
          "text": [
            "56it [12:45, 13.82s/it]"
          ]
        },
        {
          "name": "stdout",
          "output_type": "stream",
          "text": [
            "'시를잊은그대에게': ['writer', 'yoon', 'life kdramas', 'romance', 'bts', 'plot', 'others'],\n"
          ]
        },
        {
          "name": "stderr",
          "output_type": "stream",
          "text": [
            "57it [12:59, 13.67s/it]"
          ]
        },
        {
          "name": "stdout",
          "output_type": "stream",
          "text": [
            "'시맨틱에러': ['manhwa novel', 'jaeyoung meeting', 'love burn', 'creepy', 'webdrama', 'cast', 'ham'],\n"
          ]
        },
        {
          "name": "stderr",
          "output_type": "stream",
          "text": [
            "58it [13:11, 13.23s/it]"
          ]
        },
        {
          "name": "stdout",
          "output_type": "stream",
          "text": [
            "'아는와이프': ['actor korea', 'mother', 'story', 'chemistry', 'college', 'cast', 'couple'],\n"
          ]
        },
        {
          "name": "stderr",
          "output_type": "stream",
          "text": [
            "59it [13:25, 13.54s/it]"
          ]
        },
        {
          "name": "stdout",
          "output_type": "stream",
          "text": [
            "'악의꽃': ['thriller', 'camellia bloom', 'surgery', \"soo's sister\", 'evil father', 'restaurant', 'lot people'],\n"
          ]
        },
        {
          "name": "stderr",
          "output_type": "stream",
          "text": [
            "60it [13:38, 13.28s/it]"
          ]
        },
        {
          "name": "stdout",
          "output_type": "stream",
          "text": [
            "'악의마음을읽는자들': ['crime thriller', 'kdramas', \"yong's book\", 'mindhunter', 'acting', 'psychology', 'raincoat'],\n"
          ]
        },
        {
          "name": "stderr",
          "output_type": "stream",
          "text": [
            "61it [13:51, 13.14s/it]"
          ]
        },
        {
          "name": "stdout",
          "output_type": "stream",
          "text": [
            "'안녕나야': ['romance', 'manager', 'immature', 'celebrity', 'writer', 'sister', 'life'],\n"
          ]
        },
        {
          "name": "stderr",
          "output_type": "stream",
          "text": [
            "62it [14:05, 13.67s/it]"
          ]
        },
        {
          "name": "stdout",
          "output_type": "stream",
          "text": [
            "'어느날우리집현관으로멸망이들어왔다': ['romance doom', 'dialogue lot', 'baekhyun gummy', 'surgery', 'talent actor', 'plot twist', 'deity climax'],\n"
          ]
        },
        {
          "name": "stderr",
          "output_type": "stream",
          "text": [
            "63it [14:19, 13.76s/it]"
          ]
        },
        {
          "name": "stdout",
          "output_type": "stream",
          "text": [
            "'어쩌다발견한하루': ['plot twist', 'haru dan', 'mother', 'trumpet creeper', 'surgery', 'manhwa writer', 'self awareness'],\n"
          ]
        },
        {
          "name": "stderr",
          "output_type": "stream",
          "text": [
            "64it [14:32, 13.46s/it]"
          ]
        },
        {
          "name": "stdout",
          "output_type": "stream",
          "text": [
            "'오월의청춘': ['love story', 'gwangju uprising', 'villain', 'student law', 'kdramas', 'priest', 'com'],\n"
          ]
        },
        {
          "name": "stderr",
          "output_type": "stream",
          "text": [
            "65it [14:52, 15.49s/it]"
          ]
        },
        {
          "name": "stdout",
          "output_type": "stream",
          "text": [
            "'오징어게임': ['greedy', 'shark', 'daughter plane', 'quality script', 'cinema battle', 'actor korea', 'game security'],\n"
          ]
        },
        {
          "name": "stderr",
          "output_type": "stream",
          "text": [
            "66it [15:07, 15.34s/it]"
          ]
        },
        {
          "name": "stdout",
          "output_type": "stream",
          "text": [
            "'옷소매붉은끝동': ['thought people', 'zombie', 'pride prejudice', 'queen concubine', 'burn burn', 'conspiracy', 'bts clip'],\n"
          ]
        },
        {
          "name": "stderr",
          "output_type": "stream",
          "text": [
            "67it [15:20, 14.39s/it]"
          ]
        },
        {
          "name": "stdout",
          "output_type": "stream",
          "text": [
            "'왓쳐': ['watcher', 'tae joo', 'writer', 'actor', 'http', 'root', 'detail'],\n"
          ]
        },
        {
          "name": "stderr",
          "output_type": "stream",
          "text": [
            "68it [15:32, 13.72s/it]"
          ]
        },
        {
          "name": "stdout",
          "output_type": "stream",
          "text": [
            "'왕이된남자': ['cinematography', 'joseon', 'twin', 'clown', 'death', 'king', 'plot'],\n"
          ]
        },
        {
          "name": "stderr",
          "output_type": "stream",
          "text": [
            "69it [15:44, 13.25s/it]"
          ]
        },
        {
          "name": "stdout",
          "output_type": "stream",
          "text": [
            "'우리들의블루스': ['jeju', 'blue', 'character', 'ost', 'jimin', 'mdl', 'island'],\n"
          ]
        },
        {
          "name": "stderr",
          "output_type": "stream",
          "text": [
            "70it [15:56, 12.96s/it]"
          ]
        },
        {
          "name": "stdout",
          "output_type": "stream",
          "text": [
            "'우수무당가두심': ['love story', 'korea', 'employer', 'chemistry', 'abuse', 'student', 'plot'],\n"
          ]
        },
        {
          "name": "stderr",
          "output_type": "stream",
          "text": [
            "71it [16:09, 12.90s/it]"
          ]
        },
        {
          "name": "stdout",
          "output_type": "stream",
          "text": [
            "'우아한친구들': ['sky castle', 'wife', 'killer', 'thought', 'ost', 'jtbc dignity', 'story'],\n"
          ]
        },
        {
          "name": "stderr",
          "output_type": "stream",
          "text": [
            "72it [16:22, 12.92s/it]"
          ]
        },
        {
          "name": "stdout",
          "output_type": "stream",
          "text": [
            "'원더우먼': ['serial thingy', 'kim', 'surgery', 'comedy romance', 'fiery priest', 'heiress', 'plot development'],\n"
          ]
        },
        {
          "name": "stderr",
          "output_type": "stream",
          "text": [
            "73it [16:35, 12.84s/it]"
          ]
        },
        {
          "name": "stdout",
          "output_type": "stream",
          "text": [
            "'월간집': ['romance potential', 'rom com', 'jung', 'box enemy', 'writer writer', 'restaurant', 'cringe'],\n"
          ]
        },
        {
          "name": "stderr",
          "output_type": "stream",
          "text": [
            "74it [16:47, 12.84s/it]"
          ]
        },
        {
          "name": "stdout",
          "output_type": "stream",
          "text": [
            "'유미의세포들': ['relationship woong', 'romcom', 'insecure', 'character story', 'fandom', 'cinematography', 'thought'],\n"
          ]
        },
        {
          "name": "stderr",
          "output_type": "stream",
          "text": [
            "75it [17:00, 12.66s/it]"
          ]
        },
        {
          "name": "stdout",
          "output_type": "stream",
          "text": [
            "'으라차차와이키키': ['goblin', 'fault', 'fan', 'comedy', 'romance kdramas', 'manga', 'thriller'],\n"
          ]
        },
        {
          "name": "stderr",
          "output_type": "stream",
          "text": [
            "76it [17:12, 12.57s/it]"
          ]
        },
        {
          "name": "stdout",
          "output_type": "stream",
          "text": [
            "'의사요한': ['writer problem', 'euthanasia', 'burn romance', 'doctor han', 'badass bunny', 'viewer', 'rest'],\n"
          ]
        },
        {
          "name": "stderr",
          "output_type": "stream",
          "text": [
            "77it [17:24, 12.44s/it]"
          ]
        },
        {
          "name": "stdout",
          "output_type": "stream",
          "text": [
            "'이구역의미친X': ['misunderstanding', 'kdramas', 'timer', 'actress', 'treatment', 'character lot', 'comedy'],\n"
          ]
        },
        {
          "name": "stderr",
          "output_type": "stream",
          "text": [
            "78it [17:36, 12.40s/it]"
          ]
        },
        {
          "name": "stdout",
          "output_type": "stream",
          "text": [
            "'이리와안아줘': ['killer', 'hug', 'hyun', 'cast character', 'mother', 'brother', 'kdramas plot'],\n"
          ]
        },
        {
          "name": "stderr",
          "output_type": "stream",
          "text": [
            "79it [17:49, 12.58s/it]"
          ]
        },
        {
          "name": "stdout",
          "output_type": "stream",
          "text": [
            "'인간수업': ['thriller character', 'min hee', 'girlfriend', 'performance cast', 'boy situation', 'antihero character', 'story flaw'],\n"
          ]
        },
        {
          "name": "stderr",
          "output_type": "stream",
          "text": [
            "80it [18:02, 12.57s/it]"
          ]
        },
        {
          "name": "stdout",
          "output_type": "stream",
          "text": [
            "'자백': ['acting', 'dad', 'tvn', 'eye', 'character', None, None],\n"
          ]
        },
        {
          "name": "stderr",
          "output_type": "stream",
          "text": [
            "81it [18:16, 12.92s/it]"
          ]
        },
        {
          "name": "stdout",
          "output_type": "stream",
          "text": [
            "'작은신의아이들': ['ghost', 'dan', 'plot', 'character heart', 'police', 'others', 'fear'],\n"
          ]
        },
        {
          "name": "stderr",
          "output_type": "stream",
          "text": [
            "82it [18:30, 13.39s/it]"
          ]
        },
        {
          "name": "stdout",
          "output_type": "stream",
          "text": [
            "'지옥': ['horror thriller', 'sang train', 'cgi production', 'angel demon', 'zealotry', 'eps', 'character decision'],\n"
          ]
        },
        {
          "name": "stderr",
          "output_type": "stream",
          "text": [
            "83it [18:44, 13.52s/it]"
          ]
        },
        {
          "name": "stdout",
          "output_type": "stream",
          "text": [
            "'카이로스': ['idol actor', 'plot twist', 'wife', 'seo jin', 'goblin', 'police', 'stranger'],\n"
          ]
        },
        {
          "name": "stderr",
          "output_type": "stream",
          "text": [
            "84it [18:57, 13.40s/it]"
          ]
        },
        {
          "name": "stdout",
          "output_type": "stream",
          "text": [
            "'킹덤': ['intrigue zombie', 'acting', 'sword', 'love', 'walking dead', 'kim eun', 'par'],\n"
          ]
        },
        {
          "name": "stderr",
          "output_type": "stream",
          "text": [
            "85it [19:10, 13.09s/it]"
          ]
        },
        {
          "name": "stdout",
          "output_type": "stream",
          "text": [
            "'태종이방원': ['cruelty', 'fan', 'horse', 'actor', 'netizens', 'story', \"exorcist'\"],\n"
          ]
        },
        {
          "name": "stderr",
          "output_type": "stream",
          "text": [
            "86it [19:22, 12.82s/it]"
          ]
        },
        {
          "name": "stdout",
          "output_type": "stream",
          "text": [
            "'트랩': ['fan', 'character', None, None, None, None, None],\n"
          ]
        },
        {
          "name": "stderr",
          "output_type": "stream",
          "text": [
            "87it [19:34, 12.63s/it]"
          ]
        },
        {
          "name": "stdout",
          "output_type": "stream",
          "text": [
            "'트레이서': ['translator', 'tax', 'http com', 'dramacool', 'cliche politician', 'korean', 'try'],\n"
          ]
        },
        {
          "name": "stderr",
          "output_type": "stream",
          "text": [
            "88it [19:47, 12.74s/it]"
          ]
        },
        {
          "name": "stdout",
          "output_type": "stream",
          "text": [
            "'하늘에서내리는일억개의별': ['anti hero', 'jung', 'drinking game', 'love story', 'suspense', 'tvn', 'production quality'],\n"
          ]
        },
        {
          "name": "stderr",
          "output_type": "stream",
          "text": [
            "89it [20:00, 12.74s/it]"
          ]
        },
        {
          "name": "stdout",
          "output_type": "stream",
          "text": [
            "'하이에나': ['hye soo', 'information cruel', 'romance law', 'lawyer hyena', 'skill geum', 'actor lot', 'com'],\n"
          ]
        },
        {
          "name": "stderr",
          "output_type": "stream",
          "text": [
            "90it [20:12, 12.67s/it]"
          ]
        },
        {
          "name": "stdout",
          "output_type": "stream",
          "text": [
            "'한번다녀왔습니다': ['romance', 'noona', 'jerk', 'owner', 'writer', 'sister hee', 'law'],\n"
          ]
        },
        {
          "name": "stderr",
          "output_type": "stream",
          "text": [
            "91it [20:25, 12.84s/it]"
          ]
        },
        {
          "name": "stdout",
          "output_type": "stream",
          "text": [
            "'해피니스': ['zombie plot', 'patience', 'pandemic', 'chaos happiness', 'character actor', 'couple chemistry', 'claudiakdrama'],\n"
          ]
        },
        {
          "name": "stderr",
          "output_type": "stream",
          "text": [
            "92it [20:41, 13.49s/it]"
          ]
        },
        {
          "name": "stdout",
          "output_type": "stream",
          "text": [
            "'호텔델루나': ['romance dismay', 'flashback memory', 'manager handsome', 'acting plot', 'goo chemistry', 'hong sister', 'tree immortality'],\n"
          ]
        },
        {
          "name": "stderr",
          "output_type": "stream",
          "text": [
            "\n"
          ]
        }
      ],
      "source": [
        "import pickle\n",
        "\n",
        "# drama titles in csv\n",
        "drama_titles = df.groupby('title',as_index=False).count().title\n",
        "\n",
        "output = pd.DataFrame(None,columns=drama_titles)\n",
        "\n",
        "top_n = 7\n",
        "diversity = 0.6\n",
        "\n",
        "for i,title in tqdm(enumerate(drama_titles)):\n",
        "    reviews = pos_df[pos_df.title == title].reviews.to_list()\n",
        "\n",
        "    # tfidf custom vectorizing\n",
        "    candidates = tfidf_vectorizing(reviews) # reviews = list\n",
        "\n",
        "    # embedding\n",
        "    sentences = ','.join(reviews)\n",
        "    doc_embedding, candidate_embeddings = embedding(sentences, candidates) \n",
        "\n",
        "    # keywords extraction\n",
        "\n",
        "    keywords = mmr(doc_embedding,candidate_embeddings,candidates,top_n,diversity)\n",
        "\n",
        "    if len(keywords) < top_n:\n",
        "        less = top_n - len(keywords)\n",
        "        for i in range(less):\n",
        "            keywords.append(None)\n",
        "    output[title] = keywords\n",
        "    print(f\"'{title}': {keywords},\")\n",
        "\n",
        "# output.to_csv('0506_pos_Keywords.csv')"
      ]
    },
    {
      "cell_type": "code",
      "execution_count": 44,
      "metadata": {},
      "outputs": [],
      "source": [
        "output.to_csv('0509_neg_keywords.csv')"
      ]
    },
    {
      "cell_type": "code",
      "execution_count": 32,
      "metadata": {},
      "outputs": [],
      "source": [
        "a = {\"18어게인\" : ['pain stunning', 'dohyun actor', 'daughter daughter', 'people plot', \"love episode's\", 'flower evil', 'hour screentime'],\n",
        "\"365:운명을거스르는1년\" : ['character suspense', 'hyun joon', 'man chemistry', 'sweet loophole', 'universe travel', 'soundtrack', 'comedy'],\n",
        "\"60일지정생존자\" : ['awkward romance', 'survivor day', 'ost cinematography', 'jin hee', 'sigh popularity', 'president politics', 'home run'],\n",
        "\"D.P.\" : ['korea admire', 'abuse bullying', 'cinemaescapist com', 'prison playbook', 'husband', 'hae rain', 'character chemistry'],\n",
        "'검색어를입력하세요WWW' : ['power romance', 'job sunbae', 'goal mistake', 'clumsily life', 'kdramas female', 'actor jae', 'shoe life'],\n",
        "'무브투헤븐:나는유품정리사입니다': [\"asperger's character\", 'love story', 'cage fighting', 'character development', 'jin hee', 'death lot', 'sang uncle'],\n",
        "'보좌관:세상을움직이는사람들' : ['corruption politics', 'tae jun', 'love', 'character motivation', 'kdramas', 'house card', 'staff deal'],\n",
        "'갯마을차차차' : ['love people', 'recipe disaster', 'pacing actress', 'day beach', 'horror thriller', 'character introspection', 'cha fishing'],\n",
        "'괴물' : ['wise evil', \"couple's chemistry\", 'baeksang performance', 'pacing actor', 'character mare', 'butcher shop', 'cinematography sizzling'],\n",
        "'구경이' : ['excitement mystery', 'female perpetrator', 'kdramas', 'soundtrack context', 'rest cast', 'cat mouse', 'psychopath'],\n",
        "'그녀의사생활' : ['favorite story', \"jae wook's\", 'soundtrack rewatch', 'shower', 'mother mother', 'misunderstanding couple', 'character development'],\n",
        "'그림자미녀' : ['character story', 'victory guy', 'lamb yang', 'darker beauty', 'online friend', 'chemistry', 'mom'],\n",
        "'기름진멜로' : ['romance food', 'jung ryeo', 'kdramas', 'gangster', 'jealousy', 'writer', 'sweetness hour'],\n",
        "'김비서가왜그럴까' : ['chemistry insane', 'trailer judge', 'surgery actress', 'mix cheer', 'storytelling', 'dull', 'romance draggy'],\n",
        "'나빌레라' :['poetry compassionate', 'deokchul ballet', 'job lot', 'dream family', 'cinematography misstep', \"korea's history\", 'heartwarming'],\n",
        "'나의아저씨' :['relationship feeling', 'poverty office', 'intelligent', 'pain life', 'politics way', 'acting rest', 'cast acting'],\n",
        "'낭만닥터김사부' :['fan doctor', 'yoon reum', 'life lesson', 'character problem', 'ost cinematography', 'bit romance', 'rest cast'],\n",
        "'내뒤에테리우스' :['charm', 'action comedy', 'kim bon', 'parent', 'soundtrack', 'air spy', 'kdramas'],\n",
        "'녹두꽃' :['favorite', 'jeon bong', 'people battle', 'character plot', 'forestella lyric', 'sympathy', 'revolution country'],\n",
        "'단하나의사랑': ['favorite plot', 'kim dan', 'angel pray', 'directing', 'ost love', 'reaper', 'sun acting'],\n",
        "'대박부동산': ['glad plot', 'actress', 'daebak realty', 'people paranormal', 'badass', 'chemistry cast', 'television wit'],\n",
        "'도시남녀의사랑법': ['love jae', 'camera thief', 'acting cast', 'korean life', 'chemistry actor', 'pixie dream', 'writer flaw'],\n",
        "'동백꽃필무렵' :['outcast dongbaek', 'love love', 'mother mother', 'com thriller', 'baseball star', 'meal', 'sadness'],\n",
        "'라이브': ['character importance', 'wife jang', 'roller coaster', 'soo actor', 'bit romance', 'pacing', 'police corruption'],\n",
        "'라이프온마스' :['theory dream', 'manicure murder', 'busan', 'vibe', 'kdramas crime', 'mar bowie', 'chemistry'],\n",
        "'라켓소년단': ['heartwarming', 'korea badminton', 'prison playbook', 'kdramas romance', 'acting', 'friend friend', 'sport development'],\n",
        "'런온': ['caring sister', 'twist convention', 'film translator', 'father thinking', 'pace feeling', 'hospital playlist', 'character study'],\n",
        "'로맨스는별책부록' :['love publishing', 'mother divorcee', 'character dan', 'plot twist', 'homeless', 'romcom', 'life lesson'],\n",
        "'로스쿨' :['law jargon', 'sister', 'character chemistry', 'mastermind', 'goosebump han', 'rest', \"bum's acting\"],\n",
        "'마녀식당으로오세요' :['witch wish', 'actor', 'hyeop bullying', 'cook diner', 'iqiyi taiwan', 'quick premise', 'myvideo'],\n",
        "'마우스' :['killer mouse', 'rest cast', 'rookie detective', 'emotion psychopath', 'goosebump', 'anime', 'mania festival'],\n",
        "'멜로가체질' :['fun product', 'therapist', 'story ost', 'story couple', 'rewatch', 'comedy challenge', 'pilot'],\n",
        "'모범택시': ['taxi revenge', 'versatility actor', 'bullying cast', 'rainbow squad', 'vigilante law', 'twin struggle', 'farm'],\n",
        "'미스터션샤인' :['happiness tragedy', 'butcher', 'fight joseon', 'performance changing', 'history cinematography', 'sister', 'bitter soundtrack'],\n",
        "'미스티' :['wook love', 'news anchor', 'murder thriller', 'studio bouquet', 'actress baeksang', 'car sens', 'martyr handsome'],\n",
        "'미치지않고서야' :['insanity', 'director lesson', 'love', 'applause job', 'ban seok', 'actor', 'decision trick'],\n",
        "'백일의낭군님' :['story joy', 'actor chemistry', 'music rewatch', 'kyungsoo actor', 'weed filler', 'cast lot', 'model day'],\n",
        "'본대로말하라' :['fan crime', 'jang hyuk', 'actress', 'action man', 'pacing', 'helpful', 'couple revelation'],\n",
        "'부부의세계': ['suspense', 'wife sun', 'actor husband', 'woo tae', 'hospital', 'slice life', 'sex violence'],\n",
        "'뷰티인사이드' :['power actress', 'dream priest', 'com dramafoxblog', 'plot twist', 'love chemistry', 'suffers prosopagnosia', 'focus chracters'],\n",
        "'비밀의숲' :['stranger misogyny', 'television teamwork', 'repeat essay', 'perfect policewoman', \"simok yeojin's\", 'prison playbook', 'character chemistry'],\n",
        "'사내맞선': ['perfection jealous', \"business proposal's\", 'zombie crime', 'girl twist', 'manhwa manhwa', 'ost rewatch', 'punch interviewer'],\n",
        "'사랑의불시착': ['love cast', 'accident korea', 'sadness anger', 'story businesswoman', 'philosopher tomato', 'legend sea', 'music rewatch'],\n",
        "'사의찬미': ['feeling love', 'story ost', 'actress', 'joseon', 'knife', 'cheating', 'cinematography'],\n",
        "'사이코지만괜찮아' :['character heartache', 'kim moon', 'tea purest', 'beauty gang', 'enlistment comeback', 'hyun caregiver', 'murder butterfly'],\n",
        "'서른아홉' :['character lot', \"jo's\", 'dermatologist clinic', 'romance couple', 'hangover', 'download thirty', 'onlykdrama com'],\n",
        "'서른이지만열일곱입니다':['character charm', 'cry', 'soundtrack ost', 'pacing story', 'romcoms twist', 'sun woo', 'heartwarming end'],\n",
        "'새빛남고학생회' :['woo crush', 'chef', \"watching afraid'\", 'dildo', 'desk light', 'story story', 'bully tae'],\n",
        "'소년심판' :['storytelling cinematography', 'kim hyesoo', 'juvenile delinquency', 'society lot', 'punishment belief', 'success', 'pacing'],\n",
        "'손theguest' :['bloodcurdling demon', 'cinematography quality', 'seo yoon', 'character plot', 'creepy', 'romance chemistry', 'lacklustre acting'],\n",
        "'술꾼도시여자들' :['drinking culture', 'wife plenty', 'plot', 'eun husband', 'yoga instructor', 'joy sorrow', 'personality'],\n",
        "'스물다섯스물하나': ['dream relationship', 'chemistry taeri', 'rainstorm tumblr', 'hindsight', 'heedo dad', 'twenty eps', 'evolution character'],\n",
        "'스카이캐슬' :['parent lot', 'university korea', 'masterpiece acting', 'anxiety', 'prison playbook', 'cup tea', 'people plot'],\n",
        "'스토브리그' :[\"drama' depth\", 'day baseball', 'sport anime', 'business', 'novice pity', 'politics baseball', 'prison playbook'],\n",
        "'슬기로운의사생활': ['mind story', \"jun's sister\", 'mediocre friendship', 'cardio thoracic', 'love alarm', 'cast acting', 'hwa food'],\n",
        "'시를잊은그대에게' :['comedy', 'poem day', 'lot people', 'romance', 'doctor end', 'dae bang', 'slice life'],\n",
        "'시맨틱에러' :['cuteness overload', 'ghost doctor', 'chemistry butterfly', 'unassuming plot', 'sangwoo trash', 'adaption manhwa', 'jaeyoung match'],\n",
        "'아는와이프' :['character mistake', 'wife seo', 'chemistry cast', 'perfection', 'people choice', 'moral story', 'jin life'],\n",
        "'악의꽃' :['mind thriller', 'village mother', 'cake acting', 'couple chemistry', 'scriptwriter', 'war arrow', 'evil flower'],\n",
        "'악의마음을읽는자들' :[\"korea's profiler\", 'suspense crime', 'cup tea', 'adaptation book', 'psychology criminal', 'fiery priest', 'hunter'],\n",
        "'안녕나야' :['hyun lot', 'friend family', 'growth chef', 'bullying', 'bit plot', 'star life', 'routine'],\n",
        "'어느날우리집현관으로멸망이들어왔다': ['shy cast', 'coffee', 'foxylittlethings', 'death learning', 'tumor heat', \"aunt's\", 'story fantasy'],\n",
        "'어쩌다발견한하루' :['plot favorite', 'stage kyung', 'parent dan', 'rewatch', 'manga awareness', 'actress lot', 'story kdramas'],\n",
        "'오월의청춘': ['love hyun', 'uprising pain', 'memoir', 'actor skill', 'university student', 'cinematography chemistry', 'democracy activist'],\n",
        "'오징어게임' :[\"'squid game'\", 'dubbing actor', 'royale korea', 'plenty blood', 'masterpiece parasite', 'chemistry manga', 'cookie challenge'],\n",
        "'옷소매붉은끝동' :['intrigue romance', 'kdramas king', 'politics history', 'scriptwriter jung', 'book memoir', \"i'm rewatch\", 'power life'],\n",
        "'왓쳐':['thriller fan', 'seo joon', 'hospital', 'cast', 'attack', 'story tragedy', 'wife'],\n",
        "'왕이된남자' :['politics', 'strength weakness', 'kdramas romance', 'production storyline', 'taste', 'actress', 'life interest'],\n",
        "'우리들의블루스' :['people problem', 'actor slice', 'jeju', 'love story', 'chemistry', 'vibe', 'actress'],\n",
        "'우수무당가두심' :['fantasy', 'hae seon', 'classmate', 'shaman', 'acting cast', 'ghost hyun', 'binge'],\n",
        "'우아한친구들' :['people slice', 'kim hee', 'rest', 'murder mystery', 'castle sky', 'doctor', 'fight'],\n",
        "'원더우먼' :['sang yoon', 'revenge', 'chemistry', 'sister law', 'opera plot', 'comedy', 'fiery priest'],\n",
        "'월간집' :['romance comedy', 'day', 'jung', 'parasite', 'rest cast', 'romcom plot', 'camellia bloom'],\n",
        "'유미의세포들' :['story romance', 'day actor', \"animation yumi's\", 'worry hunger', 'goblin', 'flaw people', 'star cell'],\n",
        "'으라차차와이키키' :['humor romance', 'production', 'zombie', 'rewatch', 'actress', 'dream', 'excitement'],\n",
        "'의사요한': ['love doctor', 'punch', 'sung character', 'pain death', 'actor lot', 'politics patient', 'mother'],\n",
        "'이구역의미친X': ['mad story', 'therapy', 'seo actress', 'boyfriend', 'taste', 'comedy comedy', 'cop anger'],\n",
        "'이리와안아줘': ['masterful plot', 'jang doubt', 'actress', 'character chemistry', 'cinematography', 'nature story', 'cry'],\n",
        "'인간수업': ['plot twist', 'eat dog', 'hyun actress', 'pressure parent', 'fan crime', 'fight brawl', 'class acting'],\n",
        "'자백' :['perfection actress', 'chemistry father', 'rewatch', 'story cast', 'hyun', 'corruption', 'romance'],\n",
        "'작은신의아이들' :['plot', 'translation', 'character', 'bin', 'crime', 'turn', 'writing'],\n",
        "'지옥' :['hellbound thriller', 'train writer', 'cgi misstep', 'harry potter', 'value people', 'film director', 'opium mass'],\n",
        "'카이로스' :['thriller romance', 'kdramas', 'character plan', 'perfectly future', 'wife', 'cinematography', 'seo jin'],\n",
        "'킹덤' :['history joseon', 'addition thriller', 'fan actress', 'zombie train', 'court intrigue', 'nature morality', 'cgi makeup'],\n",
        "'태종이방원': [\"horse's\", 'korean', 'entertainment', 'abuse', 'wife', 'dragon', 'fiction'],\n",
        "'트랩' :['thriller', 'trap', 'plot', None, None, None, None],\n",
        "'트레이서' :['tracer', 'mbc', 'storyline', 'taxpayersubteam', 'pirate google', 'translator', 'fan'],\n",
        "'하늘에서내리는일억개의별' :['thriller mystery', \"kdrama's\", 'actor korea', 'parent story', 'commenter faint', 'love love', 'jung chemistry'],\n",
        "'하이에나': ['romance comedy', 'hyena giriboy', 'parameter reality', 'soo actress', 'badass', 'skill', 'thriller ost'],\n",
        "'한번다녀왔습니다': ['favourite family', 'jung eun', 'rollercoaster', 'acting cast', 'sunbae', 'fighting', 'story story'],\n",
        "'해피니스' :['happiness zombie', 'problem couple', 'cure vaccine', 'character acting', 'chemistry villain', 'thriller suspense', 'hindrance happiness'],\n",
        "'호텔델루나': ['cinematography beautiful', 'odyssey sister', \"kim's favorite\", 'prison playbook', 'death resentment', 'concept hotel', 'fan plot']}"
      ]
    },
    {
      "cell_type": "code",
      "execution_count": 33,
      "metadata": {},
      "outputs": [],
      "source": [
        "pos_keys = pd.DataFrame(a)"
      ]
    },
    {
      "cell_type": "code",
      "execution_count": 37,
      "metadata": {},
      "outputs": [],
      "source": [
        "pos_keys.to_csv('0509_pos_keywords.csv')"
      ]
    },
    {
      "cell_type": "code",
      "execution_count": null,
      "metadata": {},
      "outputs": [],
      "source": [
        "# with open('title.pickle', 'rb') as f:\n",
        "#     keywords = pickle.load(f)\n",
        "#     keywords_vector = pickle.load(f)"
      ]
    }
  ],
  "metadata": {
    "accelerator": "GPU",
    "colab": {
      "collapsed_sections": [
        "FJI_C1zmcKkn"
      ],
      "name": "keyword&Kmeans.ipynb",
      "provenance": []
    },
    "interpreter": {
      "hash": "ceb52e7625d0a1f58a1a2fe6599c0620217b7c14f62667a485755eb7aa2b8895"
    },
    "kernelspec": {
      "display_name": "Python 3.9.7 ('base')",
      "language": "python",
      "name": "python3"
    },
    "language_info": {
      "codemirror_mode": {
        "name": "ipython",
        "version": 3
      },
      "file_extension": ".py",
      "mimetype": "text/x-python",
      "name": "python",
      "nbconvert_exporter": "python",
      "pygments_lexer": "ipython3",
      "version": "3.9.7"
    },
    "orig_nbformat": 4
  },
  "nbformat": 4,
  "nbformat_minor": 0
}
