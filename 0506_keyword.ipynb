{
  "cells": [
    {
      "cell_type": "code",
      "execution_count": 26,
      "metadata": {
        "id": "06HDiFQ0cKkc"
      },
      "outputs": [],
      "source": [
        "import pandas as pd\n",
        "import numpy as np\n",
        "\n",
        "df = pd.read_csv(\"0505_ENG_Korean.csv\")"
      ]
    },
    {
      "cell_type": "code",
      "execution_count": 27,
      "metadata": {
        "colab": {
          "base_uri": "https://localhost:8080/",
          "height": 237
        },
        "id": "X_PKit713vdq",
        "outputId": "e5c6d2c8-d7af-4584-de20-be7b7f9d0968"
      },
      "outputs": [
        {
          "data": {
            "text/plain": [
              "0                          18어게인\n",
              "1                  365:운명을거스르는1년\n",
              "2                       60일지정생존자\n",
              "3                           D.P.\n",
              "4     검색어를입력하세요WWW\n",
              "                 ...            \n",
              "87                  하늘에서내리는일억개의별\n",
              "88                          하이에나\n",
              "89                      한번다녀왔습니다\n",
              "90                          해피니스\n",
              "91                         호텔델루나\n",
              "Name: title, Length: 92, dtype: object"
            ]
          },
          "execution_count": 27,
          "metadata": {},
          "output_type": "execute_result"
        }
      ],
      "source": [
        "drama_titles = df.groupby('title',as_index=False).count().title\n",
        "drama_titles"
      ]
    },
    {
      "cell_type": "code",
      "execution_count": 28,
      "metadata": {
        "id": "7BPRLR5l3tJ6"
      },
      "outputs": [],
      "source": [
        "reviews = df.reviews.to_list()\n",
        "sentences = \",\".join(reviews)\n",
        "reviews_by_drama = []\n",
        "for title in titles:\n",
        "    rev_by_drama = df[df.title == title].reviews\n",
        "    reviews_by_drama.append(','.join(rev_by_drama))"
      ]
    },
    {
      "cell_type": "code",
      "execution_count": 29,
      "metadata": {},
      "outputs": [
        {
          "data": {
            "text/plain": [
              "27699"
            ]
          },
          "execution_count": 29,
          "metadata": {},
          "output_type": "execute_result"
        }
      ],
      "source": [
        "len(reviews)"
      ]
    },
    {
      "cell_type": "markdown",
      "metadata": {
        "id": "eAvj4QvycKkg"
      },
      "source": [
        "# 필요 함수들"
      ]
    },
    {
      "cell_type": "code",
      "execution_count": null,
      "metadata": {
        "id": "XqAn9_AudeEC"
      },
      "outputs": [],
      "source": [
        "# pip install contextualized_topic_models"
      ]
    },
    {
      "cell_type": "code",
      "execution_count": null,
      "metadata": {},
      "outputs": [],
      "source": [
        "# pip install tensorflow"
      ]
    },
    {
      "cell_type": "code",
      "execution_count": 33,
      "metadata": {
        "id": "Uzcta1LzcKki"
      },
      "outputs": [],
      "source": [
        "import re\n",
        "import pandas as pd\n",
        "import numpy as np\n",
        "import string\n",
        "from tensorflow.keras.preprocessing.text import text_to_word_sequence\n",
        "import nltk\n",
        "import spacy\n",
        "from nltk.tokenize import word_tokenize\n",
        "from nltk.stem import WordNetLemmatizer\n",
        "from collections import Counter\n",
        "# from contextualized_topic_models.models.ctm import CombinedTM\n",
        "# from contextualized_topic_models.utils.data_preparation import TopicModelDataPreparation, bert_embeddings_from_list\n",
        "from contextualized_topic_models.utils.preprocessing import WhiteSpacePreprocessing\n",
        "from sklearn.feature_extraction.text import CountVectorizer, TfidfVectorizer, HashingVectorizer\n",
        "# from konlpy.tag import Okt\n",
        "from tqdm import tqdm\n",
        "\n",
        "import warnings\n",
        "warnings.filterwarnings('ignore')"
      ]
    },
    {
      "cell_type": "code",
      "execution_count": null,
      "metadata": {
        "id": "Za3iZ_T5cKkj"
      },
      "outputs": [],
      "source": [
        "from nltk.corpus import stopwords\n",
        "import nltk\n",
        "nltk.download('averaged_perceptron_tagger')\n",
        "nltk.download('stopwords')\n",
        "nltk.download('wordnet')\n",
        "nltk.download('omw-1.4')\n",
        "stop_words = set(stopwords.words('english'))\n",
        "stop_words.update(('\\r\\n', '\\n\\r', 'ever', 'much', 'look', 'squid', 'show', 'thing', \"i've\", 'anything', 'something', \"show's\",\n",
        "                   'www', 'soompi' 'com', 'instagram', 'youtube', 'https', 'mydramalist', 'twitter', 'episode', 'comment', 'scene',\n",
        "                   'version', \"he's\", 'gonna', 'series', 'watch', 'everything', 'something', \"can't\", 'list', 'dramas', 'drama',\n",
        "                   'wait', 'preview', 'someone', 'everyone', 'dont', 'think', 'season', 'anyone', 'something', 'anything', 'nothing', 'world',\n",
        "                   'status', 'week', 'name', 'cause', 'time', 'en', 'org', 'wikipedia', 'wiki', 'pbs', 'twimg', 'year', 'point', 'please', 'today',\n",
        "                   'haha', 'case', 'guess', 'reason', 'person', 'moment', 'sense', 'kinda', 'part', 'movie', 'school', 'start', 'work', 'lead', 'kind',\n",
        "                   'rate', 'rating', 'rate', 'men', 'example', 'idea', 'half', 'review', 'genre', 'side', \"that's\", \"they're\", 'till', 'tell', 'phone',\n",
        "                   'section', 'number', 'company', 'line', \"there's\", 'male', 'team', 'rating', 'baby', 'course', 'care', 'cute', 'question', 'help', 'group',\n",
        "                   'hand', 'spoiler', 'hate', 'need', 'mess', 'change', 'drop', 'date', 'netflix', 'yeah', 'daon', 'park', 'thank', 'lmao', 'damn', \"i'll\",\n",
        "                   'kang', 'shinwoo', 'taekyung', 'mean', 'woman', 'hope', 'read', 'fact', 'opinion', 'stuff', 'feel', 'kdrama', 'talk', 'song', 'hype',\n",
        "                   'title', 'type'))"
      ]
    },
    {
      "cell_type": "markdown",
      "metadata": {},
      "source": [
        "# 사용 함수"
      ]
    },
    {
      "cell_type": "code",
      "execution_count": 35,
      "metadata": {
        "id": "FFx6w8wQcKkj"
      },
      "outputs": [],
      "source": [
        "def get_wordnet_pos(pos_tag):\n",
        "    if pos_tag.startswith('V'):\n",
        "        return 'v'\n",
        "    elif pos_tag.startswith('N'):\n",
        "        return 'n'\n",
        "    elif pos_tag.startswith('J'):\n",
        "        return 'a'\n",
        "    elif pos_tag.startswith('R'):\n",
        "        return 'r'\n",
        "    else:\n",
        "        return None"
      ]
    },
    {
      "cell_type": "markdown",
      "metadata": {},
      "source": [
        "# CustomTokenizer class setting"
      ]
    },
    {
      "cell_type": "code",
      "execution_count": 36,
      "metadata": {
        "id": "Q6PzBOOfcKkk"
      },
      "outputs": [],
      "source": [
        "class CustomTokenizer:\n",
        "    def __init__(self, tagger):\n",
        "        self.tagger = tagger\n",
        "    def __call__(self, a):\n",
        "        # a = ' '.join(a)\n",
        "        word_tokens = self.tagger(a)\n",
        "        \n",
        "        words = []\n",
        "        for i in word_tokens:\n",
        "            text = re.sub('[^a-zA-Z0-9\\']','',i).strip()\n",
        "            text = re.sub('[-=+,#/\\?:^$.@*\\\"※~&%ㆍ!』\\\\‘|\\(\\)\\[\\]\\<\\>`…》]','', text)\n",
        "            if(text != ''):\n",
        "                words.append(text)\n",
        "        \n",
        "        tag_words = nltk.pos_tag(words)\n",
        "        pos_words = [word for word in tag_words if word[1][0] in {'N'}] #'V','N','J','R'\n",
        "\n",
        "        temp_list = []\n",
        "        for token, pos_tag in pos_words:\n",
        "            tag = get_wordnet_pos(pos_tag)\n",
        "            if tag != None:\n",
        "                temp_list.append((token, get_wordnet_pos(pos_tag)))\n",
        "        lemma = WordNetLemmatizer()\n",
        "        token_final = [lemma.lemmatize(token, pos=tag) for token, tag in temp_list]\n",
        "        long_words = [i for i in token_final if len(i) > 2]\n",
        "        results = [w for w in long_words if w not in stop_words]\n",
        "        \n",
        "        return results"
      ]
    },
    {
      "cell_type": "markdown",
      "metadata": {
        "id": "VUITwIWzcKkl"
      },
      "source": [
        "# 작업"
      ]
    },
    {
      "cell_type": "code",
      "execution_count": 37,
      "metadata": {
        "colab": {
          "base_uri": "https://localhost:8080/"
        },
        "id": "WUf7tKGGcKkl",
        "outputId": "7916a4e6-62cf-4545-8f50-57a2d8fa8732"
      },
      "outputs": [],
      "source": [
        "def tfidf_vectorizing(reviews):\n",
        "    ngram_range = (1,2)\n",
        "\n",
        "    custom_tokenizer = CustomTokenizer(text_to_word_sequence)\n",
        "\n",
        "    tfidf = TfidfVectorizer(tokenizer=custom_tokenizer,ngram_range = ngram_range,\\\n",
        "        stop_words = stop_words, max_df=10, min_df=2 ,max_features=5000).fit(reviews)\n",
        "    candidates = tfidf.get_feature_names()\n",
        "    \n",
        "    return candidates"
      ]
    },
    {
      "cell_type": "markdown",
      "metadata": {
        "id": "EcJtDtpicKkm"
      },
      "source": [
        "# 임베딩"
      ]
    },
    {
      "cell_type": "code",
      "execution_count": 38,
      "metadata": {
        "id": "AGKQ1FmHcKkm"
      },
      "outputs": [],
      "source": [
        "def embedding(sentences,candidates):\n",
        "    from sentence_transformers import SentenceTransformer\n",
        "\n",
        "    model = SentenceTransformer('distilbert-base-nli-stsb-mean-tokens')\n",
        "\n",
        "    doc_embedding = model.encode([sentences])\n",
        "    candidate_embeddings = model.encode(candidates)\n",
        "    # drama_embedding = model.encode(reviews_by_drama)\n",
        "\n",
        "    return doc_embedding, candidate_embeddings"
      ]
    },
    {
      "cell_type": "markdown",
      "metadata": {
        "id": "rsW6mgMi4N71"
      },
      "source": [
        "# 코사인 유사도 함수"
      ]
    },
    {
      "cell_type": "code",
      "execution_count": 39,
      "metadata": {
        "id": "wIJ9WZpmlqlu"
      },
      "outputs": [],
      "source": [
        "from sklearn.metrics.pairwise import cosine_similarity\n",
        "top_n = 500\n",
        "diversity = 0.7\n",
        "\n",
        "def mmr(doc_embedding, candidate_embeddings, words, top_n, diversity):\n",
        "    word_doc_distances = cosine_similarity(candidate_embeddings,doc_embedding)\n",
        "    word_distances = cosine_similarity(candidate_embeddings) \n",
        "\n",
        "    keywords_idx = [np.argmax(word_doc_distances)]\n",
        "    candidates_idx = [i for i in range(len(candidates)) if i != keywords_idx[0]]\n",
        "    \n",
        "    for _ in range(top_n-1):\n",
        "        try:\n",
        "        # 후보 키워드들의 문서유사도 값\n",
        "            candidate_similarities = word_doc_distances[candidates_idx, :]\n",
        "            # 후보 키워드와 가장 유사한 키워드\n",
        "            target_similarities = np.max(word_distances[candidates_idx][:,keywords_idx], axis=1) \n",
        "\n",
        "            mmr = (1-diversity) * candidate_similarities - diversity * target_similarities.reshape(-1,1)\n",
        "            mmr_idx = candidates_idx[np.argmax(mmr)]\n",
        "\n",
        "            keywords_idx.append(mmr_idx)\n",
        "            candidates_idx.remove(mmr_idx)\n",
        "        except:\n",
        "            break\n",
        "\n",
        "    # 본 단어 임베딩벡터에서 추출키워드에 해당하는 벡터만\n",
        "    keywords_vector = candidate_embeddings[keywords_idx][:] \n",
        "    keywords = [words[idx] for idx in keywords_idx]\n",
        "    \n",
        "    return keywords, keywords_vector\n"
      ]
    },
    {
      "cell_type": "code",
      "execution_count": 31,
      "metadata": {},
      "outputs": [],
      "source": [
        "# for idx, drama in enumerate(drama_embedding):\n",
        "#     keywords, keywords_vector = mmr(drama.reshape(1,-1) ,candidate_embeddings,candidates,top_n,diversity)\n",
        "#     print(titles[idx])\n",
        "#     print(keywords[:10],'\\n')"
      ]
    },
    {
      "cell_type": "markdown",
      "metadata": {},
      "source": [
        "### keyword Dataframe 생성"
      ]
    },
    {
      "cell_type": "code",
      "execution_count": 40,
      "metadata": {
        "id": "zrZeLhwA0Kmx"
      },
      "outputs": [
        {
          "name": "stderr",
          "output_type": "stream",
          "text": [
            "1it [00:16, 16.81s/it]"
          ]
        },
        {
          "name": "stdout",
          "output_type": "stream",
          "text": [
            "18어게인 ['pain stunning', 'hyun actor', 'society mother', 'taste plot', 'husband lot', 'child dream', \"episode's epilogue\"]\n"
          ]
        },
        {
          "name": "stderr",
          "output_type": "stream",
          "text": [
            "2it [00:30, 15.00s/it]"
          ]
        },
        {
          "name": "stdout",
          "output_type": "stream",
          "text": [
            "365:운명을거스르는1년 ['character suspense', 'hyun joon', 'man chemistry', 'sweet loophole', 'universe travel', 'romance day', 'soundtrack']\n"
          ]
        },
        {
          "name": "stderr",
          "output_type": "stream",
          "text": [
            "3it [00:44, 14.62s/it]"
          ]
        },
        {
          "name": "stdout",
          "output_type": "stream",
          "text": [
            "60일지정생존자 ['awkward romance', 'survivor day', 'thug threat', 'ost cinematography', 'hee president', 'sigh popularity', 'fonds politics']\n"
          ]
        },
        {
          "name": "stderr",
          "output_type": "stream",
          "text": [
            "4it [01:00, 15.25s/it]"
          ]
        },
        {
          "name": "stdout",
          "output_type": "stream",
          "text": [
            "D.P. ['korea admire', 'abuse bullying', 'cinemaescapist com', 'prison playbook', 'husband', 'hae rain', 'character chemistry']\n"
          ]
        },
        {
          "name": "stderr",
          "output_type": "stream",
          "text": [
            "5it [01:17, 15.70s/it]"
          ]
        },
        {
          "name": "stdout",
          "output_type": "stream",
          "text": [
            "검색어를입력하세요WWW ['power romance', 'job sunbae', 'yall hating', 'mistake life', 'kdramas female', 'story business', 'jeon hye']\n"
          ]
        },
        {
          "name": "stderr",
          "output_type": "stream",
          "text": [
            "6it [01:32, 15.53s/it]"
          ]
        },
        {
          "name": "stdout",
          "output_type": "stream",
          "text": [
            "무브투헤븐:나는유품정리사입니다 [\"asperger's character\", 'love story', 'cage fighting', 'character development', 'jin hee', 'death lot', 'sang uncle']\n"
          ]
        },
        {
          "name": "stderr",
          "output_type": "stream",
          "text": [
            "7it [01:45, 14.68s/it]"
          ]
        },
        {
          "name": "stdout",
          "output_type": "stream",
          "text": [
            "보좌관:세상을움직이는사람들 ['judgemental politician', 'relationship', 'corruption politics', 'tae', 'coherent party', 'actor', 'enemy']\n"
          ]
        },
        {
          "name": "stderr",
          "output_type": "stream",
          "text": [
            "8it [02:22, 21.63s/it]"
          ]
        },
        {
          "name": "stdout",
          "output_type": "stream",
          "text": [
            "갯마을차차차 ['romance lot', 'dentist life', 'power outage', 'spotify com', 'people demon', 'character introspection', \"yumi's\"]\n"
          ]
        },
        {
          "name": "stderr",
          "output_type": "stream",
          "text": [
            "9it [02:45, 22.05s/it]"
          ]
        },
        {
          "name": "stdout",
          "output_type": "stream",
          "text": [
            "괴물 ['creepy smile', 'han actor', 'soup', 'end cast', 'detective sister', 'deer farm', 'percussion night']\n"
          ]
        },
        {
          "name": "stderr",
          "output_type": "stream",
          "text": [
            "10it [02:58, 19.30s/it]"
          ]
        },
        {
          "name": "stdout",
          "output_type": "stream",
          "text": [
            "구경이 ['excitement mystery', 'female perpetrator', 'kdramas', 'soundtrack context', 'rest cast', 'backstory', 'cat mouse']\n"
          ]
        },
        {
          "name": "stderr",
          "output_type": "stream",
          "text": [
            "11it [03:15, 18.77s/it]"
          ]
        },
        {
          "name": "stdout",
          "output_type": "stream",
          "text": [
            "그녀의사생활 ['favorite story', \"jae wook's\", 'soundtrack rewatch', 'mother accident', 'shower', 'character development', 'history kdramas']\n"
          ]
        },
        {
          "name": "stderr",
          "output_type": "stream",
          "text": [
            "12it [03:28, 16.87s/it]"
          ]
        },
        {
          "name": "stdout",
          "output_type": "stream",
          "text": [
            "그림자미녀 ['character story', 'victory guy', 'lamb yang', 'darker beauty', 'online friend', 'chemistry', 'surgery']\n"
          ]
        },
        {
          "name": "stderr",
          "output_type": "stream",
          "text": [
            "13it [03:41, 15.68s/it]"
          ]
        },
        {
          "name": "stdout",
          "output_type": "stream",
          "text": [
            "기름진멜로 ['romance food', 'jung ryeo', 'depth', 'writer lot', 'chemistry poong', 'jealousy', 'sweetness hour']\n"
          ]
        },
        {
          "name": "stderr",
          "output_type": "stream",
          "text": [
            "14it [03:58, 16.23s/it]"
          ]
        },
        {
          "name": "stdout",
          "output_type": "stream",
          "text": [
            "김비서가왜그럴까 ['chemistry insane', 'trailer judge', 'surgery actress', 'mix cheer', 'couple backstory', 'pacing', 'cup tea']\n"
          ]
        },
        {
          "name": "stderr",
          "output_type": "stream",
          "text": [
            "15it [04:13, 15.72s/it]"
          ]
        },
        {
          "name": "stdout",
          "output_type": "stream",
          "text": [
            "나빌레라 ['poetry compassionate', 'cinematography misstep', 'wife deok', 'amount practice', 'people dream', 'history lot', 'actor hwan']\n"
          ]
        },
        {
          "name": "stderr",
          "output_type": "stream",
          "text": [
            "16it [04:38, 18.59s/it]"
          ]
        },
        {
          "name": "stdout",
          "output_type": "stream",
          "text": [
            "나의아저씨 ['relationship feeling', 'poverty office', 'intelligent', 'pain life', 'politics way', 'mom grandma', 'acting rest']\n"
          ]
        },
        {
          "name": "stderr",
          "output_type": "stream",
          "text": [
            "17it [04:52, 17.31s/it]"
          ]
        },
        {
          "name": "stdout",
          "output_type": "stream",
          "text": [
            "낭만닥터김사부 ['doctor patient', 'bit romance', 'people pacing', 'jung bum', 'character problem', 'bone', 'burn']\n"
          ]
        },
        {
          "name": "stderr",
          "output_type": "stream",
          "text": [
            "18it [05:05, 16.04s/it]"
          ]
        },
        {
          "name": "stdout",
          "output_type": "stream",
          "text": [
            "내뒤에테리우스 ['charm', 'hiatus kdramas', 'action comedy', 'jeju island', 'parent', 'air spy', 'soundtrack']\n"
          ]
        },
        {
          "name": "stderr",
          "output_type": "stream",
          "text": [
            "19it [05:19, 15.25s/it]"
          ]
        },
        {
          "name": "stdout",
          "output_type": "stream",
          "text": [
            "녹두꽃 ['favorite', 'donghak war', 'people battle', 'character plot', 'forestella lyric', 'sympathy', 'revolution country']\n"
          ]
        },
        {
          "name": "stderr",
          "output_type": "stream",
          "text": [
            "20it [05:35, 15.62s/it]"
          ]
        },
        {
          "name": "stdout",
          "output_type": "stream",
          "text": [
            "단하나의사랑 ['favorite plot', 'kim dan', 'angel pray', 'diety', 'actress casting', 'snippet ballet', 'scream']\n"
          ]
        },
        {
          "name": "stderr",
          "output_type": "stream",
          "text": [
            "21it [05:51, 15.75s/it]"
          ]
        },
        {
          "name": "stdout",
          "output_type": "stream",
          "text": [
            "대박부동산 ['glad plot', 'exorcist ghost', 'daebak realty', 'restaurant', 'fantasy television', 'chemistry cast', 'antagonist']\n"
          ]
        },
        {
          "name": "stderr",
          "output_type": "stream",
          "text": [
            "22it [06:11, 17.03s/it]"
          ]
        },
        {
          "name": "stdout",
          "output_type": "stream",
          "text": [
            "도시남녀의사랑법 ['love jae', 'documentary life', 'acting cast', 'awareness dysfunction', 'jaewon kdramas', 'healer play', 'chemistry actor']\n"
          ]
        },
        {
          "name": "stderr",
          "output_type": "stream",
          "text": [
            "23it [06:27, 16.59s/it]"
          ]
        },
        {
          "name": "stdout",
          "output_type": "stream",
          "text": [
            "동백꽃필무렵 ['outcast dongbaek', 'love love', 'murder suspense', 'struggle mother', 'drunk', 'son dam', 'baseball star']\n"
          ]
        },
        {
          "name": "stderr",
          "output_type": "stream",
          "text": [
            "24it [06:41, 15.90s/it]"
          ]
        },
        {
          "name": "stdout",
          "output_type": "stream",
          "text": [
            "라이브 ['character importance', 'wife jang', 'roller coaster', 'soo actor', 'bit romance', 'pacing', 'police corruption']\n"
          ]
        },
        {
          "name": "stderr",
          "output_type": "stream",
          "text": [
            "25it [06:56, 15.60s/it]"
          ]
        },
        {
          "name": "stdout",
          "output_type": "stream",
          "text": [
            "라이프온마스 ['theory dream', 'manicure murder', 'water officer', 'han tae', 'rewatch', 'winner colleague', 'gang']\n"
          ]
        },
        {
          "name": "stderr",
          "output_type": "stream",
          "text": [
            "26it [07:11, 15.52s/it]"
          ]
        },
        {
          "name": "stdout",
          "output_type": "stream",
          "text": [
            "라켓소년단 ['lot fan', 'boy badminton', 'screenwriter', 'yoon dam', 'august prisonplaybook', 'kdramas romance', 'comedy taste']\n"
          ]
        },
        {
          "name": "stderr",
          "output_type": "stream",
          "text": [
            "27it [07:41, 19.78s/it]"
          ]
        },
        {
          "name": "stdout",
          "output_type": "stream",
          "text": [
            "런온 ['romance feeling', 'misaeng kdramas', 'filter people', 'dad pain', 'mother sister', 'athleticism writer', 'film plotless']\n"
          ]
        },
        {
          "name": "stderr",
          "output_type": "stream",
          "text": [
            "28it [08:06, 21.23s/it]"
          ]
        },
        {
          "name": "stdout",
          "output_type": "stream",
          "text": [
            "로맨스는별책부록 ['romance corny', 'job publishing', 'dan eun', 'mother divorcee', 'homeless', 'actor lot', 'burn']\n"
          ]
        },
        {
          "name": "stderr",
          "output_type": "stream",
          "text": [
            "29it [08:23, 20.05s/it]"
          ]
        },
        {
          "name": "stdout",
          "output_type": "stream",
          "text": [
            "로스쿨 ['law jargon', 'pretending dan', 'sister', 'nature perfect', 'goosebump', 'murder vibe', 'mind blowing']\n"
          ]
        },
        {
          "name": "stderr",
          "output_type": "stream",
          "text": [
            "30it [08:36, 17.96s/it]"
          ]
        },
        {
          "name": "stdout",
          "output_type": "stream",
          "text": [
            "마녀식당으로오세요 ['magic', 'customer wish', 'hiyo cook', 'bullying situation', 'pacing', 'taiwan myvideo', 'assistant storyline']\n"
          ]
        },
        {
          "name": "stderr",
          "output_type": "stream",
          "text": [
            "31it [09:02, 20.36s/it]"
          ]
        },
        {
          "name": "stdout",
          "output_type": "stream",
          "text": [
            "마우스 ['girl mouse', 'psychopath remorse', 'pairing grandmother', 'transplant theory', 'acting cast', 'murder korea', 'tantrum']\n"
          ]
        },
        {
          "name": "stderr",
          "output_type": "stream",
          "text": [
            "32it [09:16, 18.47s/it]"
          ]
        },
        {
          "name": "stdout",
          "output_type": "stream",
          "text": [
            "멜로가체질 ['dialogue humor', 'shampoo ost', 'life problem', 'actress', 'scent flower', 'cinematography', 'genius']\n"
          ]
        },
        {
          "name": "stderr",
          "output_type": "stream",
          "text": [
            "33it [09:35, 18.51s/it]"
          ]
        },
        {
          "name": "stdout",
          "output_type": "stream",
          "text": [
            "모범택시 ['taxi revenge', 'versatility actor', 'bullying cast', 'rainbow squad', 'vigilante law', \"could've chemistry\", 'shark lady']\n"
          ]
        },
        {
          "name": "stderr",
          "output_type": "stream",
          "text": [
            "34it [09:59, 20.27s/it]"
          ]
        },
        {
          "name": "stdout",
          "output_type": "stream",
          "text": [
            "미스터션샤인 ['happiness tragedy', 'tae actress', 'butcher', 'turbulent history', 'history cinematography', 'character writer', 'boring chemistry']\n"
          ]
        },
        {
          "name": "stderr",
          "output_type": "stream",
          "text": [
            "35it [10:13, 18.22s/it]"
          ]
        },
        {
          "name": "stdout",
          "output_type": "stream",
          "text": [
            "미스티 ['wook love', 'news anchor', 'murder thriller', 'studio bouquet', 'actress baeksang', 'character lot', 'wife man']\n"
          ]
        },
        {
          "name": "stderr",
          "output_type": "stream",
          "text": [
            "36it [10:25, 16.57s/it]"
          ]
        },
        {
          "name": "stdout",
          "output_type": "stream",
          "text": [
            "미치지않고서야 ['insanity', 'director lesson', 'acting seo', 'ladylord', 'love character', 'office cast', 'kdramas']\n"
          ]
        },
        {
          "name": "stderr",
          "output_type": "stream",
          "text": [
            "37it [10:41, 16.26s/it]"
          ]
        },
        {
          "name": "stdout",
          "output_type": "stream",
          "text": [
            "백일의낭군님 ['story joy', 'assassin brother', 'motivation shopping', 'exo kpop', 'viewer drought', 'music rewatch', 'character chemistry']\n"
          ]
        },
        {
          "name": "stderr",
          "output_type": "stream",
          "text": [
            "38it [10:54, 15.23s/it]"
          ]
        },
        {
          "name": "stdout",
          "output_type": "stream",
          "text": [
            "본대로말하라 ['fan crime', 'jang hyuk', 'method gun', 'actress', 'pacing', 'strength wit', 'doctor']\n"
          ]
        },
        {
          "name": "stderr",
          "output_type": "stream",
          "text": [
            "39it [11:08, 15.06s/it]"
          ]
        },
        {
          "name": "stdout",
          "output_type": "stream",
          "text": [
            "부부의세계 ['suspense', 'wife sun', 'therapy', 'sex violence', 'eps', 'money father', 'parent revenge']\n"
          ]
        },
        {
          "name": "stderr",
          "output_type": "stream",
          "text": [
            "40it [11:23, 15.01s/it]"
          ]
        },
        {
          "name": "stdout",
          "output_type": "stream",
          "text": [
            "뷰티인사이드 ['power actress', 'dream priest', 'com dramafoxblog', 'plot twist', 'love chemistry', 'suffers prosopagnosia', 'focus chracters']\n"
          ]
        },
        {
          "name": "stderr",
          "output_type": "stream",
          "text": [
            "41it [12:16, 26.46s/it]"
          ]
        },
        {
          "name": "stdout",
          "output_type": "stream",
          "text": [
            "비밀의숲 ['stranger misogyny', 'television teamwork', 'repeat essay', 'perfect policewoman', \"simok yeojin's\", 'prison playbook', 'ordeal evidence']\n"
          ]
        },
        {
          "name": "stderr",
          "output_type": "stream",
          "text": [
            "42it [12:45, 27.11s/it]"
          ]
        },
        {
          "name": "stdout",
          "output_type": "stream",
          "text": [
            "사내맞선 ['cringe acting', 'ceo girl', 'love chemistry', 'slice life', 'brother manhwa', 'family chicken', 'manga night']\n"
          ]
        },
        {
          "name": "stderr",
          "output_type": "stream",
          "text": [
            "43it [13:32, 33.20s/it]"
          ]
        },
        {
          "name": "stdout",
          "output_type": "stream",
          "text": [
            "사랑의불시착 ['love cast', 'korean amnesia', 'story businesswoman', 'philosopher tomato', 'heartbreak train', 'legend sea', 'music rewatch']\n"
          ]
        },
        {
          "name": "stderr",
          "output_type": "stream",
          "text": [
            "44it [13:46, 27.16s/it]"
          ]
        },
        {
          "name": "stdout",
          "output_type": "stream",
          "text": [
            "사의찬미 ['star lover', 'deok woo', 'pain', 'literature student', 'melodrama', 'story heart', 'cheating']\n"
          ]
        },
        {
          "name": "stderr",
          "output_type": "stream",
          "text": [
            "45it [14:42, 35.81s/it]"
          ]
        },
        {
          "name": "stdout",
          "output_type": "stream",
          "text": [
            "사이코지만괜찮아 ['jung favourite', 'story cry', 'restaurant food', 'identity besides', 'mother overthought', 'lot acting', 'journey healing']\n"
          ]
        },
        {
          "name": "stderr",
          "output_type": "stream",
          "text": [
            "46it [14:55, 29.18s/it]"
          ]
        },
        {
          "name": "stdout",
          "output_type": "stream",
          "text": [
            "서른아홉 ['character lot', 'noona romance', 'chanyoung cancer', 'life death', 'onlykdrama com', 'boyfriend', 'hangover']\n"
          ]
        },
        {
          "name": "stderr",
          "output_type": "stream",
          "text": [
            "47it [15:10, 24.76s/it]"
          ]
        },
        {
          "name": "stdout",
          "output_type": "stream",
          "text": [
            "서른이지만열일곱입니다 ['character charm', 'cry', 'soundtrack ost', 'dream', 'pacing story', 'romcoms twist', 'heartwarming end']\n"
          ]
        },
        {
          "name": "stderr",
          "output_type": "stream",
          "text": [
            "48it [15:36, 25.10s/it]"
          ]
        },
        {
          "name": "stdout",
          "output_type": "stream",
          "text": [
            "세빛남고학생회 ['woo crush', 'chef', \"watching afraid'\", 'dildo', 'plot development', 'desk light', 'tie family']\n"
          ]
        },
        {
          "name": "stderr",
          "output_type": "stream",
          "text": [
            "49it [15:49, 21.71s/it]"
          ]
        },
        {
          "name": "stdout",
          "output_type": "stream",
          "text": [
            "소년심판 ['storytelling cinematography', 'kim hyesoo', 'juvenile delinquency', 'judge max', 'society lot', 'punishment belief', 'pacing']\n"
          ]
        },
        {
          "name": "stderr",
          "output_type": "stream",
          "text": [
            "50it [16:04, 19.68s/it]"
          ]
        },
        {
          "name": "stdout",
          "output_type": "stream",
          "text": [
            "손theguest ['bloodcurdling demon', 'cinematography quality', 'seo yoon', 'character plot', 'creepy', 'romance chemistry', 'lacklustre acting']\n"
          ]
        },
        {
          "name": "stderr",
          "output_type": "stream",
          "text": [
            "51it [16:18, 17.73s/it]"
          ]
        },
        {
          "name": "stdout",
          "output_type": "stream",
          "text": [
            "술꾼도시여자들 ['drinking culture', 'wife plenty', 'slice life', 'comedy', 'yoga instructor', 'eun husband', 'witness loving']\n"
          ]
        },
        {
          "name": "stderr",
          "output_type": "stream",
          "text": [
            "52it [16:57, 24.11s/it]"
          ]
        },
        {
          "name": "stdout",
          "output_type": "stream",
          "text": [
            "스물다섯스물하나 ['dream relationship', 'chemistry taeri', 'rainstorm tumblr', 'hindsight', 'heedo dad', 'twenty eps', 'fencing rivalry']\n"
          ]
        },
        {
          "name": "stderr",
          "output_type": "stream",
          "text": [
            "53it [17:12, 21.65s/it]"
          ]
        },
        {
          "name": "stdout",
          "output_type": "stream",
          "text": [
            "스카이캐슬 ['parent lot', 'university korea', 'masterpiece acting', 'anxiety', 'cup ramen', 'prison playbook', 'people plot']\n"
          ]
        },
        {
          "name": "stderr",
          "output_type": "stream",
          "text": [
            "54it [17:26, 19.25s/it]"
          ]
        },
        {
          "name": "stdout",
          "output_type": "stream",
          "text": [
            "스토브리그 [\"drama' depth\", 'day baseball', 'sport anime', 'business', 'novice pity', 'politics baseball', 'prison playbook']\n"
          ]
        },
        {
          "name": "stderr",
          "output_type": "stream",
          "text": [
            "55it [17:49, 20.35s/it]"
          ]
        },
        {
          "name": "stdout",
          "output_type": "stream",
          "text": [
            "슬기로운의사생활 ['mind story', 'crush songhwa', 'editing mediocre', 'love alarm', 'mother others', 'cast chemistry', 'lot food']\n"
          ]
        },
        {
          "name": "stderr",
          "output_type": "stream",
          "text": [
            "56it [18:02, 18.22s/it]"
          ]
        },
        {
          "name": "stdout",
          "output_type": "stream",
          "text": [
            "시를잊은그대에게 ['character problem', 'life kdramas', 'couple love', 'korean', 'therapist', 'twist', 'cast']\n"
          ]
        },
        {
          "name": "stderr",
          "output_type": "stream",
          "text": [
            "57it [18:25, 19.63s/it]"
          ]
        },
        {
          "name": "stdout",
          "output_type": "stream",
          "text": [
            "시맨틱에러 ['cuteness overload', 'ghost doctor', 'chemistry butterfly', 'unassuming plot', 'sangwoo trash', 'adaption manhwa', 'jaeyoung match']\n"
          ]
        },
        {
          "name": "stderr",
          "output_type": "stream",
          "text": [
            "58it [18:38, 17.63s/it]"
          ]
        },
        {
          "name": "stdout",
          "output_type": "stream",
          "text": [
            "아는와이프 ['character mistake', 'wife seo', 'chemistry cast', 'perfection', 'college boy', 'people choice', 'actor korea']\n"
          ]
        },
        {
          "name": "stderr",
          "output_type": "stream",
          "text": [
            "59it [19:03, 19.95s/it]"
          ]
        },
        {
          "name": "stdout",
          "output_type": "stream",
          "text": [
            "악의꽃 ['mind thriller', 'village mother', 'cake acting', 'couple chemistry', 'scriptwriter', 'war arrow', 'evil flower']\n"
          ]
        },
        {
          "name": "stderr",
          "output_type": "stream",
          "text": [
            "60it [19:18, 18.35s/it]"
          ]
        },
        {
          "name": "stdout",
          "output_type": "stream",
          "text": [
            "악의마음을읽는자들 [\"korea's profiler\", 'suspense crime', 'cup tea', 'adaptation book', 'killer chun', 'psychology criminal', 'whodunnits']\n"
          ]
        },
        {
          "name": "stderr",
          "output_type": "stream",
          "text": [
            "61it [19:31, 16.83s/it]"
          ]
        },
        {
          "name": "stdout",
          "output_type": "stream",
          "text": [
            "안녕나야 ['hyun lot', 'friend family', 'growth chef', 'dream', 'bullying', 'thriller', 'actress']\n"
          ]
        },
        {
          "name": "stderr",
          "output_type": "stream",
          "text": [
            "62it [19:59, 19.99s/it]"
          ]
        },
        {
          "name": "stdout",
          "output_type": "stream",
          "text": [
            "어느날우리집현관으로멸망이들어왔다 ['romance doom', 'chemistry skill', 'comeback lot', 'criticism people', 'story magic', 'love human', 'burn enemy']\n"
          ]
        },
        {
          "name": "stderr",
          "output_type": "stream",
          "text": [
            "63it [20:20, 20.26s/it]"
          ]
        },
        {
          "name": "stdout",
          "output_type": "stream",
          "text": [
            "어쩌다발견한하루 ['plot favorite', 'stage kyung', 'others manhwa', 'rewatch', 'dan couple', 'manga awareness', 'actress lot']\n"
          ]
        },
        {
          "name": "stderr",
          "output_type": "stream",
          "text": [
            "64it [20:37, 19.30s/it]"
          ]
        },
        {
          "name": "stdout",
          "output_type": "stream",
          "text": [
            "오월의청춘 ['love hyun', 'uprising pain', 'memoir', 'actor skill', 'student law', 'noona', 'lyric']\n"
          ]
        },
        {
          "name": "stderr",
          "output_type": "stream",
          "text": [
            "65it [21:33, 30.34s/it]"
          ]
        },
        {
          "name": "stdout",
          "output_type": "stream",
          "text": [
            "오징어게임 [\"'squid game'\", 'quality script', 'kpop idol', 'quentin tarantino', 'brother nitpicks', 'snowpiercer parasite', 'thug greed']\n"
          ]
        },
        {
          "name": "stderr",
          "output_type": "stream",
          "text": [
            "66it [22:26, 37.30s/it]"
          ]
        },
        {
          "name": "stdout",
          "output_type": "stream",
          "text": [
            "옷소매붉은끝동 ['intrigue romance', 'kdramas king', 'history lesson', 'scriptwriter jung', \"i'm rewatch\", 'death heart', 'power life']\n"
          ]
        },
        {
          "name": "stderr",
          "output_type": "stream",
          "text": [
            "67it [22:39, 29.90s/it]"
          ]
        },
        {
          "name": "stdout",
          "output_type": "stream",
          "text": [
            "왓쳐 ['thriller fan', 'seo joon', 'disappoint', 'cast', 'attack', 'story tragedy', 'ceo man']\n"
          ]
        },
        {
          "name": "stderr",
          "output_type": "stream",
          "text": [
            "68it [22:52, 24.89s/it]"
          ]
        },
        {
          "name": "stdout",
          "output_type": "stream",
          "text": [
            "왕이된남자 ['politics', 'strength weakness', 'kdramas romance', 'production storyline', 'taste', 'death king', 'actress']\n"
          ]
        },
        {
          "name": "stderr",
          "output_type": "stream",
          "text": [
            "69it [23:05, 21.18s/it]"
          ]
        },
        {
          "name": "stdout",
          "output_type": "stream",
          "text": [
            "우리들의블루스 ['people problem', 'jeju island', 'actor slice', 'love story', 'chemistry', 'vibe', 'twist']\n"
          ]
        },
        {
          "name": "stderr",
          "output_type": "stream",
          "text": [
            "70it [23:19, 19.06s/it]"
          ]
        },
        {
          "name": "stdout",
          "output_type": "stream",
          "text": [
            "우수무당가두심 ['fantasy', 'kim bok', 'student teacher', 'eps', 'shaman', 'binge', 'ghost hyun']\n"
          ]
        },
        {
          "name": "stderr",
          "output_type": "stream",
          "text": [
            "71it [24:00, 25.79s/it]"
          ]
        },
        {
          "name": "stdout",
          "output_type": "stream",
          "text": [
            "우아한친구들 ['boring', 'sky castle', 'people slice', 'kim hee', 'writer', 'murder mystery', 'wife']\n"
          ]
        },
        {
          "name": "stderr",
          "output_type": "stream",
          "text": [
            "72it [24:27, 26.09s/it]"
          ]
        },
        {
          "name": "stdout",
          "output_type": "stream",
          "text": [
            "원더우먼 ['opera plot', 'boring', 'sister law', 'soo jung', 'serial thingy', 'surgery', 'politics']\n"
          ]
        },
        {
          "name": "stderr",
          "output_type": "stream",
          "text": [
            "73it [24:44, 23.21s/it]"
          ]
        },
        {
          "name": "stdout",
          "output_type": "stream",
          "text": [
            "월간집 ['jung favourite', 'car taxi', 'plot twist', \"witch's restaurant\", 'box enemy', 'rest cast', 'soundtrack']\n"
          ]
        },
        {
          "name": "stderr",
          "output_type": "stream",
          "text": [
            "74it [25:00, 21.20s/it]"
          ]
        },
        {
          "name": "stdout",
          "output_type": "stream",
          "text": [
            "유미의세포들 ['story romance', 'day actor', \"animation yumi's\", 'worry hunger', 'goblin', 'flaw people', 'star cell']\n"
          ]
        },
        {
          "name": "stderr",
          "output_type": "stream",
          "text": [
            "75it [25:14, 18.98s/it]"
          ]
        },
        {
          "name": "stdout",
          "output_type": "stream",
          "text": [
            "으라차차와이키키 ['humor romance', 'production', 'zombie', 'rewatch', 'medicine', 'actress', 'crazy']\n"
          ]
        },
        {
          "name": "stderr",
          "output_type": "stream",
          "text": [
            "76it [25:29, 17.67s/it]"
          ]
        },
        {
          "name": "stdout",
          "output_type": "stream",
          "text": [
            "의사요한 ['love doctor', 'punch', 'badass bunny', 'sung character', 'pain death', 'actor lot', 'politics patient']\n"
          ]
        },
        {
          "name": "stderr",
          "output_type": "stream",
          "text": [
            "77it [25:43, 16.76s/it]"
          ]
        },
        {
          "name": "stdout",
          "output_type": "stream",
          "text": [
            "이구역의미친X ['storyline fun', 'therapist', 'watcher', 'snippet', 'screenwriter', 'enemy lover', 'meal']\n"
          ]
        },
        {
          "name": "stderr",
          "output_type": "stream",
          "text": [
            "78it [25:58, 16.04s/it]"
          ]
        },
        {
          "name": "stdout",
          "output_type": "stream",
          "text": [
            "이리와안아줘 ['killer father', 'character chemistry', 'rest', 'actress', 'police', 'suspense', 'hyun moo']\n"
          ]
        },
        {
          "name": "stderr",
          "output_type": "stream",
          "text": [
            "79it [26:15, 16.40s/it]"
          ]
        },
        {
          "name": "stdout",
          "output_type": "stream",
          "text": [
            "인간수업 ['plot twist', 'eat dog', 'hyun actress', 'business security', 'fast cinematography', 'pressure parent', 'fight brawl']\n"
          ]
        },
        {
          "name": "stderr",
          "output_type": "stream",
          "text": [
            "80it [26:28, 15.48s/it]"
          ]
        },
        {
          "name": "stdout",
          "output_type": "stream",
          "text": [
            "자백 ['perfection actress', 'chemistry father', 'rewatch', 'story cast', 'hyun', 'corruption', 'eps']\n"
          ]
        },
        {
          "name": "stderr",
          "output_type": "stream",
          "text": [
            "81it [26:41, 14.69s/it]"
          ]
        },
        {
          "name": "stdout",
          "output_type": "stream",
          "text": [
            "작은신의아이들 ['ghost', 'dan', 'twist', 'romance', 'prosecutor', 'fear', 'others']\n"
          ]
        },
        {
          "name": "stderr",
          "output_type": "stream",
          "text": [
            "82it [27:01, 16.17s/it]"
          ]
        },
        {
          "name": "stdout",
          "output_type": "stream",
          "text": [
            "지옥 ['hellbound thriller', 'psychology', 'ninja', 'cult people', 'development pacing', 'throat safety', 'acting script']\n"
          ]
        },
        {
          "name": "stderr",
          "output_type": "stream",
          "text": [
            "83it [27:14, 15.23s/it]"
          ]
        },
        {
          "name": "stdout",
          "output_type": "stream",
          "text": [
            "카이로스 ['thriller romance', 'food', 'character plan', 'hole perfectly', 'kim seo', 'goblin', 'idol actor']\n"
          ]
        },
        {
          "name": "stderr",
          "output_type": "stream",
          "text": [
            "84it [27:32, 16.10s/it]"
          ]
        },
        {
          "name": "stdout",
          "output_type": "stream",
          "text": [
            "킹덤 ['history joseon', 'addition thriller', 'fan actress', 'zombie train', 'court intrigue', 'nature morality', 'cgi makeup']\n"
          ]
        },
        {
          "name": "stderr",
          "output_type": "stream",
          "text": [
            "85it [27:44, 15.06s/it]"
          ]
        },
        {
          "name": "stdout",
          "output_type": "stream",
          "text": [
            "태종이방원 ['animal abuse', 'joseon', 'dragon', 'death', 'celebrity', 'news horse', 'cgi']\n"
          ]
        },
        {
          "name": "stderr",
          "output_type": "stream",
          "text": [
            "86it [27:57, 14.46s/it]"
          ]
        },
        {
          "name": "stdout",
          "output_type": "stream",
          "text": [
            "트랩 ['thriller', 'fan', 'trap', 'lee', 'character', 'plot', 'lot']\n"
          ]
        },
        {
          "name": "stderr",
          "output_type": "stream",
          "text": [
            "87it [28:11, 14.34s/it]"
          ]
        },
        {
          "name": "stdout",
          "output_type": "stream",
          "text": [
            "트레이서 ['cliche politician', 'streaming', 'dramacool', 'tracer', 'pirate google', 'korean', 'plot']\n"
          ]
        },
        {
          "name": "stderr",
          "output_type": "stream",
          "text": [
            "88it [28:28, 14.85s/it]"
          ]
        },
        {
          "name": "stdout",
          "output_type": "stream",
          "text": [
            "하늘에서내리는일억개의별 ['thriller mystery', \"kdrama's\", 'incest korean', 'jin forgiving', 'brother acting', 'antihero light', 'hoshi story']\n"
          ]
        },
        {
          "name": "stderr",
          "output_type": "stream",
          "text": [
            "89it [28:45, 15.51s/it]"
          ]
        },
        {
          "name": "stdout",
          "output_type": "stream",
          "text": [
            "하이에나 ['romance badass', 'hyena giriboy', 'reality yoon', 'lot criminal', 'chemistry chart', 'morality', 'comedy character']\n"
          ]
        },
        {
          "name": "stderr",
          "output_type": "stream",
          "text": [
            "90it [29:21, 21.71s/it]"
          ]
        },
        {
          "name": "stdout",
          "output_type": "stream",
          "text": [
            "한번다녀왔습니다 ['favourite family', 'noona', 'lee jung', 'acting cast', 'rollercoaster', 'sin', 'kid story']\n"
          ]
        },
        {
          "name": "stderr",
          "output_type": "stream",
          "text": [
            "91it [29:41, 21.17s/it]"
          ]
        },
        {
          "name": "stdout",
          "output_type": "stream",
          "text": [
            "해피니스 ['happiness zombie', 'problem couple', 'gym trainer', 'cure vaccine', 'character wise', 'chemistry villain', 'selfishness']\n"
          ]
        },
        {
          "name": "stderr",
          "output_type": "stream",
          "text": [
            "92it [30:13, 19.71s/it]"
          ]
        },
        {
          "name": "stdout",
          "output_type": "stream",
          "text": [
            "호텔델루나 ['love acting', 'lamb', 'wish hotel', 'luna fighting', 'story development', \"jang's snark\", 'alldramaaddict']\n"
          ]
        },
        {
          "name": "stderr",
          "output_type": "stream",
          "text": [
            "\n"
          ]
        }
      ],
      "source": [
        "import pickle\n",
        "\n",
        "# drama titles in csv\n",
        "drama_titles = df.groupby('title',as_index=False).count().title\n",
        "\n",
        "output = pd.DataFrame(None,columns=drama_titles)\n",
        "\n",
        "top_n = 500\n",
        "diversity = 0.6\n",
        "\n",
        "for i,title in tqdm(enumerate(drama_titles)):\n",
        "    reviews = df[df.title == title].reviews.to_list()\n",
        "\n",
        "    # tfidf custom vectorizing\n",
        "    candidates = tfidf_vectorizing(reviews) # reviews = list\n",
        "\n",
        "    # embedding\n",
        "    sentences = ','.join(reviews)\n",
        "    doc_embedding, candidate_embeddings = embedding(sentences, candidates) \n",
        "\n",
        "    # keywords extraction\n",
        "\n",
        "    keywords, keywords_vector = mmr(doc_embedding,candidate_embeddings,candidates,top_n,diversity)\n",
        "\n",
        "    with open(f'drama_{i}.pickle', 'wb') as f:\n",
        "        pickle.dump(keywords, f, pickle.HIGHEST_PROTOCOL)\n",
        "        pickle.dump(keywords_vector, f, pickle.HIGHEST_PROTOCOL)\n",
        "\n",
        "    output[title] = keywords[:7]\n",
        "    print(title, keywords[:7])\n",
        "\n",
        "output.to_csv('0506_theme_Keywords.csv')"
      ]
    },
    {
      "cell_type": "code",
      "execution_count": 41,
      "metadata": {},
      "outputs": [],
      "source": [
        "output.to_csv('0506_theme_Keywords.csv')"
      ]
    },
    {
      "cell_type": "code",
      "execution_count": null,
      "metadata": {},
      "outputs": [],
      "source": [
        "# with open('title.pickle', 'rb') as f:\n",
        "#     keywords = pickle.load(f)\n",
        "#     keywords_vector = pickle.load(f)"
      ]
    },
    {
      "cell_type": "markdown",
      "metadata": {},
      "source": [
        "# KMEANS - 작품별 연관키워드 뽑을 때 사용"
      ]
    },
    {
      "cell_type": "code",
      "execution_count": null,
      "metadata": {
        "colab": {
          "base_uri": "https://localhost:8080/"
        },
        "id": "EkI_LLo9cKko",
        "outputId": "146fd432-4eaa-416f-9f19-35cd06f3f5a0"
      },
      "outputs": [],
      "source": [
        "from sklearn.cluster import KMeans\n",
        "from sklearn.metrics import adjusted_rand_score\n",
        "\n",
        "X = keywords_vector\n",
        "\n",
        "true_k = 6\n",
        "model = KMeans(n_clusters=true_k, init='k-means++', max_iter=100, n_init=1)\n",
        "model.fit(X.T)\n",
        "\n",
        "print(\"Top terms per cluster:\")\n",
        "order_centroids = model.cluster_centers_.argsort()[:, ::-1]\n",
        "terms = keywords # = candidates\n",
        "for i in range(true_k):\n",
        "    print(\"[\"),\n",
        "    for ind in order_centroids[i, :20]:\n",
        "        print(f'\"{terms[ind]}\"', end=\",\")\n",
        "    print(\"],\\n\")"
      ]
    },
    {
      "cell_type": "code",
      "execution_count": null,
      "metadata": {
        "colab": {
          "base_uri": "https://localhost:8080/",
          "height": 347
        },
        "id": "Hcp43g99G8uQ",
        "outputId": "c6909ead-a4ce-4b14-9c95-a35121a3178f"
      },
      "outputs": [],
      "source": [
        "x = list(range(1,11))\n",
        "y = []\n",
        "for i in x:\n",
        "    model = KMeans(n_clusters=i, init='k-means++', max_iter=100, n_init=1)\n",
        "    model.fit(X.T)\n",
        "    y.append(model.inertia_)\n",
        "\n",
        "import matplotlib.pyplot as plt\n",
        "\n",
        "plt.plot(x,y,label='linear')\n",
        "plt.show();"
      ]
    },
    {
      "cell_type": "code",
      "execution_count": null,
      "metadata": {
        "id": "_489sUqS-4Ls"
      },
      "outputs": [],
      "source": []
    },
    {
      "cell_type": "code",
      "execution_count": null,
      "metadata": {},
      "outputs": [],
      "source": []
    },
    {
      "cell_type": "code",
      "execution_count": null,
      "metadata": {},
      "outputs": [],
      "source": []
    }
  ],
  "metadata": {
    "accelerator": "GPU",
    "colab": {
      "collapsed_sections": [
        "FJI_C1zmcKkn"
      ],
      "name": "keyword&Kmeans.ipynb",
      "provenance": []
    },
    "interpreter": {
      "hash": "ceb52e7625d0a1f58a1a2fe6599c0620217b7c14f62667a485755eb7aa2b8895"
    },
    "kernelspec": {
      "display_name": "Python 3.9.7 ('base')",
      "language": "python",
      "name": "python3"
    },
    "language_info": {
      "codemirror_mode": {
        "name": "ipython",
        "version": 3
      },
      "file_extension": ".py",
      "mimetype": "text/x-python",
      "name": "python",
      "nbconvert_exporter": "python",
      "pygments_lexer": "ipython3",
      "version": "3.9.7"
    },
    "orig_nbformat": 4
  },
  "nbformat": 4,
  "nbformat_minor": 0
}
